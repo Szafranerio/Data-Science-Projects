{
 "cells": [
  {
   "cell_type": "code",
   "execution_count": 72,
   "metadata": {},
   "outputs": [],
   "source": [
    "import pandas as pd\n",
    "import numpy as np\n",
    "import plotly.express as px\n",
    "import plotly.graph_objects as go\n",
    "import seaborn as sns\n",
    "import matplotlib.pyplot as plt"
   ]
  },
  {
   "cell_type": "code",
   "execution_count": 49,
   "metadata": {},
   "outputs": [
    {
     "data": {
      "text/html": [
       "<div>\n",
       "<style scoped>\n",
       "    .dataframe tbody tr th:only-of-type {\n",
       "        vertical-align: middle;\n",
       "    }\n",
       "\n",
       "    .dataframe tbody tr th {\n",
       "        vertical-align: top;\n",
       "    }\n",
       "\n",
       "    .dataframe thead th {\n",
       "        text-align: right;\n",
       "    }\n",
       "</style>\n",
       "<table border=\"1\" class=\"dataframe\">\n",
       "  <thead>\n",
       "    <tr style=\"text-align: right;\">\n",
       "      <th></th>\n",
       "      <th>year</th>\n",
       "      <th>category</th>\n",
       "      <th>prize</th>\n",
       "      <th>motivation</th>\n",
       "      <th>prize_share</th>\n",
       "      <th>laureate_type</th>\n",
       "      <th>full_name</th>\n",
       "      <th>birth_date</th>\n",
       "      <th>birth_city</th>\n",
       "      <th>birth_country</th>\n",
       "      <th>birth_country_current</th>\n",
       "      <th>sex</th>\n",
       "      <th>organization_name</th>\n",
       "      <th>organization_city</th>\n",
       "      <th>organization_country</th>\n",
       "      <th>ISO</th>\n",
       "    </tr>\n",
       "  </thead>\n",
       "  <tbody>\n",
       "    <tr>\n",
       "      <th>0</th>\n",
       "      <td>1901</td>\n",
       "      <td>Chemistry</td>\n",
       "      <td>The Nobel Prize in Chemistry 1901</td>\n",
       "      <td>\"in recognition of the extraordinary services ...</td>\n",
       "      <td>1/1</td>\n",
       "      <td>Individual</td>\n",
       "      <td>Jacobus Henricus van 't Hoff</td>\n",
       "      <td>1852-08-30</td>\n",
       "      <td>Rotterdam</td>\n",
       "      <td>Netherlands</td>\n",
       "      <td>Netherlands</td>\n",
       "      <td>Male</td>\n",
       "      <td>Berlin University</td>\n",
       "      <td>Berlin</td>\n",
       "      <td>Germany</td>\n",
       "      <td>NLD</td>\n",
       "    </tr>\n",
       "    <tr>\n",
       "      <th>1</th>\n",
       "      <td>1901</td>\n",
       "      <td>Literature</td>\n",
       "      <td>The Nobel Prize in Literature 1901</td>\n",
       "      <td>\"in special recognition of his poetic composit...</td>\n",
       "      <td>1/1</td>\n",
       "      <td>Individual</td>\n",
       "      <td>Sully Prudhomme</td>\n",
       "      <td>1839-03-16</td>\n",
       "      <td>Paris</td>\n",
       "      <td>France</td>\n",
       "      <td>France</td>\n",
       "      <td>Male</td>\n",
       "      <td>NaN</td>\n",
       "      <td>NaN</td>\n",
       "      <td>NaN</td>\n",
       "      <td>FRA</td>\n",
       "    </tr>\n",
       "    <tr>\n",
       "      <th>2</th>\n",
       "      <td>1901</td>\n",
       "      <td>Medicine</td>\n",
       "      <td>The Nobel Prize in Physiology or Medicine 1901</td>\n",
       "      <td>\"for his work on serum therapy, especially its...</td>\n",
       "      <td>1/1</td>\n",
       "      <td>Individual</td>\n",
       "      <td>Emil Adolf von Behring</td>\n",
       "      <td>1854-03-15</td>\n",
       "      <td>Hansdorf (Lawice)</td>\n",
       "      <td>Prussia (Poland)</td>\n",
       "      <td>Poland</td>\n",
       "      <td>Male</td>\n",
       "      <td>Marburg University</td>\n",
       "      <td>Marburg</td>\n",
       "      <td>Germany</td>\n",
       "      <td>POL</td>\n",
       "    </tr>\n",
       "    <tr>\n",
       "      <th>3</th>\n",
       "      <td>1901</td>\n",
       "      <td>Peace</td>\n",
       "      <td>The Nobel Peace Prize 1901</td>\n",
       "      <td>NaN</td>\n",
       "      <td>1/2</td>\n",
       "      <td>Individual</td>\n",
       "      <td>Frédéric Passy</td>\n",
       "      <td>1822-05-20</td>\n",
       "      <td>Paris</td>\n",
       "      <td>France</td>\n",
       "      <td>France</td>\n",
       "      <td>Male</td>\n",
       "      <td>NaN</td>\n",
       "      <td>NaN</td>\n",
       "      <td>NaN</td>\n",
       "      <td>FRA</td>\n",
       "    </tr>\n",
       "    <tr>\n",
       "      <th>4</th>\n",
       "      <td>1901</td>\n",
       "      <td>Peace</td>\n",
       "      <td>The Nobel Peace Prize 1901</td>\n",
       "      <td>NaN</td>\n",
       "      <td>1/2</td>\n",
       "      <td>Individual</td>\n",
       "      <td>Jean Henry Dunant</td>\n",
       "      <td>1828-05-08</td>\n",
       "      <td>Geneva</td>\n",
       "      <td>Switzerland</td>\n",
       "      <td>Switzerland</td>\n",
       "      <td>Male</td>\n",
       "      <td>NaN</td>\n",
       "      <td>NaN</td>\n",
       "      <td>NaN</td>\n",
       "      <td>CHE</td>\n",
       "    </tr>\n",
       "  </tbody>\n",
       "</table>\n",
       "</div>"
      ],
      "text/plain": [
       "   year    category                                           prize  \\\n",
       "0  1901   Chemistry               The Nobel Prize in Chemistry 1901   \n",
       "1  1901  Literature              The Nobel Prize in Literature 1901   \n",
       "2  1901    Medicine  The Nobel Prize in Physiology or Medicine 1901   \n",
       "3  1901       Peace                      The Nobel Peace Prize 1901   \n",
       "4  1901       Peace                      The Nobel Peace Prize 1901   \n",
       "\n",
       "                                          motivation prize_share  \\\n",
       "0  \"in recognition of the extraordinary services ...         1/1   \n",
       "1  \"in special recognition of his poetic composit...         1/1   \n",
       "2  \"for his work on serum therapy, especially its...         1/1   \n",
       "3                                                NaN         1/2   \n",
       "4                                                NaN         1/2   \n",
       "\n",
       "  laureate_type                     full_name  birth_date         birth_city  \\\n",
       "0    Individual  Jacobus Henricus van 't Hoff  1852-08-30          Rotterdam   \n",
       "1    Individual               Sully Prudhomme  1839-03-16              Paris   \n",
       "2    Individual        Emil Adolf von Behring  1854-03-15  Hansdorf (Lawice)   \n",
       "3    Individual                Frédéric Passy  1822-05-20              Paris   \n",
       "4    Individual             Jean Henry Dunant  1828-05-08             Geneva   \n",
       "\n",
       "      birth_country birth_country_current   sex   organization_name  \\\n",
       "0       Netherlands           Netherlands  Male   Berlin University   \n",
       "1            France                France  Male                 NaN   \n",
       "2  Prussia (Poland)                Poland  Male  Marburg University   \n",
       "3            France                France  Male                 NaN   \n",
       "4       Switzerland           Switzerland  Male                 NaN   \n",
       "\n",
       "  organization_city organization_country  ISO  \n",
       "0            Berlin              Germany  NLD  \n",
       "1               NaN                  NaN  FRA  \n",
       "2           Marburg              Germany  POL  \n",
       "3               NaN                  NaN  FRA  \n",
       "4               NaN                  NaN  CHE  "
      ]
     },
     "execution_count": 49,
     "metadata": {},
     "output_type": "execute_result"
    }
   ],
   "source": [
    "data = pd.read_csv('./data/nobel/nobel_prize_data.csv')\n",
    "data.head()"
   ]
  },
  {
   "cell_type": "code",
   "execution_count": 50,
   "metadata": {},
   "outputs": [
    {
     "name": "stdout",
     "output_type": "stream",
     "text": [
      "The size of set is (962, 16)\n",
      "The first nobel prize was awarded in 1901\n",
      "The last nobel prize was awarded in 2020\n",
      "There are 0 duplicated values\n",
      "Are there any NaN values: True\n"
     ]
    }
   ],
   "source": [
    "#Data exploration\n",
    "print(f'The size of set is {data.shape}')\n",
    "print(f'The first nobel prize was awarded in {data.year.min()}')\n",
    "print(f'The last nobel prize was awarded in {data.year.max()}')\n",
    "print(f'There are {data.duplicated().sum()} duplicated values')\n",
    "print(f'Are there any NaN values: {data.isna().values.any()}')\n"
   ]
  },
  {
   "cell_type": "code",
   "execution_count": 51,
   "metadata": {},
   "outputs": [
    {
     "data": {
      "text/plain": [
       "year                       0\n",
       "category                   0\n",
       "prize                      0\n",
       "motivation                88\n",
       "prize_share                0\n",
       "laureate_type              0\n",
       "full_name                  0\n",
       "birth_date                28\n",
       "birth_city                31\n",
       "birth_country             28\n",
       "birth_country_current     28\n",
       "sex                       28\n",
       "organization_name        255\n",
       "organization_city        255\n",
       "organization_country     254\n",
       "ISO                       28\n",
       "dtype: int64"
      ]
     },
     "execution_count": 51,
     "metadata": {},
     "output_type": "execute_result"
    }
   ],
   "source": [
    "#NaN data check\n",
    "data.isna().sum()"
   ]
  },
  {
   "cell_type": "code",
   "execution_count": 52,
   "metadata": {},
   "outputs": [
    {
     "name": "stdout",
     "output_type": "stream",
     "text": [
      "<class 'pandas.core.frame.DataFrame'>\n",
      "RangeIndex: 962 entries, 0 to 961\n",
      "Data columns (total 16 columns):\n",
      " #   Column                 Non-Null Count  Dtype \n",
      "---  ------                 --------------  ----- \n",
      " 0   year                   962 non-null    int64 \n",
      " 1   category               962 non-null    object\n",
      " 2   prize                  962 non-null    object\n",
      " 3   motivation             874 non-null    object\n",
      " 4   prize_share            962 non-null    object\n",
      " 5   laureate_type          962 non-null    object\n",
      " 6   full_name              962 non-null    object\n",
      " 7   birth_date             934 non-null    object\n",
      " 8   birth_city             931 non-null    object\n",
      " 9   birth_country          934 non-null    object\n",
      " 10  birth_country_current  934 non-null    object\n",
      " 11  sex                    934 non-null    object\n",
      " 12  organization_name      707 non-null    object\n",
      " 13  organization_city      707 non-null    object\n",
      " 14  organization_country   708 non-null    object\n",
      " 15  ISO                    934 non-null    object\n",
      "dtypes: int64(1), object(15)\n",
      "memory usage: 120.4+ KB\n"
     ]
    }
   ],
   "source": [
    "data.info()"
   ]
  },
  {
   "cell_type": "code",
   "execution_count": 53,
   "metadata": {},
   "outputs": [
    {
     "name": "stdout",
     "output_type": "stream",
     "text": [
      "<class 'pandas.core.frame.DataFrame'>\n",
      "RangeIndex: 962 entries, 0 to 961\n",
      "Data columns (total 16 columns):\n",
      " #   Column                 Non-Null Count  Dtype         \n",
      "---  ------                 --------------  -----         \n",
      " 0   year                   962 non-null    int64         \n",
      " 1   category               962 non-null    object        \n",
      " 2   prize                  962 non-null    object        \n",
      " 3   motivation             874 non-null    object        \n",
      " 4   prize_share            962 non-null    object        \n",
      " 5   laureate_type          962 non-null    object        \n",
      " 6   full_name              962 non-null    object        \n",
      " 7   birth_date             934 non-null    datetime64[ns]\n",
      " 8   birth_city             931 non-null    object        \n",
      " 9   birth_country          934 non-null    object        \n",
      " 10  birth_country_current  934 non-null    object        \n",
      " 11  sex                    934 non-null    object        \n",
      " 12  organization_name      707 non-null    object        \n",
      " 13  organization_city      707 non-null    object        \n",
      " 14  organization_country   708 non-null    object        \n",
      " 15  ISO                    934 non-null    object        \n",
      "dtypes: datetime64[ns](1), int64(1), object(14)\n",
      "memory usage: 120.4+ KB\n"
     ]
    }
   ],
   "source": [
    "#Change object to date time\n",
    "data['birth_date'] = pd.to_datetime(data['birth_date'])\n",
    "data.info()"
   ]
  },
  {
   "cell_type": "code",
   "execution_count": 54,
   "metadata": {},
   "outputs": [
    {
     "data": {
      "text/html": [
       "<div>\n",
       "<style scoped>\n",
       "    .dataframe tbody tr th:only-of-type {\n",
       "        vertical-align: middle;\n",
       "    }\n",
       "\n",
       "    .dataframe tbody tr th {\n",
       "        vertical-align: top;\n",
       "    }\n",
       "\n",
       "    .dataframe thead th {\n",
       "        text-align: right;\n",
       "    }\n",
       "</style>\n",
       "<table border=\"1\" class=\"dataframe\">\n",
       "  <thead>\n",
       "    <tr style=\"text-align: right;\">\n",
       "      <th></th>\n",
       "      <th>year</th>\n",
       "      <th>category</th>\n",
       "      <th>prize</th>\n",
       "      <th>motivation</th>\n",
       "      <th>prize_share</th>\n",
       "      <th>laureate_type</th>\n",
       "      <th>full_name</th>\n",
       "      <th>birth_date</th>\n",
       "      <th>birth_city</th>\n",
       "      <th>birth_country</th>\n",
       "      <th>birth_country_current</th>\n",
       "      <th>sex</th>\n",
       "      <th>organization_name</th>\n",
       "      <th>organization_city</th>\n",
       "      <th>organization_country</th>\n",
       "      <th>ISO</th>\n",
       "      <th>share_pct</th>\n",
       "    </tr>\n",
       "  </thead>\n",
       "  <tbody>\n",
       "    <tr>\n",
       "      <th>0</th>\n",
       "      <td>1901</td>\n",
       "      <td>Chemistry</td>\n",
       "      <td>The Nobel Prize in Chemistry 1901</td>\n",
       "      <td>\"in recognition of the extraordinary services ...</td>\n",
       "      <td>1/1</td>\n",
       "      <td>Individual</td>\n",
       "      <td>Jacobus Henricus van 't Hoff</td>\n",
       "      <td>1852-08-30</td>\n",
       "      <td>Rotterdam</td>\n",
       "      <td>Netherlands</td>\n",
       "      <td>Netherlands</td>\n",
       "      <td>Male</td>\n",
       "      <td>Berlin University</td>\n",
       "      <td>Berlin</td>\n",
       "      <td>Germany</td>\n",
       "      <td>NLD</td>\n",
       "      <td>1.0</td>\n",
       "    </tr>\n",
       "    <tr>\n",
       "      <th>1</th>\n",
       "      <td>1901</td>\n",
       "      <td>Literature</td>\n",
       "      <td>The Nobel Prize in Literature 1901</td>\n",
       "      <td>\"in special recognition of his poetic composit...</td>\n",
       "      <td>1/1</td>\n",
       "      <td>Individual</td>\n",
       "      <td>Sully Prudhomme</td>\n",
       "      <td>1839-03-16</td>\n",
       "      <td>Paris</td>\n",
       "      <td>France</td>\n",
       "      <td>France</td>\n",
       "      <td>Male</td>\n",
       "      <td>NaN</td>\n",
       "      <td>NaN</td>\n",
       "      <td>NaN</td>\n",
       "      <td>FRA</td>\n",
       "      <td>1.0</td>\n",
       "    </tr>\n",
       "    <tr>\n",
       "      <th>2</th>\n",
       "      <td>1901</td>\n",
       "      <td>Medicine</td>\n",
       "      <td>The Nobel Prize in Physiology or Medicine 1901</td>\n",
       "      <td>\"for his work on serum therapy, especially its...</td>\n",
       "      <td>1/1</td>\n",
       "      <td>Individual</td>\n",
       "      <td>Emil Adolf von Behring</td>\n",
       "      <td>1854-03-15</td>\n",
       "      <td>Hansdorf (Lawice)</td>\n",
       "      <td>Prussia (Poland)</td>\n",
       "      <td>Poland</td>\n",
       "      <td>Male</td>\n",
       "      <td>Marburg University</td>\n",
       "      <td>Marburg</td>\n",
       "      <td>Germany</td>\n",
       "      <td>POL</td>\n",
       "      <td>1.0</td>\n",
       "    </tr>\n",
       "    <tr>\n",
       "      <th>3</th>\n",
       "      <td>1901</td>\n",
       "      <td>Peace</td>\n",
       "      <td>The Nobel Peace Prize 1901</td>\n",
       "      <td>NaN</td>\n",
       "      <td>1/2</td>\n",
       "      <td>Individual</td>\n",
       "      <td>Frédéric Passy</td>\n",
       "      <td>1822-05-20</td>\n",
       "      <td>Paris</td>\n",
       "      <td>France</td>\n",
       "      <td>France</td>\n",
       "      <td>Male</td>\n",
       "      <td>NaN</td>\n",
       "      <td>NaN</td>\n",
       "      <td>NaN</td>\n",
       "      <td>FRA</td>\n",
       "      <td>0.5</td>\n",
       "    </tr>\n",
       "    <tr>\n",
       "      <th>4</th>\n",
       "      <td>1901</td>\n",
       "      <td>Peace</td>\n",
       "      <td>The Nobel Peace Prize 1901</td>\n",
       "      <td>NaN</td>\n",
       "      <td>1/2</td>\n",
       "      <td>Individual</td>\n",
       "      <td>Jean Henry Dunant</td>\n",
       "      <td>1828-05-08</td>\n",
       "      <td>Geneva</td>\n",
       "      <td>Switzerland</td>\n",
       "      <td>Switzerland</td>\n",
       "      <td>Male</td>\n",
       "      <td>NaN</td>\n",
       "      <td>NaN</td>\n",
       "      <td>NaN</td>\n",
       "      <td>CHE</td>\n",
       "      <td>0.5</td>\n",
       "    </tr>\n",
       "  </tbody>\n",
       "</table>\n",
       "</div>"
      ],
      "text/plain": [
       "   year    category                                           prize  \\\n",
       "0  1901   Chemistry               The Nobel Prize in Chemistry 1901   \n",
       "1  1901  Literature              The Nobel Prize in Literature 1901   \n",
       "2  1901    Medicine  The Nobel Prize in Physiology or Medicine 1901   \n",
       "3  1901       Peace                      The Nobel Peace Prize 1901   \n",
       "4  1901       Peace                      The Nobel Peace Prize 1901   \n",
       "\n",
       "                                          motivation prize_share  \\\n",
       "0  \"in recognition of the extraordinary services ...         1/1   \n",
       "1  \"in special recognition of his poetic composit...         1/1   \n",
       "2  \"for his work on serum therapy, especially its...         1/1   \n",
       "3                                                NaN         1/2   \n",
       "4                                                NaN         1/2   \n",
       "\n",
       "  laureate_type                     full_name birth_date         birth_city  \\\n",
       "0    Individual  Jacobus Henricus van 't Hoff 1852-08-30          Rotterdam   \n",
       "1    Individual               Sully Prudhomme 1839-03-16              Paris   \n",
       "2    Individual        Emil Adolf von Behring 1854-03-15  Hansdorf (Lawice)   \n",
       "3    Individual                Frédéric Passy 1822-05-20              Paris   \n",
       "4    Individual             Jean Henry Dunant 1828-05-08             Geneva   \n",
       "\n",
       "      birth_country birth_country_current   sex   organization_name  \\\n",
       "0       Netherlands           Netherlands  Male   Berlin University   \n",
       "1            France                France  Male                 NaN   \n",
       "2  Prussia (Poland)                Poland  Male  Marburg University   \n",
       "3            France                France  Male                 NaN   \n",
       "4       Switzerland           Switzerland  Male                 NaN   \n",
       "\n",
       "  organization_city organization_country  ISO  share_pct  \n",
       "0            Berlin              Germany  NLD        1.0  \n",
       "1               NaN                  NaN  FRA        1.0  \n",
       "2           Marburg              Germany  POL        1.0  \n",
       "3               NaN                  NaN  FRA        0.5  \n",
       "4               NaN                  NaN  CHE        0.5  "
      ]
     },
     "execution_count": 54,
     "metadata": {},
     "output_type": "execute_result"
    }
   ],
   "source": [
    "sep_values = data.prize_share.str.split(\"/\", expand=True)\n",
    "first_v = pd.to_numeric(sep_values[0])\n",
    "second_v = pd.to_numeric(sep_values[1])\n",
    "data['share_pct'] = first_v / second_v\n",
    "data.head()"
   ]
  },
  {
   "cell_type": "code",
   "execution_count": 55,
   "metadata": {},
   "outputs": [
    {
     "name": "stdout",
     "output_type": "stream",
     "text": [
      "<class 'pandas.core.frame.DataFrame'>\n",
      "RangeIndex: 962 entries, 0 to 961\n",
      "Data columns (total 17 columns):\n",
      " #   Column                 Non-Null Count  Dtype         \n",
      "---  ------                 --------------  -----         \n",
      " 0   year                   962 non-null    int64         \n",
      " 1   category               962 non-null    object        \n",
      " 2   prize                  962 non-null    object        \n",
      " 3   motivation             874 non-null    object        \n",
      " 4   prize_share            962 non-null    object        \n",
      " 5   laureate_type          962 non-null    object        \n",
      " 6   full_name              962 non-null    object        \n",
      " 7   birth_date             934 non-null    datetime64[ns]\n",
      " 8   birth_city             931 non-null    object        \n",
      " 9   birth_country          934 non-null    object        \n",
      " 10  birth_country_current  934 non-null    object        \n",
      " 11  sex                    934 non-null    object        \n",
      " 12  organization_name      707 non-null    object        \n",
      " 13  organization_city      707 non-null    object        \n",
      " 14  organization_country   708 non-null    object        \n",
      " 15  ISO                    934 non-null    object        \n",
      " 16  share_pct              962 non-null    float64       \n",
      "dtypes: datetime64[ns](1), float64(1), int64(1), object(14)\n",
      "memory usage: 127.9+ KB\n"
     ]
    }
   ],
   "source": [
    "data.info()"
   ]
  },
  {
   "cell_type": "code",
   "execution_count": 92,
   "metadata": {},
   "outputs": [
    {
     "data": {
      "application/vnd.plotly.v1+json": {
       "config": {
        "plotlyServerURL": "https://plot.ly"
       },
       "data": [
        {
         "hole": 0.5,
         "labels": [
          "Male",
          "Female"
         ],
         "pull": [
          0,
          0.2
         ],
         "type": "pie",
         "values": [
          876,
          58
         ]
        }
       ],
       "layout": {
        "annotations": [
         {
          "font": {
           "size": 25
          },
          "showarrow": false,
          "text": "Sex"
         }
        ],
        "template": {
         "data": {
          "bar": [
           {
            "error_x": {
             "color": "#2a3f5f"
            },
            "error_y": {
             "color": "#2a3f5f"
            },
            "marker": {
             "line": {
              "color": "#E5ECF6",
              "width": 0.5
             },
             "pattern": {
              "fillmode": "overlay",
              "size": 10,
              "solidity": 0.2
             }
            },
            "type": "bar"
           }
          ],
          "barpolar": [
           {
            "marker": {
             "line": {
              "color": "#E5ECF6",
              "width": 0.5
             },
             "pattern": {
              "fillmode": "overlay",
              "size": 10,
              "solidity": 0.2
             }
            },
            "type": "barpolar"
           }
          ],
          "carpet": [
           {
            "aaxis": {
             "endlinecolor": "#2a3f5f",
             "gridcolor": "white",
             "linecolor": "white",
             "minorgridcolor": "white",
             "startlinecolor": "#2a3f5f"
            },
            "baxis": {
             "endlinecolor": "#2a3f5f",
             "gridcolor": "white",
             "linecolor": "white",
             "minorgridcolor": "white",
             "startlinecolor": "#2a3f5f"
            },
            "type": "carpet"
           }
          ],
          "choropleth": [
           {
            "colorbar": {
             "outlinewidth": 0,
             "ticks": ""
            },
            "type": "choropleth"
           }
          ],
          "contour": [
           {
            "colorbar": {
             "outlinewidth": 0,
             "ticks": ""
            },
            "colorscale": [
             [
              0,
              "#0d0887"
             ],
             [
              0.1111111111111111,
              "#46039f"
             ],
             [
              0.2222222222222222,
              "#7201a8"
             ],
             [
              0.3333333333333333,
              "#9c179e"
             ],
             [
              0.4444444444444444,
              "#bd3786"
             ],
             [
              0.5555555555555556,
              "#d8576b"
             ],
             [
              0.6666666666666666,
              "#ed7953"
             ],
             [
              0.7777777777777778,
              "#fb9f3a"
             ],
             [
              0.8888888888888888,
              "#fdca26"
             ],
             [
              1,
              "#f0f921"
             ]
            ],
            "type": "contour"
           }
          ],
          "contourcarpet": [
           {
            "colorbar": {
             "outlinewidth": 0,
             "ticks": ""
            },
            "type": "contourcarpet"
           }
          ],
          "heatmap": [
           {
            "colorbar": {
             "outlinewidth": 0,
             "ticks": ""
            },
            "colorscale": [
             [
              0,
              "#0d0887"
             ],
             [
              0.1111111111111111,
              "#46039f"
             ],
             [
              0.2222222222222222,
              "#7201a8"
             ],
             [
              0.3333333333333333,
              "#9c179e"
             ],
             [
              0.4444444444444444,
              "#bd3786"
             ],
             [
              0.5555555555555556,
              "#d8576b"
             ],
             [
              0.6666666666666666,
              "#ed7953"
             ],
             [
              0.7777777777777778,
              "#fb9f3a"
             ],
             [
              0.8888888888888888,
              "#fdca26"
             ],
             [
              1,
              "#f0f921"
             ]
            ],
            "type": "heatmap"
           }
          ],
          "heatmapgl": [
           {
            "colorbar": {
             "outlinewidth": 0,
             "ticks": ""
            },
            "colorscale": [
             [
              0,
              "#0d0887"
             ],
             [
              0.1111111111111111,
              "#46039f"
             ],
             [
              0.2222222222222222,
              "#7201a8"
             ],
             [
              0.3333333333333333,
              "#9c179e"
             ],
             [
              0.4444444444444444,
              "#bd3786"
             ],
             [
              0.5555555555555556,
              "#d8576b"
             ],
             [
              0.6666666666666666,
              "#ed7953"
             ],
             [
              0.7777777777777778,
              "#fb9f3a"
             ],
             [
              0.8888888888888888,
              "#fdca26"
             ],
             [
              1,
              "#f0f921"
             ]
            ],
            "type": "heatmapgl"
           }
          ],
          "histogram": [
           {
            "marker": {
             "pattern": {
              "fillmode": "overlay",
              "size": 10,
              "solidity": 0.2
             }
            },
            "type": "histogram"
           }
          ],
          "histogram2d": [
           {
            "colorbar": {
             "outlinewidth": 0,
             "ticks": ""
            },
            "colorscale": [
             [
              0,
              "#0d0887"
             ],
             [
              0.1111111111111111,
              "#46039f"
             ],
             [
              0.2222222222222222,
              "#7201a8"
             ],
             [
              0.3333333333333333,
              "#9c179e"
             ],
             [
              0.4444444444444444,
              "#bd3786"
             ],
             [
              0.5555555555555556,
              "#d8576b"
             ],
             [
              0.6666666666666666,
              "#ed7953"
             ],
             [
              0.7777777777777778,
              "#fb9f3a"
             ],
             [
              0.8888888888888888,
              "#fdca26"
             ],
             [
              1,
              "#f0f921"
             ]
            ],
            "type": "histogram2d"
           }
          ],
          "histogram2dcontour": [
           {
            "colorbar": {
             "outlinewidth": 0,
             "ticks": ""
            },
            "colorscale": [
             [
              0,
              "#0d0887"
             ],
             [
              0.1111111111111111,
              "#46039f"
             ],
             [
              0.2222222222222222,
              "#7201a8"
             ],
             [
              0.3333333333333333,
              "#9c179e"
             ],
             [
              0.4444444444444444,
              "#bd3786"
             ],
             [
              0.5555555555555556,
              "#d8576b"
             ],
             [
              0.6666666666666666,
              "#ed7953"
             ],
             [
              0.7777777777777778,
              "#fb9f3a"
             ],
             [
              0.8888888888888888,
              "#fdca26"
             ],
             [
              1,
              "#f0f921"
             ]
            ],
            "type": "histogram2dcontour"
           }
          ],
          "mesh3d": [
           {
            "colorbar": {
             "outlinewidth": 0,
             "ticks": ""
            },
            "type": "mesh3d"
           }
          ],
          "parcoords": [
           {
            "line": {
             "colorbar": {
              "outlinewidth": 0,
              "ticks": ""
             }
            },
            "type": "parcoords"
           }
          ],
          "pie": [
           {
            "automargin": true,
            "type": "pie"
           }
          ],
          "scatter": [
           {
            "fillpattern": {
             "fillmode": "overlay",
             "size": 10,
             "solidity": 0.2
            },
            "type": "scatter"
           }
          ],
          "scatter3d": [
           {
            "line": {
             "colorbar": {
              "outlinewidth": 0,
              "ticks": ""
             }
            },
            "marker": {
             "colorbar": {
              "outlinewidth": 0,
              "ticks": ""
             }
            },
            "type": "scatter3d"
           }
          ],
          "scattercarpet": [
           {
            "marker": {
             "colorbar": {
              "outlinewidth": 0,
              "ticks": ""
             }
            },
            "type": "scattercarpet"
           }
          ],
          "scattergeo": [
           {
            "marker": {
             "colorbar": {
              "outlinewidth": 0,
              "ticks": ""
             }
            },
            "type": "scattergeo"
           }
          ],
          "scattergl": [
           {
            "marker": {
             "colorbar": {
              "outlinewidth": 0,
              "ticks": ""
             }
            },
            "type": "scattergl"
           }
          ],
          "scattermapbox": [
           {
            "marker": {
             "colorbar": {
              "outlinewidth": 0,
              "ticks": ""
             }
            },
            "type": "scattermapbox"
           }
          ],
          "scatterpolar": [
           {
            "marker": {
             "colorbar": {
              "outlinewidth": 0,
              "ticks": ""
             }
            },
            "type": "scatterpolar"
           }
          ],
          "scatterpolargl": [
           {
            "marker": {
             "colorbar": {
              "outlinewidth": 0,
              "ticks": ""
             }
            },
            "type": "scatterpolargl"
           }
          ],
          "scatterternary": [
           {
            "marker": {
             "colorbar": {
              "outlinewidth": 0,
              "ticks": ""
             }
            },
            "type": "scatterternary"
           }
          ],
          "surface": [
           {
            "colorbar": {
             "outlinewidth": 0,
             "ticks": ""
            },
            "colorscale": [
             [
              0,
              "#0d0887"
             ],
             [
              0.1111111111111111,
              "#46039f"
             ],
             [
              0.2222222222222222,
              "#7201a8"
             ],
             [
              0.3333333333333333,
              "#9c179e"
             ],
             [
              0.4444444444444444,
              "#bd3786"
             ],
             [
              0.5555555555555556,
              "#d8576b"
             ],
             [
              0.6666666666666666,
              "#ed7953"
             ],
             [
              0.7777777777777778,
              "#fb9f3a"
             ],
             [
              0.8888888888888888,
              "#fdca26"
             ],
             [
              1,
              "#f0f921"
             ]
            ],
            "type": "surface"
           }
          ],
          "table": [
           {
            "cells": {
             "fill": {
              "color": "#EBF0F8"
             },
             "line": {
              "color": "white"
             }
            },
            "header": {
             "fill": {
              "color": "#C8D4E3"
             },
             "line": {
              "color": "white"
             }
            },
            "type": "table"
           }
          ]
         },
         "layout": {
          "annotationdefaults": {
           "arrowcolor": "#2a3f5f",
           "arrowhead": 0,
           "arrowwidth": 1
          },
          "autotypenumbers": "strict",
          "coloraxis": {
           "colorbar": {
            "outlinewidth": 0,
            "ticks": ""
           }
          },
          "colorscale": {
           "diverging": [
            [
             0,
             "#8e0152"
            ],
            [
             0.1,
             "#c51b7d"
            ],
            [
             0.2,
             "#de77ae"
            ],
            [
             0.3,
             "#f1b6da"
            ],
            [
             0.4,
             "#fde0ef"
            ],
            [
             0.5,
             "#f7f7f7"
            ],
            [
             0.6,
             "#e6f5d0"
            ],
            [
             0.7,
             "#b8e186"
            ],
            [
             0.8,
             "#7fbc41"
            ],
            [
             0.9,
             "#4d9221"
            ],
            [
             1,
             "#276419"
            ]
           ],
           "sequential": [
            [
             0,
             "#0d0887"
            ],
            [
             0.1111111111111111,
             "#46039f"
            ],
            [
             0.2222222222222222,
             "#7201a8"
            ],
            [
             0.3333333333333333,
             "#9c179e"
            ],
            [
             0.4444444444444444,
             "#bd3786"
            ],
            [
             0.5555555555555556,
             "#d8576b"
            ],
            [
             0.6666666666666666,
             "#ed7953"
            ],
            [
             0.7777777777777778,
             "#fb9f3a"
            ],
            [
             0.8888888888888888,
             "#fdca26"
            ],
            [
             1,
             "#f0f921"
            ]
           ],
           "sequentialminus": [
            [
             0,
             "#0d0887"
            ],
            [
             0.1111111111111111,
             "#46039f"
            ],
            [
             0.2222222222222222,
             "#7201a8"
            ],
            [
             0.3333333333333333,
             "#9c179e"
            ],
            [
             0.4444444444444444,
             "#bd3786"
            ],
            [
             0.5555555555555556,
             "#d8576b"
            ],
            [
             0.6666666666666666,
             "#ed7953"
            ],
            [
             0.7777777777777778,
             "#fb9f3a"
            ],
            [
             0.8888888888888888,
             "#fdca26"
            ],
            [
             1,
             "#f0f921"
            ]
           ]
          },
          "colorway": [
           "#636efa",
           "#EF553B",
           "#00cc96",
           "#ab63fa",
           "#FFA15A",
           "#19d3f3",
           "#FF6692",
           "#B6E880",
           "#FF97FF",
           "#FECB52"
          ],
          "font": {
           "color": "#2a3f5f"
          },
          "geo": {
           "bgcolor": "white",
           "lakecolor": "white",
           "landcolor": "#E5ECF6",
           "showlakes": true,
           "showland": true,
           "subunitcolor": "white"
          },
          "hoverlabel": {
           "align": "left"
          },
          "hovermode": "closest",
          "mapbox": {
           "style": "light"
          },
          "paper_bgcolor": "white",
          "plot_bgcolor": "#E5ECF6",
          "polar": {
           "angularaxis": {
            "gridcolor": "white",
            "linecolor": "white",
            "ticks": ""
           },
           "bgcolor": "#E5ECF6",
           "radialaxis": {
            "gridcolor": "white",
            "linecolor": "white",
            "ticks": ""
           }
          },
          "scene": {
           "xaxis": {
            "backgroundcolor": "#E5ECF6",
            "gridcolor": "white",
            "gridwidth": 2,
            "linecolor": "white",
            "showbackground": true,
            "ticks": "",
            "zerolinecolor": "white"
           },
           "yaxis": {
            "backgroundcolor": "#E5ECF6",
            "gridcolor": "white",
            "gridwidth": 2,
            "linecolor": "white",
            "showbackground": true,
            "ticks": "",
            "zerolinecolor": "white"
           },
           "zaxis": {
            "backgroundcolor": "#E5ECF6",
            "gridcolor": "white",
            "gridwidth": 2,
            "linecolor": "white",
            "showbackground": true,
            "ticks": "",
            "zerolinecolor": "white"
           }
          },
          "shapedefaults": {
           "line": {
            "color": "#2a3f5f"
           }
          },
          "ternary": {
           "aaxis": {
            "gridcolor": "white",
            "linecolor": "white",
            "ticks": ""
           },
           "baxis": {
            "gridcolor": "white",
            "linecolor": "white",
            "ticks": ""
           },
           "bgcolor": "#E5ECF6",
           "caxis": {
            "gridcolor": "white",
            "linecolor": "white",
            "ticks": ""
           }
          },
          "title": {
           "x": 0.05
          },
          "xaxis": {
           "automargin": true,
           "gridcolor": "white",
           "linecolor": "white",
           "ticks": "",
           "title": {
            "standoff": 15
           },
           "zerolinecolor": "white",
           "zerolinewidth": 2
          },
          "yaxis": {
           "automargin": true,
           "gridcolor": "white",
           "linecolor": "white",
           "ticks": "",
           "title": {
            "standoff": 15
           },
           "zerolinecolor": "white",
           "zerolinewidth": 2
          }
         }
        }
       }
      }
     },
     "metadata": {},
     "output_type": "display_data"
    }
   ],
   "source": [
    "sex = data.sex.value_counts()\n",
    "fig = go.Figure(data=[go.Pie(labels=sex.index, values=sex.values, hole=.5, pull=[0, 0.2])])\n",
    "fig.update_layout(annotations=[dict(text=\"Sex\", showarrow=False, font_size=25)])\n",
    "fig.show()"
   ]
  },
  {
   "cell_type": "code",
   "execution_count": 99,
   "metadata": {},
   "outputs": [
    {
     "data": {
      "text/html": [
       "<div>\n",
       "<style scoped>\n",
       "    .dataframe tbody tr th:only-of-type {\n",
       "        vertical-align: middle;\n",
       "    }\n",
       "\n",
       "    .dataframe tbody tr th {\n",
       "        vertical-align: top;\n",
       "    }\n",
       "\n",
       "    .dataframe thead th {\n",
       "        text-align: right;\n",
       "    }\n",
       "</style>\n",
       "<table border=\"1\" class=\"dataframe\">\n",
       "  <thead>\n",
       "    <tr style=\"text-align: right;\">\n",
       "      <th></th>\n",
       "      <th>year</th>\n",
       "      <th>category</th>\n",
       "      <th>prize</th>\n",
       "      <th>motivation</th>\n",
       "      <th>prize_share</th>\n",
       "      <th>laureate_type</th>\n",
       "      <th>full_name</th>\n",
       "      <th>birth_date</th>\n",
       "      <th>birth_city</th>\n",
       "      <th>birth_country</th>\n",
       "      <th>birth_country_current</th>\n",
       "      <th>sex</th>\n",
       "      <th>organization_name</th>\n",
       "      <th>organization_city</th>\n",
       "      <th>organization_country</th>\n",
       "      <th>ISO</th>\n",
       "      <th>share_pct</th>\n",
       "    </tr>\n",
       "  </thead>\n",
       "  <tbody>\n",
       "    <tr>\n",
       "      <th>18</th>\n",
       "      <td>1903</td>\n",
       "      <td>Physics</td>\n",
       "      <td>The Nobel Prize in Physics 1903</td>\n",
       "      <td>\"in recognition of the extraordinary services ...</td>\n",
       "      <td>1/4</td>\n",
       "      <td>Individual</td>\n",
       "      <td>Marie Curie, née Sklodowska</td>\n",
       "      <td>1867-11-07</td>\n",
       "      <td>Warsaw</td>\n",
       "      <td>Russian Empire (Poland)</td>\n",
       "      <td>Poland</td>\n",
       "      <td>Female</td>\n",
       "      <td>NaN</td>\n",
       "      <td>NaN</td>\n",
       "      <td>NaN</td>\n",
       "      <td>POL</td>\n",
       "      <td>0.25</td>\n",
       "    </tr>\n",
       "    <tr>\n",
       "      <th>29</th>\n",
       "      <td>1905</td>\n",
       "      <td>Peace</td>\n",
       "      <td>The Nobel Peace Prize 1905</td>\n",
       "      <td>NaN</td>\n",
       "      <td>1/1</td>\n",
       "      <td>Individual</td>\n",
       "      <td>Baroness Bertha Sophie Felicita von Suttner, n...</td>\n",
       "      <td>1843-06-09</td>\n",
       "      <td>Prague</td>\n",
       "      <td>Austrian Empire (Czech Republic)</td>\n",
       "      <td>Czech Republic</td>\n",
       "      <td>Female</td>\n",
       "      <td>NaN</td>\n",
       "      <td>NaN</td>\n",
       "      <td>NaN</td>\n",
       "      <td>CZE</td>\n",
       "      <td>1.00</td>\n",
       "    </tr>\n",
       "    <tr>\n",
       "      <th>51</th>\n",
       "      <td>1909</td>\n",
       "      <td>Literature</td>\n",
       "      <td>The Nobel Prize in Literature 1909</td>\n",
       "      <td>\"in appreciation of the lofty idealism, vivid ...</td>\n",
       "      <td>1/1</td>\n",
       "      <td>Individual</td>\n",
       "      <td>Selma Ottilia Lovisa Lagerlöf</td>\n",
       "      <td>1858-11-20</td>\n",
       "      <td>Mårbacka</td>\n",
       "      <td>Sweden</td>\n",
       "      <td>Sweden</td>\n",
       "      <td>Female</td>\n",
       "      <td>NaN</td>\n",
       "      <td>NaN</td>\n",
       "      <td>NaN</td>\n",
       "      <td>SWE</td>\n",
       "      <td>1.00</td>\n",
       "    </tr>\n",
       "  </tbody>\n",
       "</table>\n",
       "</div>"
      ],
      "text/plain": [
       "    year    category                               prize  \\\n",
       "18  1903     Physics     The Nobel Prize in Physics 1903   \n",
       "29  1905       Peace          The Nobel Peace Prize 1905   \n",
       "51  1909  Literature  The Nobel Prize in Literature 1909   \n",
       "\n",
       "                                           motivation prize_share  \\\n",
       "18  \"in recognition of the extraordinary services ...         1/4   \n",
       "29                                                NaN         1/1   \n",
       "51  \"in appreciation of the lofty idealism, vivid ...         1/1   \n",
       "\n",
       "   laureate_type                                          full_name  \\\n",
       "18    Individual                        Marie Curie, née Sklodowska   \n",
       "29    Individual  Baroness Bertha Sophie Felicita von Suttner, n...   \n",
       "51    Individual                      Selma Ottilia Lovisa Lagerlöf   \n",
       "\n",
       "   birth_date birth_city                     birth_country  \\\n",
       "18 1867-11-07     Warsaw           Russian Empire (Poland)   \n",
       "29 1843-06-09     Prague  Austrian Empire (Czech Republic)   \n",
       "51 1858-11-20   Mårbacka                            Sweden   \n",
       "\n",
       "   birth_country_current     sex organization_name organization_city  \\\n",
       "18                Poland  Female               NaN               NaN   \n",
       "29        Czech Republic  Female               NaN               NaN   \n",
       "51                Sweden  Female               NaN               NaN   \n",
       "\n",
       "   organization_country  ISO  share_pct  \n",
       "18                  NaN  POL       0.25  \n",
       "29                  NaN  CZE       1.00  \n",
       "51                  NaN  SWE       1.00  "
      ]
     },
     "execution_count": 99,
     "metadata": {},
     "output_type": "execute_result"
    }
   ],
   "source": [
    "#First women \n",
    "women = data[data.sex == 'Female'].sort_values('year', ascending=True)[:3]\n",
    "women"
   ]
  },
  {
   "cell_type": "code",
   "execution_count": 108,
   "metadata": {},
   "outputs": [
    {
     "data": {
      "text/html": [
       "<div>\n",
       "<style scoped>\n",
       "    .dataframe tbody tr th:only-of-type {\n",
       "        vertical-align: middle;\n",
       "    }\n",
       "\n",
       "    .dataframe tbody tr th {\n",
       "        vertical-align: top;\n",
       "    }\n",
       "\n",
       "    .dataframe thead th {\n",
       "        text-align: right;\n",
       "    }\n",
       "</style>\n",
       "<table border=\"1\" class=\"dataframe\">\n",
       "  <thead>\n",
       "    <tr style=\"text-align: right;\">\n",
       "      <th></th>\n",
       "      <th>birth_country_current</th>\n",
       "      <th>prize</th>\n",
       "    </tr>\n",
       "  </thead>\n",
       "  <tbody>\n",
       "    <tr>\n",
       "      <th>74</th>\n",
       "      <td>United States of America</td>\n",
       "      <td>281</td>\n",
       "    </tr>\n",
       "    <tr>\n",
       "      <th>73</th>\n",
       "      <td>United Kingdom</td>\n",
       "      <td>105</td>\n",
       "    </tr>\n",
       "    <tr>\n",
       "      <th>26</th>\n",
       "      <td>Germany</td>\n",
       "      <td>84</td>\n",
       "    </tr>\n",
       "    <tr>\n",
       "      <th>25</th>\n",
       "      <td>France</td>\n",
       "      <td>57</td>\n",
       "    </tr>\n",
       "    <tr>\n",
       "      <th>67</th>\n",
       "      <td>Sweden</td>\n",
       "      <td>29</td>\n",
       "    </tr>\n",
       "    <tr>\n",
       "      <th>40</th>\n",
       "      <td>Japan</td>\n",
       "      <td>27</td>\n",
       "    </tr>\n",
       "    <tr>\n",
       "      <th>57</th>\n",
       "      <td>Poland</td>\n",
       "      <td>27</td>\n",
       "    </tr>\n",
       "    <tr>\n",
       "      <th>61</th>\n",
       "      <td>Russia</td>\n",
       "      <td>26</td>\n",
       "    </tr>\n",
       "    <tr>\n",
       "      <th>11</th>\n",
       "      <td>Canada</td>\n",
       "      <td>20</td>\n",
       "    </tr>\n",
       "    <tr>\n",
       "      <th>68</th>\n",
       "      <td>Switzerland</td>\n",
       "      <td>19</td>\n",
       "    </tr>\n",
       "    <tr>\n",
       "      <th>39</th>\n",
       "      <td>Italy</td>\n",
       "      <td>19</td>\n",
       "    </tr>\n",
       "    <tr>\n",
       "      <th>3</th>\n",
       "      <td>Austria</td>\n",
       "      <td>18</td>\n",
       "    </tr>\n",
       "    <tr>\n",
       "      <th>51</th>\n",
       "      <td>Netherlands</td>\n",
       "      <td>18</td>\n",
       "    </tr>\n",
       "    <tr>\n",
       "      <th>20</th>\n",
       "      <td>Denmark</td>\n",
       "      <td>12</td>\n",
       "    </tr>\n",
       "    <tr>\n",
       "      <th>13</th>\n",
       "      <td>China</td>\n",
       "      <td>12</td>\n",
       "    </tr>\n",
       "    <tr>\n",
       "      <th>54</th>\n",
       "      <td>Norway</td>\n",
       "      <td>12</td>\n",
       "    </tr>\n",
       "    <tr>\n",
       "      <th>2</th>\n",
       "      <td>Australia</td>\n",
       "      <td>10</td>\n",
       "    </tr>\n",
       "    <tr>\n",
       "      <th>7</th>\n",
       "      <td>Belgium</td>\n",
       "      <td>9</td>\n",
       "    </tr>\n",
       "    <tr>\n",
       "      <th>33</th>\n",
       "      <td>India</td>\n",
       "      <td>9</td>\n",
       "    </tr>\n",
       "    <tr>\n",
       "      <th>65</th>\n",
       "      <td>South Africa</td>\n",
       "      <td>9</td>\n",
       "    </tr>\n",
       "  </tbody>\n",
       "</table>\n",
       "</div>"
      ],
      "text/plain": [
       "       birth_country_current  prize\n",
       "74  United States of America    281\n",
       "73            United Kingdom    105\n",
       "26                   Germany     84\n",
       "25                    France     57\n",
       "67                    Sweden     29\n",
       "40                     Japan     27\n",
       "57                    Poland     27\n",
       "61                    Russia     26\n",
       "11                    Canada     20\n",
       "68               Switzerland     19\n",
       "39                     Italy     19\n",
       "3                    Austria     18\n",
       "51               Netherlands     18\n",
       "20                   Denmark     12\n",
       "13                     China     12\n",
       "54                    Norway     12\n",
       "2                  Australia     10\n",
       "7                    Belgium      9\n",
       "33                     India      9\n",
       "65              South Africa      9"
      ]
     },
     "execution_count": 108,
     "metadata": {},
     "output_type": "execute_result"
    }
   ],
   "source": [
    "top20 = data.groupby(['birth_country_current'], as_index=False).agg({'prize':pd.Series.count})\n",
    "top20 = top20.sort_values(by='prize', ascending=False)\n",
    "top20 = top20[:20]\n",
    "top20"
   ]
  },
  {
   "cell_type": "code",
   "execution_count": 126,
   "metadata": {},
   "outputs": [
    {
     "data": {
      "application/vnd.plotly.v1+json": {
       "config": {
        "plotlyServerURL": "https://plot.ly"
       },
       "data": [
        {
         "alignmentgroup": "True",
         "hovertemplate": "Total amount=%{marker.color}<br>Country=%{y}<extra></extra>",
         "legendgroup": "",
         "marker": {
          "color": [
           281,
           105,
           84,
           57,
           29,
           27,
           27,
           26,
           20,
           19,
           19,
           18,
           18,
           12,
           12,
           12,
           10,
           9,
           9,
           9
          ],
          "coloraxis": "coloraxis",
          "pattern": {
           "shape": ""
          }
         },
         "name": "",
         "offsetgroup": "",
         "orientation": "h",
         "showlegend": false,
         "textposition": "auto",
         "type": "bar",
         "x": [
          281,
          105,
          84,
          57,
          29,
          27,
          27,
          26,
          20,
          19,
          19,
          18,
          18,
          12,
          12,
          12,
          10,
          9,
          9,
          9
         ],
         "xaxis": "x",
         "y": [
          "United States of America",
          "United Kingdom",
          "Germany",
          "France",
          "Sweden",
          "Japan",
          "Poland",
          "Russia",
          "Canada",
          "Switzerland",
          "Italy",
          "Austria",
          "Netherlands",
          "Denmark",
          "China",
          "Norway",
          "Australia",
          "Belgium",
          "India",
          "South Africa"
         ],
         "yaxis": "y"
        }
       ],
       "layout": {
        "barmode": "relative",
        "coloraxis": {
         "colorbar": {
          "title": {
           "text": "Total amount"
          }
         },
         "colorscale": [
          [
           0,
           "#0d0887"
          ],
          [
           0.1111111111111111,
           "#46039f"
          ],
          [
           0.2222222222222222,
           "#7201a8"
          ],
          [
           0.3333333333333333,
           "#9c179e"
          ],
          [
           0.4444444444444444,
           "#bd3786"
          ],
          [
           0.5555555555555556,
           "#d8576b"
          ],
          [
           0.6666666666666666,
           "#ed7953"
          ],
          [
           0.7777777777777778,
           "#fb9f3a"
          ],
          [
           0.8888888888888888,
           "#fdca26"
          ],
          [
           1,
           "#f0f921"
          ]
         ]
        },
        "legend": {
         "tracegroupgap": 0
        },
        "template": {
         "data": {
          "bar": [
           {
            "error_x": {
             "color": "#2a3f5f"
            },
            "error_y": {
             "color": "#2a3f5f"
            },
            "marker": {
             "line": {
              "color": "#E5ECF6",
              "width": 0.5
             },
             "pattern": {
              "fillmode": "overlay",
              "size": 10,
              "solidity": 0.2
             }
            },
            "type": "bar"
           }
          ],
          "barpolar": [
           {
            "marker": {
             "line": {
              "color": "#E5ECF6",
              "width": 0.5
             },
             "pattern": {
              "fillmode": "overlay",
              "size": 10,
              "solidity": 0.2
             }
            },
            "type": "barpolar"
           }
          ],
          "carpet": [
           {
            "aaxis": {
             "endlinecolor": "#2a3f5f",
             "gridcolor": "white",
             "linecolor": "white",
             "minorgridcolor": "white",
             "startlinecolor": "#2a3f5f"
            },
            "baxis": {
             "endlinecolor": "#2a3f5f",
             "gridcolor": "white",
             "linecolor": "white",
             "minorgridcolor": "white",
             "startlinecolor": "#2a3f5f"
            },
            "type": "carpet"
           }
          ],
          "choropleth": [
           {
            "colorbar": {
             "outlinewidth": 0,
             "ticks": ""
            },
            "type": "choropleth"
           }
          ],
          "contour": [
           {
            "colorbar": {
             "outlinewidth": 0,
             "ticks": ""
            },
            "colorscale": [
             [
              0,
              "#0d0887"
             ],
             [
              0.1111111111111111,
              "#46039f"
             ],
             [
              0.2222222222222222,
              "#7201a8"
             ],
             [
              0.3333333333333333,
              "#9c179e"
             ],
             [
              0.4444444444444444,
              "#bd3786"
             ],
             [
              0.5555555555555556,
              "#d8576b"
             ],
             [
              0.6666666666666666,
              "#ed7953"
             ],
             [
              0.7777777777777778,
              "#fb9f3a"
             ],
             [
              0.8888888888888888,
              "#fdca26"
             ],
             [
              1,
              "#f0f921"
             ]
            ],
            "type": "contour"
           }
          ],
          "contourcarpet": [
           {
            "colorbar": {
             "outlinewidth": 0,
             "ticks": ""
            },
            "type": "contourcarpet"
           }
          ],
          "heatmap": [
           {
            "colorbar": {
             "outlinewidth": 0,
             "ticks": ""
            },
            "colorscale": [
             [
              0,
              "#0d0887"
             ],
             [
              0.1111111111111111,
              "#46039f"
             ],
             [
              0.2222222222222222,
              "#7201a8"
             ],
             [
              0.3333333333333333,
              "#9c179e"
             ],
             [
              0.4444444444444444,
              "#bd3786"
             ],
             [
              0.5555555555555556,
              "#d8576b"
             ],
             [
              0.6666666666666666,
              "#ed7953"
             ],
             [
              0.7777777777777778,
              "#fb9f3a"
             ],
             [
              0.8888888888888888,
              "#fdca26"
             ],
             [
              1,
              "#f0f921"
             ]
            ],
            "type": "heatmap"
           }
          ],
          "heatmapgl": [
           {
            "colorbar": {
             "outlinewidth": 0,
             "ticks": ""
            },
            "colorscale": [
             [
              0,
              "#0d0887"
             ],
             [
              0.1111111111111111,
              "#46039f"
             ],
             [
              0.2222222222222222,
              "#7201a8"
             ],
             [
              0.3333333333333333,
              "#9c179e"
             ],
             [
              0.4444444444444444,
              "#bd3786"
             ],
             [
              0.5555555555555556,
              "#d8576b"
             ],
             [
              0.6666666666666666,
              "#ed7953"
             ],
             [
              0.7777777777777778,
              "#fb9f3a"
             ],
             [
              0.8888888888888888,
              "#fdca26"
             ],
             [
              1,
              "#f0f921"
             ]
            ],
            "type": "heatmapgl"
           }
          ],
          "histogram": [
           {
            "marker": {
             "pattern": {
              "fillmode": "overlay",
              "size": 10,
              "solidity": 0.2
             }
            },
            "type": "histogram"
           }
          ],
          "histogram2d": [
           {
            "colorbar": {
             "outlinewidth": 0,
             "ticks": ""
            },
            "colorscale": [
             [
              0,
              "#0d0887"
             ],
             [
              0.1111111111111111,
              "#46039f"
             ],
             [
              0.2222222222222222,
              "#7201a8"
             ],
             [
              0.3333333333333333,
              "#9c179e"
             ],
             [
              0.4444444444444444,
              "#bd3786"
             ],
             [
              0.5555555555555556,
              "#d8576b"
             ],
             [
              0.6666666666666666,
              "#ed7953"
             ],
             [
              0.7777777777777778,
              "#fb9f3a"
             ],
             [
              0.8888888888888888,
              "#fdca26"
             ],
             [
              1,
              "#f0f921"
             ]
            ],
            "type": "histogram2d"
           }
          ],
          "histogram2dcontour": [
           {
            "colorbar": {
             "outlinewidth": 0,
             "ticks": ""
            },
            "colorscale": [
             [
              0,
              "#0d0887"
             ],
             [
              0.1111111111111111,
              "#46039f"
             ],
             [
              0.2222222222222222,
              "#7201a8"
             ],
             [
              0.3333333333333333,
              "#9c179e"
             ],
             [
              0.4444444444444444,
              "#bd3786"
             ],
             [
              0.5555555555555556,
              "#d8576b"
             ],
             [
              0.6666666666666666,
              "#ed7953"
             ],
             [
              0.7777777777777778,
              "#fb9f3a"
             ],
             [
              0.8888888888888888,
              "#fdca26"
             ],
             [
              1,
              "#f0f921"
             ]
            ],
            "type": "histogram2dcontour"
           }
          ],
          "mesh3d": [
           {
            "colorbar": {
             "outlinewidth": 0,
             "ticks": ""
            },
            "type": "mesh3d"
           }
          ],
          "parcoords": [
           {
            "line": {
             "colorbar": {
              "outlinewidth": 0,
              "ticks": ""
             }
            },
            "type": "parcoords"
           }
          ],
          "pie": [
           {
            "automargin": true,
            "type": "pie"
           }
          ],
          "scatter": [
           {
            "fillpattern": {
             "fillmode": "overlay",
             "size": 10,
             "solidity": 0.2
            },
            "type": "scatter"
           }
          ],
          "scatter3d": [
           {
            "line": {
             "colorbar": {
              "outlinewidth": 0,
              "ticks": ""
             }
            },
            "marker": {
             "colorbar": {
              "outlinewidth": 0,
              "ticks": ""
             }
            },
            "type": "scatter3d"
           }
          ],
          "scattercarpet": [
           {
            "marker": {
             "colorbar": {
              "outlinewidth": 0,
              "ticks": ""
             }
            },
            "type": "scattercarpet"
           }
          ],
          "scattergeo": [
           {
            "marker": {
             "colorbar": {
              "outlinewidth": 0,
              "ticks": ""
             }
            },
            "type": "scattergeo"
           }
          ],
          "scattergl": [
           {
            "marker": {
             "colorbar": {
              "outlinewidth": 0,
              "ticks": ""
             }
            },
            "type": "scattergl"
           }
          ],
          "scattermapbox": [
           {
            "marker": {
             "colorbar": {
              "outlinewidth": 0,
              "ticks": ""
             }
            },
            "type": "scattermapbox"
           }
          ],
          "scatterpolar": [
           {
            "marker": {
             "colorbar": {
              "outlinewidth": 0,
              "ticks": ""
             }
            },
            "type": "scatterpolar"
           }
          ],
          "scatterpolargl": [
           {
            "marker": {
             "colorbar": {
              "outlinewidth": 0,
              "ticks": ""
             }
            },
            "type": "scatterpolargl"
           }
          ],
          "scatterternary": [
           {
            "marker": {
             "colorbar": {
              "outlinewidth": 0,
              "ticks": ""
             }
            },
            "type": "scatterternary"
           }
          ],
          "surface": [
           {
            "colorbar": {
             "outlinewidth": 0,
             "ticks": ""
            },
            "colorscale": [
             [
              0,
              "#0d0887"
             ],
             [
              0.1111111111111111,
              "#46039f"
             ],
             [
              0.2222222222222222,
              "#7201a8"
             ],
             [
              0.3333333333333333,
              "#9c179e"
             ],
             [
              0.4444444444444444,
              "#bd3786"
             ],
             [
              0.5555555555555556,
              "#d8576b"
             ],
             [
              0.6666666666666666,
              "#ed7953"
             ],
             [
              0.7777777777777778,
              "#fb9f3a"
             ],
             [
              0.8888888888888888,
              "#fdca26"
             ],
             [
              1,
              "#f0f921"
             ]
            ],
            "type": "surface"
           }
          ],
          "table": [
           {
            "cells": {
             "fill": {
              "color": "#EBF0F8"
             },
             "line": {
              "color": "white"
             }
            },
            "header": {
             "fill": {
              "color": "#C8D4E3"
             },
             "line": {
              "color": "white"
             }
            },
            "type": "table"
           }
          ]
         },
         "layout": {
          "annotationdefaults": {
           "arrowcolor": "#2a3f5f",
           "arrowhead": 0,
           "arrowwidth": 1
          },
          "autotypenumbers": "strict",
          "coloraxis": {
           "colorbar": {
            "outlinewidth": 0,
            "ticks": ""
           }
          },
          "colorscale": {
           "diverging": [
            [
             0,
             "#8e0152"
            ],
            [
             0.1,
             "#c51b7d"
            ],
            [
             0.2,
             "#de77ae"
            ],
            [
             0.3,
             "#f1b6da"
            ],
            [
             0.4,
             "#fde0ef"
            ],
            [
             0.5,
             "#f7f7f7"
            ],
            [
             0.6,
             "#e6f5d0"
            ],
            [
             0.7,
             "#b8e186"
            ],
            [
             0.8,
             "#7fbc41"
            ],
            [
             0.9,
             "#4d9221"
            ],
            [
             1,
             "#276419"
            ]
           ],
           "sequential": [
            [
             0,
             "#0d0887"
            ],
            [
             0.1111111111111111,
             "#46039f"
            ],
            [
             0.2222222222222222,
             "#7201a8"
            ],
            [
             0.3333333333333333,
             "#9c179e"
            ],
            [
             0.4444444444444444,
             "#bd3786"
            ],
            [
             0.5555555555555556,
             "#d8576b"
            ],
            [
             0.6666666666666666,
             "#ed7953"
            ],
            [
             0.7777777777777778,
             "#fb9f3a"
            ],
            [
             0.8888888888888888,
             "#fdca26"
            ],
            [
             1,
             "#f0f921"
            ]
           ],
           "sequentialminus": [
            [
             0,
             "#0d0887"
            ],
            [
             0.1111111111111111,
             "#46039f"
            ],
            [
             0.2222222222222222,
             "#7201a8"
            ],
            [
             0.3333333333333333,
             "#9c179e"
            ],
            [
             0.4444444444444444,
             "#bd3786"
            ],
            [
             0.5555555555555556,
             "#d8576b"
            ],
            [
             0.6666666666666666,
             "#ed7953"
            ],
            [
             0.7777777777777778,
             "#fb9f3a"
            ],
            [
             0.8888888888888888,
             "#fdca26"
            ],
            [
             1,
             "#f0f921"
            ]
           ]
          },
          "colorway": [
           "#636efa",
           "#EF553B",
           "#00cc96",
           "#ab63fa",
           "#FFA15A",
           "#19d3f3",
           "#FF6692",
           "#B6E880",
           "#FF97FF",
           "#FECB52"
          ],
          "font": {
           "color": "#2a3f5f"
          },
          "geo": {
           "bgcolor": "white",
           "lakecolor": "white",
           "landcolor": "#E5ECF6",
           "showlakes": true,
           "showland": true,
           "subunitcolor": "white"
          },
          "hoverlabel": {
           "align": "left"
          },
          "hovermode": "closest",
          "mapbox": {
           "style": "light"
          },
          "paper_bgcolor": "white",
          "plot_bgcolor": "#E5ECF6",
          "polar": {
           "angularaxis": {
            "gridcolor": "white",
            "linecolor": "white",
            "ticks": ""
           },
           "bgcolor": "#E5ECF6",
           "radialaxis": {
            "gridcolor": "white",
            "linecolor": "white",
            "ticks": ""
           }
          },
          "scene": {
           "xaxis": {
            "backgroundcolor": "#E5ECF6",
            "gridcolor": "white",
            "gridwidth": 2,
            "linecolor": "white",
            "showbackground": true,
            "ticks": "",
            "zerolinecolor": "white"
           },
           "yaxis": {
            "backgroundcolor": "#E5ECF6",
            "gridcolor": "white",
            "gridwidth": 2,
            "linecolor": "white",
            "showbackground": true,
            "ticks": "",
            "zerolinecolor": "white"
           },
           "zaxis": {
            "backgroundcolor": "#E5ECF6",
            "gridcolor": "white",
            "gridwidth": 2,
            "linecolor": "white",
            "showbackground": true,
            "ticks": "",
            "zerolinecolor": "white"
           }
          },
          "shapedefaults": {
           "line": {
            "color": "#2a3f5f"
           }
          },
          "ternary": {
           "aaxis": {
            "gridcolor": "white",
            "linecolor": "white",
            "ticks": ""
           },
           "baxis": {
            "gridcolor": "white",
            "linecolor": "white",
            "ticks": ""
           },
           "bgcolor": "#E5ECF6",
           "caxis": {
            "gridcolor": "white",
            "linecolor": "white",
            "ticks": ""
           }
          },
          "title": {
           "x": 0.05
          },
          "xaxis": {
           "automargin": true,
           "gridcolor": "white",
           "linecolor": "white",
           "ticks": "",
           "title": {
            "standoff": 15
           },
           "zerolinecolor": "white",
           "zerolinewidth": 2
          },
          "yaxis": {
           "automargin": true,
           "gridcolor": "white",
           "linecolor": "white",
           "ticks": "",
           "title": {
            "standoff": 15
           },
           "zerolinecolor": "white",
           "zerolinewidth": 2
          }
         }
        },
        "title": {
         "text": "Top 20 countries"
        },
        "xaxis": {
         "anchor": "y",
         "domain": [
          0,
          1
         ],
         "title": {
          "text": "Total amount"
         }
        },
        "yaxis": {
         "anchor": "x",
         "domain": [
          0,
          1
         ],
         "title": {
          "text": "Country"
         }
        }
       }
      }
     },
     "metadata": {},
     "output_type": "display_data"
    }
   ],
   "source": [
    "fig = px.bar(top20, x='prize', y='birth_country_current', color='prize', orientation='h', title='Top 20 countries', labels={'prize':'Total amount', 'birth_country_current':'Country'})\n",
    "\n",
    "fig.show()"
   ]
  },
  {
   "cell_type": "code",
   "execution_count": 127,
   "metadata": {},
   "outputs": [
    {
     "data": {
      "text/html": [
       "<div>\n",
       "<style scoped>\n",
       "    .dataframe tbody tr th:only-of-type {\n",
       "        vertical-align: middle;\n",
       "    }\n",
       "\n",
       "    .dataframe tbody tr th {\n",
       "        vertical-align: top;\n",
       "    }\n",
       "\n",
       "    .dataframe thead th {\n",
       "        text-align: right;\n",
       "    }\n",
       "</style>\n",
       "<table border=\"1\" class=\"dataframe\">\n",
       "  <thead>\n",
       "    <tr style=\"text-align: right;\">\n",
       "      <th></th>\n",
       "      <th>organization_name</th>\n",
       "      <th>prize</th>\n",
       "    </tr>\n",
       "  </thead>\n",
       "  <tbody>\n",
       "    <tr>\n",
       "      <th>196</th>\n",
       "      <td>University of California</td>\n",
       "      <td>40</td>\n",
       "    </tr>\n",
       "    <tr>\n",
       "      <th>68</th>\n",
       "      <td>Harvard University</td>\n",
       "      <td>29</td>\n",
       "    </tr>\n",
       "    <tr>\n",
       "      <th>167</th>\n",
       "      <td>Stanford University</td>\n",
       "      <td>23</td>\n",
       "    </tr>\n",
       "    <tr>\n",
       "      <th>117</th>\n",
       "      <td>Massachusetts Institute of Technology (MIT)</td>\n",
       "      <td>21</td>\n",
       "    </tr>\n",
       "    <tr>\n",
       "      <th>198</th>\n",
       "      <td>University of Chicago</td>\n",
       "      <td>20</td>\n",
       "    </tr>\n",
       "    <tr>\n",
       "      <th>197</th>\n",
       "      <td>University of Cambridge</td>\n",
       "      <td>18</td>\n",
       "    </tr>\n",
       "    <tr>\n",
       "      <th>26</th>\n",
       "      <td>California Institute of Technology (Caltech)</td>\n",
       "      <td>17</td>\n",
       "    </tr>\n",
       "    <tr>\n",
       "      <th>38</th>\n",
       "      <td>Columbia University</td>\n",
       "      <td>17</td>\n",
       "    </tr>\n",
       "    <tr>\n",
       "      <th>146</th>\n",
       "      <td>Princeton University</td>\n",
       "      <td>15</td>\n",
       "    </tr>\n",
       "    <tr>\n",
       "      <th>152</th>\n",
       "      <td>Rockefeller University</td>\n",
       "      <td>13</td>\n",
       "    </tr>\n",
       "    <tr>\n",
       "      <th>119</th>\n",
       "      <td>Max-Planck-Institut</td>\n",
       "      <td>13</td>\n",
       "    </tr>\n",
       "    <tr>\n",
       "      <th>222</th>\n",
       "      <td>University of Oxford</td>\n",
       "      <td>12</td>\n",
       "    </tr>\n",
       "    <tr>\n",
       "      <th>111</th>\n",
       "      <td>MRC Laboratory of Molecular Biology</td>\n",
       "      <td>10</td>\n",
       "    </tr>\n",
       "    <tr>\n",
       "      <th>258</th>\n",
       "      <td>Yale University</td>\n",
       "      <td>9</td>\n",
       "    </tr>\n",
       "    <tr>\n",
       "      <th>40</th>\n",
       "      <td>Cornell University</td>\n",
       "      <td>8</td>\n",
       "    </tr>\n",
       "    <tr>\n",
       "      <th>12</th>\n",
       "      <td>Bell Laboratories</td>\n",
       "      <td>8</td>\n",
       "    </tr>\n",
       "    <tr>\n",
       "      <th>109</th>\n",
       "      <td>London University</td>\n",
       "      <td>7</td>\n",
       "    </tr>\n",
       "    <tr>\n",
       "      <th>163</th>\n",
       "      <td>Sorbonne University</td>\n",
       "      <td>7</td>\n",
       "    </tr>\n",
       "    <tr>\n",
       "      <th>67</th>\n",
       "      <td>Harvard Medical School</td>\n",
       "      <td>7</td>\n",
       "    </tr>\n",
       "    <tr>\n",
       "      <th>192</th>\n",
       "      <td>University College London</td>\n",
       "      <td>7</td>\n",
       "    </tr>\n",
       "  </tbody>\n",
       "</table>\n",
       "</div>"
      ],
      "text/plain": [
       "                                organization_name  prize\n",
       "196                      University of California     40\n",
       "68                             Harvard University     29\n",
       "167                           Stanford University     23\n",
       "117   Massachusetts Institute of Technology (MIT)     21\n",
       "198                         University of Chicago     20\n",
       "197                       University of Cambridge     18\n",
       "26   California Institute of Technology (Caltech)     17\n",
       "38                            Columbia University     17\n",
       "146                          Princeton University     15\n",
       "152                        Rockefeller University     13\n",
       "119                           Max-Planck-Institut     13\n",
       "222                          University of Oxford     12\n",
       "111           MRC Laboratory of Molecular Biology     10\n",
       "258                               Yale University      9\n",
       "40                             Cornell University      8\n",
       "12                              Bell Laboratories      8\n",
       "109                             London University      7\n",
       "163                           Sorbonne University      7\n",
       "67                         Harvard Medical School      7\n",
       "192                     University College London      7"
      ]
     },
     "execution_count": 127,
     "metadata": {},
     "output_type": "execute_result"
    }
   ],
   "source": [
    "top20_organizations = data.groupby(['organization_name'], as_index=False).agg({'prize':pd.Series.count})\n",
    "top20_organizations = top20_organizations.sort_values(by='prize', ascending=False)\n",
    "top20_organizations = top20_organizations[:20]\n",
    "top20_organizations"
   ]
  },
  {
   "cell_type": "code",
   "execution_count": 128,
   "metadata": {},
   "outputs": [
    {
     "data": {
      "application/vnd.plotly.v1+json": {
       "config": {
        "plotlyServerURL": "https://plot.ly"
       },
       "data": [
        {
         "alignmentgroup": "True",
         "hovertemplate": "Total amount=%{marker.color}<br>organization_name=%{y}<extra></extra>",
         "legendgroup": "",
         "marker": {
          "color": [
           40,
           29,
           23,
           21,
           20,
           18,
           17,
           17,
           15,
           13,
           13,
           12,
           10,
           9,
           8,
           8,
           7,
           7,
           7,
           7
          ],
          "coloraxis": "coloraxis",
          "pattern": {
           "shape": ""
          }
         },
         "name": "",
         "offsetgroup": "",
         "orientation": "h",
         "showlegend": false,
         "textposition": "auto",
         "type": "bar",
         "x": [
          40,
          29,
          23,
          21,
          20,
          18,
          17,
          17,
          15,
          13,
          13,
          12,
          10,
          9,
          8,
          8,
          7,
          7,
          7,
          7
         ],
         "xaxis": "x",
         "y": [
          "University of California",
          "Harvard University",
          "Stanford University",
          "Massachusetts Institute of Technology (MIT)",
          "University of Chicago",
          "University of Cambridge",
          "California Institute of Technology (Caltech)",
          "Columbia University",
          "Princeton University",
          "Rockefeller University",
          "Max-Planck-Institut",
          "University of Oxford",
          "MRC Laboratory of Molecular Biology",
          "Yale University",
          "Cornell University",
          "Bell Laboratories",
          "London University",
          "Sorbonne University",
          "Harvard Medical School",
          "University College London"
         ],
         "yaxis": "y"
        }
       ],
       "layout": {
        "barmode": "relative",
        "coloraxis": {
         "colorbar": {
          "title": {
           "text": "Total amount"
          }
         },
         "colorscale": [
          [
           0,
           "#0d0887"
          ],
          [
           0.1111111111111111,
           "#46039f"
          ],
          [
           0.2222222222222222,
           "#7201a8"
          ],
          [
           0.3333333333333333,
           "#9c179e"
          ],
          [
           0.4444444444444444,
           "#bd3786"
          ],
          [
           0.5555555555555556,
           "#d8576b"
          ],
          [
           0.6666666666666666,
           "#ed7953"
          ],
          [
           0.7777777777777778,
           "#fb9f3a"
          ],
          [
           0.8888888888888888,
           "#fdca26"
          ],
          [
           1,
           "#f0f921"
          ]
         ]
        },
        "legend": {
         "tracegroupgap": 0
        },
        "template": {
         "data": {
          "bar": [
           {
            "error_x": {
             "color": "#2a3f5f"
            },
            "error_y": {
             "color": "#2a3f5f"
            },
            "marker": {
             "line": {
              "color": "#E5ECF6",
              "width": 0.5
             },
             "pattern": {
              "fillmode": "overlay",
              "size": 10,
              "solidity": 0.2
             }
            },
            "type": "bar"
           }
          ],
          "barpolar": [
           {
            "marker": {
             "line": {
              "color": "#E5ECF6",
              "width": 0.5
             },
             "pattern": {
              "fillmode": "overlay",
              "size": 10,
              "solidity": 0.2
             }
            },
            "type": "barpolar"
           }
          ],
          "carpet": [
           {
            "aaxis": {
             "endlinecolor": "#2a3f5f",
             "gridcolor": "white",
             "linecolor": "white",
             "minorgridcolor": "white",
             "startlinecolor": "#2a3f5f"
            },
            "baxis": {
             "endlinecolor": "#2a3f5f",
             "gridcolor": "white",
             "linecolor": "white",
             "minorgridcolor": "white",
             "startlinecolor": "#2a3f5f"
            },
            "type": "carpet"
           }
          ],
          "choropleth": [
           {
            "colorbar": {
             "outlinewidth": 0,
             "ticks": ""
            },
            "type": "choropleth"
           }
          ],
          "contour": [
           {
            "colorbar": {
             "outlinewidth": 0,
             "ticks": ""
            },
            "colorscale": [
             [
              0,
              "#0d0887"
             ],
             [
              0.1111111111111111,
              "#46039f"
             ],
             [
              0.2222222222222222,
              "#7201a8"
             ],
             [
              0.3333333333333333,
              "#9c179e"
             ],
             [
              0.4444444444444444,
              "#bd3786"
             ],
             [
              0.5555555555555556,
              "#d8576b"
             ],
             [
              0.6666666666666666,
              "#ed7953"
             ],
             [
              0.7777777777777778,
              "#fb9f3a"
             ],
             [
              0.8888888888888888,
              "#fdca26"
             ],
             [
              1,
              "#f0f921"
             ]
            ],
            "type": "contour"
           }
          ],
          "contourcarpet": [
           {
            "colorbar": {
             "outlinewidth": 0,
             "ticks": ""
            },
            "type": "contourcarpet"
           }
          ],
          "heatmap": [
           {
            "colorbar": {
             "outlinewidth": 0,
             "ticks": ""
            },
            "colorscale": [
             [
              0,
              "#0d0887"
             ],
             [
              0.1111111111111111,
              "#46039f"
             ],
             [
              0.2222222222222222,
              "#7201a8"
             ],
             [
              0.3333333333333333,
              "#9c179e"
             ],
             [
              0.4444444444444444,
              "#bd3786"
             ],
             [
              0.5555555555555556,
              "#d8576b"
             ],
             [
              0.6666666666666666,
              "#ed7953"
             ],
             [
              0.7777777777777778,
              "#fb9f3a"
             ],
             [
              0.8888888888888888,
              "#fdca26"
             ],
             [
              1,
              "#f0f921"
             ]
            ],
            "type": "heatmap"
           }
          ],
          "heatmapgl": [
           {
            "colorbar": {
             "outlinewidth": 0,
             "ticks": ""
            },
            "colorscale": [
             [
              0,
              "#0d0887"
             ],
             [
              0.1111111111111111,
              "#46039f"
             ],
             [
              0.2222222222222222,
              "#7201a8"
             ],
             [
              0.3333333333333333,
              "#9c179e"
             ],
             [
              0.4444444444444444,
              "#bd3786"
             ],
             [
              0.5555555555555556,
              "#d8576b"
             ],
             [
              0.6666666666666666,
              "#ed7953"
             ],
             [
              0.7777777777777778,
              "#fb9f3a"
             ],
             [
              0.8888888888888888,
              "#fdca26"
             ],
             [
              1,
              "#f0f921"
             ]
            ],
            "type": "heatmapgl"
           }
          ],
          "histogram": [
           {
            "marker": {
             "pattern": {
              "fillmode": "overlay",
              "size": 10,
              "solidity": 0.2
             }
            },
            "type": "histogram"
           }
          ],
          "histogram2d": [
           {
            "colorbar": {
             "outlinewidth": 0,
             "ticks": ""
            },
            "colorscale": [
             [
              0,
              "#0d0887"
             ],
             [
              0.1111111111111111,
              "#46039f"
             ],
             [
              0.2222222222222222,
              "#7201a8"
             ],
             [
              0.3333333333333333,
              "#9c179e"
             ],
             [
              0.4444444444444444,
              "#bd3786"
             ],
             [
              0.5555555555555556,
              "#d8576b"
             ],
             [
              0.6666666666666666,
              "#ed7953"
             ],
             [
              0.7777777777777778,
              "#fb9f3a"
             ],
             [
              0.8888888888888888,
              "#fdca26"
             ],
             [
              1,
              "#f0f921"
             ]
            ],
            "type": "histogram2d"
           }
          ],
          "histogram2dcontour": [
           {
            "colorbar": {
             "outlinewidth": 0,
             "ticks": ""
            },
            "colorscale": [
             [
              0,
              "#0d0887"
             ],
             [
              0.1111111111111111,
              "#46039f"
             ],
             [
              0.2222222222222222,
              "#7201a8"
             ],
             [
              0.3333333333333333,
              "#9c179e"
             ],
             [
              0.4444444444444444,
              "#bd3786"
             ],
             [
              0.5555555555555556,
              "#d8576b"
             ],
             [
              0.6666666666666666,
              "#ed7953"
             ],
             [
              0.7777777777777778,
              "#fb9f3a"
             ],
             [
              0.8888888888888888,
              "#fdca26"
             ],
             [
              1,
              "#f0f921"
             ]
            ],
            "type": "histogram2dcontour"
           }
          ],
          "mesh3d": [
           {
            "colorbar": {
             "outlinewidth": 0,
             "ticks": ""
            },
            "type": "mesh3d"
           }
          ],
          "parcoords": [
           {
            "line": {
             "colorbar": {
              "outlinewidth": 0,
              "ticks": ""
             }
            },
            "type": "parcoords"
           }
          ],
          "pie": [
           {
            "automargin": true,
            "type": "pie"
           }
          ],
          "scatter": [
           {
            "fillpattern": {
             "fillmode": "overlay",
             "size": 10,
             "solidity": 0.2
            },
            "type": "scatter"
           }
          ],
          "scatter3d": [
           {
            "line": {
             "colorbar": {
              "outlinewidth": 0,
              "ticks": ""
             }
            },
            "marker": {
             "colorbar": {
              "outlinewidth": 0,
              "ticks": ""
             }
            },
            "type": "scatter3d"
           }
          ],
          "scattercarpet": [
           {
            "marker": {
             "colorbar": {
              "outlinewidth": 0,
              "ticks": ""
             }
            },
            "type": "scattercarpet"
           }
          ],
          "scattergeo": [
           {
            "marker": {
             "colorbar": {
              "outlinewidth": 0,
              "ticks": ""
             }
            },
            "type": "scattergeo"
           }
          ],
          "scattergl": [
           {
            "marker": {
             "colorbar": {
              "outlinewidth": 0,
              "ticks": ""
             }
            },
            "type": "scattergl"
           }
          ],
          "scattermapbox": [
           {
            "marker": {
             "colorbar": {
              "outlinewidth": 0,
              "ticks": ""
             }
            },
            "type": "scattermapbox"
           }
          ],
          "scatterpolar": [
           {
            "marker": {
             "colorbar": {
              "outlinewidth": 0,
              "ticks": ""
             }
            },
            "type": "scatterpolar"
           }
          ],
          "scatterpolargl": [
           {
            "marker": {
             "colorbar": {
              "outlinewidth": 0,
              "ticks": ""
             }
            },
            "type": "scatterpolargl"
           }
          ],
          "scatterternary": [
           {
            "marker": {
             "colorbar": {
              "outlinewidth": 0,
              "ticks": ""
             }
            },
            "type": "scatterternary"
           }
          ],
          "surface": [
           {
            "colorbar": {
             "outlinewidth": 0,
             "ticks": ""
            },
            "colorscale": [
             [
              0,
              "#0d0887"
             ],
             [
              0.1111111111111111,
              "#46039f"
             ],
             [
              0.2222222222222222,
              "#7201a8"
             ],
             [
              0.3333333333333333,
              "#9c179e"
             ],
             [
              0.4444444444444444,
              "#bd3786"
             ],
             [
              0.5555555555555556,
              "#d8576b"
             ],
             [
              0.6666666666666666,
              "#ed7953"
             ],
             [
              0.7777777777777778,
              "#fb9f3a"
             ],
             [
              0.8888888888888888,
              "#fdca26"
             ],
             [
              1,
              "#f0f921"
             ]
            ],
            "type": "surface"
           }
          ],
          "table": [
           {
            "cells": {
             "fill": {
              "color": "#EBF0F8"
             },
             "line": {
              "color": "white"
             }
            },
            "header": {
             "fill": {
              "color": "#C8D4E3"
             },
             "line": {
              "color": "white"
             }
            },
            "type": "table"
           }
          ]
         },
         "layout": {
          "annotationdefaults": {
           "arrowcolor": "#2a3f5f",
           "arrowhead": 0,
           "arrowwidth": 1
          },
          "autotypenumbers": "strict",
          "coloraxis": {
           "colorbar": {
            "outlinewidth": 0,
            "ticks": ""
           }
          },
          "colorscale": {
           "diverging": [
            [
             0,
             "#8e0152"
            ],
            [
             0.1,
             "#c51b7d"
            ],
            [
             0.2,
             "#de77ae"
            ],
            [
             0.3,
             "#f1b6da"
            ],
            [
             0.4,
             "#fde0ef"
            ],
            [
             0.5,
             "#f7f7f7"
            ],
            [
             0.6,
             "#e6f5d0"
            ],
            [
             0.7,
             "#b8e186"
            ],
            [
             0.8,
             "#7fbc41"
            ],
            [
             0.9,
             "#4d9221"
            ],
            [
             1,
             "#276419"
            ]
           ],
           "sequential": [
            [
             0,
             "#0d0887"
            ],
            [
             0.1111111111111111,
             "#46039f"
            ],
            [
             0.2222222222222222,
             "#7201a8"
            ],
            [
             0.3333333333333333,
             "#9c179e"
            ],
            [
             0.4444444444444444,
             "#bd3786"
            ],
            [
             0.5555555555555556,
             "#d8576b"
            ],
            [
             0.6666666666666666,
             "#ed7953"
            ],
            [
             0.7777777777777778,
             "#fb9f3a"
            ],
            [
             0.8888888888888888,
             "#fdca26"
            ],
            [
             1,
             "#f0f921"
            ]
           ],
           "sequentialminus": [
            [
             0,
             "#0d0887"
            ],
            [
             0.1111111111111111,
             "#46039f"
            ],
            [
             0.2222222222222222,
             "#7201a8"
            ],
            [
             0.3333333333333333,
             "#9c179e"
            ],
            [
             0.4444444444444444,
             "#bd3786"
            ],
            [
             0.5555555555555556,
             "#d8576b"
            ],
            [
             0.6666666666666666,
             "#ed7953"
            ],
            [
             0.7777777777777778,
             "#fb9f3a"
            ],
            [
             0.8888888888888888,
             "#fdca26"
            ],
            [
             1,
             "#f0f921"
            ]
           ]
          },
          "colorway": [
           "#636efa",
           "#EF553B",
           "#00cc96",
           "#ab63fa",
           "#FFA15A",
           "#19d3f3",
           "#FF6692",
           "#B6E880",
           "#FF97FF",
           "#FECB52"
          ],
          "font": {
           "color": "#2a3f5f"
          },
          "geo": {
           "bgcolor": "white",
           "lakecolor": "white",
           "landcolor": "#E5ECF6",
           "showlakes": true,
           "showland": true,
           "subunitcolor": "white"
          },
          "hoverlabel": {
           "align": "left"
          },
          "hovermode": "closest",
          "mapbox": {
           "style": "light"
          },
          "paper_bgcolor": "white",
          "plot_bgcolor": "#E5ECF6",
          "polar": {
           "angularaxis": {
            "gridcolor": "white",
            "linecolor": "white",
            "ticks": ""
           },
           "bgcolor": "#E5ECF6",
           "radialaxis": {
            "gridcolor": "white",
            "linecolor": "white",
            "ticks": ""
           }
          },
          "scene": {
           "xaxis": {
            "backgroundcolor": "#E5ECF6",
            "gridcolor": "white",
            "gridwidth": 2,
            "linecolor": "white",
            "showbackground": true,
            "ticks": "",
            "zerolinecolor": "white"
           },
           "yaxis": {
            "backgroundcolor": "#E5ECF6",
            "gridcolor": "white",
            "gridwidth": 2,
            "linecolor": "white",
            "showbackground": true,
            "ticks": "",
            "zerolinecolor": "white"
           },
           "zaxis": {
            "backgroundcolor": "#E5ECF6",
            "gridcolor": "white",
            "gridwidth": 2,
            "linecolor": "white",
            "showbackground": true,
            "ticks": "",
            "zerolinecolor": "white"
           }
          },
          "shapedefaults": {
           "line": {
            "color": "#2a3f5f"
           }
          },
          "ternary": {
           "aaxis": {
            "gridcolor": "white",
            "linecolor": "white",
            "ticks": ""
           },
           "baxis": {
            "gridcolor": "white",
            "linecolor": "white",
            "ticks": ""
           },
           "bgcolor": "#E5ECF6",
           "caxis": {
            "gridcolor": "white",
            "linecolor": "white",
            "ticks": ""
           }
          },
          "title": {
           "x": 0.05
          },
          "xaxis": {
           "automargin": true,
           "gridcolor": "white",
           "linecolor": "white",
           "ticks": "",
           "title": {
            "standoff": 15
           },
           "zerolinecolor": "white",
           "zerolinewidth": 2
          },
          "yaxis": {
           "automargin": true,
           "gridcolor": "white",
           "linecolor": "white",
           "ticks": "",
           "title": {
            "standoff": 15
           },
           "zerolinecolor": "white",
           "zerolinewidth": 2
          }
         }
        },
        "title": {
         "text": "Top 20 countries"
        },
        "xaxis": {
         "anchor": "y",
         "domain": [
          0,
          1
         ],
         "title": {
          "text": "Total amount"
         }
        },
        "yaxis": {
         "anchor": "x",
         "domain": [
          0,
          1
         ],
         "title": {
          "text": "organization_name"
         }
        }
       }
      }
     },
     "metadata": {},
     "output_type": "display_data"
    }
   ],
   "source": [
    "fig = px.bar(top20_organizations, x='prize', y='organization_name', color='prize', orientation='h', title='Top 20 countries', labels={'prize':'Total amount', 'birth_country_current':'Country'})\n",
    "\n",
    "fig.show()"
   ]
  },
  {
   "cell_type": "code",
   "execution_count": 131,
   "metadata": {},
   "outputs": [
    {
     "data": {
      "text/html": [
       "<div>\n",
       "<style scoped>\n",
       "    .dataframe tbody tr th:only-of-type {\n",
       "        vertical-align: middle;\n",
       "    }\n",
       "\n",
       "    .dataframe tbody tr th {\n",
       "        vertical-align: top;\n",
       "    }\n",
       "\n",
       "    .dataframe thead th {\n",
       "        text-align: right;\n",
       "    }\n",
       "</style>\n",
       "<table border=\"1\" class=\"dataframe\">\n",
       "  <thead>\n",
       "    <tr style=\"text-align: right;\">\n",
       "      <th></th>\n",
       "      <th>organization_city</th>\n",
       "      <th>prize</th>\n",
       "    </tr>\n",
       "  </thead>\n",
       "  <tbody>\n",
       "    <tr>\n",
       "      <th>34</th>\n",
       "      <td>Cambridge, MA</td>\n",
       "      <td>50</td>\n",
       "    </tr>\n",
       "    <tr>\n",
       "      <th>121</th>\n",
       "      <td>New York, NY</td>\n",
       "      <td>45</td>\n",
       "    </tr>\n",
       "    <tr>\n",
       "      <th>33</th>\n",
       "      <td>Cambridge</td>\n",
       "      <td>31</td>\n",
       "    </tr>\n",
       "    <tr>\n",
       "      <th>92</th>\n",
       "      <td>London</td>\n",
       "      <td>27</td>\n",
       "    </tr>\n",
       "    <tr>\n",
       "      <th>128</th>\n",
       "      <td>Paris</td>\n",
       "      <td>25</td>\n",
       "    </tr>\n",
       "    <tr>\n",
       "      <th>156</th>\n",
       "      <td>Stanford, CA</td>\n",
       "      <td>24</td>\n",
       "    </tr>\n",
       "    <tr>\n",
       "      <th>12</th>\n",
       "      <td>Berkeley, CA</td>\n",
       "      <td>21</td>\n",
       "    </tr>\n",
       "    <tr>\n",
       "      <th>39</th>\n",
       "      <td>Chicago, IL</td>\n",
       "      <td>20</td>\n",
       "    </tr>\n",
       "    <tr>\n",
       "      <th>135</th>\n",
       "      <td>Princeton, NJ</td>\n",
       "      <td>19</td>\n",
       "    </tr>\n",
       "    <tr>\n",
       "      <th>129</th>\n",
       "      <td>Pasadena, CA</td>\n",
       "      <td>17</td>\n",
       "    </tr>\n",
       "    <tr>\n",
       "      <th>126</th>\n",
       "      <td>Oxford</td>\n",
       "      <td>12</td>\n",
       "    </tr>\n",
       "    <tr>\n",
       "      <th>13</th>\n",
       "      <td>Berlin</td>\n",
       "      <td>12</td>\n",
       "    </tr>\n",
       "    <tr>\n",
       "      <th>157</th>\n",
       "      <td>Stockholm</td>\n",
       "      <td>10</td>\n",
       "    </tr>\n",
       "    <tr>\n",
       "      <th>108</th>\n",
       "      <td>Moscow</td>\n",
       "      <td>10</td>\n",
       "    </tr>\n",
       "    <tr>\n",
       "      <th>71</th>\n",
       "      <td>Heidelberg</td>\n",
       "      <td>9</td>\n",
       "    </tr>\n",
       "    <tr>\n",
       "      <th>110</th>\n",
       "      <td>Munich</td>\n",
       "      <td>9</td>\n",
       "    </tr>\n",
       "    <tr>\n",
       "      <th>23</th>\n",
       "      <td>Boston, MA</td>\n",
       "      <td>9</td>\n",
       "    </tr>\n",
       "    <tr>\n",
       "      <th>119</th>\n",
       "      <td>New Haven, CT</td>\n",
       "      <td>9</td>\n",
       "    </tr>\n",
       "    <tr>\n",
       "      <th>78</th>\n",
       "      <td>Ithaca, NY</td>\n",
       "      <td>8</td>\n",
       "    </tr>\n",
       "    <tr>\n",
       "      <th>65</th>\n",
       "      <td>Göttingen</td>\n",
       "      <td>8</td>\n",
       "    </tr>\n",
       "  </tbody>\n",
       "</table>\n",
       "</div>"
      ],
      "text/plain": [
       "    organization_city  prize\n",
       "34      Cambridge, MA     50\n",
       "121      New York, NY     45\n",
       "33          Cambridge     31\n",
       "92             London     27\n",
       "128             Paris     25\n",
       "156      Stanford, CA     24\n",
       "12       Berkeley, CA     21\n",
       "39        Chicago, IL     20\n",
       "135     Princeton, NJ     19\n",
       "129      Pasadena, CA     17\n",
       "126            Oxford     12\n",
       "13             Berlin     12\n",
       "157         Stockholm     10\n",
       "108            Moscow     10\n",
       "71         Heidelberg      9\n",
       "110            Munich      9\n",
       "23         Boston, MA      9\n",
       "119     New Haven, CT      9\n",
       "78         Ithaca, NY      8\n",
       "65          Göttingen      8"
      ]
     },
     "execution_count": 131,
     "metadata": {},
     "output_type": "execute_result"
    }
   ],
   "source": [
    "top20_organizations_cities = data.groupby(['organization_city'], as_index=False).agg({'prize':pd.Series.count})\n",
    "top20_organizations_cities = top20_organizations_cities.sort_values(by='prize', ascending=False)\n",
    "top20_organizations_cities = top20_organizations_cities[:20]\n",
    "top20_organizations_cities"
   ]
  },
  {
   "cell_type": "code",
   "execution_count": 132,
   "metadata": {},
   "outputs": [
    {
     "data": {
      "application/vnd.plotly.v1+json": {
       "config": {
        "plotlyServerURL": "https://plot.ly"
       },
       "data": [
        {
         "alignmentgroup": "True",
         "hovertemplate": "Total amount=%{marker.color}<br>organization_city=%{y}<extra></extra>",
         "legendgroup": "",
         "marker": {
          "color": [
           50,
           45,
           31,
           27,
           25,
           24,
           21,
           20,
           19,
           17,
           12,
           12,
           10,
           10,
           9,
           9,
           9,
           9,
           8,
           8
          ],
          "coloraxis": "coloraxis",
          "pattern": {
           "shape": ""
          }
         },
         "name": "",
         "offsetgroup": "",
         "orientation": "h",
         "showlegend": false,
         "textposition": "auto",
         "type": "bar",
         "x": [
          50,
          45,
          31,
          27,
          25,
          24,
          21,
          20,
          19,
          17,
          12,
          12,
          10,
          10,
          9,
          9,
          9,
          9,
          8,
          8
         ],
         "xaxis": "x",
         "y": [
          "Cambridge, MA",
          "New York, NY",
          "Cambridge",
          "London",
          "Paris",
          "Stanford, CA",
          "Berkeley, CA",
          "Chicago, IL",
          "Princeton, NJ",
          "Pasadena, CA",
          "Oxford",
          "Berlin",
          "Stockholm",
          "Moscow",
          "Heidelberg",
          "Munich",
          "Boston, MA",
          "New Haven, CT",
          "Ithaca, NY",
          "Göttingen"
         ],
         "yaxis": "y"
        }
       ],
       "layout": {
        "barmode": "relative",
        "coloraxis": {
         "colorbar": {
          "title": {
           "text": "Total amount"
          }
         },
         "colorscale": [
          [
           0,
           "#0d0887"
          ],
          [
           0.1111111111111111,
           "#46039f"
          ],
          [
           0.2222222222222222,
           "#7201a8"
          ],
          [
           0.3333333333333333,
           "#9c179e"
          ],
          [
           0.4444444444444444,
           "#bd3786"
          ],
          [
           0.5555555555555556,
           "#d8576b"
          ],
          [
           0.6666666666666666,
           "#ed7953"
          ],
          [
           0.7777777777777778,
           "#fb9f3a"
          ],
          [
           0.8888888888888888,
           "#fdca26"
          ],
          [
           1,
           "#f0f921"
          ]
         ]
        },
        "legend": {
         "tracegroupgap": 0
        },
        "template": {
         "data": {
          "bar": [
           {
            "error_x": {
             "color": "#2a3f5f"
            },
            "error_y": {
             "color": "#2a3f5f"
            },
            "marker": {
             "line": {
              "color": "#E5ECF6",
              "width": 0.5
             },
             "pattern": {
              "fillmode": "overlay",
              "size": 10,
              "solidity": 0.2
             }
            },
            "type": "bar"
           }
          ],
          "barpolar": [
           {
            "marker": {
             "line": {
              "color": "#E5ECF6",
              "width": 0.5
             },
             "pattern": {
              "fillmode": "overlay",
              "size": 10,
              "solidity": 0.2
             }
            },
            "type": "barpolar"
           }
          ],
          "carpet": [
           {
            "aaxis": {
             "endlinecolor": "#2a3f5f",
             "gridcolor": "white",
             "linecolor": "white",
             "minorgridcolor": "white",
             "startlinecolor": "#2a3f5f"
            },
            "baxis": {
             "endlinecolor": "#2a3f5f",
             "gridcolor": "white",
             "linecolor": "white",
             "minorgridcolor": "white",
             "startlinecolor": "#2a3f5f"
            },
            "type": "carpet"
           }
          ],
          "choropleth": [
           {
            "colorbar": {
             "outlinewidth": 0,
             "ticks": ""
            },
            "type": "choropleth"
           }
          ],
          "contour": [
           {
            "colorbar": {
             "outlinewidth": 0,
             "ticks": ""
            },
            "colorscale": [
             [
              0,
              "#0d0887"
             ],
             [
              0.1111111111111111,
              "#46039f"
             ],
             [
              0.2222222222222222,
              "#7201a8"
             ],
             [
              0.3333333333333333,
              "#9c179e"
             ],
             [
              0.4444444444444444,
              "#bd3786"
             ],
             [
              0.5555555555555556,
              "#d8576b"
             ],
             [
              0.6666666666666666,
              "#ed7953"
             ],
             [
              0.7777777777777778,
              "#fb9f3a"
             ],
             [
              0.8888888888888888,
              "#fdca26"
             ],
             [
              1,
              "#f0f921"
             ]
            ],
            "type": "contour"
           }
          ],
          "contourcarpet": [
           {
            "colorbar": {
             "outlinewidth": 0,
             "ticks": ""
            },
            "type": "contourcarpet"
           }
          ],
          "heatmap": [
           {
            "colorbar": {
             "outlinewidth": 0,
             "ticks": ""
            },
            "colorscale": [
             [
              0,
              "#0d0887"
             ],
             [
              0.1111111111111111,
              "#46039f"
             ],
             [
              0.2222222222222222,
              "#7201a8"
             ],
             [
              0.3333333333333333,
              "#9c179e"
             ],
             [
              0.4444444444444444,
              "#bd3786"
             ],
             [
              0.5555555555555556,
              "#d8576b"
             ],
             [
              0.6666666666666666,
              "#ed7953"
             ],
             [
              0.7777777777777778,
              "#fb9f3a"
             ],
             [
              0.8888888888888888,
              "#fdca26"
             ],
             [
              1,
              "#f0f921"
             ]
            ],
            "type": "heatmap"
           }
          ],
          "heatmapgl": [
           {
            "colorbar": {
             "outlinewidth": 0,
             "ticks": ""
            },
            "colorscale": [
             [
              0,
              "#0d0887"
             ],
             [
              0.1111111111111111,
              "#46039f"
             ],
             [
              0.2222222222222222,
              "#7201a8"
             ],
             [
              0.3333333333333333,
              "#9c179e"
             ],
             [
              0.4444444444444444,
              "#bd3786"
             ],
             [
              0.5555555555555556,
              "#d8576b"
             ],
             [
              0.6666666666666666,
              "#ed7953"
             ],
             [
              0.7777777777777778,
              "#fb9f3a"
             ],
             [
              0.8888888888888888,
              "#fdca26"
             ],
             [
              1,
              "#f0f921"
             ]
            ],
            "type": "heatmapgl"
           }
          ],
          "histogram": [
           {
            "marker": {
             "pattern": {
              "fillmode": "overlay",
              "size": 10,
              "solidity": 0.2
             }
            },
            "type": "histogram"
           }
          ],
          "histogram2d": [
           {
            "colorbar": {
             "outlinewidth": 0,
             "ticks": ""
            },
            "colorscale": [
             [
              0,
              "#0d0887"
             ],
             [
              0.1111111111111111,
              "#46039f"
             ],
             [
              0.2222222222222222,
              "#7201a8"
             ],
             [
              0.3333333333333333,
              "#9c179e"
             ],
             [
              0.4444444444444444,
              "#bd3786"
             ],
             [
              0.5555555555555556,
              "#d8576b"
             ],
             [
              0.6666666666666666,
              "#ed7953"
             ],
             [
              0.7777777777777778,
              "#fb9f3a"
             ],
             [
              0.8888888888888888,
              "#fdca26"
             ],
             [
              1,
              "#f0f921"
             ]
            ],
            "type": "histogram2d"
           }
          ],
          "histogram2dcontour": [
           {
            "colorbar": {
             "outlinewidth": 0,
             "ticks": ""
            },
            "colorscale": [
             [
              0,
              "#0d0887"
             ],
             [
              0.1111111111111111,
              "#46039f"
             ],
             [
              0.2222222222222222,
              "#7201a8"
             ],
             [
              0.3333333333333333,
              "#9c179e"
             ],
             [
              0.4444444444444444,
              "#bd3786"
             ],
             [
              0.5555555555555556,
              "#d8576b"
             ],
             [
              0.6666666666666666,
              "#ed7953"
             ],
             [
              0.7777777777777778,
              "#fb9f3a"
             ],
             [
              0.8888888888888888,
              "#fdca26"
             ],
             [
              1,
              "#f0f921"
             ]
            ],
            "type": "histogram2dcontour"
           }
          ],
          "mesh3d": [
           {
            "colorbar": {
             "outlinewidth": 0,
             "ticks": ""
            },
            "type": "mesh3d"
           }
          ],
          "parcoords": [
           {
            "line": {
             "colorbar": {
              "outlinewidth": 0,
              "ticks": ""
             }
            },
            "type": "parcoords"
           }
          ],
          "pie": [
           {
            "automargin": true,
            "type": "pie"
           }
          ],
          "scatter": [
           {
            "fillpattern": {
             "fillmode": "overlay",
             "size": 10,
             "solidity": 0.2
            },
            "type": "scatter"
           }
          ],
          "scatter3d": [
           {
            "line": {
             "colorbar": {
              "outlinewidth": 0,
              "ticks": ""
             }
            },
            "marker": {
             "colorbar": {
              "outlinewidth": 0,
              "ticks": ""
             }
            },
            "type": "scatter3d"
           }
          ],
          "scattercarpet": [
           {
            "marker": {
             "colorbar": {
              "outlinewidth": 0,
              "ticks": ""
             }
            },
            "type": "scattercarpet"
           }
          ],
          "scattergeo": [
           {
            "marker": {
             "colorbar": {
              "outlinewidth": 0,
              "ticks": ""
             }
            },
            "type": "scattergeo"
           }
          ],
          "scattergl": [
           {
            "marker": {
             "colorbar": {
              "outlinewidth": 0,
              "ticks": ""
             }
            },
            "type": "scattergl"
           }
          ],
          "scattermapbox": [
           {
            "marker": {
             "colorbar": {
              "outlinewidth": 0,
              "ticks": ""
             }
            },
            "type": "scattermapbox"
           }
          ],
          "scatterpolar": [
           {
            "marker": {
             "colorbar": {
              "outlinewidth": 0,
              "ticks": ""
             }
            },
            "type": "scatterpolar"
           }
          ],
          "scatterpolargl": [
           {
            "marker": {
             "colorbar": {
              "outlinewidth": 0,
              "ticks": ""
             }
            },
            "type": "scatterpolargl"
           }
          ],
          "scatterternary": [
           {
            "marker": {
             "colorbar": {
              "outlinewidth": 0,
              "ticks": ""
             }
            },
            "type": "scatterternary"
           }
          ],
          "surface": [
           {
            "colorbar": {
             "outlinewidth": 0,
             "ticks": ""
            },
            "colorscale": [
             [
              0,
              "#0d0887"
             ],
             [
              0.1111111111111111,
              "#46039f"
             ],
             [
              0.2222222222222222,
              "#7201a8"
             ],
             [
              0.3333333333333333,
              "#9c179e"
             ],
             [
              0.4444444444444444,
              "#bd3786"
             ],
             [
              0.5555555555555556,
              "#d8576b"
             ],
             [
              0.6666666666666666,
              "#ed7953"
             ],
             [
              0.7777777777777778,
              "#fb9f3a"
             ],
             [
              0.8888888888888888,
              "#fdca26"
             ],
             [
              1,
              "#f0f921"
             ]
            ],
            "type": "surface"
           }
          ],
          "table": [
           {
            "cells": {
             "fill": {
              "color": "#EBF0F8"
             },
             "line": {
              "color": "white"
             }
            },
            "header": {
             "fill": {
              "color": "#C8D4E3"
             },
             "line": {
              "color": "white"
             }
            },
            "type": "table"
           }
          ]
         },
         "layout": {
          "annotationdefaults": {
           "arrowcolor": "#2a3f5f",
           "arrowhead": 0,
           "arrowwidth": 1
          },
          "autotypenumbers": "strict",
          "coloraxis": {
           "colorbar": {
            "outlinewidth": 0,
            "ticks": ""
           }
          },
          "colorscale": {
           "diverging": [
            [
             0,
             "#8e0152"
            ],
            [
             0.1,
             "#c51b7d"
            ],
            [
             0.2,
             "#de77ae"
            ],
            [
             0.3,
             "#f1b6da"
            ],
            [
             0.4,
             "#fde0ef"
            ],
            [
             0.5,
             "#f7f7f7"
            ],
            [
             0.6,
             "#e6f5d0"
            ],
            [
             0.7,
             "#b8e186"
            ],
            [
             0.8,
             "#7fbc41"
            ],
            [
             0.9,
             "#4d9221"
            ],
            [
             1,
             "#276419"
            ]
           ],
           "sequential": [
            [
             0,
             "#0d0887"
            ],
            [
             0.1111111111111111,
             "#46039f"
            ],
            [
             0.2222222222222222,
             "#7201a8"
            ],
            [
             0.3333333333333333,
             "#9c179e"
            ],
            [
             0.4444444444444444,
             "#bd3786"
            ],
            [
             0.5555555555555556,
             "#d8576b"
            ],
            [
             0.6666666666666666,
             "#ed7953"
            ],
            [
             0.7777777777777778,
             "#fb9f3a"
            ],
            [
             0.8888888888888888,
             "#fdca26"
            ],
            [
             1,
             "#f0f921"
            ]
           ],
           "sequentialminus": [
            [
             0,
             "#0d0887"
            ],
            [
             0.1111111111111111,
             "#46039f"
            ],
            [
             0.2222222222222222,
             "#7201a8"
            ],
            [
             0.3333333333333333,
             "#9c179e"
            ],
            [
             0.4444444444444444,
             "#bd3786"
            ],
            [
             0.5555555555555556,
             "#d8576b"
            ],
            [
             0.6666666666666666,
             "#ed7953"
            ],
            [
             0.7777777777777778,
             "#fb9f3a"
            ],
            [
             0.8888888888888888,
             "#fdca26"
            ],
            [
             1,
             "#f0f921"
            ]
           ]
          },
          "colorway": [
           "#636efa",
           "#EF553B",
           "#00cc96",
           "#ab63fa",
           "#FFA15A",
           "#19d3f3",
           "#FF6692",
           "#B6E880",
           "#FF97FF",
           "#FECB52"
          ],
          "font": {
           "color": "#2a3f5f"
          },
          "geo": {
           "bgcolor": "white",
           "lakecolor": "white",
           "landcolor": "#E5ECF6",
           "showlakes": true,
           "showland": true,
           "subunitcolor": "white"
          },
          "hoverlabel": {
           "align": "left"
          },
          "hovermode": "closest",
          "mapbox": {
           "style": "light"
          },
          "paper_bgcolor": "white",
          "plot_bgcolor": "#E5ECF6",
          "polar": {
           "angularaxis": {
            "gridcolor": "white",
            "linecolor": "white",
            "ticks": ""
           },
           "bgcolor": "#E5ECF6",
           "radialaxis": {
            "gridcolor": "white",
            "linecolor": "white",
            "ticks": ""
           }
          },
          "scene": {
           "xaxis": {
            "backgroundcolor": "#E5ECF6",
            "gridcolor": "white",
            "gridwidth": 2,
            "linecolor": "white",
            "showbackground": true,
            "ticks": "",
            "zerolinecolor": "white"
           },
           "yaxis": {
            "backgroundcolor": "#E5ECF6",
            "gridcolor": "white",
            "gridwidth": 2,
            "linecolor": "white",
            "showbackground": true,
            "ticks": "",
            "zerolinecolor": "white"
           },
           "zaxis": {
            "backgroundcolor": "#E5ECF6",
            "gridcolor": "white",
            "gridwidth": 2,
            "linecolor": "white",
            "showbackground": true,
            "ticks": "",
            "zerolinecolor": "white"
           }
          },
          "shapedefaults": {
           "line": {
            "color": "#2a3f5f"
           }
          },
          "ternary": {
           "aaxis": {
            "gridcolor": "white",
            "linecolor": "white",
            "ticks": ""
           },
           "baxis": {
            "gridcolor": "white",
            "linecolor": "white",
            "ticks": ""
           },
           "bgcolor": "#E5ECF6",
           "caxis": {
            "gridcolor": "white",
            "linecolor": "white",
            "ticks": ""
           }
          },
          "title": {
           "x": 0.05
          },
          "xaxis": {
           "automargin": true,
           "gridcolor": "white",
           "linecolor": "white",
           "ticks": "",
           "title": {
            "standoff": 15
           },
           "zerolinecolor": "white",
           "zerolinewidth": 2
          },
          "yaxis": {
           "automargin": true,
           "gridcolor": "white",
           "linecolor": "white",
           "ticks": "",
           "title": {
            "standoff": 15
           },
           "zerolinecolor": "white",
           "zerolinewidth": 2
          }
         }
        },
        "title": {
         "text": "Top 20 countries"
        },
        "xaxis": {
         "anchor": "y",
         "domain": [
          0,
          1
         ],
         "title": {
          "text": "Total amount"
         }
        },
        "yaxis": {
         "anchor": "x",
         "domain": [
          0,
          1
         ],
         "title": {
          "text": "organization_city"
         }
        }
       }
      }
     },
     "metadata": {},
     "output_type": "display_data"
    }
   ],
   "source": [
    "fig = px.bar(top20_organizations_cities, x='prize', y='organization_city', color='prize', orientation='h', title='Top 20 countries', labels={'prize':'Total amount', 'birth_country_current':'Country'})\n",
    "\n",
    "fig.show()"
   ]
  },
  {
   "cell_type": "code",
   "execution_count": 136,
   "metadata": {},
   "outputs": [
    {
     "data": {
      "application/vnd.plotly.v1+json": {
       "config": {
        "plotlyServerURL": "https://plot.ly"
       },
       "data": [
        {
         "domain": {
          "x": [
           0,
           1
          ],
          "y": [
           0,
           1
          ]
         },
         "hovertemplate": "birth_country_current=%{label}<br>prize=%{value}<extra></extra>",
         "labels": [
          "United States of America",
          "United Kingdom",
          "Germany",
          "France",
          "Sweden",
          "Japan",
          "Poland",
          "Russia",
          "Canada",
          "Switzerland",
          "Italy",
          "Austria",
          "Netherlands",
          "Denmark",
          "China",
          "Norway",
          "Australia",
          "Belgium",
          "India",
          "South Africa"
         ],
         "legendgroup": "",
         "name": "",
         "showlegend": true,
         "type": "pie",
         "values": [
          281,
          105,
          84,
          57,
          29,
          27,
          27,
          26,
          20,
          19,
          19,
          18,
          18,
          12,
          12,
          12,
          10,
          9,
          9,
          9
         ]
        }
       ],
       "layout": {
        "legend": {
         "tracegroupgap": 0
        },
        "margin": {
         "t": 60
        },
        "template": {
         "data": {
          "bar": [
           {
            "error_x": {
             "color": "#2a3f5f"
            },
            "error_y": {
             "color": "#2a3f5f"
            },
            "marker": {
             "line": {
              "color": "#E5ECF6",
              "width": 0.5
             },
             "pattern": {
              "fillmode": "overlay",
              "size": 10,
              "solidity": 0.2
             }
            },
            "type": "bar"
           }
          ],
          "barpolar": [
           {
            "marker": {
             "line": {
              "color": "#E5ECF6",
              "width": 0.5
             },
             "pattern": {
              "fillmode": "overlay",
              "size": 10,
              "solidity": 0.2
             }
            },
            "type": "barpolar"
           }
          ],
          "carpet": [
           {
            "aaxis": {
             "endlinecolor": "#2a3f5f",
             "gridcolor": "white",
             "linecolor": "white",
             "minorgridcolor": "white",
             "startlinecolor": "#2a3f5f"
            },
            "baxis": {
             "endlinecolor": "#2a3f5f",
             "gridcolor": "white",
             "linecolor": "white",
             "minorgridcolor": "white",
             "startlinecolor": "#2a3f5f"
            },
            "type": "carpet"
           }
          ],
          "choropleth": [
           {
            "colorbar": {
             "outlinewidth": 0,
             "ticks": ""
            },
            "type": "choropleth"
           }
          ],
          "contour": [
           {
            "colorbar": {
             "outlinewidth": 0,
             "ticks": ""
            },
            "colorscale": [
             [
              0,
              "#0d0887"
             ],
             [
              0.1111111111111111,
              "#46039f"
             ],
             [
              0.2222222222222222,
              "#7201a8"
             ],
             [
              0.3333333333333333,
              "#9c179e"
             ],
             [
              0.4444444444444444,
              "#bd3786"
             ],
             [
              0.5555555555555556,
              "#d8576b"
             ],
             [
              0.6666666666666666,
              "#ed7953"
             ],
             [
              0.7777777777777778,
              "#fb9f3a"
             ],
             [
              0.8888888888888888,
              "#fdca26"
             ],
             [
              1,
              "#f0f921"
             ]
            ],
            "type": "contour"
           }
          ],
          "contourcarpet": [
           {
            "colorbar": {
             "outlinewidth": 0,
             "ticks": ""
            },
            "type": "contourcarpet"
           }
          ],
          "heatmap": [
           {
            "colorbar": {
             "outlinewidth": 0,
             "ticks": ""
            },
            "colorscale": [
             [
              0,
              "#0d0887"
             ],
             [
              0.1111111111111111,
              "#46039f"
             ],
             [
              0.2222222222222222,
              "#7201a8"
             ],
             [
              0.3333333333333333,
              "#9c179e"
             ],
             [
              0.4444444444444444,
              "#bd3786"
             ],
             [
              0.5555555555555556,
              "#d8576b"
             ],
             [
              0.6666666666666666,
              "#ed7953"
             ],
             [
              0.7777777777777778,
              "#fb9f3a"
             ],
             [
              0.8888888888888888,
              "#fdca26"
             ],
             [
              1,
              "#f0f921"
             ]
            ],
            "type": "heatmap"
           }
          ],
          "heatmapgl": [
           {
            "colorbar": {
             "outlinewidth": 0,
             "ticks": ""
            },
            "colorscale": [
             [
              0,
              "#0d0887"
             ],
             [
              0.1111111111111111,
              "#46039f"
             ],
             [
              0.2222222222222222,
              "#7201a8"
             ],
             [
              0.3333333333333333,
              "#9c179e"
             ],
             [
              0.4444444444444444,
              "#bd3786"
             ],
             [
              0.5555555555555556,
              "#d8576b"
             ],
             [
              0.6666666666666666,
              "#ed7953"
             ],
             [
              0.7777777777777778,
              "#fb9f3a"
             ],
             [
              0.8888888888888888,
              "#fdca26"
             ],
             [
              1,
              "#f0f921"
             ]
            ],
            "type": "heatmapgl"
           }
          ],
          "histogram": [
           {
            "marker": {
             "pattern": {
              "fillmode": "overlay",
              "size": 10,
              "solidity": 0.2
             }
            },
            "type": "histogram"
           }
          ],
          "histogram2d": [
           {
            "colorbar": {
             "outlinewidth": 0,
             "ticks": ""
            },
            "colorscale": [
             [
              0,
              "#0d0887"
             ],
             [
              0.1111111111111111,
              "#46039f"
             ],
             [
              0.2222222222222222,
              "#7201a8"
             ],
             [
              0.3333333333333333,
              "#9c179e"
             ],
             [
              0.4444444444444444,
              "#bd3786"
             ],
             [
              0.5555555555555556,
              "#d8576b"
             ],
             [
              0.6666666666666666,
              "#ed7953"
             ],
             [
              0.7777777777777778,
              "#fb9f3a"
             ],
             [
              0.8888888888888888,
              "#fdca26"
             ],
             [
              1,
              "#f0f921"
             ]
            ],
            "type": "histogram2d"
           }
          ],
          "histogram2dcontour": [
           {
            "colorbar": {
             "outlinewidth": 0,
             "ticks": ""
            },
            "colorscale": [
             [
              0,
              "#0d0887"
             ],
             [
              0.1111111111111111,
              "#46039f"
             ],
             [
              0.2222222222222222,
              "#7201a8"
             ],
             [
              0.3333333333333333,
              "#9c179e"
             ],
             [
              0.4444444444444444,
              "#bd3786"
             ],
             [
              0.5555555555555556,
              "#d8576b"
             ],
             [
              0.6666666666666666,
              "#ed7953"
             ],
             [
              0.7777777777777778,
              "#fb9f3a"
             ],
             [
              0.8888888888888888,
              "#fdca26"
             ],
             [
              1,
              "#f0f921"
             ]
            ],
            "type": "histogram2dcontour"
           }
          ],
          "mesh3d": [
           {
            "colorbar": {
             "outlinewidth": 0,
             "ticks": ""
            },
            "type": "mesh3d"
           }
          ],
          "parcoords": [
           {
            "line": {
             "colorbar": {
              "outlinewidth": 0,
              "ticks": ""
             }
            },
            "type": "parcoords"
           }
          ],
          "pie": [
           {
            "automargin": true,
            "type": "pie"
           }
          ],
          "scatter": [
           {
            "fillpattern": {
             "fillmode": "overlay",
             "size": 10,
             "solidity": 0.2
            },
            "type": "scatter"
           }
          ],
          "scatter3d": [
           {
            "line": {
             "colorbar": {
              "outlinewidth": 0,
              "ticks": ""
             }
            },
            "marker": {
             "colorbar": {
              "outlinewidth": 0,
              "ticks": ""
             }
            },
            "type": "scatter3d"
           }
          ],
          "scattercarpet": [
           {
            "marker": {
             "colorbar": {
              "outlinewidth": 0,
              "ticks": ""
             }
            },
            "type": "scattercarpet"
           }
          ],
          "scattergeo": [
           {
            "marker": {
             "colorbar": {
              "outlinewidth": 0,
              "ticks": ""
             }
            },
            "type": "scattergeo"
           }
          ],
          "scattergl": [
           {
            "marker": {
             "colorbar": {
              "outlinewidth": 0,
              "ticks": ""
             }
            },
            "type": "scattergl"
           }
          ],
          "scattermapbox": [
           {
            "marker": {
             "colorbar": {
              "outlinewidth": 0,
              "ticks": ""
             }
            },
            "type": "scattermapbox"
           }
          ],
          "scatterpolar": [
           {
            "marker": {
             "colorbar": {
              "outlinewidth": 0,
              "ticks": ""
             }
            },
            "type": "scatterpolar"
           }
          ],
          "scatterpolargl": [
           {
            "marker": {
             "colorbar": {
              "outlinewidth": 0,
              "ticks": ""
             }
            },
            "type": "scatterpolargl"
           }
          ],
          "scatterternary": [
           {
            "marker": {
             "colorbar": {
              "outlinewidth": 0,
              "ticks": ""
             }
            },
            "type": "scatterternary"
           }
          ],
          "surface": [
           {
            "colorbar": {
             "outlinewidth": 0,
             "ticks": ""
            },
            "colorscale": [
             [
              0,
              "#0d0887"
             ],
             [
              0.1111111111111111,
              "#46039f"
             ],
             [
              0.2222222222222222,
              "#7201a8"
             ],
             [
              0.3333333333333333,
              "#9c179e"
             ],
             [
              0.4444444444444444,
              "#bd3786"
             ],
             [
              0.5555555555555556,
              "#d8576b"
             ],
             [
              0.6666666666666666,
              "#ed7953"
             ],
             [
              0.7777777777777778,
              "#fb9f3a"
             ],
             [
              0.8888888888888888,
              "#fdca26"
             ],
             [
              1,
              "#f0f921"
             ]
            ],
            "type": "surface"
           }
          ],
          "table": [
           {
            "cells": {
             "fill": {
              "color": "#EBF0F8"
             },
             "line": {
              "color": "white"
             }
            },
            "header": {
             "fill": {
              "color": "#C8D4E3"
             },
             "line": {
              "color": "white"
             }
            },
            "type": "table"
           }
          ]
         },
         "layout": {
          "annotationdefaults": {
           "arrowcolor": "#2a3f5f",
           "arrowhead": 0,
           "arrowwidth": 1
          },
          "autotypenumbers": "strict",
          "coloraxis": {
           "colorbar": {
            "outlinewidth": 0,
            "ticks": ""
           }
          },
          "colorscale": {
           "diverging": [
            [
             0,
             "#8e0152"
            ],
            [
             0.1,
             "#c51b7d"
            ],
            [
             0.2,
             "#de77ae"
            ],
            [
             0.3,
             "#f1b6da"
            ],
            [
             0.4,
             "#fde0ef"
            ],
            [
             0.5,
             "#f7f7f7"
            ],
            [
             0.6,
             "#e6f5d0"
            ],
            [
             0.7,
             "#b8e186"
            ],
            [
             0.8,
             "#7fbc41"
            ],
            [
             0.9,
             "#4d9221"
            ],
            [
             1,
             "#276419"
            ]
           ],
           "sequential": [
            [
             0,
             "#0d0887"
            ],
            [
             0.1111111111111111,
             "#46039f"
            ],
            [
             0.2222222222222222,
             "#7201a8"
            ],
            [
             0.3333333333333333,
             "#9c179e"
            ],
            [
             0.4444444444444444,
             "#bd3786"
            ],
            [
             0.5555555555555556,
             "#d8576b"
            ],
            [
             0.6666666666666666,
             "#ed7953"
            ],
            [
             0.7777777777777778,
             "#fb9f3a"
            ],
            [
             0.8888888888888888,
             "#fdca26"
            ],
            [
             1,
             "#f0f921"
            ]
           ],
           "sequentialminus": [
            [
             0,
             "#0d0887"
            ],
            [
             0.1111111111111111,
             "#46039f"
            ],
            [
             0.2222222222222222,
             "#7201a8"
            ],
            [
             0.3333333333333333,
             "#9c179e"
            ],
            [
             0.4444444444444444,
             "#bd3786"
            ],
            [
             0.5555555555555556,
             "#d8576b"
            ],
            [
             0.6666666666666666,
             "#ed7953"
            ],
            [
             0.7777777777777778,
             "#fb9f3a"
            ],
            [
             0.8888888888888888,
             "#fdca26"
            ],
            [
             1,
             "#f0f921"
            ]
           ]
          },
          "colorway": [
           "#636efa",
           "#EF553B",
           "#00cc96",
           "#ab63fa",
           "#FFA15A",
           "#19d3f3",
           "#FF6692",
           "#B6E880",
           "#FF97FF",
           "#FECB52"
          ],
          "font": {
           "color": "#2a3f5f"
          },
          "geo": {
           "bgcolor": "white",
           "lakecolor": "white",
           "landcolor": "#E5ECF6",
           "showlakes": true,
           "showland": true,
           "subunitcolor": "white"
          },
          "hoverlabel": {
           "align": "left"
          },
          "hovermode": "closest",
          "mapbox": {
           "style": "light"
          },
          "paper_bgcolor": "white",
          "plot_bgcolor": "#E5ECF6",
          "polar": {
           "angularaxis": {
            "gridcolor": "white",
            "linecolor": "white",
            "ticks": ""
           },
           "bgcolor": "#E5ECF6",
           "radialaxis": {
            "gridcolor": "white",
            "linecolor": "white",
            "ticks": ""
           }
          },
          "scene": {
           "xaxis": {
            "backgroundcolor": "#E5ECF6",
            "gridcolor": "white",
            "gridwidth": 2,
            "linecolor": "white",
            "showbackground": true,
            "ticks": "",
            "zerolinecolor": "white"
           },
           "yaxis": {
            "backgroundcolor": "#E5ECF6",
            "gridcolor": "white",
            "gridwidth": 2,
            "linecolor": "white",
            "showbackground": true,
            "ticks": "",
            "zerolinecolor": "white"
           },
           "zaxis": {
            "backgroundcolor": "#E5ECF6",
            "gridcolor": "white",
            "gridwidth": 2,
            "linecolor": "white",
            "showbackground": true,
            "ticks": "",
            "zerolinecolor": "white"
           }
          },
          "shapedefaults": {
           "line": {
            "color": "#2a3f5f"
           }
          },
          "ternary": {
           "aaxis": {
            "gridcolor": "white",
            "linecolor": "white",
            "ticks": ""
           },
           "baxis": {
            "gridcolor": "white",
            "linecolor": "white",
            "ticks": ""
           },
           "bgcolor": "#E5ECF6",
           "caxis": {
            "gridcolor": "white",
            "linecolor": "white",
            "ticks": ""
           }
          },
          "title": {
           "x": 0.05
          },
          "xaxis": {
           "automargin": true,
           "gridcolor": "white",
           "linecolor": "white",
           "ticks": "",
           "title": {
            "standoff": 15
           },
           "zerolinecolor": "white",
           "zerolinewidth": 2
          },
          "yaxis": {
           "automargin": true,
           "gridcolor": "white",
           "linecolor": "white",
           "ticks": "",
           "title": {
            "standoff": 15
           },
           "zerolinecolor": "white",
           "zerolinewidth": 2
          }
         }
        }
       }
      }
     },
     "metadata": {},
     "output_type": "display_data"
    }
   ],
   "source": [
    "fig = px.pie(top20, values='prize', names='birth_country_current')\n",
    "fig.show()"
   ]
  },
  {
   "cell_type": "code",
   "execution_count": 138,
   "metadata": {},
   "outputs": [
    {
     "data": {
      "text/html": [
       "<div>\n",
       "<style scoped>\n",
       "    .dataframe tbody tr th:only-of-type {\n",
       "        vertical-align: middle;\n",
       "    }\n",
       "\n",
       "    .dataframe tbody tr th {\n",
       "        vertical-align: top;\n",
       "    }\n",
       "\n",
       "    .dataframe thead th {\n",
       "        text-align: right;\n",
       "    }\n",
       "</style>\n",
       "<table border=\"1\" class=\"dataframe\">\n",
       "  <thead>\n",
       "    <tr style=\"text-align: right;\">\n",
       "      <th></th>\n",
       "      <th>organization_country</th>\n",
       "      <th>organization_city</th>\n",
       "      <th>organization_name</th>\n",
       "      <th>prize</th>\n",
       "    </tr>\n",
       "  </thead>\n",
       "  <tbody>\n",
       "    <tr>\n",
       "      <th>205</th>\n",
       "      <td>United States of America</td>\n",
       "      <td>Cambridge, MA</td>\n",
       "      <td>Harvard University</td>\n",
       "      <td>29</td>\n",
       "    </tr>\n",
       "    <tr>\n",
       "      <th>280</th>\n",
       "      <td>United States of America</td>\n",
       "      <td>Stanford, CA</td>\n",
       "      <td>Stanford University</td>\n",
       "      <td>23</td>\n",
       "    </tr>\n",
       "    <tr>\n",
       "      <th>206</th>\n",
       "      <td>United States of America</td>\n",
       "      <td>Cambridge, MA</td>\n",
       "      <td>Massachusetts Institute of Technology (MIT)</td>\n",
       "      <td>21</td>\n",
       "    </tr>\n",
       "    <tr>\n",
       "      <th>209</th>\n",
       "      <td>United States of America</td>\n",
       "      <td>Chicago, IL</td>\n",
       "      <td>University of Chicago</td>\n",
       "      <td>20</td>\n",
       "    </tr>\n",
       "    <tr>\n",
       "      <th>195</th>\n",
       "      <td>United States of America</td>\n",
       "      <td>Berkeley, CA</td>\n",
       "      <td>University of California</td>\n",
       "      <td>19</td>\n",
       "    </tr>\n",
       "    <tr>\n",
       "      <th>...</th>\n",
       "      <td>...</td>\n",
       "      <td>...</td>\n",
       "      <td>...</td>\n",
       "      <td>...</td>\n",
       "    </tr>\n",
       "    <tr>\n",
       "      <th>110</th>\n",
       "      <td>Japan</td>\n",
       "      <td>Sapporo</td>\n",
       "      <td>Hokkaido University</td>\n",
       "      <td>1</td>\n",
       "    </tr>\n",
       "    <tr>\n",
       "      <th>111</th>\n",
       "      <td>Japan</td>\n",
       "      <td>Tokyo</td>\n",
       "      <td>Asahi Kasei Corporation</td>\n",
       "      <td>1</td>\n",
       "    </tr>\n",
       "    <tr>\n",
       "      <th>112</th>\n",
       "      <td>Japan</td>\n",
       "      <td>Tokyo</td>\n",
       "      <td>Kitasato University</td>\n",
       "      <td>1</td>\n",
       "    </tr>\n",
       "    <tr>\n",
       "      <th>113</th>\n",
       "      <td>Japan</td>\n",
       "      <td>Tokyo</td>\n",
       "      <td>Tokyo Institute of Technology</td>\n",
       "      <td>1</td>\n",
       "    </tr>\n",
       "    <tr>\n",
       "      <th>290</th>\n",
       "      <td>United States of America</td>\n",
       "      <td>Yorktown Heights, NY</td>\n",
       "      <td>IBM Thomas J. Watson Research Center</td>\n",
       "      <td>1</td>\n",
       "    </tr>\n",
       "  </tbody>\n",
       "</table>\n",
       "<p>291 rows × 4 columns</p>\n",
       "</div>"
      ],
      "text/plain": [
       "         organization_country     organization_city  \\\n",
       "205  United States of America         Cambridge, MA   \n",
       "280  United States of America          Stanford, CA   \n",
       "206  United States of America         Cambridge, MA   \n",
       "209  United States of America           Chicago, IL   \n",
       "195  United States of America          Berkeley, CA   \n",
       "..                        ...                   ...   \n",
       "110                     Japan               Sapporo   \n",
       "111                     Japan                 Tokyo   \n",
       "112                     Japan                 Tokyo   \n",
       "113                     Japan                 Tokyo   \n",
       "290  United States of America  Yorktown Heights, NY   \n",
       "\n",
       "                               organization_name  prize  \n",
       "205                           Harvard University     29  \n",
       "280                          Stanford University     23  \n",
       "206  Massachusetts Institute of Technology (MIT)     21  \n",
       "209                        University of Chicago     20  \n",
       "195                     University of California     19  \n",
       "..                                           ...    ...  \n",
       "110                          Hokkaido University      1  \n",
       "111                      Asahi Kasei Corporation      1  \n",
       "112                          Kitasato University      1  \n",
       "113                Tokyo Institute of Technology      1  \n",
       "290         IBM Thomas J. Watson Research Center      1  \n",
       "\n",
       "[291 rows x 4 columns]"
      ]
     },
     "execution_count": 138,
     "metadata": {},
     "output_type": "execute_result"
    }
   ],
   "source": [
    "#Sunburst chart\n",
    "df = data.groupby(by=['organization_country', 'organization_city', 'organization_name'], as_index=False).agg({'prize':pd.Series.count})\n",
    "df = df.sort_values('prize', ascending=False)\n",
    "df"
   ]
  },
  {
   "cell_type": "code",
   "execution_count": 140,
   "metadata": {},
   "outputs": [
    {
     "data": {
      "application/vnd.plotly.v1+json": {
       "config": {
        "plotlyServerURL": "https://plot.ly"
       },
       "data": [
        {
         "branchvalues": "total",
         "domain": {
          "x": [
           0,
           1
          ],
          "y": [
           0,
           1
          ]
         },
         "hovertemplate": "labels=%{label}<br>prize=%{value}<br>parent=%{parent}<br>id=%{id}<extra></extra>",
         "ids": [
          "Russia/St. Petersburg/A.F. Ioffe Physico-Technical Institute",
          "Denmark/Aarhus/Aarhus University",
          "Russia/Moscow/Academy of Sciences",
          "Netherlands/Amsterdam/Amsterdam University",
          "United States of America/Argonne, IL/Argonne National Laboratory",
          "United States of America/Tempe, AZ/Arizona State University",
          "Japan/Tokyo/Asahi Kasei Corporation",
          "United States of America/Washington, DC/Associated Universities Inc.",
          "United Kingdom/Harwell, Berkshire/Atomic Energy Research Establishment",
          "Australia/Canberra/Australian National University",
          "Australia/Weston Creek/Australian National University",
          "Switzerland/Basel/Basel Institute for Immunology",
          "Switzerland/Basel/Basel University",
          "United States of America/Holmdel, NJ/Bell Laboratories",
          "United States of America/Murray Hill, NJ/Bell Laboratories",
          "United States of America/New York, NY/Bell Laboratories",
          "Germany/Berlin/Berlin University",
          "Switzerland/Berne/Berne University",
          "United States of America/New York, NY/Binghamton University State University of New York",
          "Switzerland/Basel/Biozentrum der Universität",
          "United Kingdom/Birmingham/Birmingham University",
          "United States of America/Waltham MA/Brandeis University",
          "United States of America/Boston, MA/Brigham and Women's Hospital",
          "United Kingdom/Bristol/Bristol University",
          "United States of America/Providence, RI/Brown University",
          "Belgium/Brussels/Brussels University",
          "France/Sèvres/Bureau International des Poids et Mesures (International Bureau of Weights and Measures)",
          "Switzerland/Geneva/CERN",
          "India/Calcutta/Calcutta University",
          "United States of America/Pasadena, CA/California Institute of Technology (Caltech)",
          "United Kingdom/Cardiff/Cardiff University",
          "United States of America/New York, NY/Carnegie Institution of Washington",
          "United States of America/Pittsburgh, PA/Carnegie Mellon University",
          "United States of America/Fairfax, VA/Center for Study of Public Choice",
          "United Kingdom/London/Central Research Laboratories, EMI",
          "United States of America/Boston, MA/Children's Medical Center",
          "China/Beijing/China Academy of Traditional Chinese Medicine",
          "United States of America/New York, NY/City University of New York",
          "United States of America/Cold Spring Harbor, NY/Cold Spring Harbor Laboratory",
          "France/Paris/Collège de France",
          "Germany/Cologne/Cologne University",
          "United States of America/New York, NY/Columbia University",
          "Denmark/Copenhagen/Copenhagen University",
          "United States of America/Ithaca, NY/Cornell University",
          "United Kingdom/London/Department of Scientific and Industrial Research",
          "United States of America/Mountain View, CA/Digital Pathways, Inc.",
          "United States of America/Madison, NJ/Drew University",
          "United States of America/Wilmington, DE/Du Pont",
          "United Kingdom/Edinburgh/Edinburgh University",
          "Switzerland/Zurich/Eidgenössische Technische Hochschule (Swiss Federal Institute of Technology)",
          "United States of America/Batavia, IL/Fermi National Accelerator Laboratory",
          "Denmark/Copenhagen/Finsen Medical Light Institute",
          "Germany/J&uuml;lich/Forschungszentrum J&uuml;lich",
          "United Kingdom/Hertfordshire/Francis Crick Institute",
          "Germany/Frankfurt-on-the-Main/Frankfurt-on-the-Main University",
          "United States of America/Seattle, WA/Fred Hutchinson Cancer Research Center",
          "Germany/Berlin-Dahlem/Fritz-Haber-Institut",
          "Germany/Berlin/Fritz-Haber-Institut der Max-Planck-Gesellschaft",
          "United States of America/Schenectady, NY/General Electric Company",
          "United States of America/Fairfax, VA/George Mason University",
          "Germany/Heidelberg/German Cancer Research Center",
          "Belgium/Ghent/Ghent University",
          "United Kingdom/Bodmin/Glynn Research Laboratories",
          "Germany/Göttingen/Goettingen University",
          "Austria/Graz/Graz University",
          "Germany/Greifswald/Greifswald University",
          "Netherlands/Groningen/Groningen University",
          "United Kingdom/Cambridge/Gurdon Institute",
          "Sweden/Gothenburg/Göteborg University",
          "Germany/Halle/Halle University",
          "United States of America/Boston, MA/Harvard Medical School",
          "United States of America/Cambridge, MA/Harvard University",
          "Japan/Tsukuba/High Energy Accelerator Research Organization (KEK)",
          "Japan/Sapporo/Hokkaido University",
          "United States of America/Chevy Chase/Howard Hughes Medical Institute",
          "United States of America/Durham, NC/Howard Hughes Medical Institute",
          "United States of America/Yorktown Heights, NY/IBM Thomas J. Watson Research Center",
          "Switzerland/Rüschlikon/IBM Zurich Research Laboratory",
          "United Kingdom/London/Imperial Cancer Research Fund",
          "United Kingdom/London/Imperial College",
          "United States of America/Bloomington, IN/Indiana University",
          "Austria/Innsbruck/Innsbruck University",
          "France/Rueil-Malmaison/Institut Français du Pétrole",
          "France/Paris/Institut Pasteur",
          "Tunisia/Tunis/Institut Pasteur",
          "France/Paris/Institut du Radium",
          "United States of America/Princeton, NJ/Institute for Advanced Study",
          "Argentina/Buenos Aires/Institute for Biochemical Research",
          "Russia/Moscow/Institute for Chemical Physics of the Academy of Sciences of the USSR",
          "Germany/Berlin/Institute for Infectious Diseases",
          "Italy/Rome/Institute of Cell Biology of the C.N.R.",
          "United Kingdom/Cambridge/Institute of Physical Chemistry",
          "Italy/Milan/Institute of Technology",
          "Argentina/Buenos Aires/Instituto de Biologia y Medicina Experimental (Institute for Biology and Experimental Medicine)",
          "Italy/Trieste/International Centre for Theoretical Physics",
          "Italy/Rome/Istituto Superiore di Sanità (Chief Institute of Public Health)",
          "United States of America/Bar Harbor, ME/Jackson Laboratory",
          "United States of America/Ashburn, VA/Janelia Research Campus, Howard Hughes Medical Institute",
          "United States of America/Baltimore, MD/Johns Hopkins University",
          "Sweden/Stockholm/Karolinska Institutet",
          "Germany/Kiel/Kiel University",
          "Japan/Tokyo/Kitasato University",
          "Austria/Altenberg; Grünau im Almtal/Konrad-Lorenz-Institut der Österreichischen Akademie der Wissen­schaften, Forschungsstelle für Ethologie",
          "Japan/Kyoto/Kyoto Sangyo University",
          "Japan/Kyoto/Kyoto University",
          "United States of America/New York, NY/Laboratories of the Division of Medicine and Public Health, Rockefeller Foundation",
          "Switzerland/Basel/Laboratorium der Farben-Fabriken J.R. Geigy A.G. (Laboratory of the J.R. Geigy Dye-Factory Co.)",
          "Germany/Berlin/Landwirtschaftliche Hochschule (Agricultural College)",
          "United States of America/Berkeley, CA/Lawrence Berkeley National Laboratory",
          "Netherlands/Leiden/Leiden University",
          "Germany/Leipzig/Leipzig University",
          "United Kingdom/Liverpool/Liverpool University",
          "United Kingdom/London/London School of Economics and Political Science",
          "United Kingdom/London/London University",
          "United States of America/Greenwich, CT/Long Term Capital Management",
          "United Kingdom/Cambridge/MRC Laboratory of Molecular Biology",
          "Spain/Madrid/Madrid University",
          "Germany/Mainz/Mainz University",
          "Germany/Marburg/Marburg University",
          "United Kingdom/London/Marconi Wireless Telegraph Co. Ltd.",
          "United States of America/Woods Hole, MA/Marine Biological Laboratory (MBL)",
          "United States of America/Cambridge, MA/Massachusetts Institute of Technology (MIT)",
          "Germany/Berlin/Max-Planck Institut",
          "Germany/Berlin-Dahlem/Max-Planck Institut",
          "Germany/Heidelberg/Max-Planck Institut",
          "Germany/Berlin/Max-Planck-Institut",
          "Germany/Frankfurt-on-the-Main/Max-Planck-Institut",
          "Germany/Garching/Max-Planck-Institut",
          "Germany/Göttingen/Max-Planck-Institut",
          "Germany/Heidelberg/Max-Planck-Institut",
          "Germany/Mainz/Max-Planck-Institut",
          "Germany/Martinsried/Max-Planck-Institut",
          "Germany/Munich/Max-Planck-Institut",
          "Germany/Mülheim/Ruhr/Max-Planck-Institut",
          "Germany/Stuttgart/Max-Planck-Institut",
          "Germany/Tübingen/Max-Planck-Institut",
          "United States of America/Rochester, MN/Mayo Clinic",
          "Canada/Hamilton, Ontario/McMaster University",
          "Japan/Nagoya/Meijo University",
          "Russia/St. Petersburg/Military Medical Academy",
          "Germany/Munich/Munich University",
          "Germany/Munster/Munster University",
          "United States of America/Greenbelt, MD/NASA Goddard Space Flight Center",
          "Australia/Nedlands/NHMRC Helicobacter pylori Research Laboratory, QEII Medical Centre",
          "Japan/Nagoya/Nagoya University",
          "France/Nancy/Nancy University",
          "United Kingdom/London/National Institute for Medical Research",
          "United States of America/Research Triangle Park, NC/National Institute of Environmental Health Sciences",
          "United States of America/Boulder, CO/National Institute of Standards and Technology",
          "United States of America/Gaithersburg, MD/National Institute of Standards and Technology",
          "United States of America/Bethesda, MD/National Institutes of Health",
          "Canada/Ottawa/National Research Council of Canada",
          "United States of America/Beverly, MA/New England Biolabs",
          "United States of America/New York, NY/New York University",
          "Denmark/Copenhagen/Niels Bohr Institute",
          "Denmark/Copenhagen/Nordita",
          "United States of America/Evanston, IL/Northwestern University",
          "Norway/Trondheim/Norwegian University of Science and Technology (NTNU)",
          "Russia/Moscow/P.N. Lebedev Physical Institute",
          "United States of America/San Francisco, CA/Parker Institute for Cancer Immunotherapy",
          "Italy/Pavia/Pavia University",
          "Czech Republic/Prague/Polarographic Institute of the Czechoslovak Academy of Science",
          "Denmark/Copenhagen/Polytechnic Institute",
          "United States of America/Princeton, NJ/Princeton University",
          "United States of America/West Lafayette, IN/Purdue University",
          "Canada/Kingston/Queen's University",
          "Germany/Bonn/Rheinische Friedrich-Wilhelms-Universität",
          "United States of America/Houston, TX/Rice University",
          "United States of America/New York, NY/Rockefeller Institute for Medical Research",
          "United States of America/Princeton, NJ/Rockefeller Institute for Medical Research",
          "United States of America/New York, NY/Rockefeller University",
          "Italy/Rome/Rome University",
          "United Kingdom/Bucksburn (Scotland)/Rowett Research Institute",
          "Sweden/Stockholm/Royal Institute of Technology",
          "United Kingdom/London/Royal Institution of Great Britain",
          "United States of America/New Brunswick, NJ/Rutgers University",
          "United States of America/New York, NY/SUNY Health Science Center",
          "United States of America/St. Louis, MO/Saint Louis University",
          "United States of America/Mountain View, CA/Semiconductor Laboratory of Beckman Instruments, Inc.",
          "United Kingdom/Sheffield/Sheffield University",
          "Japan/Kyoto/Shimadzu Corp.",
          "France/Paris/Sorbonne University",
          "United States of America/Memphis, TN/St. Jude Children's Research Hospital",
          "United Kingdom/Harlow/Standard Telecommunication Laboratories",
          "United States of America/Stanford, CA/Stanford Linear Accelerator Center",
          "United States of America/Stanford, CA/Stanford University",
          "Sweden/Stockholm/Stockholm School of Economics",
          "Sweden/Stockholm/Stockholm University",
          "France/Strasbourg/Strasbourg University",
          "Sweden/Lidingö-Stockholm/Swedish Gas-Accumulator Co.",
          "Hungary/Szeged/Szeged University",
          "Germany/Munich/Technical University",
          "Israel/Haifa/Technion - Israel Institute of Technology",
          "Germany/Munich/Technische Hochschule (Institute of Technology)",
          "United States of America/Dallas, TX/Texas Instruments",
          "United States of America/Philadelphia, PA/The Institute for Cancer Research",
          "United States of America/Buffalo, NY/The Medical Foundation of Buffalo",
          "United States of America/Berkeley, CA/The Molecular Sciences Institute",
          "Netherlands/Rotterdam/The Netherlands School of Economics",
          "United States of America/San Diego, CA/The Salk Institute",
          "United States of America/La Jolla, CA/The Scripps Research Institute",
          "United Kingdom/Beckenham/The Wellcome Research Laboratories",
          "United Kingdom/Cambridge/The Wellcome Trust Sanger Institute",
          "Japan/Tokyo/Tokyo Institute of Technology",
          "Japan/Tokyo/Tokyo University of Education",
          "France/Toulouse/Toulouse School of Economics (TSE)",
          "France/Toulouse/Toulouse University",
          "Ireland/Dublin/Trinity College",
          "United States of America/Medford, MA/Tufts University",
          "United States of America/Washington, DC/US Naval Research Laboratory",
          "United Kingdom/Liverpool/University College London",
          "United Kingdom/London/University College London",
          "Canada/Edmonton/University of Alberta",
          "Germany/Bonn/University of Bonn",
          "Canada/Vancouver/University of British Columbia",
          "United States of America/Berkeley, CA/University of California",
          "United States of America/Irvine, CA/University of California",
          "United States of America/Los Angeles, CA/University of California",
          "United States of America/San Diego, CA/University of California",
          "United States of America/San Francisco, CA/University of California",
          "United States of America/Santa Barbara, CA/University of California",
          "United Kingdom/Cambridge/University of Cambridge",
          "United States of America/Chicago, IL/University of Chicago",
          "United States of America/Boulder, CO/University of Colorado",
          "United Kingdom/Edinburgh/University of Edinburgh",
          "Germany/Breisgau/University of Freiburg",
          "Switzerland/Geneva/University of Geneva",
          "France/Grenoble/University of Grenoble",
          "Netherlands/Groningen/University of Groningen",
          "Germany/Heidelberg/University of Heidelberg",
          "Finland/Helsinki/University of Helsinki",
          "United States of America/Urbana, IL/University of Illinois",
          "Israel/Jerusalem/University of Jerusalem, Center for Rationality",
          "Switzerland/Lausanne/University of Lausanne",
          "Portugal/Lisbon/University of Lisbon",
          "United States of America/Maine ME/University of Maine",
          "United Kingdom/Manchester/University of Manchester",
          "United States of America/College Park, MD/University of Maryland, Department of Economics and School of Public Policy",
          "United States of America/Worcester, MA/University of Massachusetts Medical School",
          "United States of America/Minneapolis, MN/University of Minnesota",
          "United States of America/Columbia/University of Missouri",
          "Russia/Moscow/University of Moscow",
          "United States of America/Chapel Hill, NC/University of North Carolina",
          "United Kingdom/Nottingham/University of Nottingham, School of Physics and Astronomy",
          "Norway/Oslo/University of Oslo",
          "United Kingdom/Oxford/University of Oxford",
          "United States of America/Philadelphia, PA/University of Pennsylvania",
          "United States of America/Rochester, NY/University of Rochester",
          "United States of America/Los Angeles, CA/University of Southern California",
          "France/Strasbourg/University of Strasbourg",
          "United Kingdom/Brighton/University of Sussex",
          "United States of America/Austin TX/University of Texas",
          "United States of America/Houston, TX/University of Texas",
          "United States of America/Dallas, TX/University of Texas Southwestern Medical Center at Dallas",
          "Japan/Kashiwa/University of Tokyo",
          "Japan/Tokyo/University of Tokyo",
          "Canada/Toronto/University of Toronto",
          "Japan/Tokyo/University of Tsukuba",
          "United States of America/Salt Lake City, UT/University of Utah",
          "United States of America/Seattle, WA/University of Washington",
          "Canada/Waterloo/University of Waterloo",
          "United States of America/Madison, WI/University of Wisconsin",
          "Switzerland/Zurich/University of Zurich",
          "Belgium/Louvain/Université Catholique de Louvain",
          "Belgium/Brussels/Université Libre de Bruxelles",
          "France/Strasbourg/Université Louis Pasteur",
          "France/Orsay/Université Paris-Saclay",
          "France/Paris/Université de Paris, Laboratoire Immuno-Hématologie",
          "France/Strasbourg/Université de Strasbourg",
          "Sweden/Uppsala/Uppsala University",
          "Netherlands/Utrecht/Utrecht University",
          "United States of America/Nashville, TN/Vanderbilt University",
          "United States of America/New Orleans, LA/Veterans Administration Hospital",
          "United States of America/New York, NY/Veterans Administration Hospital",
          "United Kingdom/Manchester/Victoria University",
          "Austria/Vienna/Vienna University",
          "United States of America/Richmond, VA/Virginia Commonwealth University",
          "Australia/Melbourne/Walter and Eliza Hall Institute for Medical Research",
          "United States of America/St. Louis, MO/Washington University",
          "Israel/Rehovot/Weizmann Institute of Science",
          "United States of America/Research Triangle Park, NC/Wellcome Research Laboratories",
          "United States of America/Cleveland, OH/Western Reserve University",
          "France/Paris/World Foundation for AIDS Research and Prevention",
          "Germany/Würzburg/Würzburg University",
          "United States of America/New Haven, CT/Yale University",
          "France/Paris/École Nationale Supérieur des Mines de Paris",
          "France/Paris/École Normale Supérieure",
          "France/Palaiseau/École Polytechnique",
          "France/Paris/École Polytechnique",
          "France/Paris/École Supérieure de Physique et Chimie",
          "France/Paris/École municipale de physique et de chimie industrielles (Municipal School of Industrial Physics and Chemistry)",
          "Denmark/Aarhus",
          "Austria/Altenberg; Grünau im Almtal",
          "Netherlands/Amsterdam",
          "United States of America/Argonne, IL",
          "United States of America/Ashburn, VA",
          "United States of America/Austin TX",
          "United States of America/Baltimore, MD",
          "United States of America/Bar Harbor, ME",
          "Switzerland/Basel",
          "United States of America/Batavia, IL",
          "United Kingdom/Beckenham",
          "China/Beijing",
          "United States of America/Berkeley, CA",
          "Germany/Berlin",
          "Germany/Berlin-Dahlem",
          "Switzerland/Berne",
          "United States of America/Bethesda, MD",
          "United States of America/Beverly, MA",
          "United Kingdom/Birmingham",
          "United States of America/Bloomington, IN",
          "United Kingdom/Bodmin",
          "Germany/Bonn",
          "United States of America/Boston, MA",
          "United States of America/Boulder, CO",
          "Germany/Breisgau",
          "United Kingdom/Brighton",
          "United Kingdom/Bristol",
          "Belgium/Brussels",
          "United Kingdom/Bucksburn (Scotland)",
          "Argentina/Buenos Aires",
          "United States of America/Buffalo, NY",
          "India/Calcutta",
          "United Kingdom/Cambridge",
          "United States of America/Cambridge, MA",
          "Australia/Canberra",
          "United Kingdom/Cardiff",
          "United States of America/Chapel Hill, NC",
          "United States of America/Chevy Chase",
          "United States of America/Chicago, IL",
          "United States of America/Cleveland, OH",
          "United States of America/Cold Spring Harbor, NY",
          "United States of America/College Park, MD",
          "Germany/Cologne",
          "United States of America/Columbia",
          "Denmark/Copenhagen",
          "United States of America/Dallas, TX",
          "Ireland/Dublin",
          "United States of America/Durham, NC",
          "United Kingdom/Edinburgh",
          "Canada/Edmonton",
          "United States of America/Evanston, IL",
          "United States of America/Fairfax, VA",
          "Germany/Frankfurt-on-the-Main",
          "United States of America/Gaithersburg, MD",
          "Germany/Garching",
          "Switzerland/Geneva",
          "Belgium/Ghent",
          "Sweden/Gothenburg",
          "Austria/Graz",
          "United States of America/Greenbelt, MD",
          "United States of America/Greenwich, CT",
          "Germany/Greifswald",
          "France/Grenoble",
          "Netherlands/Groningen",
          "Germany/Göttingen",
          "Israel/Haifa",
          "Germany/Halle",
          "Canada/Hamilton, Ontario",
          "United Kingdom/Harlow",
          "United Kingdom/Harwell, Berkshire",
          "Germany/Heidelberg",
          "Finland/Helsinki",
          "United Kingdom/Hertfordshire",
          "United States of America/Holmdel, NJ",
          "United States of America/Houston, TX",
          "Austria/Innsbruck",
          "United States of America/Irvine, CA",
          "United States of America/Ithaca, NY",
          "Germany/J&uuml;lich",
          "Israel/Jerusalem",
          "Japan/Kashiwa",
          "Germany/Kiel",
          "Canada/Kingston",
          "Japan/Kyoto",
          "United States of America/La Jolla, CA",
          "Switzerland/Lausanne",
          "Netherlands/Leiden",
          "Germany/Leipzig",
          "Sweden/Lidingö-Stockholm",
          "Portugal/Lisbon",
          "United Kingdom/Liverpool",
          "United Kingdom/London",
          "United States of America/Los Angeles, CA",
          "Belgium/Louvain",
          "United States of America/Madison, NJ",
          "United States of America/Madison, WI",
          "Spain/Madrid",
          "United States of America/Maine ME",
          "Germany/Mainz",
          "United Kingdom/Manchester",
          "Germany/Marburg",
          "Germany/Martinsried",
          "United States of America/Medford, MA",
          "Australia/Melbourne",
          "United States of America/Memphis, TN",
          "Italy/Milan",
          "United States of America/Minneapolis, MN",
          "Russia/Moscow",
          "United States of America/Mountain View, CA",
          "Germany/Munich",
          "Germany/Munster",
          "United States of America/Murray Hill, NJ",
          "Germany/Mülheim/Ruhr",
          "Japan/Nagoya",
          "France/Nancy",
          "United States of America/Nashville, TN",
          "Australia/Nedlands",
          "United States of America/New Brunswick, NJ",
          "United States of America/New Haven, CT",
          "United States of America/New Orleans, LA",
          "United States of America/New York, NY",
          "United Kingdom/Nottingham",
          "France/Orsay",
          "Norway/Oslo",
          "Canada/Ottawa",
          "United Kingdom/Oxford",
          "France/Palaiseau",
          "France/Paris",
          "United States of America/Pasadena, CA",
          "Italy/Pavia",
          "United States of America/Philadelphia, PA",
          "United States of America/Pittsburgh, PA",
          "Czech Republic/Prague",
          "United States of America/Princeton, NJ",
          "United States of America/Providence, RI",
          "Israel/Rehovot",
          "United States of America/Research Triangle Park, NC",
          "United States of America/Richmond, VA",
          "United States of America/Rochester, MN",
          "United States of America/Rochester, NY",
          "Italy/Rome",
          "Netherlands/Rotterdam",
          "France/Rueil-Malmaison",
          "Switzerland/Rüschlikon",
          "United States of America/Salt Lake City, UT",
          "United States of America/San Diego, CA",
          "United States of America/San Francisco, CA",
          "United States of America/Santa Barbara, CA",
          "Japan/Sapporo",
          "United States of America/Schenectady, NY",
          "United States of America/Seattle, WA",
          "United Kingdom/Sheffield",
          "United States of America/St. Louis, MO",
          "Russia/St. Petersburg",
          "United States of America/Stanford, CA",
          "Sweden/Stockholm",
          "France/Strasbourg",
          "Germany/Stuttgart",
          "Hungary/Szeged",
          "France/Sèvres",
          "United States of America/Tempe, AZ",
          "Japan/Tokyo",
          "Canada/Toronto",
          "France/Toulouse",
          "Italy/Trieste",
          "Norway/Trondheim",
          "Japan/Tsukuba",
          "Tunisia/Tunis",
          "Germany/Tübingen",
          "Sweden/Uppsala",
          "United States of America/Urbana, IL",
          "Netherlands/Utrecht",
          "Canada/Vancouver",
          "Austria/Vienna",
          "United States of America/Waltham MA",
          "United States of America/Washington, DC",
          "Canada/Waterloo",
          "United States of America/West Lafayette, IN",
          "Australia/Weston Creek",
          "United States of America/Wilmington, DE",
          "United States of America/Woods Hole, MA",
          "United States of America/Worcester, MA",
          "Germany/Würzburg",
          "United States of America/Yorktown Heights, NY",
          "Switzerland/Zurich",
          "Argentina",
          "Australia",
          "Austria",
          "Belgium",
          "Canada",
          "China",
          "Czech Republic",
          "Denmark",
          "Finland",
          "France",
          "Germany",
          "Hungary",
          "India",
          "Ireland",
          "Israel",
          "Italy",
          "Japan",
          "Netherlands",
          "Norway",
          "Portugal",
          "Russia",
          "Spain",
          "Sweden",
          "Switzerland",
          "Tunisia",
          "United Kingdom",
          "United States of America"
         ],
         "labels": [
          "A.F. Ioffe Physico-Technical Institute",
          "Aarhus University",
          "Academy of Sciences",
          "Amsterdam University",
          "Argonne National Laboratory",
          "Arizona State University",
          "Asahi Kasei Corporation",
          "Associated Universities Inc.",
          "Atomic Energy Research Establishment",
          "Australian National University",
          "Australian National University",
          "Basel Institute for Immunology",
          "Basel University",
          "Bell Laboratories",
          "Bell Laboratories",
          "Bell Laboratories",
          "Berlin University",
          "Berne University",
          "Binghamton University State University of New York",
          "Biozentrum der Universität",
          "Birmingham University",
          "Brandeis University",
          "Brigham and Women's Hospital",
          "Bristol University",
          "Brown University",
          "Brussels University",
          "Bureau International des Poids et Mesures (International Bureau of Weights and Measures)",
          "CERN",
          "Calcutta University",
          "California Institute of Technology (Caltech)",
          "Cardiff University",
          "Carnegie Institution of Washington",
          "Carnegie Mellon University",
          "Center for Study of Public Choice",
          "Central Research Laboratories, EMI",
          "Children's Medical Center",
          "China Academy of Traditional Chinese Medicine",
          "City University of New York",
          "Cold Spring Harbor Laboratory",
          "Collège de France",
          "Cologne University",
          "Columbia University",
          "Copenhagen University",
          "Cornell University",
          "Department of Scientific and Industrial Research",
          "Digital Pathways, Inc.",
          "Drew University",
          "Du Pont",
          "Edinburgh University",
          "Eidgenössische Technische Hochschule (Swiss Federal Institute of Technology)",
          "Fermi National Accelerator Laboratory",
          "Finsen Medical Light Institute",
          "Forschungszentrum J&uuml;lich",
          "Francis Crick Institute",
          "Frankfurt-on-the-Main University",
          "Fred Hutchinson Cancer Research Center",
          "Fritz-Haber-Institut",
          "Fritz-Haber-Institut der Max-Planck-Gesellschaft",
          "General Electric Company",
          "George Mason University",
          "German Cancer Research Center",
          "Ghent University",
          "Glynn Research Laboratories",
          "Goettingen University",
          "Graz University",
          "Greifswald University",
          "Groningen University",
          "Gurdon Institute",
          "Göteborg University",
          "Halle University",
          "Harvard Medical School",
          "Harvard University",
          "High Energy Accelerator Research Organization (KEK)",
          "Hokkaido University",
          "Howard Hughes Medical Institute",
          "Howard Hughes Medical Institute",
          "IBM Thomas J. Watson Research Center",
          "IBM Zurich Research Laboratory",
          "Imperial Cancer Research Fund",
          "Imperial College",
          "Indiana University",
          "Innsbruck University",
          "Institut Français du Pétrole",
          "Institut Pasteur",
          "Institut Pasteur",
          "Institut du Radium",
          "Institute for Advanced Study",
          "Institute for Biochemical Research",
          "Institute for Chemical Physics of the Academy of Sciences of the USSR",
          "Institute for Infectious Diseases",
          "Institute of Cell Biology of the C.N.R.",
          "Institute of Physical Chemistry",
          "Institute of Technology",
          "Instituto de Biologia y Medicina Experimental (Institute for Biology and Experimental Medicine)",
          "International Centre for Theoretical Physics",
          "Istituto Superiore di Sanità (Chief Institute of Public Health)",
          "Jackson Laboratory",
          "Janelia Research Campus, Howard Hughes Medical Institute",
          "Johns Hopkins University",
          "Karolinska Institutet",
          "Kiel University",
          "Kitasato University",
          "Konrad-Lorenz-Institut der Österreichischen Akademie der Wissen­schaften, Forschungsstelle für Ethologie",
          "Kyoto Sangyo University",
          "Kyoto University",
          "Laboratories of the Division of Medicine and Public Health, Rockefeller Foundation",
          "Laboratorium der Farben-Fabriken J.R. Geigy A.G. (Laboratory of the J.R. Geigy Dye-Factory Co.)",
          "Landwirtschaftliche Hochschule (Agricultural College)",
          "Lawrence Berkeley National Laboratory",
          "Leiden University",
          "Leipzig University",
          "Liverpool University",
          "London School of Economics and Political Science",
          "London University",
          "Long Term Capital Management",
          "MRC Laboratory of Molecular Biology",
          "Madrid University",
          "Mainz University",
          "Marburg University",
          "Marconi Wireless Telegraph Co. Ltd.",
          "Marine Biological Laboratory (MBL)",
          "Massachusetts Institute of Technology (MIT)",
          "Max-Planck Institut",
          "Max-Planck Institut",
          "Max-Planck Institut",
          "Max-Planck-Institut",
          "Max-Planck-Institut",
          "Max-Planck-Institut",
          "Max-Planck-Institut",
          "Max-Planck-Institut",
          "Max-Planck-Institut",
          "Max-Planck-Institut",
          "Max-Planck-Institut",
          "Max-Planck-Institut",
          "Max-Planck-Institut",
          "Max-Planck-Institut",
          "Mayo Clinic",
          "McMaster University",
          "Meijo University",
          "Military Medical Academy",
          "Munich University",
          "Munster University",
          "NASA Goddard Space Flight Center",
          "NHMRC Helicobacter pylori Research Laboratory, QEII Medical Centre",
          "Nagoya University",
          "Nancy University",
          "National Institute for Medical Research",
          "National Institute of Environmental Health Sciences",
          "National Institute of Standards and Technology",
          "National Institute of Standards and Technology",
          "National Institutes of Health",
          "National Research Council of Canada",
          "New England Biolabs",
          "New York University",
          "Niels Bohr Institute",
          "Nordita",
          "Northwestern University",
          "Norwegian University of Science and Technology (NTNU)",
          "P.N. Lebedev Physical Institute",
          "Parker Institute for Cancer Immunotherapy",
          "Pavia University",
          "Polarographic Institute of the Czechoslovak Academy of Science",
          "Polytechnic Institute",
          "Princeton University",
          "Purdue University",
          "Queen's University",
          "Rheinische Friedrich-Wilhelms-Universität",
          "Rice University",
          "Rockefeller Institute for Medical Research",
          "Rockefeller Institute for Medical Research",
          "Rockefeller University",
          "Rome University",
          "Rowett Research Institute",
          "Royal Institute of Technology",
          "Royal Institution of Great Britain",
          "Rutgers University",
          "SUNY Health Science Center",
          "Saint Louis University",
          "Semiconductor Laboratory of Beckman Instruments, Inc.",
          "Sheffield University",
          "Shimadzu Corp.",
          "Sorbonne University",
          "St. Jude Children's Research Hospital",
          "Standard Telecommunication Laboratories",
          "Stanford Linear Accelerator Center",
          "Stanford University",
          "Stockholm School of Economics",
          "Stockholm University",
          "Strasbourg University",
          "Swedish Gas-Accumulator Co.",
          "Szeged University",
          "Technical University",
          "Technion - Israel Institute of Technology",
          "Technische Hochschule (Institute of Technology)",
          "Texas Instruments",
          "The Institute for Cancer Research",
          "The Medical Foundation of Buffalo",
          "The Molecular Sciences Institute",
          "The Netherlands School of Economics",
          "The Salk Institute",
          "The Scripps Research Institute",
          "The Wellcome Research Laboratories",
          "The Wellcome Trust Sanger Institute",
          "Tokyo Institute of Technology",
          "Tokyo University of Education",
          "Toulouse School of Economics (TSE)",
          "Toulouse University",
          "Trinity College",
          "Tufts University",
          "US Naval Research Laboratory",
          "University College London",
          "University College London",
          "University of Alberta",
          "University of Bonn",
          "University of British Columbia",
          "University of California",
          "University of California",
          "University of California",
          "University of California",
          "University of California",
          "University of California",
          "University of Cambridge",
          "University of Chicago",
          "University of Colorado",
          "University of Edinburgh",
          "University of Freiburg",
          "University of Geneva",
          "University of Grenoble",
          "University of Groningen",
          "University of Heidelberg",
          "University of Helsinki",
          "University of Illinois",
          "University of Jerusalem, Center for Rationality",
          "University of Lausanne",
          "University of Lisbon",
          "University of Maine",
          "University of Manchester",
          "University of Maryland, Department of Economics and School of Public Policy",
          "University of Massachusetts Medical School",
          "University of Minnesota",
          "University of Missouri",
          "University of Moscow",
          "University of North Carolina",
          "University of Nottingham, School of Physics and Astronomy",
          "University of Oslo",
          "University of Oxford",
          "University of Pennsylvania",
          "University of Rochester",
          "University of Southern California",
          "University of Strasbourg",
          "University of Sussex",
          "University of Texas",
          "University of Texas",
          "University of Texas Southwestern Medical Center at Dallas",
          "University of Tokyo",
          "University of Tokyo",
          "University of Toronto",
          "University of Tsukuba",
          "University of Utah",
          "University of Washington",
          "University of Waterloo",
          "University of Wisconsin",
          "University of Zurich",
          "Université Catholique de Louvain",
          "Université Libre de Bruxelles",
          "Université Louis Pasteur",
          "Université Paris-Saclay",
          "Université de Paris, Laboratoire Immuno-Hématologie",
          "Université de Strasbourg",
          "Uppsala University",
          "Utrecht University",
          "Vanderbilt University",
          "Veterans Administration Hospital",
          "Veterans Administration Hospital",
          "Victoria University",
          "Vienna University",
          "Virginia Commonwealth University",
          "Walter and Eliza Hall Institute for Medical Research",
          "Washington University",
          "Weizmann Institute of Science",
          "Wellcome Research Laboratories",
          "Western Reserve University",
          "World Foundation for AIDS Research and Prevention",
          "Würzburg University",
          "Yale University",
          "École Nationale Supérieur des Mines de Paris",
          "École Normale Supérieure",
          "École Polytechnique",
          "École Polytechnique",
          "École Supérieure de Physique et Chimie",
          "École municipale de physique et de chimie industrielles (Municipal School of Industrial Physics and Chemistry)",
          "Aarhus",
          "Altenberg; Grünau im Almtal",
          "Amsterdam",
          "Argonne, IL",
          "Ashburn, VA",
          "Austin TX",
          "Baltimore, MD",
          "Bar Harbor, ME",
          "Basel",
          "Batavia, IL",
          "Beckenham",
          "Beijing",
          "Berkeley, CA",
          "Berlin",
          "Berlin-Dahlem",
          "Berne",
          "Bethesda, MD",
          "Beverly, MA",
          "Birmingham",
          "Bloomington, IN",
          "Bodmin",
          "Bonn",
          "Boston, MA",
          "Boulder, CO",
          "Breisgau",
          "Brighton",
          "Bristol",
          "Brussels",
          "Bucksburn (Scotland)",
          "Buenos Aires",
          "Buffalo, NY",
          "Calcutta",
          "Cambridge",
          "Cambridge, MA",
          "Canberra",
          "Cardiff",
          "Chapel Hill, NC",
          "Chevy Chase",
          "Chicago, IL",
          "Cleveland, OH",
          "Cold Spring Harbor, NY",
          "College Park, MD",
          "Cologne",
          "Columbia",
          "Copenhagen",
          "Dallas, TX",
          "Dublin",
          "Durham, NC",
          "Edinburgh",
          "Edmonton",
          "Evanston, IL",
          "Fairfax, VA",
          "Frankfurt-on-the-Main",
          "Gaithersburg, MD",
          "Garching",
          "Geneva",
          "Ghent",
          "Gothenburg",
          "Graz",
          "Greenbelt, MD",
          "Greenwich, CT",
          "Greifswald",
          "Grenoble",
          "Groningen",
          "Göttingen",
          "Haifa",
          "Halle",
          "Hamilton, Ontario",
          "Harlow",
          "Harwell, Berkshire",
          "Heidelberg",
          "Helsinki",
          "Hertfordshire",
          "Holmdel, NJ",
          "Houston, TX",
          "Innsbruck",
          "Irvine, CA",
          "Ithaca, NY",
          "J&uuml;lich",
          "Jerusalem",
          "Kashiwa",
          "Kiel",
          "Kingston",
          "Kyoto",
          "La Jolla, CA",
          "Lausanne",
          "Leiden",
          "Leipzig",
          "Lidingö-Stockholm",
          "Lisbon",
          "Liverpool",
          "London",
          "Los Angeles, CA",
          "Louvain",
          "Madison, NJ",
          "Madison, WI",
          "Madrid",
          "Maine ME",
          "Mainz",
          "Manchester",
          "Marburg",
          "Martinsried",
          "Medford, MA",
          "Melbourne",
          "Memphis, TN",
          "Milan",
          "Minneapolis, MN",
          "Moscow",
          "Mountain View, CA",
          "Munich",
          "Munster",
          "Murray Hill, NJ",
          "Mülheim/Ruhr",
          "Nagoya",
          "Nancy",
          "Nashville, TN",
          "Nedlands",
          "New Brunswick, NJ",
          "New Haven, CT",
          "New Orleans, LA",
          "New York, NY",
          "Nottingham",
          "Orsay",
          "Oslo",
          "Ottawa",
          "Oxford",
          "Palaiseau",
          "Paris",
          "Pasadena, CA",
          "Pavia",
          "Philadelphia, PA",
          "Pittsburgh, PA",
          "Prague",
          "Princeton, NJ",
          "Providence, RI",
          "Rehovot",
          "Research Triangle Park, NC",
          "Richmond, VA",
          "Rochester, MN",
          "Rochester, NY",
          "Rome",
          "Rotterdam",
          "Rueil-Malmaison",
          "Rüschlikon",
          "Salt Lake City, UT",
          "San Diego, CA",
          "San Francisco, CA",
          "Santa Barbara, CA",
          "Sapporo",
          "Schenectady, NY",
          "Seattle, WA",
          "Sheffield",
          "St. Louis, MO",
          "St. Petersburg",
          "Stanford, CA",
          "Stockholm",
          "Strasbourg",
          "Stuttgart",
          "Szeged",
          "Sèvres",
          "Tempe, AZ",
          "Tokyo",
          "Toronto",
          "Toulouse",
          "Trieste",
          "Trondheim",
          "Tsukuba",
          "Tunis",
          "Tübingen",
          "Uppsala",
          "Urbana, IL",
          "Utrecht",
          "Vancouver",
          "Vienna",
          "Waltham MA",
          "Washington, DC",
          "Waterloo",
          "West Lafayette, IN",
          "Weston Creek",
          "Wilmington, DE",
          "Woods Hole, MA",
          "Worcester, MA",
          "Würzburg",
          "Yorktown Heights, NY",
          "Zurich",
          "Argentina",
          "Australia",
          "Austria",
          "Belgium",
          "Canada",
          "China",
          "Czech Republic",
          "Denmark",
          "Finland",
          "France",
          "Germany",
          "Hungary",
          "India",
          "Ireland",
          "Israel",
          "Italy",
          "Japan",
          "Netherlands",
          "Norway",
          "Portugal",
          "Russia",
          "Spain",
          "Sweden",
          "Switzerland",
          "Tunisia",
          "United Kingdom",
          "United States of America"
         ],
         "name": "",
         "parents": [
          "Russia/St. Petersburg",
          "Denmark/Aarhus",
          "Russia/Moscow",
          "Netherlands/Amsterdam",
          "United States of America/Argonne, IL",
          "United States of America/Tempe, AZ",
          "Japan/Tokyo",
          "United States of America/Washington, DC",
          "United Kingdom/Harwell, Berkshire",
          "Australia/Canberra",
          "Australia/Weston Creek",
          "Switzerland/Basel",
          "Switzerland/Basel",
          "United States of America/Holmdel, NJ",
          "United States of America/Murray Hill, NJ",
          "United States of America/New York, NY",
          "Germany/Berlin",
          "Switzerland/Berne",
          "United States of America/New York, NY",
          "Switzerland/Basel",
          "United Kingdom/Birmingham",
          "United States of America/Waltham MA",
          "United States of America/Boston, MA",
          "United Kingdom/Bristol",
          "United States of America/Providence, RI",
          "Belgium/Brussels",
          "France/Sèvres",
          "Switzerland/Geneva",
          "India/Calcutta",
          "United States of America/Pasadena, CA",
          "United Kingdom/Cardiff",
          "United States of America/New York, NY",
          "United States of America/Pittsburgh, PA",
          "United States of America/Fairfax, VA",
          "United Kingdom/London",
          "United States of America/Boston, MA",
          "China/Beijing",
          "United States of America/New York, NY",
          "United States of America/Cold Spring Harbor, NY",
          "France/Paris",
          "Germany/Cologne",
          "United States of America/New York, NY",
          "Denmark/Copenhagen",
          "United States of America/Ithaca, NY",
          "United Kingdom/London",
          "United States of America/Mountain View, CA",
          "United States of America/Madison, NJ",
          "United States of America/Wilmington, DE",
          "United Kingdom/Edinburgh",
          "Switzerland/Zurich",
          "United States of America/Batavia, IL",
          "Denmark/Copenhagen",
          "Germany/J&uuml;lich",
          "United Kingdom/Hertfordshire",
          "Germany/Frankfurt-on-the-Main",
          "United States of America/Seattle, WA",
          "Germany/Berlin-Dahlem",
          "Germany/Berlin",
          "United States of America/Schenectady, NY",
          "United States of America/Fairfax, VA",
          "Germany/Heidelberg",
          "Belgium/Ghent",
          "United Kingdom/Bodmin",
          "Germany/Göttingen",
          "Austria/Graz",
          "Germany/Greifswald",
          "Netherlands/Groningen",
          "United Kingdom/Cambridge",
          "Sweden/Gothenburg",
          "Germany/Halle",
          "United States of America/Boston, MA",
          "United States of America/Cambridge, MA",
          "Japan/Tsukuba",
          "Japan/Sapporo",
          "United States of America/Chevy Chase",
          "United States of America/Durham, NC",
          "United States of America/Yorktown Heights, NY",
          "Switzerland/Rüschlikon",
          "United Kingdom/London",
          "United Kingdom/London",
          "United States of America/Bloomington, IN",
          "Austria/Innsbruck",
          "France/Rueil-Malmaison",
          "France/Paris",
          "Tunisia/Tunis",
          "France/Paris",
          "United States of America/Princeton, NJ",
          "Argentina/Buenos Aires",
          "Russia/Moscow",
          "Germany/Berlin",
          "Italy/Rome",
          "United Kingdom/Cambridge",
          "Italy/Milan",
          "Argentina/Buenos Aires",
          "Italy/Trieste",
          "Italy/Rome",
          "United States of America/Bar Harbor, ME",
          "United States of America/Ashburn, VA",
          "United States of America/Baltimore, MD",
          "Sweden/Stockholm",
          "Germany/Kiel",
          "Japan/Tokyo",
          "Austria/Altenberg; Grünau im Almtal",
          "Japan/Kyoto",
          "Japan/Kyoto",
          "United States of America/New York, NY",
          "Switzerland/Basel",
          "Germany/Berlin",
          "United States of America/Berkeley, CA",
          "Netherlands/Leiden",
          "Germany/Leipzig",
          "United Kingdom/Liverpool",
          "United Kingdom/London",
          "United Kingdom/London",
          "United States of America/Greenwich, CT",
          "United Kingdom/Cambridge",
          "Spain/Madrid",
          "Germany/Mainz",
          "Germany/Marburg",
          "United Kingdom/London",
          "United States of America/Woods Hole, MA",
          "United States of America/Cambridge, MA",
          "Germany/Berlin",
          "Germany/Berlin-Dahlem",
          "Germany/Heidelberg",
          "Germany/Berlin",
          "Germany/Frankfurt-on-the-Main",
          "Germany/Garching",
          "Germany/Göttingen",
          "Germany/Heidelberg",
          "Germany/Mainz",
          "Germany/Martinsried",
          "Germany/Munich",
          "Germany/Mülheim/Ruhr",
          "Germany/Stuttgart",
          "Germany/Tübingen",
          "United States of America/Rochester, MN",
          "Canada/Hamilton, Ontario",
          "Japan/Nagoya",
          "Russia/St. Petersburg",
          "Germany/Munich",
          "Germany/Munster",
          "United States of America/Greenbelt, MD",
          "Australia/Nedlands",
          "Japan/Nagoya",
          "France/Nancy",
          "United Kingdom/London",
          "United States of America/Research Triangle Park, NC",
          "United States of America/Boulder, CO",
          "United States of America/Gaithersburg, MD",
          "United States of America/Bethesda, MD",
          "Canada/Ottawa",
          "United States of America/Beverly, MA",
          "United States of America/New York, NY",
          "Denmark/Copenhagen",
          "Denmark/Copenhagen",
          "United States of America/Evanston, IL",
          "Norway/Trondheim",
          "Russia/Moscow",
          "United States of America/San Francisco, CA",
          "Italy/Pavia",
          "Czech Republic/Prague",
          "Denmark/Copenhagen",
          "United States of America/Princeton, NJ",
          "United States of America/West Lafayette, IN",
          "Canada/Kingston",
          "Germany/Bonn",
          "United States of America/Houston, TX",
          "United States of America/New York, NY",
          "United States of America/Princeton, NJ",
          "United States of America/New York, NY",
          "Italy/Rome",
          "United Kingdom/Bucksburn (Scotland)",
          "Sweden/Stockholm",
          "United Kingdom/London",
          "United States of America/New Brunswick, NJ",
          "United States of America/New York, NY",
          "United States of America/St. Louis, MO",
          "United States of America/Mountain View, CA",
          "United Kingdom/Sheffield",
          "Japan/Kyoto",
          "France/Paris",
          "United States of America/Memphis, TN",
          "United Kingdom/Harlow",
          "United States of America/Stanford, CA",
          "United States of America/Stanford, CA",
          "Sweden/Stockholm",
          "Sweden/Stockholm",
          "France/Strasbourg",
          "Sweden/Lidingö-Stockholm",
          "Hungary/Szeged",
          "Germany/Munich",
          "Israel/Haifa",
          "Germany/Munich",
          "United States of America/Dallas, TX",
          "United States of America/Philadelphia, PA",
          "United States of America/Buffalo, NY",
          "United States of America/Berkeley, CA",
          "Netherlands/Rotterdam",
          "United States of America/San Diego, CA",
          "United States of America/La Jolla, CA",
          "United Kingdom/Beckenham",
          "United Kingdom/Cambridge",
          "Japan/Tokyo",
          "Japan/Tokyo",
          "France/Toulouse",
          "France/Toulouse",
          "Ireland/Dublin",
          "United States of America/Medford, MA",
          "United States of America/Washington, DC",
          "United Kingdom/Liverpool",
          "United Kingdom/London",
          "Canada/Edmonton",
          "Germany/Bonn",
          "Canada/Vancouver",
          "United States of America/Berkeley, CA",
          "United States of America/Irvine, CA",
          "United States of America/Los Angeles, CA",
          "United States of America/San Diego, CA",
          "United States of America/San Francisco, CA",
          "United States of America/Santa Barbara, CA",
          "United Kingdom/Cambridge",
          "United States of America/Chicago, IL",
          "United States of America/Boulder, CO",
          "United Kingdom/Edinburgh",
          "Germany/Breisgau",
          "Switzerland/Geneva",
          "France/Grenoble",
          "Netherlands/Groningen",
          "Germany/Heidelberg",
          "Finland/Helsinki",
          "United States of America/Urbana, IL",
          "Israel/Jerusalem",
          "Switzerland/Lausanne",
          "Portugal/Lisbon",
          "United States of America/Maine ME",
          "United Kingdom/Manchester",
          "United States of America/College Park, MD",
          "United States of America/Worcester, MA",
          "United States of America/Minneapolis, MN",
          "United States of America/Columbia",
          "Russia/Moscow",
          "United States of America/Chapel Hill, NC",
          "United Kingdom/Nottingham",
          "Norway/Oslo",
          "United Kingdom/Oxford",
          "United States of America/Philadelphia, PA",
          "United States of America/Rochester, NY",
          "United States of America/Los Angeles, CA",
          "France/Strasbourg",
          "United Kingdom/Brighton",
          "United States of America/Austin TX",
          "United States of America/Houston, TX",
          "United States of America/Dallas, TX",
          "Japan/Kashiwa",
          "Japan/Tokyo",
          "Canada/Toronto",
          "Japan/Tokyo",
          "United States of America/Salt Lake City, UT",
          "United States of America/Seattle, WA",
          "Canada/Waterloo",
          "United States of America/Madison, WI",
          "Switzerland/Zurich",
          "Belgium/Louvain",
          "Belgium/Brussels",
          "France/Strasbourg",
          "France/Orsay",
          "France/Paris",
          "France/Strasbourg",
          "Sweden/Uppsala",
          "Netherlands/Utrecht",
          "United States of America/Nashville, TN",
          "United States of America/New Orleans, LA",
          "United States of America/New York, NY",
          "United Kingdom/Manchester",
          "Austria/Vienna",
          "United States of America/Richmond, VA",
          "Australia/Melbourne",
          "United States of America/St. Louis, MO",
          "Israel/Rehovot",
          "United States of America/Research Triangle Park, NC",
          "United States of America/Cleveland, OH",
          "France/Paris",
          "Germany/Würzburg",
          "United States of America/New Haven, CT",
          "France/Paris",
          "France/Paris",
          "France/Palaiseau",
          "France/Paris",
          "France/Paris",
          "France/Paris",
          "Denmark",
          "Austria",
          "Netherlands",
          "United States of America",
          "United States of America",
          "United States of America",
          "United States of America",
          "United States of America",
          "Switzerland",
          "United States of America",
          "United Kingdom",
          "China",
          "United States of America",
          "Germany",
          "Germany",
          "Switzerland",
          "United States of America",
          "United States of America",
          "United Kingdom",
          "United States of America",
          "United Kingdom",
          "Germany",
          "United States of America",
          "United States of America",
          "Germany",
          "United Kingdom",
          "United Kingdom",
          "Belgium",
          "United Kingdom",
          "Argentina",
          "United States of America",
          "India",
          "United Kingdom",
          "United States of America",
          "Australia",
          "United Kingdom",
          "United States of America",
          "United States of America",
          "United States of America",
          "United States of America",
          "United States of America",
          "United States of America",
          "Germany",
          "United States of America",
          "Denmark",
          "United States of America",
          "Ireland",
          "United States of America",
          "United Kingdom",
          "Canada",
          "United States of America",
          "United States of America",
          "Germany",
          "United States of America",
          "Germany",
          "Switzerland",
          "Belgium",
          "Sweden",
          "Austria",
          "United States of America",
          "United States of America",
          "Germany",
          "France",
          "Netherlands",
          "Germany",
          "Israel",
          "Germany",
          "Canada",
          "United Kingdom",
          "United Kingdom",
          "Germany",
          "Finland",
          "United Kingdom",
          "United States of America",
          "United States of America",
          "Austria",
          "United States of America",
          "United States of America",
          "Germany",
          "Israel",
          "Japan",
          "Germany",
          "Canada",
          "Japan",
          "United States of America",
          "Switzerland",
          "Netherlands",
          "Germany",
          "Sweden",
          "Portugal",
          "United Kingdom",
          "United Kingdom",
          "United States of America",
          "Belgium",
          "United States of America",
          "United States of America",
          "Spain",
          "United States of America",
          "Germany",
          "United Kingdom",
          "Germany",
          "Germany",
          "United States of America",
          "Australia",
          "United States of America",
          "Italy",
          "United States of America",
          "Russia",
          "United States of America",
          "Germany",
          "Germany",
          "United States of America",
          "Germany",
          "Japan",
          "France",
          "United States of America",
          "Australia",
          "United States of America",
          "United States of America",
          "United States of America",
          "United States of America",
          "United Kingdom",
          "France",
          "Norway",
          "Canada",
          "United Kingdom",
          "France",
          "France",
          "United States of America",
          "Italy",
          "United States of America",
          "United States of America",
          "Czech Republic",
          "United States of America",
          "United States of America",
          "Israel",
          "United States of America",
          "United States of America",
          "United States of America",
          "United States of America",
          "Italy",
          "Netherlands",
          "France",
          "Switzerland",
          "United States of America",
          "United States of America",
          "United States of America",
          "United States of America",
          "Japan",
          "United States of America",
          "United States of America",
          "United Kingdom",
          "United States of America",
          "Russia",
          "United States of America",
          "Sweden",
          "France",
          "Germany",
          "Hungary",
          "France",
          "United States of America",
          "Japan",
          "Canada",
          "France",
          "Italy",
          "Norway",
          "Japan",
          "Tunisia",
          "Germany",
          "Sweden",
          "United States of America",
          "Netherlands",
          "Canada",
          "Austria",
          "United States of America",
          "United States of America",
          "Canada",
          "United States of America",
          "Australia",
          "United States of America",
          "United States of America",
          "United States of America",
          "Germany",
          "United States of America",
          "Switzerland",
          "",
          "",
          "",
          "",
          "",
          "",
          "",
          "",
          "",
          "",
          "",
          "",
          "",
          "",
          "",
          "",
          "",
          "",
          "",
          "",
          "",
          "",
          "",
          "",
          "",
          "",
          ""
         ],
         "type": "sunburst",
         "values": [
          1,
          1,
          3,
          2,
          1,
          1,
          1,
          1,
          1,
          1,
          1,
          2,
          1,
          3,
          4,
          1,
          6,
          1,
          1,
          1,
          1,
          1,
          1,
          1,
          2,
          1,
          1,
          3,
          1,
          17,
          1,
          1,
          3,
          1,
          1,
          1,
          1,
          1,
          1,
          3,
          1,
          17,
          3,
          8,
          1,
          1,
          1,
          1,
          2,
          4,
          1,
          1,
          1,
          1,
          1,
          3,
          1,
          2,
          2,
          1,
          1,
          1,
          1,
          5,
          2,
          1,
          1,
          1,
          1,
          1,
          7,
          29,
          1,
          1,
          1,
          1,
          1,
          4,
          3,
          3,
          2,
          1,
          1,
          6,
          1,
          2,
          2,
          1,
          1,
          1,
          1,
          1,
          1,
          1,
          1,
          1,
          1,
          1,
          6,
          5,
          3,
          1,
          1,
          1,
          4,
          1,
          1,
          1,
          1,
          3,
          2,
          1,
          1,
          7,
          1,
          10,
          1,
          1,
          1,
          1,
          1,
          21,
          1,
          3,
          1,
          1,
          1,
          1,
          3,
          1,
          1,
          1,
          1,
          1,
          1,
          1,
          2,
          1,
          1,
          1,
          5,
          1,
          1,
          1,
          2,
          1,
          2,
          1,
          1,
          1,
          5,
          1,
          1,
          4,
          1,
          1,
          3,
          2,
          4,
          1,
          1,
          1,
          1,
          15,
          2,
          1,
          1,
          2,
          4,
          2,
          13,
          1,
          1,
          1,
          2,
          1,
          1,
          1,
          1,
          1,
          1,
          7,
          1,
          1,
          1,
          23,
          1,
          3,
          1,
          1,
          1,
          2,
          3,
          1,
          1,
          1,
          1,
          1,
          1,
          1,
          1,
          1,
          1,
          1,
          1,
          1,
          1,
          1,
          1,
          1,
          1,
          6,
          1,
          1,
          1,
          19,
          3,
          6,
          3,
          4,
          5,
          18,
          20,
          4,
          1,
          2,
          2,
          1,
          1,
          6,
          1,
          4,
          1,
          1,
          1,
          1,
          2,
          1,
          1,
          1,
          1,
          2,
          2,
          1,
          3,
          12,
          4,
          1,
          2,
          2,
          2,
          1,
          1,
          5,
          1,
          1,
          3,
          1,
          1,
          4,
          1,
          3,
          4,
          1,
          2,
          1,
          1,
          1,
          1,
          5,
          2,
          2,
          1,
          1,
          3,
          2,
          1,
          1,
          4,
          1,
          2,
          1,
          1,
          1,
          9,
          1,
          1,
          1,
          1,
          1,
          1,
          1,
          1,
          2,
          1,
          1,
          1,
          6,
          1,
          5,
          1,
          1,
          1,
          21,
          12,
          4,
          1,
          5,
          1,
          1,
          2,
          1,
          2,
          9,
          5,
          2,
          2,
          1,
          3,
          1,
          2,
          1,
          1,
          31,
          50,
          1,
          1,
          2,
          1,
          20,
          1,
          1,
          1,
          1,
          1,
          7,
          6,
          1,
          1,
          3,
          1,
          3,
          2,
          2,
          1,
          1,
          5,
          1,
          1,
          2,
          1,
          1,
          1,
          1,
          2,
          8,
          3,
          1,
          1,
          1,
          1,
          9,
          1,
          1,
          3,
          3,
          1,
          3,
          8,
          1,
          1,
          1,
          3,
          1,
          6,
          1,
          1,
          3,
          2,
          1,
          1,
          2,
          27,
          8,
          1,
          1,
          3,
          1,
          1,
          2,
          5,
          1,
          1,
          1,
          1,
          1,
          1,
          1,
          10,
          2,
          9,
          1,
          4,
          1,
          3,
          1,
          2,
          1,
          1,
          9,
          1,
          45,
          1,
          1,
          3,
          1,
          12,
          1,
          25,
          17,
          1,
          5,
          3,
          1,
          19,
          2,
          1,
          3,
          1,
          2,
          1,
          3,
          1,
          1,
          4,
          1,
          4,
          5,
          5,
          1,
          2,
          7,
          1,
          5,
          2,
          24,
          10,
          5,
          1,
          1,
          1,
          1,
          6,
          3,
          2,
          1,
          2,
          1,
          1,
          1,
          5,
          4,
          2,
          1,
          2,
          1,
          2,
          1,
          2,
          1,
          1,
          1,
          1,
          1,
          1,
          8,
          2,
          4,
          6,
          5,
          9,
          1,
          1,
          8,
          1,
          38,
          67,
          1,
          1,
          1,
          5,
          6,
          18,
          10,
          5,
          1,
          12,
          1,
          17,
          24,
          1,
          93,
          365
         ]
        }
       ],
       "layout": {
        "legend": {
         "tracegroupgap": 0
        },
        "margin": {
         "t": 60
        },
        "template": {
         "data": {
          "bar": [
           {
            "error_x": {
             "color": "#2a3f5f"
            },
            "error_y": {
             "color": "#2a3f5f"
            },
            "marker": {
             "line": {
              "color": "#E5ECF6",
              "width": 0.5
             },
             "pattern": {
              "fillmode": "overlay",
              "size": 10,
              "solidity": 0.2
             }
            },
            "type": "bar"
           }
          ],
          "barpolar": [
           {
            "marker": {
             "line": {
              "color": "#E5ECF6",
              "width": 0.5
             },
             "pattern": {
              "fillmode": "overlay",
              "size": 10,
              "solidity": 0.2
             }
            },
            "type": "barpolar"
           }
          ],
          "carpet": [
           {
            "aaxis": {
             "endlinecolor": "#2a3f5f",
             "gridcolor": "white",
             "linecolor": "white",
             "minorgridcolor": "white",
             "startlinecolor": "#2a3f5f"
            },
            "baxis": {
             "endlinecolor": "#2a3f5f",
             "gridcolor": "white",
             "linecolor": "white",
             "minorgridcolor": "white",
             "startlinecolor": "#2a3f5f"
            },
            "type": "carpet"
           }
          ],
          "choropleth": [
           {
            "colorbar": {
             "outlinewidth": 0,
             "ticks": ""
            },
            "type": "choropleth"
           }
          ],
          "contour": [
           {
            "colorbar": {
             "outlinewidth": 0,
             "ticks": ""
            },
            "colorscale": [
             [
              0,
              "#0d0887"
             ],
             [
              0.1111111111111111,
              "#46039f"
             ],
             [
              0.2222222222222222,
              "#7201a8"
             ],
             [
              0.3333333333333333,
              "#9c179e"
             ],
             [
              0.4444444444444444,
              "#bd3786"
             ],
             [
              0.5555555555555556,
              "#d8576b"
             ],
             [
              0.6666666666666666,
              "#ed7953"
             ],
             [
              0.7777777777777778,
              "#fb9f3a"
             ],
             [
              0.8888888888888888,
              "#fdca26"
             ],
             [
              1,
              "#f0f921"
             ]
            ],
            "type": "contour"
           }
          ],
          "contourcarpet": [
           {
            "colorbar": {
             "outlinewidth": 0,
             "ticks": ""
            },
            "type": "contourcarpet"
           }
          ],
          "heatmap": [
           {
            "colorbar": {
             "outlinewidth": 0,
             "ticks": ""
            },
            "colorscale": [
             [
              0,
              "#0d0887"
             ],
             [
              0.1111111111111111,
              "#46039f"
             ],
             [
              0.2222222222222222,
              "#7201a8"
             ],
             [
              0.3333333333333333,
              "#9c179e"
             ],
             [
              0.4444444444444444,
              "#bd3786"
             ],
             [
              0.5555555555555556,
              "#d8576b"
             ],
             [
              0.6666666666666666,
              "#ed7953"
             ],
             [
              0.7777777777777778,
              "#fb9f3a"
             ],
             [
              0.8888888888888888,
              "#fdca26"
             ],
             [
              1,
              "#f0f921"
             ]
            ],
            "type": "heatmap"
           }
          ],
          "heatmapgl": [
           {
            "colorbar": {
             "outlinewidth": 0,
             "ticks": ""
            },
            "colorscale": [
             [
              0,
              "#0d0887"
             ],
             [
              0.1111111111111111,
              "#46039f"
             ],
             [
              0.2222222222222222,
              "#7201a8"
             ],
             [
              0.3333333333333333,
              "#9c179e"
             ],
             [
              0.4444444444444444,
              "#bd3786"
             ],
             [
              0.5555555555555556,
              "#d8576b"
             ],
             [
              0.6666666666666666,
              "#ed7953"
             ],
             [
              0.7777777777777778,
              "#fb9f3a"
             ],
             [
              0.8888888888888888,
              "#fdca26"
             ],
             [
              1,
              "#f0f921"
             ]
            ],
            "type": "heatmapgl"
           }
          ],
          "histogram": [
           {
            "marker": {
             "pattern": {
              "fillmode": "overlay",
              "size": 10,
              "solidity": 0.2
             }
            },
            "type": "histogram"
           }
          ],
          "histogram2d": [
           {
            "colorbar": {
             "outlinewidth": 0,
             "ticks": ""
            },
            "colorscale": [
             [
              0,
              "#0d0887"
             ],
             [
              0.1111111111111111,
              "#46039f"
             ],
             [
              0.2222222222222222,
              "#7201a8"
             ],
             [
              0.3333333333333333,
              "#9c179e"
             ],
             [
              0.4444444444444444,
              "#bd3786"
             ],
             [
              0.5555555555555556,
              "#d8576b"
             ],
             [
              0.6666666666666666,
              "#ed7953"
             ],
             [
              0.7777777777777778,
              "#fb9f3a"
             ],
             [
              0.8888888888888888,
              "#fdca26"
             ],
             [
              1,
              "#f0f921"
             ]
            ],
            "type": "histogram2d"
           }
          ],
          "histogram2dcontour": [
           {
            "colorbar": {
             "outlinewidth": 0,
             "ticks": ""
            },
            "colorscale": [
             [
              0,
              "#0d0887"
             ],
             [
              0.1111111111111111,
              "#46039f"
             ],
             [
              0.2222222222222222,
              "#7201a8"
             ],
             [
              0.3333333333333333,
              "#9c179e"
             ],
             [
              0.4444444444444444,
              "#bd3786"
             ],
             [
              0.5555555555555556,
              "#d8576b"
             ],
             [
              0.6666666666666666,
              "#ed7953"
             ],
             [
              0.7777777777777778,
              "#fb9f3a"
             ],
             [
              0.8888888888888888,
              "#fdca26"
             ],
             [
              1,
              "#f0f921"
             ]
            ],
            "type": "histogram2dcontour"
           }
          ],
          "mesh3d": [
           {
            "colorbar": {
             "outlinewidth": 0,
             "ticks": ""
            },
            "type": "mesh3d"
           }
          ],
          "parcoords": [
           {
            "line": {
             "colorbar": {
              "outlinewidth": 0,
              "ticks": ""
             }
            },
            "type": "parcoords"
           }
          ],
          "pie": [
           {
            "automargin": true,
            "type": "pie"
           }
          ],
          "scatter": [
           {
            "fillpattern": {
             "fillmode": "overlay",
             "size": 10,
             "solidity": 0.2
            },
            "type": "scatter"
           }
          ],
          "scatter3d": [
           {
            "line": {
             "colorbar": {
              "outlinewidth": 0,
              "ticks": ""
             }
            },
            "marker": {
             "colorbar": {
              "outlinewidth": 0,
              "ticks": ""
             }
            },
            "type": "scatter3d"
           }
          ],
          "scattercarpet": [
           {
            "marker": {
             "colorbar": {
              "outlinewidth": 0,
              "ticks": ""
             }
            },
            "type": "scattercarpet"
           }
          ],
          "scattergeo": [
           {
            "marker": {
             "colorbar": {
              "outlinewidth": 0,
              "ticks": ""
             }
            },
            "type": "scattergeo"
           }
          ],
          "scattergl": [
           {
            "marker": {
             "colorbar": {
              "outlinewidth": 0,
              "ticks": ""
             }
            },
            "type": "scattergl"
           }
          ],
          "scattermapbox": [
           {
            "marker": {
             "colorbar": {
              "outlinewidth": 0,
              "ticks": ""
             }
            },
            "type": "scattermapbox"
           }
          ],
          "scatterpolar": [
           {
            "marker": {
             "colorbar": {
              "outlinewidth": 0,
              "ticks": ""
             }
            },
            "type": "scatterpolar"
           }
          ],
          "scatterpolargl": [
           {
            "marker": {
             "colorbar": {
              "outlinewidth": 0,
              "ticks": ""
             }
            },
            "type": "scatterpolargl"
           }
          ],
          "scatterternary": [
           {
            "marker": {
             "colorbar": {
              "outlinewidth": 0,
              "ticks": ""
             }
            },
            "type": "scatterternary"
           }
          ],
          "surface": [
           {
            "colorbar": {
             "outlinewidth": 0,
             "ticks": ""
            },
            "colorscale": [
             [
              0,
              "#0d0887"
             ],
             [
              0.1111111111111111,
              "#46039f"
             ],
             [
              0.2222222222222222,
              "#7201a8"
             ],
             [
              0.3333333333333333,
              "#9c179e"
             ],
             [
              0.4444444444444444,
              "#bd3786"
             ],
             [
              0.5555555555555556,
              "#d8576b"
             ],
             [
              0.6666666666666666,
              "#ed7953"
             ],
             [
              0.7777777777777778,
              "#fb9f3a"
             ],
             [
              0.8888888888888888,
              "#fdca26"
             ],
             [
              1,
              "#f0f921"
             ]
            ],
            "type": "surface"
           }
          ],
          "table": [
           {
            "cells": {
             "fill": {
              "color": "#EBF0F8"
             },
             "line": {
              "color": "white"
             }
            },
            "header": {
             "fill": {
              "color": "#C8D4E3"
             },
             "line": {
              "color": "white"
             }
            },
            "type": "table"
           }
          ]
         },
         "layout": {
          "annotationdefaults": {
           "arrowcolor": "#2a3f5f",
           "arrowhead": 0,
           "arrowwidth": 1
          },
          "autotypenumbers": "strict",
          "coloraxis": {
           "colorbar": {
            "outlinewidth": 0,
            "ticks": ""
           }
          },
          "colorscale": {
           "diverging": [
            [
             0,
             "#8e0152"
            ],
            [
             0.1,
             "#c51b7d"
            ],
            [
             0.2,
             "#de77ae"
            ],
            [
             0.3,
             "#f1b6da"
            ],
            [
             0.4,
             "#fde0ef"
            ],
            [
             0.5,
             "#f7f7f7"
            ],
            [
             0.6,
             "#e6f5d0"
            ],
            [
             0.7,
             "#b8e186"
            ],
            [
             0.8,
             "#7fbc41"
            ],
            [
             0.9,
             "#4d9221"
            ],
            [
             1,
             "#276419"
            ]
           ],
           "sequential": [
            [
             0,
             "#0d0887"
            ],
            [
             0.1111111111111111,
             "#46039f"
            ],
            [
             0.2222222222222222,
             "#7201a8"
            ],
            [
             0.3333333333333333,
             "#9c179e"
            ],
            [
             0.4444444444444444,
             "#bd3786"
            ],
            [
             0.5555555555555556,
             "#d8576b"
            ],
            [
             0.6666666666666666,
             "#ed7953"
            ],
            [
             0.7777777777777778,
             "#fb9f3a"
            ],
            [
             0.8888888888888888,
             "#fdca26"
            ],
            [
             1,
             "#f0f921"
            ]
           ],
           "sequentialminus": [
            [
             0,
             "#0d0887"
            ],
            [
             0.1111111111111111,
             "#46039f"
            ],
            [
             0.2222222222222222,
             "#7201a8"
            ],
            [
             0.3333333333333333,
             "#9c179e"
            ],
            [
             0.4444444444444444,
             "#bd3786"
            ],
            [
             0.5555555555555556,
             "#d8576b"
            ],
            [
             0.6666666666666666,
             "#ed7953"
            ],
            [
             0.7777777777777778,
             "#fb9f3a"
            ],
            [
             0.8888888888888888,
             "#fdca26"
            ],
            [
             1,
             "#f0f921"
            ]
           ]
          },
          "colorway": [
           "#636efa",
           "#EF553B",
           "#00cc96",
           "#ab63fa",
           "#FFA15A",
           "#19d3f3",
           "#FF6692",
           "#B6E880",
           "#FF97FF",
           "#FECB52"
          ],
          "font": {
           "color": "#2a3f5f"
          },
          "geo": {
           "bgcolor": "white",
           "lakecolor": "white",
           "landcolor": "#E5ECF6",
           "showlakes": true,
           "showland": true,
           "subunitcolor": "white"
          },
          "hoverlabel": {
           "align": "left"
          },
          "hovermode": "closest",
          "mapbox": {
           "style": "light"
          },
          "paper_bgcolor": "white",
          "plot_bgcolor": "#E5ECF6",
          "polar": {
           "angularaxis": {
            "gridcolor": "white",
            "linecolor": "white",
            "ticks": ""
           },
           "bgcolor": "#E5ECF6",
           "radialaxis": {
            "gridcolor": "white",
            "linecolor": "white",
            "ticks": ""
           }
          },
          "scene": {
           "xaxis": {
            "backgroundcolor": "#E5ECF6",
            "gridcolor": "white",
            "gridwidth": 2,
            "linecolor": "white",
            "showbackground": true,
            "ticks": "",
            "zerolinecolor": "white"
           },
           "yaxis": {
            "backgroundcolor": "#E5ECF6",
            "gridcolor": "white",
            "gridwidth": 2,
            "linecolor": "white",
            "showbackground": true,
            "ticks": "",
            "zerolinecolor": "white"
           },
           "zaxis": {
            "backgroundcolor": "#E5ECF6",
            "gridcolor": "white",
            "gridwidth": 2,
            "linecolor": "white",
            "showbackground": true,
            "ticks": "",
            "zerolinecolor": "white"
           }
          },
          "shapedefaults": {
           "line": {
            "color": "#2a3f5f"
           }
          },
          "ternary": {
           "aaxis": {
            "gridcolor": "white",
            "linecolor": "white",
            "ticks": ""
           },
           "baxis": {
            "gridcolor": "white",
            "linecolor": "white",
            "ticks": ""
           },
           "bgcolor": "#E5ECF6",
           "caxis": {
            "gridcolor": "white",
            "linecolor": "white",
            "ticks": ""
           }
          },
          "title": {
           "x": 0.05
          },
          "xaxis": {
           "automargin": true,
           "gridcolor": "white",
           "linecolor": "white",
           "ticks": "",
           "title": {
            "standoff": 15
           },
           "zerolinecolor": "white",
           "zerolinewidth": 2
          },
          "yaxis": {
           "automargin": true,
           "gridcolor": "white",
           "linecolor": "white",
           "ticks": "",
           "title": {
            "standoff": 15
           },
           "zerolinecolor": "white",
           "zerolinewidth": 2
          }
         }
        }
       }
      }
     },
     "metadata": {},
     "output_type": "display_data"
    }
   ],
   "source": [
    "fig = px.sunburst(df, path=['organization_country', 'organization_city', 'organization_name'], values='prize')\n",
    "fig.show()"
   ]
  }
 ],
 "metadata": {
  "kernelspec": {
   "display_name": "DataScience",
   "language": "python",
   "name": "python3"
  },
  "language_info": {
   "codemirror_mode": {
    "name": "ipython",
    "version": 3
   },
   "file_extension": ".py",
   "mimetype": "text/x-python",
   "name": "python",
   "nbconvert_exporter": "python",
   "pygments_lexer": "ipython3",
   "version": "3.11.9"
  }
 },
 "nbformat": 4,
 "nbformat_minor": 2
}
