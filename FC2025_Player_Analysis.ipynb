{
 "cells": [
  {
   "cell_type": "code",
   "execution_count": 19,
   "metadata": {},
   "outputs": [],
   "source": [
    "import pandas as pd \n",
    "import numpy as np\n",
    "import seaborn as sns\n",
    "import matplotlib.pyplot as plt\n",
    "import pycountry\n",
    "import plotly.graph_objects as go\n",
    "import plotly.express as px"
   ]
  },
  {
   "cell_type": "code",
   "execution_count": 20,
   "metadata": {},
   "outputs": [
    {
     "name": "stderr",
     "output_type": "stream",
     "text": [
      "/var/folders/yk/fs7s5htj44b8ds6qh_c6gb0m0000gn/T/ipykernel_23565/2968712607.py:1: DtypeWarning:\n",
      "\n",
      "Columns (33) have mixed types. Specify dtype option on import or set low_memory=False.\n",
      "\n"
     ]
    }
   ],
   "source": [
    "all_data = pd.read_csv('./data/fifa/all_players.csv')\n",
    "female_players = pd.read_csv('./data/fifa/female_players.csv')\n",
    "male_players = pd.read_csv('./data/fifa/male_players.csv')"
   ]
  },
  {
   "cell_type": "code",
   "execution_count": 21,
   "metadata": {},
   "outputs": [
    {
     "data": {
      "text/plain": [
       "Index(['Unnamed: 0', 'Rank', 'Name', 'OVR', 'PAC', 'SHO', 'PAS', 'DRI', 'DEF',\n",
       "       'PHY', 'Acceleration', 'Sprint Speed', 'Positioning', 'Finishing',\n",
       "       'Shot Power', 'Long Shots', 'Volleys', 'Penalties', 'Vision',\n",
       "       'Crossing', 'Free Kick Accuracy', 'Short Passing', 'Long Passing',\n",
       "       'Curve', 'Dribbling', 'Agility', 'Balance', 'Reactions', 'Ball Control',\n",
       "       'Composure', 'Interceptions', 'Heading Accuracy', 'Def Awareness',\n",
       "       'Standing Tackle', 'Sliding Tackle', 'Jumping', 'Stamina', 'Strength',\n",
       "       'Aggression', 'Position', 'Weak foot', 'Skill moves', 'Preferred foot',\n",
       "       'Height', 'Weight', 'Alternative positions', 'Age', 'Nation', 'League',\n",
       "       'Team', 'play style', 'url', 'GK Diving', 'GK Handling', 'GK Kicking',\n",
       "       'GK Positioning', 'GK Reflexes'],\n",
       "      dtype='object')"
      ]
     },
     "execution_count": 21,
     "metadata": {},
     "output_type": "execute_result"
    }
   ],
   "source": [
    "all_data.columns"
   ]
  },
  {
   "cell_type": "code",
   "execution_count": 22,
   "metadata": {},
   "outputs": [
    {
     "data": {
      "text/html": [
       "<div>\n",
       "<style scoped>\n",
       "    .dataframe tbody tr th:only-of-type {\n",
       "        vertical-align: middle;\n",
       "    }\n",
       "\n",
       "    .dataframe tbody tr th {\n",
       "        vertical-align: top;\n",
       "    }\n",
       "\n",
       "    .dataframe thead th {\n",
       "        text-align: right;\n",
       "    }\n",
       "</style>\n",
       "<table border=\"1\" class=\"dataframe\">\n",
       "  <thead>\n",
       "    <tr style=\"text-align: right;\">\n",
       "      <th></th>\n",
       "      <th>Rank</th>\n",
       "      <th>Name</th>\n",
       "      <th>OVR</th>\n",
       "      <th>PAC</th>\n",
       "      <th>SHO</th>\n",
       "      <th>PAS</th>\n",
       "      <th>DRI</th>\n",
       "      <th>DEF</th>\n",
       "      <th>PHY</th>\n",
       "      <th>Acceleration</th>\n",
       "      <th>...</th>\n",
       "      <th>Preferred foot</th>\n",
       "      <th>Age</th>\n",
       "      <th>Nation</th>\n",
       "      <th>League</th>\n",
       "      <th>Team</th>\n",
       "      <th>GK Diving</th>\n",
       "      <th>GK Handling</th>\n",
       "      <th>GK Kicking</th>\n",
       "      <th>GK Positioning</th>\n",
       "      <th>GK Reflexes</th>\n",
       "    </tr>\n",
       "  </thead>\n",
       "  <tbody>\n",
       "    <tr>\n",
       "      <th>0</th>\n",
       "      <td>1</td>\n",
       "      <td>Kylian Mbappé</td>\n",
       "      <td>91</td>\n",
       "      <td>97</td>\n",
       "      <td>90</td>\n",
       "      <td>80</td>\n",
       "      <td>92</td>\n",
       "      <td>36</td>\n",
       "      <td>78</td>\n",
       "      <td>97</td>\n",
       "      <td>...</td>\n",
       "      <td>Right</td>\n",
       "      <td>25</td>\n",
       "      <td>France</td>\n",
       "      <td>LALIGA EA SPORTS</td>\n",
       "      <td>Real Madrid</td>\n",
       "      <td>NaN</td>\n",
       "      <td>NaN</td>\n",
       "      <td>NaN</td>\n",
       "      <td>NaN</td>\n",
       "      <td>NaN</td>\n",
       "    </tr>\n",
       "    <tr>\n",
       "      <th>1</th>\n",
       "      <td>2</td>\n",
       "      <td>Rodri</td>\n",
       "      <td>91</td>\n",
       "      <td>66</td>\n",
       "      <td>80</td>\n",
       "      <td>86</td>\n",
       "      <td>84</td>\n",
       "      <td>87</td>\n",
       "      <td>85</td>\n",
       "      <td>65</td>\n",
       "      <td>...</td>\n",
       "      <td>Right</td>\n",
       "      <td>28</td>\n",
       "      <td>Spain</td>\n",
       "      <td>Premier League</td>\n",
       "      <td>Manchester City</td>\n",
       "      <td>NaN</td>\n",
       "      <td>NaN</td>\n",
       "      <td>NaN</td>\n",
       "      <td>NaN</td>\n",
       "      <td>NaN</td>\n",
       "    </tr>\n",
       "    <tr>\n",
       "      <th>2</th>\n",
       "      <td>4</td>\n",
       "      <td>Erling Haaland</td>\n",
       "      <td>91</td>\n",
       "      <td>88</td>\n",
       "      <td>92</td>\n",
       "      <td>70</td>\n",
       "      <td>81</td>\n",
       "      <td>45</td>\n",
       "      <td>88</td>\n",
       "      <td>80</td>\n",
       "      <td>...</td>\n",
       "      <td>Left</td>\n",
       "      <td>24</td>\n",
       "      <td>Norway</td>\n",
       "      <td>Premier League</td>\n",
       "      <td>Manchester City</td>\n",
       "      <td>NaN</td>\n",
       "      <td>NaN</td>\n",
       "      <td>NaN</td>\n",
       "      <td>NaN</td>\n",
       "      <td>NaN</td>\n",
       "    </tr>\n",
       "    <tr>\n",
       "      <th>3</th>\n",
       "      <td>5</td>\n",
       "      <td>Jude Bellingham</td>\n",
       "      <td>90</td>\n",
       "      <td>80</td>\n",
       "      <td>87</td>\n",
       "      <td>83</td>\n",
       "      <td>88</td>\n",
       "      <td>78</td>\n",
       "      <td>83</td>\n",
       "      <td>81</td>\n",
       "      <td>...</td>\n",
       "      <td>Right</td>\n",
       "      <td>21</td>\n",
       "      <td>England</td>\n",
       "      <td>LALIGA EA SPORTS</td>\n",
       "      <td>Real Madrid</td>\n",
       "      <td>NaN</td>\n",
       "      <td>NaN</td>\n",
       "      <td>NaN</td>\n",
       "      <td>NaN</td>\n",
       "      <td>NaN</td>\n",
       "    </tr>\n",
       "    <tr>\n",
       "      <th>4</th>\n",
       "      <td>7</td>\n",
       "      <td>Vini Jr.</td>\n",
       "      <td>90</td>\n",
       "      <td>95</td>\n",
       "      <td>84</td>\n",
       "      <td>81</td>\n",
       "      <td>91</td>\n",
       "      <td>29</td>\n",
       "      <td>69</td>\n",
       "      <td>95</td>\n",
       "      <td>...</td>\n",
       "      <td>Right</td>\n",
       "      <td>24</td>\n",
       "      <td>Brazil</td>\n",
       "      <td>LALIGA EA SPORTS</td>\n",
       "      <td>Real Madrid</td>\n",
       "      <td>NaN</td>\n",
       "      <td>NaN</td>\n",
       "      <td>NaN</td>\n",
       "      <td>NaN</td>\n",
       "      <td>NaN</td>\n",
       "    </tr>\n",
       "    <tr>\n",
       "      <th>...</th>\n",
       "      <td>...</td>\n",
       "      <td>...</td>\n",
       "      <td>...</td>\n",
       "      <td>...</td>\n",
       "      <td>...</td>\n",
       "      <td>...</td>\n",
       "      <td>...</td>\n",
       "      <td>...</td>\n",
       "      <td>...</td>\n",
       "      <td>...</td>\n",
       "      <td>...</td>\n",
       "      <td>...</td>\n",
       "      <td>...</td>\n",
       "      <td>...</td>\n",
       "      <td>...</td>\n",
       "      <td>...</td>\n",
       "      <td>...</td>\n",
       "      <td>...</td>\n",
       "      <td>...</td>\n",
       "      <td>...</td>\n",
       "      <td>...</td>\n",
       "    </tr>\n",
       "    <tr>\n",
       "      <th>17732</th>\n",
       "      <td>17146</td>\n",
       "      <td>Araya Dennis</td>\n",
       "      <td>53</td>\n",
       "      <td>42</td>\n",
       "      <td>57</td>\n",
       "      <td>49</td>\n",
       "      <td>52</td>\n",
       "      <td>25</td>\n",
       "      <td>42</td>\n",
       "      <td>44</td>\n",
       "      <td>...</td>\n",
       "      <td>Right</td>\n",
       "      <td>18</td>\n",
       "      <td>England</td>\n",
       "      <td>Barclays WSL</td>\n",
       "      <td>Spurs</td>\n",
       "      <td>NaN</td>\n",
       "      <td>NaN</td>\n",
       "      <td>NaN</td>\n",
       "      <td>NaN</td>\n",
       "      <td>NaN</td>\n",
       "    </tr>\n",
       "    <tr>\n",
       "      <th>17733</th>\n",
       "      <td>17146</td>\n",
       "      <td>Alexia Férnandez</td>\n",
       "      <td>53</td>\n",
       "      <td>53</td>\n",
       "      <td>55</td>\n",
       "      <td>51</td>\n",
       "      <td>53</td>\n",
       "      <td>34</td>\n",
       "      <td>47</td>\n",
       "      <td>52</td>\n",
       "      <td>...</td>\n",
       "      <td>Right</td>\n",
       "      <td>22</td>\n",
       "      <td>Spain</td>\n",
       "      <td>Liga F</td>\n",
       "      <td>Granada CF</td>\n",
       "      <td>NaN</td>\n",
       "      <td>NaN</td>\n",
       "      <td>NaN</td>\n",
       "      <td>NaN</td>\n",
       "      <td>NaN</td>\n",
       "    </tr>\n",
       "    <tr>\n",
       "      <th>17734</th>\n",
       "      <td>17146</td>\n",
       "      <td>Aleigh Gambone</td>\n",
       "      <td>53</td>\n",
       "      <td>60</td>\n",
       "      <td>58</td>\n",
       "      <td>53</td>\n",
       "      <td>56</td>\n",
       "      <td>49</td>\n",
       "      <td>53</td>\n",
       "      <td>58</td>\n",
       "      <td>...</td>\n",
       "      <td>Right</td>\n",
       "      <td>23</td>\n",
       "      <td>United States</td>\n",
       "      <td>Scottish Women's League</td>\n",
       "      <td>Glasgow City FC</td>\n",
       "      <td>NaN</td>\n",
       "      <td>NaN</td>\n",
       "      <td>NaN</td>\n",
       "      <td>NaN</td>\n",
       "      <td>NaN</td>\n",
       "    </tr>\n",
       "    <tr>\n",
       "      <th>17735</th>\n",
       "      <td>17146</td>\n",
       "      <td>Joy Lysser</td>\n",
       "      <td>53</td>\n",
       "      <td>61</td>\n",
       "      <td>52</td>\n",
       "      <td>48</td>\n",
       "      <td>56</td>\n",
       "      <td>53</td>\n",
       "      <td>58</td>\n",
       "      <td>60</td>\n",
       "      <td>...</td>\n",
       "      <td>Left</td>\n",
       "      <td>20</td>\n",
       "      <td>Switzerland</td>\n",
       "      <td>Schweizer Damen Liga</td>\n",
       "      <td>FC Zürich</td>\n",
       "      <td>NaN</td>\n",
       "      <td>NaN</td>\n",
       "      <td>NaN</td>\n",
       "      <td>NaN</td>\n",
       "      <td>NaN</td>\n",
       "    </tr>\n",
       "    <tr>\n",
       "      <th>17736</th>\n",
       "      <td>17146</td>\n",
       "      <td>Kateřina Vithová</td>\n",
       "      <td>53</td>\n",
       "      <td>60</td>\n",
       "      <td>49</td>\n",
       "      <td>53</td>\n",
       "      <td>54</td>\n",
       "      <td>27</td>\n",
       "      <td>55</td>\n",
       "      <td>59</td>\n",
       "      <td>...</td>\n",
       "      <td>Left</td>\n",
       "      <td>18</td>\n",
       "      <td>Czech Republic</td>\n",
       "      <td>Ceska Liga Žen</td>\n",
       "      <td>Slavia Praha</td>\n",
       "      <td>NaN</td>\n",
       "      <td>NaN</td>\n",
       "      <td>NaN</td>\n",
       "      <td>NaN</td>\n",
       "      <td>NaN</td>\n",
       "    </tr>\n",
       "  </tbody>\n",
       "</table>\n",
       "<p>17737 rows × 51 columns</p>\n",
       "</div>"
      ],
      "text/plain": [
       "        Rank              Name  OVR  PAC  SHO  PAS  DRI  DEF  PHY  \\\n",
       "0          1     Kylian Mbappé   91   97   90   80   92   36   78   \n",
       "1          2             Rodri   91   66   80   86   84   87   85   \n",
       "2          4    Erling Haaland   91   88   92   70   81   45   88   \n",
       "3          5   Jude Bellingham   90   80   87   83   88   78   83   \n",
       "4          7          Vini Jr.   90   95   84   81   91   29   69   \n",
       "...      ...               ...  ...  ...  ...  ...  ...  ...  ...   \n",
       "17732  17146      Araya Dennis   53   42   57   49   52   25   42   \n",
       "17733  17146  Alexia Férnandez   53   53   55   51   53   34   47   \n",
       "17734  17146    Aleigh Gambone   53   60   58   53   56   49   53   \n",
       "17735  17146        Joy Lysser   53   61   52   48   56   53   58   \n",
       "17736  17146  Kateřina Vithová   53   60   49   53   54   27   55   \n",
       "\n",
       "       Acceleration  ...  Preferred foot Age          Nation  \\\n",
       "0                97  ...           Right  25          France   \n",
       "1                65  ...           Right  28           Spain   \n",
       "2                80  ...            Left  24          Norway   \n",
       "3                81  ...           Right  21         England   \n",
       "4                95  ...           Right  24          Brazil   \n",
       "...             ...  ...             ...  ..             ...   \n",
       "17732            44  ...           Right  18         England   \n",
       "17733            52  ...           Right  22           Spain   \n",
       "17734            58  ...           Right  23   United States   \n",
       "17735            60  ...            Left  20     Switzerland   \n",
       "17736            59  ...            Left  18  Czech Republic   \n",
       "\n",
       "                        League             Team GK Diving  GK Handling  \\\n",
       "0             LALIGA EA SPORTS      Real Madrid       NaN          NaN   \n",
       "1               Premier League  Manchester City       NaN          NaN   \n",
       "2               Premier League  Manchester City       NaN          NaN   \n",
       "3             LALIGA EA SPORTS      Real Madrid       NaN          NaN   \n",
       "4             LALIGA EA SPORTS      Real Madrid       NaN          NaN   \n",
       "...                        ...              ...       ...          ...   \n",
       "17732             Barclays WSL            Spurs       NaN          NaN   \n",
       "17733                   Liga F       Granada CF       NaN          NaN   \n",
       "17734  Scottish Women's League  Glasgow City FC       NaN          NaN   \n",
       "17735     Schweizer Damen Liga        FC Zürich       NaN          NaN   \n",
       "17736           Ceska Liga Žen     Slavia Praha       NaN          NaN   \n",
       "\n",
       "       GK Kicking GK Positioning GK Reflexes  \n",
       "0             NaN            NaN         NaN  \n",
       "1             NaN            NaN         NaN  \n",
       "2             NaN            NaN         NaN  \n",
       "3             NaN            NaN         NaN  \n",
       "4             NaN            NaN         NaN  \n",
       "...           ...            ...         ...  \n",
       "17732         NaN            NaN         NaN  \n",
       "17733         NaN            NaN         NaN  \n",
       "17734         NaN            NaN         NaN  \n",
       "17735         NaN            NaN         NaN  \n",
       "17736         NaN            NaN         NaN  \n",
       "\n",
       "[17737 rows x 51 columns]"
      ]
     },
     "execution_count": 22,
     "metadata": {},
     "output_type": "execute_result"
    }
   ],
   "source": [
    "#Del the first column\n",
    "all_data.drop(['Unnamed: 0', 'Height', 'Weight', 'Alternative positions', 'play style', 'url'], axis = 1, inplace= True)\n",
    "female_players.drop('Unnamed: 0', axis = 1, inplace= True)\n",
    "male_players.drop('Unnamed: 0', axis = 1, inplace= True)\n",
    "\n",
    "all_data"
   ]
  },
  {
   "cell_type": "code",
   "execution_count": 23,
   "metadata": {},
   "outputs": [
    {
     "data": {
      "text/plain": [
       "Position\n",
       "CB     3185\n",
       "ST     2425\n",
       "CM     2139\n",
       "GK     1999\n",
       "CDM    1447\n",
       "RB     1404\n",
       "LB     1333\n",
       "LM     1035\n",
       "CAM    1024\n",
       "RM      961\n",
       "RW      402\n",
       "LW      383\n",
       "Name: count, dtype: int64"
      ]
     },
     "execution_count": 23,
     "metadata": {},
     "output_type": "execute_result"
    }
   ],
   "source": [
    "all_data['Position'].value_counts()"
   ]
  },
  {
   "cell_type": "code",
   "execution_count": 24,
   "metadata": {},
   "outputs": [
    {
     "data": {
      "text/html": [
       "<div>\n",
       "<style scoped>\n",
       "    .dataframe tbody tr th:only-of-type {\n",
       "        vertical-align: middle;\n",
       "    }\n",
       "\n",
       "    .dataframe tbody tr th {\n",
       "        vertical-align: top;\n",
       "    }\n",
       "\n",
       "    .dataframe thead th {\n",
       "        text-align: right;\n",
       "    }\n",
       "</style>\n",
       "<table border=\"1\" class=\"dataframe\">\n",
       "  <thead>\n",
       "    <tr style=\"text-align: right;\">\n",
       "      <th></th>\n",
       "      <th>Rank</th>\n",
       "      <th>Name</th>\n",
       "      <th>OVR</th>\n",
       "      <th>PAC</th>\n",
       "      <th>SHO</th>\n",
       "      <th>PAS</th>\n",
       "      <th>DRI</th>\n",
       "      <th>DEF</th>\n",
       "      <th>PHY</th>\n",
       "      <th>Acceleration</th>\n",
       "      <th>...</th>\n",
       "      <th>Preferred foot</th>\n",
       "      <th>Age</th>\n",
       "      <th>Nation</th>\n",
       "      <th>League</th>\n",
       "      <th>Team</th>\n",
       "      <th>GK Diving</th>\n",
       "      <th>GK Handling</th>\n",
       "      <th>GK Kicking</th>\n",
       "      <th>GK Positioning</th>\n",
       "      <th>GK Reflexes</th>\n",
       "    </tr>\n",
       "  </thead>\n",
       "  <tbody>\n",
       "    <tr>\n",
       "      <th>8</th>\n",
       "      <td>13</td>\n",
       "      <td>Gianluigi Donnarumma</td>\n",
       "      <td>89</td>\n",
       "      <td>90</td>\n",
       "      <td>84</td>\n",
       "      <td>73</td>\n",
       "      <td>90</td>\n",
       "      <td>52</td>\n",
       "      <td>87</td>\n",
       "      <td>50</td>\n",
       "      <td>...</td>\n",
       "      <td>Right</td>\n",
       "      <td>25</td>\n",
       "      <td>Italy</td>\n",
       "      <td>Ligue 1 McDonald's</td>\n",
       "      <td>Paris SG</td>\n",
       "      <td>90.0</td>\n",
       "      <td>84.0</td>\n",
       "      <td>73.0</td>\n",
       "      <td>87.0</td>\n",
       "      <td>90.0</td>\n",
       "    </tr>\n",
       "    <tr>\n",
       "      <th>9</th>\n",
       "      <td>15</td>\n",
       "      <td>Alisson</td>\n",
       "      <td>89</td>\n",
       "      <td>86</td>\n",
       "      <td>85</td>\n",
       "      <td>85</td>\n",
       "      <td>89</td>\n",
       "      <td>56</td>\n",
       "      <td>90</td>\n",
       "      <td>60</td>\n",
       "      <td>...</td>\n",
       "      <td>Right</td>\n",
       "      <td>31</td>\n",
       "      <td>Brazil</td>\n",
       "      <td>Premier League</td>\n",
       "      <td>Liverpool</td>\n",
       "      <td>86.0</td>\n",
       "      <td>85.0</td>\n",
       "      <td>85.0</td>\n",
       "      <td>90.0</td>\n",
       "      <td>89.0</td>\n",
       "    </tr>\n",
       "    <tr>\n",
       "      <th>10</th>\n",
       "      <td>16</td>\n",
       "      <td>Thibaut Courtois</td>\n",
       "      <td>89</td>\n",
       "      <td>85</td>\n",
       "      <td>89</td>\n",
       "      <td>76</td>\n",
       "      <td>90</td>\n",
       "      <td>46</td>\n",
       "      <td>88</td>\n",
       "      <td>42</td>\n",
       "      <td>...</td>\n",
       "      <td>Left</td>\n",
       "      <td>32</td>\n",
       "      <td>Belgium</td>\n",
       "      <td>LALIGA EA SPORTS</td>\n",
       "      <td>Real Madrid</td>\n",
       "      <td>85.0</td>\n",
       "      <td>89.0</td>\n",
       "      <td>76.0</td>\n",
       "      <td>88.0</td>\n",
       "      <td>90.0</td>\n",
       "    </tr>\n",
       "    <tr>\n",
       "      <th>13</th>\n",
       "      <td>21</td>\n",
       "      <td>Marc-André ter Stegen</td>\n",
       "      <td>89</td>\n",
       "      <td>86</td>\n",
       "      <td>85</td>\n",
       "      <td>89</td>\n",
       "      <td>91</td>\n",
       "      <td>47</td>\n",
       "      <td>86</td>\n",
       "      <td>45</td>\n",
       "      <td>...</td>\n",
       "      <td>Right</td>\n",
       "      <td>32</td>\n",
       "      <td>Germany</td>\n",
       "      <td>LALIGA EA SPORTS</td>\n",
       "      <td>FC Barcelona</td>\n",
       "      <td>86.0</td>\n",
       "      <td>85.0</td>\n",
       "      <td>89.0</td>\n",
       "      <td>86.0</td>\n",
       "      <td>91.0</td>\n",
       "    </tr>\n",
       "    <tr>\n",
       "      <th>21</th>\n",
       "      <td>33</td>\n",
       "      <td>Ederson</td>\n",
       "      <td>88</td>\n",
       "      <td>87</td>\n",
       "      <td>82</td>\n",
       "      <td>91</td>\n",
       "      <td>87</td>\n",
       "      <td>64</td>\n",
       "      <td>86</td>\n",
       "      <td>64</td>\n",
       "      <td>...</td>\n",
       "      <td>Left</td>\n",
       "      <td>31</td>\n",
       "      <td>Brazil</td>\n",
       "      <td>Premier League</td>\n",
       "      <td>Manchester City</td>\n",
       "      <td>87.0</td>\n",
       "      <td>82.0</td>\n",
       "      <td>91.0</td>\n",
       "      <td>86.0</td>\n",
       "      <td>87.0</td>\n",
       "    </tr>\n",
       "    <tr>\n",
       "      <th>...</th>\n",
       "      <td>...</td>\n",
       "      <td>...</td>\n",
       "      <td>...</td>\n",
       "      <td>...</td>\n",
       "      <td>...</td>\n",
       "      <td>...</td>\n",
       "      <td>...</td>\n",
       "      <td>...</td>\n",
       "      <td>...</td>\n",
       "      <td>...</td>\n",
       "      <td>...</td>\n",
       "      <td>...</td>\n",
       "      <td>...</td>\n",
       "      <td>...</td>\n",
       "      <td>...</td>\n",
       "      <td>...</td>\n",
       "      <td>...</td>\n",
       "      <td>...</td>\n",
       "      <td>...</td>\n",
       "      <td>...</td>\n",
       "      <td>...</td>\n",
       "    </tr>\n",
       "    <tr>\n",
       "      <th>17699</th>\n",
       "      <td>15274</td>\n",
       "      <td>Alizée Flagellat</td>\n",
       "      <td>59</td>\n",
       "      <td>64</td>\n",
       "      <td>60</td>\n",
       "      <td>62</td>\n",
       "      <td>58</td>\n",
       "      <td>42</td>\n",
       "      <td>51</td>\n",
       "      <td>38</td>\n",
       "      <td>...</td>\n",
       "      <td>Right</td>\n",
       "      <td>20</td>\n",
       "      <td>France</td>\n",
       "      <td>Arkema PL</td>\n",
       "      <td>Paris FC</td>\n",
       "      <td>64.0</td>\n",
       "      <td>60.0</td>\n",
       "      <td>62.0</td>\n",
       "      <td>51.0</td>\n",
       "      <td>58.0</td>\n",
       "    </tr>\n",
       "    <tr>\n",
       "      <th>17701</th>\n",
       "      <td>15274</td>\n",
       "      <td>Safia Middleton-Patel</td>\n",
       "      <td>59</td>\n",
       "      <td>59</td>\n",
       "      <td>59</td>\n",
       "      <td>57</td>\n",
       "      <td>59</td>\n",
       "      <td>49</td>\n",
       "      <td>58</td>\n",
       "      <td>50</td>\n",
       "      <td>...</td>\n",
       "      <td>Right</td>\n",
       "      <td>19</td>\n",
       "      <td>Wales</td>\n",
       "      <td>Barclays WSL</td>\n",
       "      <td>Manchester Utd</td>\n",
       "      <td>59.0</td>\n",
       "      <td>59.0</td>\n",
       "      <td>57.0</td>\n",
       "      <td>58.0</td>\n",
       "      <td>59.0</td>\n",
       "    </tr>\n",
       "    <tr>\n",
       "      <th>17702</th>\n",
       "      <td>15274</td>\n",
       "      <td>Anne Moll</td>\n",
       "      <td>59</td>\n",
       "      <td>63</td>\n",
       "      <td>60</td>\n",
       "      <td>57</td>\n",
       "      <td>62</td>\n",
       "      <td>48</td>\n",
       "      <td>55</td>\n",
       "      <td>47</td>\n",
       "      <td>...</td>\n",
       "      <td>Right</td>\n",
       "      <td>19</td>\n",
       "      <td>Germany</td>\n",
       "      <td>GPFBL</td>\n",
       "      <td>Leverkusen</td>\n",
       "      <td>63.0</td>\n",
       "      <td>60.0</td>\n",
       "      <td>57.0</td>\n",
       "      <td>55.0</td>\n",
       "      <td>62.0</td>\n",
       "    </tr>\n",
       "    <tr>\n",
       "      <th>17720</th>\n",
       "      <td>16153</td>\n",
       "      <td>Eleanor Heeps</td>\n",
       "      <td>57</td>\n",
       "      <td>57</td>\n",
       "      <td>59</td>\n",
       "      <td>54</td>\n",
       "      <td>59</td>\n",
       "      <td>40</td>\n",
       "      <td>53</td>\n",
       "      <td>40</td>\n",
       "      <td>...</td>\n",
       "      <td>Right</td>\n",
       "      <td>21</td>\n",
       "      <td>England</td>\n",
       "      <td>Barclays WSL</td>\n",
       "      <td>Spurs</td>\n",
       "      <td>57.0</td>\n",
       "      <td>59.0</td>\n",
       "      <td>54.0</td>\n",
       "      <td>53.0</td>\n",
       "      <td>59.0</td>\n",
       "    </tr>\n",
       "    <tr>\n",
       "      <th>17722</th>\n",
       "      <td>16153</td>\n",
       "      <td>Naomi Williams</td>\n",
       "      <td>57</td>\n",
       "      <td>53</td>\n",
       "      <td>54</td>\n",
       "      <td>56</td>\n",
       "      <td>59</td>\n",
       "      <td>39</td>\n",
       "      <td>56</td>\n",
       "      <td>38</td>\n",
       "      <td>...</td>\n",
       "      <td>Right</td>\n",
       "      <td>19</td>\n",
       "      <td>England</td>\n",
       "      <td>Barclays WSL</td>\n",
       "      <td>Arsenal</td>\n",
       "      <td>53.0</td>\n",
       "      <td>54.0</td>\n",
       "      <td>56.0</td>\n",
       "      <td>56.0</td>\n",
       "      <td>59.0</td>\n",
       "    </tr>\n",
       "  </tbody>\n",
       "</table>\n",
       "<p>1999 rows × 51 columns</p>\n",
       "</div>"
      ],
      "text/plain": [
       "        Rank                   Name  OVR  PAC  SHO  PAS  DRI  DEF  PHY  \\\n",
       "8         13   Gianluigi Donnarumma   89   90   84   73   90   52   87   \n",
       "9         15                Alisson   89   86   85   85   89   56   90   \n",
       "10        16       Thibaut Courtois   89   85   89   76   90   46   88   \n",
       "13        21  Marc-André ter Stegen   89   86   85   89   91   47   86   \n",
       "21        33                Ederson   88   87   82   91   87   64   86   \n",
       "...      ...                    ...  ...  ...  ...  ...  ...  ...  ...   \n",
       "17699  15274       Alizée Flagellat   59   64   60   62   58   42   51   \n",
       "17701  15274  Safia Middleton-Patel   59   59   59   57   59   49   58   \n",
       "17702  15274              Anne Moll   59   63   60   57   62   48   55   \n",
       "17720  16153          Eleanor Heeps   57   57   59   54   59   40   53   \n",
       "17722  16153         Naomi Williams   57   53   54   56   59   39   56   \n",
       "\n",
       "       Acceleration  ...  Preferred foot Age   Nation              League  \\\n",
       "8                50  ...           Right  25    Italy  Ligue 1 McDonald's   \n",
       "9                60  ...           Right  31   Brazil      Premier League   \n",
       "10               42  ...            Left  32  Belgium    LALIGA EA SPORTS   \n",
       "13               45  ...           Right  32  Germany    LALIGA EA SPORTS   \n",
       "21               64  ...            Left  31   Brazil      Premier League   \n",
       "...             ...  ...             ...  ..      ...                 ...   \n",
       "17699            38  ...           Right  20   France           Arkema PL   \n",
       "17701            50  ...           Right  19    Wales        Barclays WSL   \n",
       "17702            47  ...           Right  19  Germany               GPFBL   \n",
       "17720            40  ...           Right  21  England        Barclays WSL   \n",
       "17722            38  ...           Right  19  England        Barclays WSL   \n",
       "\n",
       "                  Team GK Diving  GK Handling  GK Kicking GK Positioning  \\\n",
       "8             Paris SG      90.0         84.0        73.0           87.0   \n",
       "9            Liverpool      86.0         85.0        85.0           90.0   \n",
       "10         Real Madrid      85.0         89.0        76.0           88.0   \n",
       "13        FC Barcelona      86.0         85.0        89.0           86.0   \n",
       "21     Manchester City      87.0         82.0        91.0           86.0   \n",
       "...                ...       ...          ...         ...            ...   \n",
       "17699         Paris FC      64.0         60.0        62.0           51.0   \n",
       "17701   Manchester Utd      59.0         59.0        57.0           58.0   \n",
       "17702       Leverkusen      63.0         60.0        57.0           55.0   \n",
       "17720            Spurs      57.0         59.0        54.0           53.0   \n",
       "17722          Arsenal      53.0         54.0        56.0           56.0   \n",
       "\n",
       "      GK Reflexes  \n",
       "8            90.0  \n",
       "9            89.0  \n",
       "10           90.0  \n",
       "13           91.0  \n",
       "21           87.0  \n",
       "...           ...  \n",
       "17699        58.0  \n",
       "17701        59.0  \n",
       "17702        62.0  \n",
       "17720        59.0  \n",
       "17722        59.0  \n",
       "\n",
       "[1999 rows x 51 columns]"
      ]
     },
     "execution_count": 24,
     "metadata": {},
     "output_type": "execute_result"
    }
   ],
   "source": [
    "goalies = all_data[all_data['Position'] == 'GK']\n",
    "goalies"
   ]
  },
  {
   "cell_type": "code",
   "execution_count": 25,
   "metadata": {},
   "outputs": [
    {
     "data": {
      "image/png": "[encoded data removed]",
      "text/plain": [
       "<Figure size 640x480 with 2 Axes>"
      ]
     },
     "metadata": {},
     "output_type": "display_data"
    }
   ],
   "source": [
    "sns.heatmap(goalies.isnull())\n",
    "plt.show()"
   ]
  },
  {
   "cell_type": "code",
   "execution_count": 26,
   "metadata": {},
   "outputs": [
    {
     "data": {
      "text/html": [
       "<div>\n",
       "<style scoped>\n",
       "    .dataframe tbody tr th:only-of-type {\n",
       "        vertical-align: middle;\n",
       "    }\n",
       "\n",
       "    .dataframe tbody tr th {\n",
       "        vertical-align: top;\n",
       "    }\n",
       "\n",
       "    .dataframe thead th {\n",
       "        text-align: right;\n",
       "    }\n",
       "</style>\n",
       "<table border=\"1\" class=\"dataframe\">\n",
       "  <thead>\n",
       "    <tr style=\"text-align: right;\">\n",
       "      <th></th>\n",
       "      <th>Rank</th>\n",
       "      <th>Name</th>\n",
       "      <th>OVR</th>\n",
       "      <th>PAC</th>\n",
       "      <th>SHO</th>\n",
       "      <th>PAS</th>\n",
       "      <th>DRI</th>\n",
       "      <th>DEF</th>\n",
       "      <th>PHY</th>\n",
       "      <th>Acceleration</th>\n",
       "      <th>...</th>\n",
       "      <th>Preferred foot</th>\n",
       "      <th>Age</th>\n",
       "      <th>Nation</th>\n",
       "      <th>League</th>\n",
       "      <th>Team</th>\n",
       "      <th>GK Diving</th>\n",
       "      <th>GK Handling</th>\n",
       "      <th>GK Kicking</th>\n",
       "      <th>GK Positioning</th>\n",
       "      <th>GK Reflexes</th>\n",
       "    </tr>\n",
       "  </thead>\n",
       "  <tbody>\n",
       "    <tr>\n",
       "      <th>0</th>\n",
       "      <td>1</td>\n",
       "      <td>Kylian Mbappé</td>\n",
       "      <td>91</td>\n",
       "      <td>97</td>\n",
       "      <td>90</td>\n",
       "      <td>80</td>\n",
       "      <td>92</td>\n",
       "      <td>36</td>\n",
       "      <td>78</td>\n",
       "      <td>97</td>\n",
       "      <td>...</td>\n",
       "      <td>Right</td>\n",
       "      <td>25</td>\n",
       "      <td>France</td>\n",
       "      <td>LALIGA EA SPORTS</td>\n",
       "      <td>Real Madrid</td>\n",
       "      <td>NaN</td>\n",
       "      <td>NaN</td>\n",
       "      <td>NaN</td>\n",
       "      <td>NaN</td>\n",
       "      <td>NaN</td>\n",
       "    </tr>\n",
       "    <tr>\n",
       "      <th>1</th>\n",
       "      <td>2</td>\n",
       "      <td>Rodri</td>\n",
       "      <td>91</td>\n",
       "      <td>66</td>\n",
       "      <td>80</td>\n",
       "      <td>86</td>\n",
       "      <td>84</td>\n",
       "      <td>87</td>\n",
       "      <td>85</td>\n",
       "      <td>65</td>\n",
       "      <td>...</td>\n",
       "      <td>Right</td>\n",
       "      <td>28</td>\n",
       "      <td>Spain</td>\n",
       "      <td>Premier League</td>\n",
       "      <td>Manchester City</td>\n",
       "      <td>NaN</td>\n",
       "      <td>NaN</td>\n",
       "      <td>NaN</td>\n",
       "      <td>NaN</td>\n",
       "      <td>NaN</td>\n",
       "    </tr>\n",
       "    <tr>\n",
       "      <th>2</th>\n",
       "      <td>4</td>\n",
       "      <td>Erling Haaland</td>\n",
       "      <td>91</td>\n",
       "      <td>88</td>\n",
       "      <td>92</td>\n",
       "      <td>70</td>\n",
       "      <td>81</td>\n",
       "      <td>45</td>\n",
       "      <td>88</td>\n",
       "      <td>80</td>\n",
       "      <td>...</td>\n",
       "      <td>Left</td>\n",
       "      <td>24</td>\n",
       "      <td>Norway</td>\n",
       "      <td>Premier League</td>\n",
       "      <td>Manchester City</td>\n",
       "      <td>NaN</td>\n",
       "      <td>NaN</td>\n",
       "      <td>NaN</td>\n",
       "      <td>NaN</td>\n",
       "      <td>NaN</td>\n",
       "    </tr>\n",
       "    <tr>\n",
       "      <th>3</th>\n",
       "      <td>5</td>\n",
       "      <td>Jude Bellingham</td>\n",
       "      <td>90</td>\n",
       "      <td>80</td>\n",
       "      <td>87</td>\n",
       "      <td>83</td>\n",
       "      <td>88</td>\n",
       "      <td>78</td>\n",
       "      <td>83</td>\n",
       "      <td>81</td>\n",
       "      <td>...</td>\n",
       "      <td>Right</td>\n",
       "      <td>21</td>\n",
       "      <td>England</td>\n",
       "      <td>LALIGA EA SPORTS</td>\n",
       "      <td>Real Madrid</td>\n",
       "      <td>NaN</td>\n",
       "      <td>NaN</td>\n",
       "      <td>NaN</td>\n",
       "      <td>NaN</td>\n",
       "      <td>NaN</td>\n",
       "    </tr>\n",
       "    <tr>\n",
       "      <th>4</th>\n",
       "      <td>7</td>\n",
       "      <td>Vini Jr.</td>\n",
       "      <td>90</td>\n",
       "      <td>95</td>\n",
       "      <td>84</td>\n",
       "      <td>81</td>\n",
       "      <td>91</td>\n",
       "      <td>29</td>\n",
       "      <td>69</td>\n",
       "      <td>95</td>\n",
       "      <td>...</td>\n",
       "      <td>Right</td>\n",
       "      <td>24</td>\n",
       "      <td>Brazil</td>\n",
       "      <td>LALIGA EA SPORTS</td>\n",
       "      <td>Real Madrid</td>\n",
       "      <td>NaN</td>\n",
       "      <td>NaN</td>\n",
       "      <td>NaN</td>\n",
       "      <td>NaN</td>\n",
       "      <td>NaN</td>\n",
       "    </tr>\n",
       "    <tr>\n",
       "      <th>...</th>\n",
       "      <td>...</td>\n",
       "      <td>...</td>\n",
       "      <td>...</td>\n",
       "      <td>...</td>\n",
       "      <td>...</td>\n",
       "      <td>...</td>\n",
       "      <td>...</td>\n",
       "      <td>...</td>\n",
       "      <td>...</td>\n",
       "      <td>...</td>\n",
       "      <td>...</td>\n",
       "      <td>...</td>\n",
       "      <td>...</td>\n",
       "      <td>...</td>\n",
       "      <td>...</td>\n",
       "      <td>...</td>\n",
       "      <td>...</td>\n",
       "      <td>...</td>\n",
       "      <td>...</td>\n",
       "      <td>...</td>\n",
       "      <td>...</td>\n",
       "    </tr>\n",
       "    <tr>\n",
       "      <th>17732</th>\n",
       "      <td>17146</td>\n",
       "      <td>Araya Dennis</td>\n",
       "      <td>53</td>\n",
       "      <td>42</td>\n",
       "      <td>57</td>\n",
       "      <td>49</td>\n",
       "      <td>52</td>\n",
       "      <td>25</td>\n",
       "      <td>42</td>\n",
       "      <td>44</td>\n",
       "      <td>...</td>\n",
       "      <td>Right</td>\n",
       "      <td>18</td>\n",
       "      <td>England</td>\n",
       "      <td>Barclays WSL</td>\n",
       "      <td>Spurs</td>\n",
       "      <td>NaN</td>\n",
       "      <td>NaN</td>\n",
       "      <td>NaN</td>\n",
       "      <td>NaN</td>\n",
       "      <td>NaN</td>\n",
       "    </tr>\n",
       "    <tr>\n",
       "      <th>17733</th>\n",
       "      <td>17146</td>\n",
       "      <td>Alexia Férnandez</td>\n",
       "      <td>53</td>\n",
       "      <td>53</td>\n",
       "      <td>55</td>\n",
       "      <td>51</td>\n",
       "      <td>53</td>\n",
       "      <td>34</td>\n",
       "      <td>47</td>\n",
       "      <td>52</td>\n",
       "      <td>...</td>\n",
       "      <td>Right</td>\n",
       "      <td>22</td>\n",
       "      <td>Spain</td>\n",
       "      <td>Liga F</td>\n",
       "      <td>Granada CF</td>\n",
       "      <td>NaN</td>\n",
       "      <td>NaN</td>\n",
       "      <td>NaN</td>\n",
       "      <td>NaN</td>\n",
       "      <td>NaN</td>\n",
       "    </tr>\n",
       "    <tr>\n",
       "      <th>17734</th>\n",
       "      <td>17146</td>\n",
       "      <td>Aleigh Gambone</td>\n",
       "      <td>53</td>\n",
       "      <td>60</td>\n",
       "      <td>58</td>\n",
       "      <td>53</td>\n",
       "      <td>56</td>\n",
       "      <td>49</td>\n",
       "      <td>53</td>\n",
       "      <td>58</td>\n",
       "      <td>...</td>\n",
       "      <td>Right</td>\n",
       "      <td>23</td>\n",
       "      <td>United States</td>\n",
       "      <td>Scottish Women's League</td>\n",
       "      <td>Glasgow City FC</td>\n",
       "      <td>NaN</td>\n",
       "      <td>NaN</td>\n",
       "      <td>NaN</td>\n",
       "      <td>NaN</td>\n",
       "      <td>NaN</td>\n",
       "    </tr>\n",
       "    <tr>\n",
       "      <th>17735</th>\n",
       "      <td>17146</td>\n",
       "      <td>Joy Lysser</td>\n",
       "      <td>53</td>\n",
       "      <td>61</td>\n",
       "      <td>52</td>\n",
       "      <td>48</td>\n",
       "      <td>56</td>\n",
       "      <td>53</td>\n",
       "      <td>58</td>\n",
       "      <td>60</td>\n",
       "      <td>...</td>\n",
       "      <td>Left</td>\n",
       "      <td>20</td>\n",
       "      <td>Switzerland</td>\n",
       "      <td>Schweizer Damen Liga</td>\n",
       "      <td>FC Zürich</td>\n",
       "      <td>NaN</td>\n",
       "      <td>NaN</td>\n",
       "      <td>NaN</td>\n",
       "      <td>NaN</td>\n",
       "      <td>NaN</td>\n",
       "    </tr>\n",
       "    <tr>\n",
       "      <th>17736</th>\n",
       "      <td>17146</td>\n",
       "      <td>Kateřina Vithová</td>\n",
       "      <td>53</td>\n",
       "      <td>60</td>\n",
       "      <td>49</td>\n",
       "      <td>53</td>\n",
       "      <td>54</td>\n",
       "      <td>27</td>\n",
       "      <td>55</td>\n",
       "      <td>59</td>\n",
       "      <td>...</td>\n",
       "      <td>Left</td>\n",
       "      <td>18</td>\n",
       "      <td>Czech Republic</td>\n",
       "      <td>Ceska Liga Žen</td>\n",
       "      <td>Slavia Praha</td>\n",
       "      <td>NaN</td>\n",
       "      <td>NaN</td>\n",
       "      <td>NaN</td>\n",
       "      <td>NaN</td>\n",
       "      <td>NaN</td>\n",
       "    </tr>\n",
       "  </tbody>\n",
       "</table>\n",
       "<p>15738 rows × 51 columns</p>\n",
       "</div>"
      ],
      "text/plain": [
       "        Rank              Name  OVR  PAC  SHO  PAS  DRI  DEF  PHY  \\\n",
       "0          1     Kylian Mbappé   91   97   90   80   92   36   78   \n",
       "1          2             Rodri   91   66   80   86   84   87   85   \n",
       "2          4    Erling Haaland   91   88   92   70   81   45   88   \n",
       "3          5   Jude Bellingham   90   80   87   83   88   78   83   \n",
       "4          7          Vini Jr.   90   95   84   81   91   29   69   \n",
       "...      ...               ...  ...  ...  ...  ...  ...  ...  ...   \n",
       "17732  17146      Araya Dennis   53   42   57   49   52   25   42   \n",
       "17733  17146  Alexia Férnandez   53   53   55   51   53   34   47   \n",
       "17734  17146    Aleigh Gambone   53   60   58   53   56   49   53   \n",
       "17735  17146        Joy Lysser   53   61   52   48   56   53   58   \n",
       "17736  17146  Kateřina Vithová   53   60   49   53   54   27   55   \n",
       "\n",
       "       Acceleration  ...  Preferred foot Age          Nation  \\\n",
       "0                97  ...           Right  25          France   \n",
       "1                65  ...           Right  28           Spain   \n",
       "2                80  ...            Left  24          Norway   \n",
       "3                81  ...           Right  21         England   \n",
       "4                95  ...           Right  24          Brazil   \n",
       "...             ...  ...             ...  ..             ...   \n",
       "17732            44  ...           Right  18         England   \n",
       "17733            52  ...           Right  22           Spain   \n",
       "17734            58  ...           Right  23   United States   \n",
       "17735            60  ...            Left  20     Switzerland   \n",
       "17736            59  ...            Left  18  Czech Republic   \n",
       "\n",
       "                        League             Team GK Diving  GK Handling  \\\n",
       "0             LALIGA EA SPORTS      Real Madrid       NaN          NaN   \n",
       "1               Premier League  Manchester City       NaN          NaN   \n",
       "2               Premier League  Manchester City       NaN          NaN   \n",
       "3             LALIGA EA SPORTS      Real Madrid       NaN          NaN   \n",
       "4             LALIGA EA SPORTS      Real Madrid       NaN          NaN   \n",
       "...                        ...              ...       ...          ...   \n",
       "17732             Barclays WSL            Spurs       NaN          NaN   \n",
       "17733                   Liga F       Granada CF       NaN          NaN   \n",
       "17734  Scottish Women's League  Glasgow City FC       NaN          NaN   \n",
       "17735     Schweizer Damen Liga        FC Zürich       NaN          NaN   \n",
       "17736           Ceska Liga Žen     Slavia Praha       NaN          NaN   \n",
       "\n",
       "       GK Kicking GK Positioning GK Reflexes  \n",
       "0             NaN            NaN         NaN  \n",
       "1             NaN            NaN         NaN  \n",
       "2             NaN            NaN         NaN  \n",
       "3             NaN            NaN         NaN  \n",
       "4             NaN            NaN         NaN  \n",
       "...           ...            ...         ...  \n",
       "17732         NaN            NaN         NaN  \n",
       "17733         NaN            NaN         NaN  \n",
       "17734         NaN            NaN         NaN  \n",
       "17735         NaN            NaN         NaN  \n",
       "17736         NaN            NaN         NaN  \n",
       "\n",
       "[15738 rows x 51 columns]"
      ]
     },
     "execution_count": 26,
     "metadata": {},
     "output_type": "execute_result"
    }
   ],
   "source": [
    "all_data = all_data[all_data['Position'] != 'GK']\n",
    "all_data"
   ]
  },
  {
   "cell_type": "code",
   "execution_count": 27,
   "metadata": {},
   "outputs": [
    {
     "data": {
      "text/html": [
       "<div>\n",
       "<style scoped>\n",
       "    .dataframe tbody tr th:only-of-type {\n",
       "        vertical-align: middle;\n",
       "    }\n",
       "\n",
       "    .dataframe tbody tr th {\n",
       "        vertical-align: top;\n",
       "    }\n",
       "\n",
       "    .dataframe thead th {\n",
       "        text-align: right;\n",
       "    }\n",
       "</style>\n",
       "<table border=\"1\" class=\"dataframe\">\n",
       "  <thead>\n",
       "    <tr style=\"text-align: right;\">\n",
       "      <th></th>\n",
       "      <th>Rank</th>\n",
       "      <th>Name</th>\n",
       "      <th>OVR</th>\n",
       "      <th>PAC</th>\n",
       "      <th>SHO</th>\n",
       "      <th>PAS</th>\n",
       "      <th>DRI</th>\n",
       "      <th>DEF</th>\n",
       "      <th>PHY</th>\n",
       "      <th>Acceleration</th>\n",
       "      <th>...</th>\n",
       "      <th>Strength</th>\n",
       "      <th>Aggression</th>\n",
       "      <th>Position</th>\n",
       "      <th>Weak foot</th>\n",
       "      <th>Skill moves</th>\n",
       "      <th>Preferred foot</th>\n",
       "      <th>Age</th>\n",
       "      <th>Nation</th>\n",
       "      <th>League</th>\n",
       "      <th>Team</th>\n",
       "    </tr>\n",
       "  </thead>\n",
       "  <tbody>\n",
       "    <tr>\n",
       "      <th>0</th>\n",
       "      <td>1</td>\n",
       "      <td>Kylian Mbappé</td>\n",
       "      <td>91</td>\n",
       "      <td>97</td>\n",
       "      <td>90</td>\n",
       "      <td>80</td>\n",
       "      <td>92</td>\n",
       "      <td>36</td>\n",
       "      <td>78</td>\n",
       "      <td>97</td>\n",
       "      <td>...</td>\n",
       "      <td>77</td>\n",
       "      <td>64</td>\n",
       "      <td>ST</td>\n",
       "      <td>4</td>\n",
       "      <td>5</td>\n",
       "      <td>Right</td>\n",
       "      <td>25</td>\n",
       "      <td>France</td>\n",
       "      <td>LALIGA EA SPORTS</td>\n",
       "      <td>Real Madrid</td>\n",
       "    </tr>\n",
       "    <tr>\n",
       "      <th>1</th>\n",
       "      <td>2</td>\n",
       "      <td>Rodri</td>\n",
       "      <td>91</td>\n",
       "      <td>66</td>\n",
       "      <td>80</td>\n",
       "      <td>86</td>\n",
       "      <td>84</td>\n",
       "      <td>87</td>\n",
       "      <td>85</td>\n",
       "      <td>65</td>\n",
       "      <td>...</td>\n",
       "      <td>83</td>\n",
       "      <td>85</td>\n",
       "      <td>CDM</td>\n",
       "      <td>4</td>\n",
       "      <td>3</td>\n",
       "      <td>Right</td>\n",
       "      <td>28</td>\n",
       "      <td>Spain</td>\n",
       "      <td>Premier League</td>\n",
       "      <td>Manchester City</td>\n",
       "    </tr>\n",
       "    <tr>\n",
       "      <th>2</th>\n",
       "      <td>4</td>\n",
       "      <td>Erling Haaland</td>\n",
       "      <td>91</td>\n",
       "      <td>88</td>\n",
       "      <td>92</td>\n",
       "      <td>70</td>\n",
       "      <td>81</td>\n",
       "      <td>45</td>\n",
       "      <td>88</td>\n",
       "      <td>80</td>\n",
       "      <td>...</td>\n",
       "      <td>93</td>\n",
       "      <td>88</td>\n",
       "      <td>ST</td>\n",
       "      <td>3</td>\n",
       "      <td>3</td>\n",
       "      <td>Left</td>\n",
       "      <td>24</td>\n",
       "      <td>Norway</td>\n",
       "      <td>Premier League</td>\n",
       "      <td>Manchester City</td>\n",
       "    </tr>\n",
       "    <tr>\n",
       "      <th>3</th>\n",
       "      <td>5</td>\n",
       "      <td>Jude Bellingham</td>\n",
       "      <td>90</td>\n",
       "      <td>80</td>\n",
       "      <td>87</td>\n",
       "      <td>83</td>\n",
       "      <td>88</td>\n",
       "      <td>78</td>\n",
       "      <td>83</td>\n",
       "      <td>81</td>\n",
       "      <td>...</td>\n",
       "      <td>77</td>\n",
       "      <td>85</td>\n",
       "      <td>CAM</td>\n",
       "      <td>4</td>\n",
       "      <td>4</td>\n",
       "      <td>Right</td>\n",
       "      <td>21</td>\n",
       "      <td>England</td>\n",
       "      <td>LALIGA EA SPORTS</td>\n",
       "      <td>Real Madrid</td>\n",
       "    </tr>\n",
       "    <tr>\n",
       "      <th>4</th>\n",
       "      <td>7</td>\n",
       "      <td>Vini Jr.</td>\n",
       "      <td>90</td>\n",
       "      <td>95</td>\n",
       "      <td>84</td>\n",
       "      <td>81</td>\n",
       "      <td>91</td>\n",
       "      <td>29</td>\n",
       "      <td>69</td>\n",
       "      <td>95</td>\n",
       "      <td>...</td>\n",
       "      <td>65</td>\n",
       "      <td>58</td>\n",
       "      <td>LW</td>\n",
       "      <td>4</td>\n",
       "      <td>5</td>\n",
       "      <td>Right</td>\n",
       "      <td>24</td>\n",
       "      <td>Brazil</td>\n",
       "      <td>LALIGA EA SPORTS</td>\n",
       "      <td>Real Madrid</td>\n",
       "    </tr>\n",
       "    <tr>\n",
       "      <th>...</th>\n",
       "      <td>...</td>\n",
       "      <td>...</td>\n",
       "      <td>...</td>\n",
       "      <td>...</td>\n",
       "      <td>...</td>\n",
       "      <td>...</td>\n",
       "      <td>...</td>\n",
       "      <td>...</td>\n",
       "      <td>...</td>\n",
       "      <td>...</td>\n",
       "      <td>...</td>\n",
       "      <td>...</td>\n",
       "      <td>...</td>\n",
       "      <td>...</td>\n",
       "      <td>...</td>\n",
       "      <td>...</td>\n",
       "      <td>...</td>\n",
       "      <td>...</td>\n",
       "      <td>...</td>\n",
       "      <td>...</td>\n",
       "      <td>...</td>\n",
       "    </tr>\n",
       "    <tr>\n",
       "      <th>17732</th>\n",
       "      <td>17146</td>\n",
       "      <td>Araya Dennis</td>\n",
       "      <td>53</td>\n",
       "      <td>42</td>\n",
       "      <td>57</td>\n",
       "      <td>49</td>\n",
       "      <td>52</td>\n",
       "      <td>25</td>\n",
       "      <td>42</td>\n",
       "      <td>44</td>\n",
       "      <td>...</td>\n",
       "      <td>38</td>\n",
       "      <td>35</td>\n",
       "      <td>ST</td>\n",
       "      <td>3</td>\n",
       "      <td>2</td>\n",
       "      <td>Right</td>\n",
       "      <td>18</td>\n",
       "      <td>England</td>\n",
       "      <td>Barclays WSL</td>\n",
       "      <td>Spurs</td>\n",
       "    </tr>\n",
       "    <tr>\n",
       "      <th>17733</th>\n",
       "      <td>17146</td>\n",
       "      <td>Alexia Férnandez</td>\n",
       "      <td>53</td>\n",
       "      <td>53</td>\n",
       "      <td>55</td>\n",
       "      <td>51</td>\n",
       "      <td>53</td>\n",
       "      <td>34</td>\n",
       "      <td>47</td>\n",
       "      <td>52</td>\n",
       "      <td>...</td>\n",
       "      <td>54</td>\n",
       "      <td>41</td>\n",
       "      <td>LW</td>\n",
       "      <td>3</td>\n",
       "      <td>2</td>\n",
       "      <td>Right</td>\n",
       "      <td>22</td>\n",
       "      <td>Spain</td>\n",
       "      <td>Liga F</td>\n",
       "      <td>Granada CF</td>\n",
       "    </tr>\n",
       "    <tr>\n",
       "      <th>17734</th>\n",
       "      <td>17146</td>\n",
       "      <td>Aleigh Gambone</td>\n",
       "      <td>53</td>\n",
       "      <td>60</td>\n",
       "      <td>58</td>\n",
       "      <td>53</td>\n",
       "      <td>56</td>\n",
       "      <td>49</td>\n",
       "      <td>53</td>\n",
       "      <td>58</td>\n",
       "      <td>...</td>\n",
       "      <td>51</td>\n",
       "      <td>51</td>\n",
       "      <td>CM</td>\n",
       "      <td>4</td>\n",
       "      <td>4</td>\n",
       "      <td>Right</td>\n",
       "      <td>23</td>\n",
       "      <td>United States</td>\n",
       "      <td>Scottish Women's League</td>\n",
       "      <td>Glasgow City FC</td>\n",
       "    </tr>\n",
       "    <tr>\n",
       "      <th>17735</th>\n",
       "      <td>17146</td>\n",
       "      <td>Joy Lysser</td>\n",
       "      <td>53</td>\n",
       "      <td>61</td>\n",
       "      <td>52</td>\n",
       "      <td>48</td>\n",
       "      <td>56</td>\n",
       "      <td>53</td>\n",
       "      <td>58</td>\n",
       "      <td>60</td>\n",
       "      <td>...</td>\n",
       "      <td>60</td>\n",
       "      <td>50</td>\n",
       "      <td>CM</td>\n",
       "      <td>3</td>\n",
       "      <td>2</td>\n",
       "      <td>Left</td>\n",
       "      <td>20</td>\n",
       "      <td>Switzerland</td>\n",
       "      <td>Schweizer Damen Liga</td>\n",
       "      <td>FC Zürich</td>\n",
       "    </tr>\n",
       "    <tr>\n",
       "      <th>17736</th>\n",
       "      <td>17146</td>\n",
       "      <td>Kateřina Vithová</td>\n",
       "      <td>53</td>\n",
       "      <td>60</td>\n",
       "      <td>49</td>\n",
       "      <td>53</td>\n",
       "      <td>54</td>\n",
       "      <td>27</td>\n",
       "      <td>55</td>\n",
       "      <td>59</td>\n",
       "      <td>...</td>\n",
       "      <td>66</td>\n",
       "      <td>42</td>\n",
       "      <td>LM</td>\n",
       "      <td>3</td>\n",
       "      <td>3</td>\n",
       "      <td>Left</td>\n",
       "      <td>18</td>\n",
       "      <td>Czech Republic</td>\n",
       "      <td>Ceska Liga Žen</td>\n",
       "      <td>Slavia Praha</td>\n",
       "    </tr>\n",
       "  </tbody>\n",
       "</table>\n",
       "<p>15738 rows × 46 columns</p>\n",
       "</div>"
      ],
      "text/plain": [
       "        Rank              Name  OVR  PAC  SHO  PAS  DRI  DEF  PHY  \\\n",
       "0          1     Kylian Mbappé   91   97   90   80   92   36   78   \n",
       "1          2             Rodri   91   66   80   86   84   87   85   \n",
       "2          4    Erling Haaland   91   88   92   70   81   45   88   \n",
       "3          5   Jude Bellingham   90   80   87   83   88   78   83   \n",
       "4          7          Vini Jr.   90   95   84   81   91   29   69   \n",
       "...      ...               ...  ...  ...  ...  ...  ...  ...  ...   \n",
       "17732  17146      Araya Dennis   53   42   57   49   52   25   42   \n",
       "17733  17146  Alexia Férnandez   53   53   55   51   53   34   47   \n",
       "17734  17146    Aleigh Gambone   53   60   58   53   56   49   53   \n",
       "17735  17146        Joy Lysser   53   61   52   48   56   53   58   \n",
       "17736  17146  Kateřina Vithová   53   60   49   53   54   27   55   \n",
       "\n",
       "       Acceleration  ...  Strength Aggression Position  Weak foot Skill moves  \\\n",
       "0                97  ...        77         64       ST          4           5   \n",
       "1                65  ...        83         85      CDM          4           3   \n",
       "2                80  ...        93         88       ST          3           3   \n",
       "3                81  ...        77         85      CAM          4           4   \n",
       "4                95  ...        65         58       LW          4           5   \n",
       "...             ...  ...       ...        ...      ...        ...         ...   \n",
       "17732            44  ...        38         35       ST          3           2   \n",
       "17733            52  ...        54         41       LW          3           2   \n",
       "17734            58  ...        51         51       CM          4           4   \n",
       "17735            60  ...        60         50       CM          3           2   \n",
       "17736            59  ...        66         42       LM          3           3   \n",
       "\n",
       "      Preferred foot  Age          Nation                   League  \\\n",
       "0              Right   25          France         LALIGA EA SPORTS   \n",
       "1              Right   28           Spain           Premier League   \n",
       "2               Left   24          Norway           Premier League   \n",
       "3              Right   21         England         LALIGA EA SPORTS   \n",
       "4              Right   24          Brazil         LALIGA EA SPORTS   \n",
       "...              ...  ...             ...                      ...   \n",
       "17732          Right   18         England             Barclays WSL   \n",
       "17733          Right   22           Spain                   Liga F   \n",
       "17734          Right   23   United States  Scottish Women's League   \n",
       "17735           Left   20     Switzerland     Schweizer Damen Liga   \n",
       "17736           Left   18  Czech Republic           Ceska Liga Žen   \n",
       "\n",
       "                  Team  \n",
       "0          Real Madrid  \n",
       "1      Manchester City  \n",
       "2      Manchester City  \n",
       "3          Real Madrid  \n",
       "4          Real Madrid  \n",
       "...                ...  \n",
       "17732            Spurs  \n",
       "17733       Granada CF  \n",
       "17734  Glasgow City FC  \n",
       "17735        FC Zürich  \n",
       "17736     Slavia Praha  \n",
       "\n",
       "[15738 rows x 46 columns]"
      ]
     },
     "execution_count": 27,
     "metadata": {},
     "output_type": "execute_result"
    }
   ],
   "source": [
    "all_data = all_data.drop(['GK Diving', 'GK Handling', 'GK Kicking','GK Positioning', 'GK Reflexes'], axis=1)\n",
    "all_data"
   ]
  },
  {
   "cell_type": "markdown",
   "metadata": {},
   "source": [
    "All_data analysis"
   ]
  },
  {
   "cell_type": "code",
   "execution_count": 28,
   "metadata": {},
   "outputs": [
    {
     "data": {
      "text/html": [
       "<div>\n",
       "<style scoped>\n",
       "    .dataframe tbody tr th:only-of-type {\n",
       "        vertical-align: middle;\n",
       "    }\n",
       "\n",
       "    .dataframe tbody tr th {\n",
       "        vertical-align: top;\n",
       "    }\n",
       "\n",
       "    .dataframe thead th {\n",
       "        text-align: right;\n",
       "    }\n",
       "</style>\n",
       "<table border=\"1\" class=\"dataframe\">\n",
       "  <thead>\n",
       "    <tr style=\"text-align: right;\">\n",
       "      <th></th>\n",
       "      <th>Rank</th>\n",
       "      <th>Name</th>\n",
       "      <th>OVR</th>\n",
       "      <th>PAC</th>\n",
       "      <th>SHO</th>\n",
       "      <th>PAS</th>\n",
       "      <th>DRI</th>\n",
       "      <th>DEF</th>\n",
       "      <th>PHY</th>\n",
       "      <th>Acceleration</th>\n",
       "      <th>...</th>\n",
       "      <th>Strength</th>\n",
       "      <th>Aggression</th>\n",
       "      <th>Position</th>\n",
       "      <th>Weak foot</th>\n",
       "      <th>Skill moves</th>\n",
       "      <th>Preferred foot</th>\n",
       "      <th>Age</th>\n",
       "      <th>Nation</th>\n",
       "      <th>League</th>\n",
       "      <th>Team</th>\n",
       "    </tr>\n",
       "  </thead>\n",
       "  <tbody>\n",
       "    <tr>\n",
       "      <th>0</th>\n",
       "      <td>1</td>\n",
       "      <td>Kylian Mbappé</td>\n",
       "      <td>91</td>\n",
       "      <td>97</td>\n",
       "      <td>90</td>\n",
       "      <td>80</td>\n",
       "      <td>92</td>\n",
       "      <td>36</td>\n",
       "      <td>78</td>\n",
       "      <td>97</td>\n",
       "      <td>...</td>\n",
       "      <td>77</td>\n",
       "      <td>64</td>\n",
       "      <td>ST</td>\n",
       "      <td>4</td>\n",
       "      <td>5</td>\n",
       "      <td>Right</td>\n",
       "      <td>25</td>\n",
       "      <td>France</td>\n",
       "      <td>LALIGA EA SPORTS</td>\n",
       "      <td>Real Madrid</td>\n",
       "    </tr>\n",
       "    <tr>\n",
       "      <th>1</th>\n",
       "      <td>2</td>\n",
       "      <td>Rodri</td>\n",
       "      <td>91</td>\n",
       "      <td>66</td>\n",
       "      <td>80</td>\n",
       "      <td>86</td>\n",
       "      <td>84</td>\n",
       "      <td>87</td>\n",
       "      <td>85</td>\n",
       "      <td>65</td>\n",
       "      <td>...</td>\n",
       "      <td>83</td>\n",
       "      <td>85</td>\n",
       "      <td>CDM</td>\n",
       "      <td>4</td>\n",
       "      <td>3</td>\n",
       "      <td>Right</td>\n",
       "      <td>28</td>\n",
       "      <td>Spain</td>\n",
       "      <td>Premier League</td>\n",
       "      <td>Manchester City</td>\n",
       "    </tr>\n",
       "    <tr>\n",
       "      <th>2</th>\n",
       "      <td>4</td>\n",
       "      <td>Erling Haaland</td>\n",
       "      <td>91</td>\n",
       "      <td>88</td>\n",
       "      <td>92</td>\n",
       "      <td>70</td>\n",
       "      <td>81</td>\n",
       "      <td>45</td>\n",
       "      <td>88</td>\n",
       "      <td>80</td>\n",
       "      <td>...</td>\n",
       "      <td>93</td>\n",
       "      <td>88</td>\n",
       "      <td>ST</td>\n",
       "      <td>3</td>\n",
       "      <td>3</td>\n",
       "      <td>Left</td>\n",
       "      <td>24</td>\n",
       "      <td>Norway</td>\n",
       "      <td>Premier League</td>\n",
       "      <td>Manchester City</td>\n",
       "    </tr>\n",
       "    <tr>\n",
       "      <th>3</th>\n",
       "      <td>5</td>\n",
       "      <td>Jude Bellingham</td>\n",
       "      <td>90</td>\n",
       "      <td>80</td>\n",
       "      <td>87</td>\n",
       "      <td>83</td>\n",
       "      <td>88</td>\n",
       "      <td>78</td>\n",
       "      <td>83</td>\n",
       "      <td>81</td>\n",
       "      <td>...</td>\n",
       "      <td>77</td>\n",
       "      <td>85</td>\n",
       "      <td>CAM</td>\n",
       "      <td>4</td>\n",
       "      <td>4</td>\n",
       "      <td>Right</td>\n",
       "      <td>21</td>\n",
       "      <td>England</td>\n",
       "      <td>LALIGA EA SPORTS</td>\n",
       "      <td>Real Madrid</td>\n",
       "    </tr>\n",
       "    <tr>\n",
       "      <th>4</th>\n",
       "      <td>7</td>\n",
       "      <td>Vini Jr.</td>\n",
       "      <td>90</td>\n",
       "      <td>95</td>\n",
       "      <td>84</td>\n",
       "      <td>81</td>\n",
       "      <td>91</td>\n",
       "      <td>29</td>\n",
       "      <td>69</td>\n",
       "      <td>95</td>\n",
       "      <td>...</td>\n",
       "      <td>65</td>\n",
       "      <td>58</td>\n",
       "      <td>LW</td>\n",
       "      <td>4</td>\n",
       "      <td>5</td>\n",
       "      <td>Right</td>\n",
       "      <td>24</td>\n",
       "      <td>Brazil</td>\n",
       "      <td>LALIGA EA SPORTS</td>\n",
       "      <td>Real Madrid</td>\n",
       "    </tr>\n",
       "  </tbody>\n",
       "</table>\n",
       "<p>5 rows × 46 columns</p>\n",
       "</div>"
      ],
      "text/plain": [
       "   Rank             Name  OVR  PAC  SHO  PAS  DRI  DEF  PHY  Acceleration  \\\n",
       "0     1    Kylian Mbappé   91   97   90   80   92   36   78            97   \n",
       "1     2            Rodri   91   66   80   86   84   87   85            65   \n",
       "2     4   Erling Haaland   91   88   92   70   81   45   88            80   \n",
       "3     5  Jude Bellingham   90   80   87   83   88   78   83            81   \n",
       "4     7         Vini Jr.   90   95   84   81   91   29   69            95   \n",
       "\n",
       "   ...  Strength Aggression Position  Weak foot Skill moves Preferred foot  \\\n",
       "0  ...        77         64       ST          4           5          Right   \n",
       "1  ...        83         85      CDM          4           3          Right   \n",
       "2  ...        93         88       ST          3           3           Left   \n",
       "3  ...        77         85      CAM          4           4          Right   \n",
       "4  ...        65         58       LW          4           5          Right   \n",
       "\n",
       "   Age   Nation            League             Team  \n",
       "0   25   France  LALIGA EA SPORTS      Real Madrid  \n",
       "1   28    Spain    Premier League  Manchester City  \n",
       "2   24   Norway    Premier League  Manchester City  \n",
       "3   21  England  LALIGA EA SPORTS      Real Madrid  \n",
       "4   24   Brazil  LALIGA EA SPORTS      Real Madrid  \n",
       "\n",
       "[5 rows x 46 columns]"
      ]
     },
     "execution_count": 28,
     "metadata": {},
     "output_type": "execute_result"
    }
   ],
   "source": [
    "all_data.head()"
   ]
  },
  {
   "cell_type": "code",
   "execution_count": 29,
   "metadata": {},
   "outputs": [
    {
     "data": {
      "text/html": [
       "<div>\n",
       "<style scoped>\n",
       "    .dataframe tbody tr th:only-of-type {\n",
       "        vertical-align: middle;\n",
       "    }\n",
       "\n",
       "    .dataframe tbody tr th {\n",
       "        vertical-align: top;\n",
       "    }\n",
       "\n",
       "    .dataframe thead th {\n",
       "        text-align: right;\n",
       "    }\n",
       "</style>\n",
       "<table border=\"1\" class=\"dataframe\">\n",
       "  <thead>\n",
       "    <tr style=\"text-align: right;\">\n",
       "      <th></th>\n",
       "      <th>Rank</th>\n",
       "      <th>Name</th>\n",
       "      <th>OVR</th>\n",
       "      <th>PAC</th>\n",
       "      <th>SHO</th>\n",
       "      <th>PAS</th>\n",
       "      <th>DRI</th>\n",
       "      <th>DEF</th>\n",
       "      <th>PHY</th>\n",
       "      <th>Acceleration</th>\n",
       "      <th>...</th>\n",
       "      <th>Strength</th>\n",
       "      <th>Aggression</th>\n",
       "      <th>Position</th>\n",
       "      <th>Weak foot</th>\n",
       "      <th>Skill moves</th>\n",
       "      <th>Preferred foot</th>\n",
       "      <th>Age</th>\n",
       "      <th>Nation</th>\n",
       "      <th>League</th>\n",
       "      <th>Team</th>\n",
       "    </tr>\n",
       "  </thead>\n",
       "  <tbody>\n",
       "    <tr>\n",
       "      <th>0</th>\n",
       "      <td>1</td>\n",
       "      <td>Kylian Mbappé</td>\n",
       "      <td>91</td>\n",
       "      <td>97</td>\n",
       "      <td>90</td>\n",
       "      <td>80</td>\n",
       "      <td>92</td>\n",
       "      <td>36</td>\n",
       "      <td>78</td>\n",
       "      <td>97</td>\n",
       "      <td>...</td>\n",
       "      <td>77</td>\n",
       "      <td>64</td>\n",
       "      <td>ST</td>\n",
       "      <td>4</td>\n",
       "      <td>5</td>\n",
       "      <td>Right</td>\n",
       "      <td>25</td>\n",
       "      <td>France</td>\n",
       "      <td>LALIGA EA SPORTS</td>\n",
       "      <td>Real Madrid</td>\n",
       "    </tr>\n",
       "    <tr>\n",
       "      <th>16161</th>\n",
       "      <td>3</td>\n",
       "      <td>Aitana Bonmatí</td>\n",
       "      <td>91</td>\n",
       "      <td>81</td>\n",
       "      <td>86</td>\n",
       "      <td>86</td>\n",
       "      <td>91</td>\n",
       "      <td>77</td>\n",
       "      <td>75</td>\n",
       "      <td>82</td>\n",
       "      <td>...</td>\n",
       "      <td>75</td>\n",
       "      <td>64</td>\n",
       "      <td>CM</td>\n",
       "      <td>5</td>\n",
       "      <td>4</td>\n",
       "      <td>Right</td>\n",
       "      <td>26</td>\n",
       "      <td>Spain</td>\n",
       "      <td>Liga F</td>\n",
       "      <td>FC Barcelona</td>\n",
       "    </tr>\n",
       "    <tr>\n",
       "      <th>2</th>\n",
       "      <td>4</td>\n",
       "      <td>Erling Haaland</td>\n",
       "      <td>91</td>\n",
       "      <td>88</td>\n",
       "      <td>92</td>\n",
       "      <td>70</td>\n",
       "      <td>81</td>\n",
       "      <td>45</td>\n",
       "      <td>88</td>\n",
       "      <td>80</td>\n",
       "      <td>...</td>\n",
       "      <td>93</td>\n",
       "      <td>88</td>\n",
       "      <td>ST</td>\n",
       "      <td>3</td>\n",
       "      <td>3</td>\n",
       "      <td>Left</td>\n",
       "      <td>24</td>\n",
       "      <td>Norway</td>\n",
       "      <td>Premier League</td>\n",
       "      <td>Manchester City</td>\n",
       "    </tr>\n",
       "    <tr>\n",
       "      <th>1</th>\n",
       "      <td>2</td>\n",
       "      <td>Rodri</td>\n",
       "      <td>91</td>\n",
       "      <td>66</td>\n",
       "      <td>80</td>\n",
       "      <td>86</td>\n",
       "      <td>84</td>\n",
       "      <td>87</td>\n",
       "      <td>85</td>\n",
       "      <td>65</td>\n",
       "      <td>...</td>\n",
       "      <td>83</td>\n",
       "      <td>85</td>\n",
       "      <td>CDM</td>\n",
       "      <td>4</td>\n",
       "      <td>3</td>\n",
       "      <td>Right</td>\n",
       "      <td>28</td>\n",
       "      <td>Spain</td>\n",
       "      <td>Premier League</td>\n",
       "      <td>Manchester City</td>\n",
       "    </tr>\n",
       "    <tr>\n",
       "      <th>16163</th>\n",
       "      <td>8</td>\n",
       "      <td>Caroline Graham Hansen</td>\n",
       "      <td>90</td>\n",
       "      <td>89</td>\n",
       "      <td>87</td>\n",
       "      <td>88</td>\n",
       "      <td>90</td>\n",
       "      <td>47</td>\n",
       "      <td>76</td>\n",
       "      <td>90</td>\n",
       "      <td>...</td>\n",
       "      <td>74</td>\n",
       "      <td>66</td>\n",
       "      <td>RW</td>\n",
       "      <td>5</td>\n",
       "      <td>5</td>\n",
       "      <td>Right</td>\n",
       "      <td>29</td>\n",
       "      <td>Norway</td>\n",
       "      <td>Liga F</td>\n",
       "      <td>FC Barcelona</td>\n",
       "    </tr>\n",
       "    <tr>\n",
       "      <th>16164</th>\n",
       "      <td>10</td>\n",
       "      <td>Sam Kerr</td>\n",
       "      <td>90</td>\n",
       "      <td>85</td>\n",
       "      <td>88</td>\n",
       "      <td>74</td>\n",
       "      <td>90</td>\n",
       "      <td>42</td>\n",
       "      <td>83</td>\n",
       "      <td>86</td>\n",
       "      <td>...</td>\n",
       "      <td>86</td>\n",
       "      <td>70</td>\n",
       "      <td>ST</td>\n",
       "      <td>4</td>\n",
       "      <td>4</td>\n",
       "      <td>Right</td>\n",
       "      <td>31</td>\n",
       "      <td>Australia</td>\n",
       "      <td>Barclays WSL</td>\n",
       "      <td>Chelsea</td>\n",
       "    </tr>\n",
       "    <tr>\n",
       "      <th>16162</th>\n",
       "      <td>6</td>\n",
       "      <td>Alexia Putellas</td>\n",
       "      <td>90</td>\n",
       "      <td>82</td>\n",
       "      <td>89</td>\n",
       "      <td>90</td>\n",
       "      <td>91</td>\n",
       "      <td>72</td>\n",
       "      <td>78</td>\n",
       "      <td>81</td>\n",
       "      <td>...</td>\n",
       "      <td>78</td>\n",
       "      <td>70</td>\n",
       "      <td>CM</td>\n",
       "      <td>5</td>\n",
       "      <td>5</td>\n",
       "      <td>Left</td>\n",
       "      <td>30</td>\n",
       "      <td>Spain</td>\n",
       "      <td>Liga F</td>\n",
       "      <td>FC Barcelona</td>\n",
       "    </tr>\n",
       "    <tr>\n",
       "      <th>4</th>\n",
       "      <td>7</td>\n",
       "      <td>Vini Jr.</td>\n",
       "      <td>90</td>\n",
       "      <td>95</td>\n",
       "      <td>84</td>\n",
       "      <td>81</td>\n",
       "      <td>91</td>\n",
       "      <td>29</td>\n",
       "      <td>69</td>\n",
       "      <td>95</td>\n",
       "      <td>...</td>\n",
       "      <td>65</td>\n",
       "      <td>58</td>\n",
       "      <td>LW</td>\n",
       "      <td>4</td>\n",
       "      <td>5</td>\n",
       "      <td>Right</td>\n",
       "      <td>24</td>\n",
       "      <td>Brazil</td>\n",
       "      <td>LALIGA EA SPORTS</td>\n",
       "      <td>Real Madrid</td>\n",
       "    </tr>\n",
       "    <tr>\n",
       "      <th>3</th>\n",
       "      <td>5</td>\n",
       "      <td>Jude Bellingham</td>\n",
       "      <td>90</td>\n",
       "      <td>80</td>\n",
       "      <td>87</td>\n",
       "      <td>83</td>\n",
       "      <td>88</td>\n",
       "      <td>78</td>\n",
       "      <td>83</td>\n",
       "      <td>81</td>\n",
       "      <td>...</td>\n",
       "      <td>77</td>\n",
       "      <td>85</td>\n",
       "      <td>CAM</td>\n",
       "      <td>4</td>\n",
       "      <td>4</td>\n",
       "      <td>Right</td>\n",
       "      <td>21</td>\n",
       "      <td>England</td>\n",
       "      <td>LALIGA EA SPORTS</td>\n",
       "      <td>Real Madrid</td>\n",
       "    </tr>\n",
       "    <tr>\n",
       "      <th>5</th>\n",
       "      <td>9</td>\n",
       "      <td>Kevin De Bruyne</td>\n",
       "      <td>90</td>\n",
       "      <td>67</td>\n",
       "      <td>87</td>\n",
       "      <td>94</td>\n",
       "      <td>87</td>\n",
       "      <td>65</td>\n",
       "      <td>78</td>\n",
       "      <td>67</td>\n",
       "      <td>...</td>\n",
       "      <td>75</td>\n",
       "      <td>75</td>\n",
       "      <td>CM</td>\n",
       "      <td>5</td>\n",
       "      <td>4</td>\n",
       "      <td>Right</td>\n",
       "      <td>33</td>\n",
       "      <td>Belgium</td>\n",
       "      <td>Premier League</td>\n",
       "      <td>Manchester City</td>\n",
       "    </tr>\n",
       "  </tbody>\n",
       "</table>\n",
       "<p>10 rows × 46 columns</p>\n",
       "</div>"
      ],
      "text/plain": [
       "       Rank                    Name  OVR  PAC  SHO  PAS  DRI  DEF  PHY  \\\n",
       "0         1           Kylian Mbappé   91   97   90   80   92   36   78   \n",
       "16161     3          Aitana Bonmatí   91   81   86   86   91   77   75   \n",
       "2         4          Erling Haaland   91   88   92   70   81   45   88   \n",
       "1         2                   Rodri   91   66   80   86   84   87   85   \n",
       "16163     8  Caroline Graham Hansen   90   89   87   88   90   47   76   \n",
       "16164    10                Sam Kerr   90   85   88   74   90   42   83   \n",
       "16162     6         Alexia Putellas   90   82   89   90   91   72   78   \n",
       "4         7                Vini Jr.   90   95   84   81   91   29   69   \n",
       "3         5         Jude Bellingham   90   80   87   83   88   78   83   \n",
       "5         9         Kevin De Bruyne   90   67   87   94   87   65   78   \n",
       "\n",
       "       Acceleration  ...  Strength Aggression Position  Weak foot Skill moves  \\\n",
       "0                97  ...        77         64       ST          4           5   \n",
       "16161            82  ...        75         64       CM          5           4   \n",
       "2                80  ...        93         88       ST          3           3   \n",
       "1                65  ...        83         85      CDM          4           3   \n",
       "16163            90  ...        74         66       RW          5           5   \n",
       "16164            86  ...        86         70       ST          4           4   \n",
       "16162            81  ...        78         70       CM          5           5   \n",
       "4                95  ...        65         58       LW          4           5   \n",
       "3                81  ...        77         85      CAM          4           4   \n",
       "5                67  ...        75         75       CM          5           4   \n",
       "\n",
       "      Preferred foot  Age     Nation            League             Team  \n",
       "0              Right   25     France  LALIGA EA SPORTS      Real Madrid  \n",
       "16161          Right   26      Spain            Liga F     FC Barcelona  \n",
       "2               Left   24     Norway    Premier League  Manchester City  \n",
       "1              Right   28      Spain    Premier League  Manchester City  \n",
       "16163          Right   29     Norway            Liga F     FC Barcelona  \n",
       "16164          Right   31  Australia      Barclays WSL          Chelsea  \n",
       "16162           Left   30      Spain            Liga F     FC Barcelona  \n",
       "4              Right   24     Brazil  LALIGA EA SPORTS      Real Madrid  \n",
       "3              Right   21    England  LALIGA EA SPORTS      Real Madrid  \n",
       "5              Right   33    Belgium    Premier League  Manchester City  \n",
       "\n",
       "[10 rows x 46 columns]"
      ]
     },
     "execution_count": 29,
     "metadata": {},
     "output_type": "execute_result"
    }
   ],
   "source": [
    "#Top 10 OVR\n",
    "top10OVR = all_data.sort_values('OVR', ascending=False)[:10]\n",
    "top10OVR = pd.DataFrame(top10OVR)\n",
    "top10OVR"
   ]
  },
  {
   "cell_type": "code",
   "execution_count": 30,
   "metadata": {},
   "outputs": [
    {
     "data": {
      "application/vnd.plotly.v1+json": {
       "config": {
        "plotlyServerURL": "https://plot.ly"
       },
       "data": [
        {
         "name": "Kylian Mbappé",
         "type": "bar",
         "visible": true,
         "x": [
          "OVR",
          "PAC",
          "SHO",
          "PAS",
          "DRI",
          "DEF",
          "PHY"
         ],
         "y": [
          91,
          97,
          90,
          80,
          92,
          36,
          78
         ]
        },
        {
         "name": "Aitana Bonmatí",
         "type": "bar",
         "visible": false,
         "x": [
          "OVR",
          "PAC",
          "SHO",
          "PAS",
          "DRI",
          "DEF",
          "PHY"
         ],
         "y": [
          91,
          81,
          86,
          86,
          91,
          77,
          75
         ]
        },
        {
         "name": "Erling Haaland",
         "type": "bar",
         "visible": false,
         "x": [
          "OVR",
          "PAC",
          "SHO",
          "PAS",
          "DRI",
          "DEF",
          "PHY"
         ],
         "y": [
          91,
          88,
          92,
          70,
          81,
          45,
          88
         ]
        },
        {
         "name": "Rodri",
         "type": "bar",
         "visible": false,
         "x": [
          "OVR",
          "PAC",
          "SHO",
          "PAS",
          "DRI",
          "DEF",
          "PHY"
         ],
         "y": [
          91,
          66,
          80,
          86,
          84,
          87,
          85,
          78,
          79,
          74,
          75,
          80,
          38,
          58
         ]
        },
        {
         "name": "Caroline Graham Hansen",
         "type": "bar",
         "visible": false,
         "x": [
          "OVR",
          "PAC",
          "SHO",
          "PAS",
          "DRI",
          "DEF",
          "PHY"
         ],
         "y": [
          90,
          89,
          87,
          88,
          90,
          47,
          76
         ]
        },
        {
         "name": "Sam Kerr",
         "type": "bar",
         "visible": false,
         "x": [
          "OVR",
          "PAC",
          "SHO",
          "PAS",
          "DRI",
          "DEF",
          "PHY"
         ],
         "y": [
          90,
          85,
          88,
          74,
          90,
          42,
          83,
          71,
          65,
          69,
          68,
          75,
          66,
          63
         ]
        },
        {
         "name": "Alexia Putellas",
         "type": "bar",
         "visible": false,
         "x": [
          "OVR",
          "PAC",
          "SHO",
          "PAS",
          "DRI",
          "DEF",
          "PHY"
         ],
         "y": [
          90,
          82,
          89,
          90,
          91,
          72,
          78
         ]
        },
        {
         "name": "Vini Jr.",
         "type": "bar",
         "visible": false,
         "x": [
          "OVR",
          "PAC",
          "SHO",
          "PAS",
          "DRI",
          "DEF",
          "PHY"
         ],
         "y": [
          90,
          95,
          84,
          81,
          91,
          29,
          69
         ]
        },
        {
         "name": "Jude Bellingham",
         "type": "bar",
         "visible": false,
         "x": [
          "OVR",
          "PAC",
          "SHO",
          "PAS",
          "DRI",
          "DEF",
          "PHY"
         ],
         "y": [
          90,
          80,
          87,
          83,
          88,
          78,
          83
         ]
        },
        {
         "name": "Kevin De Bruyne",
         "type": "bar",
         "visible": false,
         "x": [
          "OVR",
          "PAC",
          "SHO",
          "PAS",
          "DRI",
          "DEF",
          "PHY"
         ],
         "y": [
          90,
          67,
          87,
          94,
          87,
          65,
          78
         ]
        }
       ],
       "layout": {
        "showlegend": false,
        "template": {
         "data": {
          "bar": [
           {
            "error_x": {
             "color": "#2a3f5f"
            },
            "error_y": {
             "color": "#2a3f5f"
            },
            "marker": {
             "line": {
              "color": "#E5ECF6",
              "width": 0.5
             },
             "pattern": {
              "fillmode": "overlay",
              "size": 10,
              "solidity": 0.2
             }
            },
            "type": "bar"
           }
          ],
          "barpolar": [
           {
            "marker": {
             "line": {
              "color": "#E5ECF6",
              "width": 0.5
             },
             "pattern": {
              "fillmode": "overlay",
              "size": 10,
              "solidity": 0.2
             }
            },
            "type": "barpolar"
           }
          ],
          "carpet": [
           {
            "aaxis": {
             "endlinecolor": "#2a3f5f",
             "gridcolor": "white",
             "linecolor": "white",
             "minorgridcolor": "white",
             "startlinecolor": "#2a3f5f"
            },
            "baxis": {
             "endlinecolor": "#2a3f5f",
             "gridcolor": "white",
             "linecolor": "white",
             "minorgridcolor": "white",
             "startlinecolor": "#2a3f5f"
            },
            "type": "carpet"
           }
          ],
          "choropleth": [
           {
            "colorbar": {
             "outlinewidth": 0,
             "ticks": ""
            },
            "type": "choropleth"
           }
          ],
          "contour": [
           {
            "colorbar": {
             "outlinewidth": 0,
             "ticks": ""
            },
            "colorscale": [
             [
              0,
              "#0d0887"
             ],
             [
              0.1111111111111111,
              "#46039f"
             ],
             [
              0.2222222222222222,
              "#7201a8"
             ],
             [
              0.3333333333333333,
              "#9c179e"
             ],
             [
              0.4444444444444444,
              "#bd3786"
             ],
             [
              0.5555555555555556,
              "#d8576b"
             ],
             [
              0.6666666666666666,
              "#ed7953"
             ],
             [
              0.7777777777777778,
              "#fb9f3a"
             ],
             [
              0.8888888888888888,
              "#fdca26"
             ],
             [
              1,
              "#f0f921"
             ]
            ],
            "type": "contour"
           }
          ],
          "contourcarpet": [
           {
            "colorbar": {
             "outlinewidth": 0,
             "ticks": ""
            },
            "type": "contourcarpet"
           }
          ],
          "heatmap": [
           {
            "colorbar": {
             "outlinewidth": 0,
             "ticks": ""
            },
            "colorscale": [
             [
              0,
              "#0d0887"
             ],
             [
              0.1111111111111111,
              "#46039f"
             ],
             [
              0.2222222222222222,
              "#7201a8"
             ],
             [
              0.3333333333333333,
              "#9c179e"
             ],
             [
              0.4444444444444444,
              "#bd3786"
             ],
             [
              0.5555555555555556,
              "#d8576b"
             ],
             [
              0.6666666666666666,
              "#ed7953"
             ],
             [
              0.7777777777777778,
              "#fb9f3a"
             ],
             [
              0.8888888888888888,
              "#fdca26"
             ],
             [
              1,
              "#f0f921"
             ]
            ],
            "type": "heatmap"
           }
          ],
          "heatmapgl": [
           {
            "colorbar": {
             "outlinewidth": 0,
             "ticks": ""
            },
            "colorscale": [
             [
              0,
              "#0d0887"
             ],
             [
              0.1111111111111111,
              "#46039f"
             ],
             [
              0.2222222222222222,
              "#7201a8"
             ],
             [
              0.3333333333333333,
              "#9c179e"
             ],
             [
              0.4444444444444444,
              "#bd3786"
             ],
             [
              0.5555555555555556,
              "#d8576b"
             ],
             [
              0.6666666666666666,
              "#ed7953"
             ],
             [
              0.7777777777777778,
              "#fb9f3a"
             ],
             [
              0.8888888888888888,
              "#fdca26"
             ],
             [
              1,
              "#f0f921"
             ]
            ],
            "type": "heatmapgl"
           }
          ],
          "histogram": [
           {
            "marker": {
             "pattern": {
              "fillmode": "overlay",
              "size": 10,
              "solidity": 0.2
             }
            },
            "type": "histogram"
           }
          ],
          "histogram2d": [
           {
            "colorbar": {
             "outlinewidth": 0,
             "ticks": ""
            },
            "colorscale": [
             [
              0,
              "#0d0887"
             ],
             [
              0.1111111111111111,
              "#46039f"
             ],
             [
              0.2222222222222222,
              "#7201a8"
             ],
             [
              0.3333333333333333,
              "#9c179e"
             ],
             [
              0.4444444444444444,
              "#bd3786"
             ],
             [
              0.5555555555555556,
              "#d8576b"
             ],
             [
              0.6666666666666666,
              "#ed7953"
             ],
             [
              0.7777777777777778,
              "#fb9f3a"
             ],
             [
              0.8888888888888888,
              "#fdca26"
             ],
             [
              1,
              "#f0f921"
             ]
            ],
            "type": "histogram2d"
           }
          ],
          "histogram2dcontour": [
           {
            "colorbar": {
             "outlinewidth": 0,
             "ticks": ""
            },
            "colorscale": [
             [
              0,
              "#0d0887"
             ],
             [
              0.1111111111111111,
              "#46039f"
             ],
             [
              0.2222222222222222,
              "#7201a8"
             ],
             [
              0.3333333333333333,
              "#9c179e"
             ],
             [
              0.4444444444444444,
              "#bd3786"
             ],
             [
              0.5555555555555556,
              "#d8576b"
             ],
             [
              0.6666666666666666,
              "#ed7953"
             ],
             [
              0.7777777777777778,
              "#fb9f3a"
             ],
             [
              0.8888888888888888,
              "#fdca26"
             ],
             [
              1,
              "#f0f921"
             ]
            ],
            "type": "histogram2dcontour"
           }
          ],
          "mesh3d": [
           {
            "colorbar": {
             "outlinewidth": 0,
             "ticks": ""
            },
            "type": "mesh3d"
           }
          ],
          "parcoords": [
           {
            "line": {
             "colorbar": {
              "outlinewidth": 0,
              "ticks": ""
             }
            },
            "type": "parcoords"
           }
          ],
          "pie": [
           {
            "automargin": true,
            "type": "pie"
           }
          ],
          "scatter": [
           {
            "fillpattern": {
             "fillmode": "overlay",
             "size": 10,
             "solidity": 0.2
            },
            "type": "scatter"
           }
          ],
          "scatter3d": [
           {
            "line": {
             "colorbar": {
              "outlinewidth": 0,
              "ticks": ""
             }
            },
            "marker": {
             "colorbar": {
              "outlinewidth": 0,
              "ticks": ""
             }
            },
            "type": "scatter3d"
           }
          ],
          "scattercarpet": [
           {
            "marker": {
             "colorbar": {
              "outlinewidth": 0,
              "ticks": ""
             }
            },
            "type": "scattercarpet"
           }
          ],
          "scattergeo": [
           {
            "marker": {
             "colorbar": {
              "outlinewidth": 0,
              "ticks": ""
             }
            },
            "type": "scattergeo"
           }
          ],
          "scattergl": [
           {
            "marker": {
             "colorbar": {
              "outlinewidth": 0,
              "ticks": ""
             }
            },
            "type": "scattergl"
           }
          ],
          "scattermapbox": [
           {
            "marker": {
             "colorbar": {
              "outlinewidth": 0,
              "ticks": ""
             }
            },
            "type": "scattermapbox"
           }
          ],
          "scatterpolar": [
           {
            "marker": {
             "colorbar": {
              "outlinewidth": 0,
              "ticks": ""
             }
            },
            "type": "scatterpolar"
           }
          ],
          "scatterpolargl": [
           {
            "marker": {
             "colorbar": {
              "outlinewidth": 0,
              "ticks": ""
             }
            },
            "type": "scatterpolargl"
           }
          ],
          "scatterternary": [
           {
            "marker": {
             "colorbar": {
              "outlinewidth": 0,
              "ticks": ""
             }
            },
            "type": "scatterternary"
           }
          ],
          "surface": [
           {
            "colorbar": {
             "outlinewidth": 0,
             "ticks": ""
            },
            "colorscale": [
             [
              0,
              "#0d0887"
             ],
             [
              0.1111111111111111,
              "#46039f"
             ],
             [
              0.2222222222222222,
              "#7201a8"
             ],
             [
              0.3333333333333333,
              "#9c179e"
             ],
             [
              0.4444444444444444,
              "#bd3786"
             ],
             [
              0.5555555555555556,
              "#d8576b"
             ],
             [
              0.6666666666666666,
              "#ed7953"
             ],
             [
              0.7777777777777778,
              "#fb9f3a"
             ],
             [
              0.8888888888888888,
              "#fdca26"
             ],
             [
              1,
              "#f0f921"
             ]
            ],
            "type": "surface"
           }
          ],
          "table": [
           {
            "cells": {
             "fill": {
              "color": "#EBF0F8"
             },
             "line": {
              "color": "white"
             }
            },
            "header": {
             "fill": {
              "color": "#C8D4E3"
             },
             "line": {
              "color": "white"
             }
            },
            "type": "table"
           }
          ]
         },
         "layout": {
          "annotationdefaults": {
           "arrowcolor": "#2a3f5f",
           "arrowhead": 0,
           "arrowwidth": 1
          },
          "autotypenumbers": "strict",
          "coloraxis": {
           "colorbar": {
            "outlinewidth": 0,
            "ticks": ""
           }
          },
          "colorscale": {
           "diverging": [
            [
             0,
             "#8e0152"
            ],
            [
             0.1,
             "#c51b7d"
            ],
            [
             0.2,
             "#de77ae"
            ],
            [
             0.3,
             "#f1b6da"
            ],
            [
             0.4,
             "#fde0ef"
            ],
            [
             0.5,
             "#f7f7f7"
            ],
            [
             0.6,
             "#e6f5d0"
            ],
            [
             0.7,
             "#b8e186"
            ],
            [
             0.8,
             "#7fbc41"
            ],
            [
             0.9,
             "#4d9221"
            ],
            [
             1,
             "#276419"
            ]
           ],
           "sequential": [
            [
             0,
             "#0d0887"
            ],
            [
             0.1111111111111111,
             "#46039f"
            ],
            [
             0.2222222222222222,
             "#7201a8"
            ],
            [
             0.3333333333333333,
             "#9c179e"
            ],
            [
             0.4444444444444444,
             "#bd3786"
            ],
            [
             0.5555555555555556,
             "#d8576b"
            ],
            [
             0.6666666666666666,
             "#ed7953"
            ],
            [
             0.7777777777777778,
             "#fb9f3a"
            ],
            [
             0.8888888888888888,
             "#fdca26"
            ],
            [
             1,
             "#f0f921"
            ]
           ],
           "sequentialminus": [
            [
             0,
             "#0d0887"
            ],
            [
             0.1111111111111111,
             "#46039f"
            ],
            [
             0.2222222222222222,
             "#7201a8"
            ],
            [
             0.3333333333333333,
             "#9c179e"
            ],
            [
             0.4444444444444444,
             "#bd3786"
            ],
            [
             0.5555555555555556,
             "#d8576b"
            ],
            [
             0.6666666666666666,
             "#ed7953"
            ],
            [
             0.7777777777777778,
             "#fb9f3a"
            ],
            [
             0.8888888888888888,
             "#fdca26"
            ],
            [
             1,
             "#f0f921"
            ]
           ]
          },
          "colorway": [
           "#636efa",
           "#EF553B",
           "#00cc96",
           "#ab63fa",
           "#FFA15A",
           "#19d3f3",
           "#FF6692",
           "#B6E880",
           "#FF97FF",
           "#FECB52"
          ],
          "font": {
           "color": "#2a3f5f"
          },
          "geo": {
           "bgcolor": "white",
           "lakecolor": "white",
           "landcolor": "#E5ECF6",
           "showlakes": true,
           "showland": true,
           "subunitcolor": "white"
          },
          "hoverlabel": {
           "align": "left"
          },
          "hovermode": "closest",
          "mapbox": {
           "style": "light"
          },
          "paper_bgcolor": "white",
          "plot_bgcolor": "#E5ECF6",
          "polar": {
           "angularaxis": {
            "gridcolor": "white",
            "linecolor": "white",
            "ticks": ""
           },
           "bgcolor": "#E5ECF6",
           "radialaxis": {
            "gridcolor": "white",
            "linecolor": "white",
            "ticks": ""
           }
          },
          "scene": {
           "xaxis": {
            "backgroundcolor": "#E5ECF6",
            "gridcolor": "white",
            "gridwidth": 2,
            "linecolor": "white",
            "showbackground": true,
            "ticks": "",
            "zerolinecolor": "white"
           },
           "yaxis": {
            "backgroundcolor": "#E5ECF6",
            "gridcolor": "white",
            "gridwidth": 2,
            "linecolor": "white",
            "showbackground": true,
            "ticks": "",
            "zerolinecolor": "white"
           },
           "zaxis": {
            "backgroundcolor": "#E5ECF6",
            "gridcolor": "white",
            "gridwidth": 2,
            "linecolor": "white",
            "showbackground": true,
            "ticks": "",
            "zerolinecolor": "white"
           }
          },
          "shapedefaults": {
           "line": {
            "color": "#2a3f5f"
           }
          },
          "ternary": {
           "aaxis": {
            "gridcolor": "white",
            "linecolor": "white",
            "ticks": ""
           },
           "baxis": {
            "gridcolor": "white",
            "linecolor": "white",
            "ticks": ""
           },
           "bgcolor": "#E5ECF6",
           "caxis": {
            "gridcolor": "white",
            "linecolor": "white",
            "ticks": ""
           }
          },
          "title": {
           "x": 0.05
          },
          "xaxis": {
           "automargin": true,
           "gridcolor": "white",
           "linecolor": "white",
           "ticks": "",
           "title": {
            "standoff": 15
           },
           "zerolinecolor": "white",
           "zerolinewidth": 2
          },
          "yaxis": {
           "automargin": true,
           "gridcolor": "white",
           "linecolor": "white",
           "ticks": "",
           "title": {
            "standoff": 15
           },
           "zerolinecolor": "white",
           "zerolinewidth": 2
          }
         }
        },
        "title": {
         "text": "Top 10 Players by OVR"
        },
        "updatemenus": [
         {
          "buttons": [
           {
            "args": [
             {
              "visible": [
               true,
               false,
               false,
               false,
               false,
               false,
               false,
               false,
               false,
               false
              ]
             }
            ],
            "label": "Kylian Mbappé",
            "method": "update"
           },
           {
            "args": [
             {
              "visible": [
               false,
               true,
               false,
               false,
               false,
               false,
               false,
               false,
               false,
               false
              ]
             }
            ],
            "label": "Aitana Bonmatí",
            "method": "update"
           },
           {
            "args": [
             {
              "visible": [
               false,
               false,
               true,
               false,
               false,
               false,
               false,
               false,
               false,
               false
              ]
             }
            ],
            "label": "Erling Haaland",
            "method": "update"
           },
           {
            "args": [
             {
              "visible": [
               false,
               false,
               false,
               true,
               false,
               false,
               false,
               false,
               false,
               false
              ]
             }
            ],
            "label": "Rodri",
            "method": "update"
           },
           {
            "args": [
             {
              "visible": [
               false,
               false,
               false,
               false,
               true,
               false,
               false,
               false,
               false,
               false
              ]
             }
            ],
            "label": "Caroline Graham Hansen",
            "method": "update"
           },
           {
            "args": [
             {
              "visible": [
               false,
               false,
               false,
               false,
               false,
               true,
               false,
               false,
               false,
               false
              ]
             }
            ],
            "label": "Sam Kerr",
            "method": "update"
           },
           {
            "args": [
             {
              "visible": [
               false,
               false,
               false,
               false,
               false,
               false,
               true,
               false,
               false,
               false
              ]
             }
            ],
            "label": "Alexia Putellas",
            "method": "update"
           },
           {
            "args": [
             {
              "visible": [
               false,
               false,
               false,
               false,
               false,
               false,
               false,
               true,
               false,
               false
              ]
             }
            ],
            "label": "Vini Jr.",
            "method": "update"
           },
           {
            "args": [
             {
              "visible": [
               false,
               false,
               false,
               false,
               false,
               false,
               false,
               false,
               true,
               false
              ]
             }
            ],
            "label": "Jude Bellingham",
            "method": "update"
           },
           {
            "args": [
             {
              "visible": [
               false,
               false,
               false,
               false,
               false,
               false,
               false,
               false,
               false,
               true
              ]
             }
            ],
            "label": "Kevin De Bruyne",
            "method": "update"
           }
          ],
          "direction": "down",
          "showactive": true
         }
        ],
        "xaxis": {
         "title": {
          "text": "Attributes"
         }
        },
        "yaxis": {
         "title": {
          "text": "Value"
         }
        }
       }
      }
     },
     "metadata": {},
     "output_type": "display_data"
    }
   ],
   "source": [
    "import plotly.graph_objects as go\n",
    "\n",
    "player_stats = ['OVR', 'PAC', 'SHO', 'PAS', 'DRI', 'DEF', 'PHY']\n",
    "\n",
    "fig = go.Figure()\n",
    "\n",
    "# Create a bar trace for each player in top10OVR\n",
    "for player in top10OVR['Name']:\n",
    "    player_data = all_data[all_data['Name'] == player][player_stats].values.flatten()\n",
    "    fig.add_trace(\n",
    "        go.Bar(\n",
    "            x=player_stats,\n",
    "            y=player_data,\n",
    "            name=player,\n",
    "            visible=False  # Make all traces invisible initially\n",
    "        )\n",
    "    )\n",
    "\n",
    "# Make the first player's data visible by default\n",
    "fig.data[0].visible = True\n",
    "\n",
    "# Create the buttons for updatemenus\n",
    "fig.update_layout(\n",
    "    updatemenus=[\n",
    "        dict(\n",
    "            buttons=[\n",
    "                dict(\n",
    "                    args=[{\"visible\": [i == j for i in range(len(top10OVR['Name']))]}],  # Use top10OVR length\n",
    "                    label=player,\n",
    "                    method='update'\n",
    "                )\n",
    "                for j, player in enumerate(top10OVR['Name'])  # Use top10OVR here instead of all_data\n",
    "            ],\n",
    "            direction='down',\n",
    "            showactive=True,\n",
    "        )\n",
    "    ]\n",
    ")\n",
    "\n",
    "# Update layout for the chart\n",
    "fig.update_layout(\n",
    "    title='Top 10 Players by OVR',\n",
    "    xaxis_title='Attributes',\n",
    "    yaxis_title='Value',\n",
    "    showlegend=False\n",
    ")\n",
    "\n",
    "# Show the figure\n",
    "fig.show()"
   ]
  },
  {
   "cell_type": "code",
   "execution_count": 31,
   "metadata": {},
   "outputs": [
    {
     "data": {
      "image/png": "[encoded data removed]",
      "text/plain": [
       "<Figure size 1000x400 with 1 Axes>"
      ]
     },
     "metadata": {},
     "output_type": "display_data"
    }
   ],
   "source": [
    "#Distribution based on OVR\n",
    "bins = np.arange(40,100,2)\n",
    "plt.figure(figsize=(10, 4))\n",
    "sns.histplot(data = all_data, x='OVR', bins=bins, kde=True)\n",
    "plt.show()"
   ]
  },
  {
   "cell_type": "code",
   "execution_count": 32,
   "metadata": {},
   "outputs": [
    {
     "name": "stderr",
     "output_type": "stream",
     "text": [
      "/var/folders/yk/fs7s5htj44b8ds6qh_c6gb0m0000gn/T/ipykernel_23565/1783981588.py:20: FutureWarning:\n",
      "\n",
      "\n",
      "\n",
      "Passing `palette` without assigning `hue` is deprecated and will be removed in v0.14.0. Assign the `x` variable to `hue` and set `legend=False` for the same effect.\n",
      "\n",
      "\n",
      "/var/folders/yk/fs7s5htj44b8ds6qh_c6gb0m0000gn/T/ipykernel_23565/1783981588.py:20: UserWarning:\n",
      "\n",
      "The palette list has more values (12) than needed (11), which may not be intended.\n",
      "\n"
     ]
    },
    {
     "data": {
      "image/png": "[encoded data removed]",
      "text/plain": [
       "<Figure size 1200x1000 with 1 Axes>"
      ]
     },
     "metadata": {},
     "output_type": "display_data"
    }
   ],
   "source": [
    "#Boxplot positions\n",
    "palette = [\n",
    "    (221/255, 160/255, 221/255),  # plum\n",
    "    (230/255, 190/255, 230/255),  # light plum\n",
    "    (145/255, 61/255, 136/255),   # deep plum\n",
    "    (0/255, 128/255, 0/255),      # green\n",
    "    (144/255, 238/255, 144/255),  # light green\n",
    "    (0/255, 100/255, 0/255),      # dark green\n",
    "    (255/255, 165/255, 0/255),    # orange\n",
    "    (255/255, 218/255, 185/255),  # peach\n",
    "    (255/255, 140/255, 0/255),    # dark orange\n",
    "    (0/255, 0/255, 255/255),      # blue\n",
    "    (173/255, 216/255, 230/255),  # light blue\n",
    "    (255/255, 0/255, 0/255)       # red\n",
    "]\n",
    "\n",
    "plt.figure(figsize=(12,10))\n",
    "position = all_data.groupby('Position')['OVR'].median().sort_values().index\n",
    "\n",
    "sns.boxplot(x='Position', y='OVR', data = all_data, order=position, palette=palette)\n",
    "plt.title('Boxplot OVR to Postion')\n",
    "plt.show()\n"
   ]
  },
  {
   "cell_type": "code",
   "execution_count": 33,
   "metadata": {},
   "outputs": [
    {
     "name": "stderr",
     "output_type": "stream",
     "text": [
      "/var/folders/yk/fs7s5htj44b8ds6qh_c6gb0m0000gn/T/ipykernel_23565/2483875992.py:11: FutureWarning:\n",
      "\n",
      "A value is trying to be set on a copy of a DataFrame or Series through chained assignment using an inplace method.\n",
      "The behavior will change in pandas 3.0. This inplace method will never work because the intermediate object on which we are setting values always behaves as a copy.\n",
      "\n",
      "For example, when doing 'df[col].method(value, inplace=True)', try using 'df.method({col: value}, inplace=True)' or df[col] = df[col].method(value) instead, to perform the operation inplace on the original object.\n",
      "\n",
      "\n",
      "\n"
     ]
    },
    {
     "data": {
      "text/html": [
       "<div>\n",
       "<style scoped>\n",
       "    .dataframe tbody tr th:only-of-type {\n",
       "        vertical-align: middle;\n",
       "    }\n",
       "\n",
       "    .dataframe tbody tr th {\n",
       "        vertical-align: top;\n",
       "    }\n",
       "\n",
       "    .dataframe thead th {\n",
       "        text-align: right;\n",
       "    }\n",
       "</style>\n",
       "<table border=\"1\" class=\"dataframe\">\n",
       "  <thead>\n",
       "    <tr style=\"text-align: right;\">\n",
       "      <th></th>\n",
       "      <th>Rank</th>\n",
       "      <th>Name</th>\n",
       "      <th>OVR</th>\n",
       "      <th>PAC</th>\n",
       "      <th>SHO</th>\n",
       "      <th>PAS</th>\n",
       "      <th>DRI</th>\n",
       "      <th>DEF</th>\n",
       "      <th>PHY</th>\n",
       "      <th>Acceleration</th>\n",
       "      <th>...</th>\n",
       "      <th>Position</th>\n",
       "      <th>Weak foot</th>\n",
       "      <th>Skill moves</th>\n",
       "      <th>Preferred foot</th>\n",
       "      <th>Age</th>\n",
       "      <th>Nation</th>\n",
       "      <th>League</th>\n",
       "      <th>Team</th>\n",
       "      <th>Codes</th>\n",
       "      <th>Label</th>\n",
       "    </tr>\n",
       "  </thead>\n",
       "  <tbody>\n",
       "    <tr>\n",
       "      <th>0</th>\n",
       "      <td>1</td>\n",
       "      <td>Kylian Mbappé</td>\n",
       "      <td>91</td>\n",
       "      <td>97</td>\n",
       "      <td>90</td>\n",
       "      <td>80</td>\n",
       "      <td>92</td>\n",
       "      <td>36</td>\n",
       "      <td>78</td>\n",
       "      <td>97</td>\n",
       "      <td>...</td>\n",
       "      <td>ST</td>\n",
       "      <td>4</td>\n",
       "      <td>5</td>\n",
       "      <td>Right</td>\n",
       "      <td>25</td>\n",
       "      <td>France</td>\n",
       "      <td>LALIGA EA SPORTS</td>\n",
       "      <td>Real Madrid</td>\n",
       "      <td>FRA</td>\n",
       "      <td>Kylian Mbappé, FRA</td>\n",
       "    </tr>\n",
       "    <tr>\n",
       "      <th>1</th>\n",
       "      <td>2</td>\n",
       "      <td>Rodri</td>\n",
       "      <td>91</td>\n",
       "      <td>66</td>\n",
       "      <td>80</td>\n",
       "      <td>86</td>\n",
       "      <td>84</td>\n",
       "      <td>87</td>\n",
       "      <td>85</td>\n",
       "      <td>65</td>\n",
       "      <td>...</td>\n",
       "      <td>CDM</td>\n",
       "      <td>4</td>\n",
       "      <td>3</td>\n",
       "      <td>Right</td>\n",
       "      <td>28</td>\n",
       "      <td>Spain</td>\n",
       "      <td>Premier League</td>\n",
       "      <td>Manchester City</td>\n",
       "      <td>ESP</td>\n",
       "      <td>Rodri, ESP</td>\n",
       "    </tr>\n",
       "    <tr>\n",
       "      <th>2</th>\n",
       "      <td>4</td>\n",
       "      <td>Erling Haaland</td>\n",
       "      <td>91</td>\n",
       "      <td>88</td>\n",
       "      <td>92</td>\n",
       "      <td>70</td>\n",
       "      <td>81</td>\n",
       "      <td>45</td>\n",
       "      <td>88</td>\n",
       "      <td>80</td>\n",
       "      <td>...</td>\n",
       "      <td>ST</td>\n",
       "      <td>3</td>\n",
       "      <td>3</td>\n",
       "      <td>Left</td>\n",
       "      <td>24</td>\n",
       "      <td>Norway</td>\n",
       "      <td>Premier League</td>\n",
       "      <td>Manchester City</td>\n",
       "      <td>NOR</td>\n",
       "      <td>Erling Haaland, NOR</td>\n",
       "    </tr>\n",
       "    <tr>\n",
       "      <th>3</th>\n",
       "      <td>5</td>\n",
       "      <td>Jude Bellingham</td>\n",
       "      <td>90</td>\n",
       "      <td>80</td>\n",
       "      <td>87</td>\n",
       "      <td>83</td>\n",
       "      <td>88</td>\n",
       "      <td>78</td>\n",
       "      <td>83</td>\n",
       "      <td>81</td>\n",
       "      <td>...</td>\n",
       "      <td>CAM</td>\n",
       "      <td>4</td>\n",
       "      <td>4</td>\n",
       "      <td>Right</td>\n",
       "      <td>21</td>\n",
       "      <td>England</td>\n",
       "      <td>LALIGA EA SPORTS</td>\n",
       "      <td>Real Madrid</td>\n",
       "      <td>NaN</td>\n",
       "      <td>Jude Bellingham, NaN</td>\n",
       "    </tr>\n",
       "    <tr>\n",
       "      <th>4</th>\n",
       "      <td>7</td>\n",
       "      <td>Vini Jr.</td>\n",
       "      <td>90</td>\n",
       "      <td>95</td>\n",
       "      <td>84</td>\n",
       "      <td>81</td>\n",
       "      <td>91</td>\n",
       "      <td>29</td>\n",
       "      <td>69</td>\n",
       "      <td>95</td>\n",
       "      <td>...</td>\n",
       "      <td>LW</td>\n",
       "      <td>4</td>\n",
       "      <td>5</td>\n",
       "      <td>Right</td>\n",
       "      <td>24</td>\n",
       "      <td>Brazil</td>\n",
       "      <td>LALIGA EA SPORTS</td>\n",
       "      <td>Real Madrid</td>\n",
       "      <td>BRA</td>\n",
       "      <td>Vini Jr., BRA</td>\n",
       "    </tr>\n",
       "    <tr>\n",
       "      <th>...</th>\n",
       "      <td>...</td>\n",
       "      <td>...</td>\n",
       "      <td>...</td>\n",
       "      <td>...</td>\n",
       "      <td>...</td>\n",
       "      <td>...</td>\n",
       "      <td>...</td>\n",
       "      <td>...</td>\n",
       "      <td>...</td>\n",
       "      <td>...</td>\n",
       "      <td>...</td>\n",
       "      <td>...</td>\n",
       "      <td>...</td>\n",
       "      <td>...</td>\n",
       "      <td>...</td>\n",
       "      <td>...</td>\n",
       "      <td>...</td>\n",
       "      <td>...</td>\n",
       "      <td>...</td>\n",
       "      <td>...</td>\n",
       "      <td>...</td>\n",
       "    </tr>\n",
       "    <tr>\n",
       "      <th>17732</th>\n",
       "      <td>17146</td>\n",
       "      <td>Araya Dennis</td>\n",
       "      <td>53</td>\n",
       "      <td>42</td>\n",
       "      <td>57</td>\n",
       "      <td>49</td>\n",
       "      <td>52</td>\n",
       "      <td>25</td>\n",
       "      <td>42</td>\n",
       "      <td>44</td>\n",
       "      <td>...</td>\n",
       "      <td>ST</td>\n",
       "      <td>3</td>\n",
       "      <td>2</td>\n",
       "      <td>Right</td>\n",
       "      <td>18</td>\n",
       "      <td>England</td>\n",
       "      <td>Barclays WSL</td>\n",
       "      <td>Spurs</td>\n",
       "      <td>NaN</td>\n",
       "      <td>Araya Dennis, NaN</td>\n",
       "    </tr>\n",
       "    <tr>\n",
       "      <th>17733</th>\n",
       "      <td>17146</td>\n",
       "      <td>Alexia Férnandez</td>\n",
       "      <td>53</td>\n",
       "      <td>53</td>\n",
       "      <td>55</td>\n",
       "      <td>51</td>\n",
       "      <td>53</td>\n",
       "      <td>34</td>\n",
       "      <td>47</td>\n",
       "      <td>52</td>\n",
       "      <td>...</td>\n",
       "      <td>LW</td>\n",
       "      <td>3</td>\n",
       "      <td>2</td>\n",
       "      <td>Right</td>\n",
       "      <td>22</td>\n",
       "      <td>Spain</td>\n",
       "      <td>Liga F</td>\n",
       "      <td>Granada CF</td>\n",
       "      <td>ESP</td>\n",
       "      <td>Alexia Férnandez, ESP</td>\n",
       "    </tr>\n",
       "    <tr>\n",
       "      <th>17734</th>\n",
       "      <td>17146</td>\n",
       "      <td>Aleigh Gambone</td>\n",
       "      <td>53</td>\n",
       "      <td>60</td>\n",
       "      <td>58</td>\n",
       "      <td>53</td>\n",
       "      <td>56</td>\n",
       "      <td>49</td>\n",
       "      <td>53</td>\n",
       "      <td>58</td>\n",
       "      <td>...</td>\n",
       "      <td>CM</td>\n",
       "      <td>4</td>\n",
       "      <td>4</td>\n",
       "      <td>Right</td>\n",
       "      <td>23</td>\n",
       "      <td>United States</td>\n",
       "      <td>Scottish Women's League</td>\n",
       "      <td>Glasgow City FC</td>\n",
       "      <td>USA</td>\n",
       "      <td>Aleigh Gambone, USA</td>\n",
       "    </tr>\n",
       "    <tr>\n",
       "      <th>17735</th>\n",
       "      <td>17146</td>\n",
       "      <td>Joy Lysser</td>\n",
       "      <td>53</td>\n",
       "      <td>61</td>\n",
       "      <td>52</td>\n",
       "      <td>48</td>\n",
       "      <td>56</td>\n",
       "      <td>53</td>\n",
       "      <td>58</td>\n",
       "      <td>60</td>\n",
       "      <td>...</td>\n",
       "      <td>CM</td>\n",
       "      <td>3</td>\n",
       "      <td>2</td>\n",
       "      <td>Left</td>\n",
       "      <td>20</td>\n",
       "      <td>Switzerland</td>\n",
       "      <td>Schweizer Damen Liga</td>\n",
       "      <td>FC Zürich</td>\n",
       "      <td>CHE</td>\n",
       "      <td>Joy Lysser, CHE</td>\n",
       "    </tr>\n",
       "    <tr>\n",
       "      <th>17736</th>\n",
       "      <td>17146</td>\n",
       "      <td>Kateřina Vithová</td>\n",
       "      <td>53</td>\n",
       "      <td>60</td>\n",
       "      <td>49</td>\n",
       "      <td>53</td>\n",
       "      <td>54</td>\n",
       "      <td>27</td>\n",
       "      <td>55</td>\n",
       "      <td>59</td>\n",
       "      <td>...</td>\n",
       "      <td>LM</td>\n",
       "      <td>3</td>\n",
       "      <td>3</td>\n",
       "      <td>Left</td>\n",
       "      <td>18</td>\n",
       "      <td>Czech Republic</td>\n",
       "      <td>Ceska Liga Žen</td>\n",
       "      <td>Slavia Praha</td>\n",
       "      <td>NaN</td>\n",
       "      <td>Kateřina Vithová, NaN</td>\n",
       "    </tr>\n",
       "  </tbody>\n",
       "</table>\n",
       "<p>15738 rows × 48 columns</p>\n",
       "</div>"
      ],
      "text/plain": [
       "        Rank              Name  OVR  PAC  SHO  PAS  DRI  DEF  PHY  \\\n",
       "0          1     Kylian Mbappé   91   97   90   80   92   36   78   \n",
       "1          2             Rodri   91   66   80   86   84   87   85   \n",
       "2          4    Erling Haaland   91   88   92   70   81   45   88   \n",
       "3          5   Jude Bellingham   90   80   87   83   88   78   83   \n",
       "4          7          Vini Jr.   90   95   84   81   91   29   69   \n",
       "...      ...               ...  ...  ...  ...  ...  ...  ...  ...   \n",
       "17732  17146      Araya Dennis   53   42   57   49   52   25   42   \n",
       "17733  17146  Alexia Férnandez   53   53   55   51   53   34   47   \n",
       "17734  17146    Aleigh Gambone   53   60   58   53   56   49   53   \n",
       "17735  17146        Joy Lysser   53   61   52   48   56   53   58   \n",
       "17736  17146  Kateřina Vithová   53   60   49   53   54   27   55   \n",
       "\n",
       "       Acceleration  ...  Position Weak foot Skill moves  Preferred foot Age  \\\n",
       "0                97  ...        ST         4           5           Right  25   \n",
       "1                65  ...       CDM         4           3           Right  28   \n",
       "2                80  ...        ST         3           3            Left  24   \n",
       "3                81  ...       CAM         4           4           Right  21   \n",
       "4                95  ...        LW         4           5           Right  24   \n",
       "...             ...  ...       ...       ...         ...             ...  ..   \n",
       "17732            44  ...        ST         3           2           Right  18   \n",
       "17733            52  ...        LW         3           2           Right  22   \n",
       "17734            58  ...        CM         4           4           Right  23   \n",
       "17735            60  ...        CM         3           2            Left  20   \n",
       "17736            59  ...        LM         3           3            Left  18   \n",
       "\n",
       "               Nation                   League             Team Codes  \\\n",
       "0              France         LALIGA EA SPORTS      Real Madrid   FRA   \n",
       "1               Spain           Premier League  Manchester City   ESP   \n",
       "2              Norway           Premier League  Manchester City   NOR   \n",
       "3             England         LALIGA EA SPORTS      Real Madrid   NaN   \n",
       "4              Brazil         LALIGA EA SPORTS      Real Madrid   BRA   \n",
       "...               ...                      ...              ...   ...   \n",
       "17732         England             Barclays WSL            Spurs   NaN   \n",
       "17733           Spain                   Liga F       Granada CF   ESP   \n",
       "17734   United States  Scottish Women's League  Glasgow City FC   USA   \n",
       "17735     Switzerland     Schweizer Damen Liga        FC Zürich   CHE   \n",
       "17736  Czech Republic           Ceska Liga Žen     Slavia Praha   NaN   \n",
       "\n",
       "                       Label  \n",
       "0         Kylian Mbappé, FRA  \n",
       "1                 Rodri, ESP  \n",
       "2        Erling Haaland, NOR  \n",
       "3       Jude Bellingham, NaN  \n",
       "4              Vini Jr., BRA  \n",
       "...                      ...  \n",
       "17732      Araya Dennis, NaN  \n",
       "17733  Alexia Férnandez, ESP  \n",
       "17734    Aleigh Gambone, USA  \n",
       "17735        Joy Lysser, CHE  \n",
       "17736  Kateřina Vithová, NaN  \n",
       "\n",
       "[15738 rows x 48 columns]"
      ]
     },
     "execution_count": 33,
     "metadata": {},
     "output_type": "execute_result"
    }
   ],
   "source": [
    "import pycountry\n",
    "\n",
    "input_countries = all_data['Nation']\n",
    "\n",
    "countries = {}\n",
    "for country in pycountry.countries:\n",
    "    countries[country.name] = country.alpha_3\n",
    "\n",
    "codes = [countries.get(country, 'Unknown code') for country in input_countries]\n",
    "all_data['Codes'] = codes\n",
    "all_data['Codes'].replace('Unknown code', 'NaN', inplace=True)\n",
    "\n",
    "all_data['Label'] = all_data['Name'] + \", \" + all_data['Codes']\n",
    "all_data"
   ]
  },
  {
   "cell_type": "code",
   "execution_count": 34,
   "metadata": {},
   "outputs": [
    {
     "data": {
      "text/plain": [
       "Index(['Rank', 'Name', 'OVR', 'PAC', 'SHO', 'PAS', 'DRI', 'DEF', 'PHY',\n",
       "       'Acceleration', 'Sprint Speed', 'Positioning', 'Finishing',\n",
       "       'Shot Power', 'Long Shots', 'Volleys', 'Penalties', 'Vision',\n",
       "       'Crossing', 'Free Kick Accuracy', 'Short Passing', 'Long Passing',\n",
       "       'Curve', 'Dribbling', 'Agility', 'Balance', 'Reactions', 'Ball Control',\n",
       "       'Composure', 'Interceptions', 'Heading Accuracy', 'Def Awareness',\n",
       "       'Standing Tackle', 'Sliding Tackle', 'Jumping', 'Stamina', 'Strength',\n",
       "       'Aggression', 'Position', 'Weak foot', 'Skill moves', 'Preferred foot',\n",
       "       'Age', 'Nation', 'League', 'Team', 'Codes', 'Label'],\n",
       "      dtype='object')"
      ]
     },
     "execution_count": 34,
     "metadata": {},
     "output_type": "execute_result"
    }
   ],
   "source": [
    "all_data.columns"
   ]
  },
  {
   "cell_type": "code",
   "execution_count": 35,
   "metadata": {},
   "outputs": [
    {
     "data": {
      "text/html": [
       "<div>\n",
       "<style scoped>\n",
       "    .dataframe tbody tr th:only-of-type {\n",
       "        vertical-align: middle;\n",
       "    }\n",
       "\n",
       "    .dataframe tbody tr th {\n",
       "        vertical-align: top;\n",
       "    }\n",
       "\n",
       "    .dataframe thead th {\n",
       "        text-align: right;\n",
       "    }\n",
       "</style>\n",
       "<table border=\"1\" class=\"dataframe\">\n",
       "  <thead>\n",
       "    <tr style=\"text-align: right;\">\n",
       "      <th></th>\n",
       "      <th>Label</th>\n",
       "      <th>Position</th>\n",
       "      <th>Team</th>\n",
       "      <th>PAC</th>\n",
       "      <th>Acceleration</th>\n",
       "      <th>Sprint Speed</th>\n",
       "    </tr>\n",
       "  </thead>\n",
       "  <tbody>\n",
       "    <tr>\n",
       "      <th>0</th>\n",
       "      <td>Kylian Mbappé, FRA</td>\n",
       "      <td>ST</td>\n",
       "      <td>Real Madrid</td>\n",
       "      <td>97</td>\n",
       "      <td>97</td>\n",
       "      <td>97</td>\n",
       "    </tr>\n",
       "    <tr>\n",
       "      <th>462</th>\n",
       "      <td>Karim Adeyemi, DEU</td>\n",
       "      <td>LM</td>\n",
       "      <td>Borussia Dortmund</td>\n",
       "      <td>96</td>\n",
       "      <td>96</td>\n",
       "      <td>96</td>\n",
       "    </tr>\n",
       "    <tr>\n",
       "      <th>1954</th>\n",
       "      <td>Yankuba Minteh, GMB</td>\n",
       "      <td>RM</td>\n",
       "      <td>Brighton</td>\n",
       "      <td>95</td>\n",
       "      <td>94</td>\n",
       "      <td>95</td>\n",
       "    </tr>\n",
       "    <tr>\n",
       "      <th>32</th>\n",
       "      <td>Theo Hernández, FRA</td>\n",
       "      <td>LB</td>\n",
       "      <td>Milano FC</td>\n",
       "      <td>95</td>\n",
       "      <td>95</td>\n",
       "      <td>95</td>\n",
       "    </tr>\n",
       "    <tr>\n",
       "      <th>140</th>\n",
       "      <td>Moussa Diaby, FRA</td>\n",
       "      <td>RM</td>\n",
       "      <td>Al Ittihad</td>\n",
       "      <td>95</td>\n",
       "      <td>95</td>\n",
       "      <td>95</td>\n",
       "    </tr>\n",
       "    <tr>\n",
       "      <th>214</th>\n",
       "      <td>Alphonso Davies, CAN</td>\n",
       "      <td>LB</td>\n",
       "      <td>FC Bayern München</td>\n",
       "      <td>95</td>\n",
       "      <td>96</td>\n",
       "      <td>95</td>\n",
       "    </tr>\n",
       "    <tr>\n",
       "      <th>4</th>\n",
       "      <td>Vini Jr., BRA</td>\n",
       "      <td>LW</td>\n",
       "      <td>Real Madrid</td>\n",
       "      <td>95</td>\n",
       "      <td>95</td>\n",
       "      <td>95</td>\n",
       "    </tr>\n",
       "    <tr>\n",
       "      <th>16415</th>\n",
       "      <td>Rosemonde Kouassi, CIV</td>\n",
       "      <td>RM</td>\n",
       "      <td>Washington Spirit</td>\n",
       "      <td>94</td>\n",
       "      <td>94</td>\n",
       "      <td>94</td>\n",
       "    </tr>\n",
       "    <tr>\n",
       "      <th>3193</th>\n",
       "      <td>Kevin Schade, DEU</td>\n",
       "      <td>LW</td>\n",
       "      <td>Brentford</td>\n",
       "      <td>94</td>\n",
       "      <td>93</td>\n",
       "      <td>94</td>\n",
       "    </tr>\n",
       "    <tr>\n",
       "      <th>6042</th>\n",
       "      <td>Nestory Irankunda, AUS</td>\n",
       "      <td>RM</td>\n",
       "      <td>FC Bayern München</td>\n",
       "      <td>94</td>\n",
       "      <td>95</td>\n",
       "      <td>94</td>\n",
       "    </tr>\n",
       "    <tr>\n",
       "      <th>16244</th>\n",
       "      <td>Trinity Rodman, USA</td>\n",
       "      <td>RM</td>\n",
       "      <td>Washington Spirit</td>\n",
       "      <td>94</td>\n",
       "      <td>93</td>\n",
       "      <td>94</td>\n",
       "    </tr>\n",
       "    <tr>\n",
       "      <th>278</th>\n",
       "      <td>Iñaki Williams, GHA</td>\n",
       "      <td>RM</td>\n",
       "      <td>Athletic Club</td>\n",
       "      <td>94</td>\n",
       "      <td>93</td>\n",
       "      <td>94</td>\n",
       "    </tr>\n",
       "    <tr>\n",
       "      <th>16226</th>\n",
       "      <td>Tabitha Chawinga, MWI</td>\n",
       "      <td>ST</td>\n",
       "      <td>OL</td>\n",
       "      <td>94</td>\n",
       "      <td>93</td>\n",
       "      <td>95</td>\n",
       "    </tr>\n",
       "    <tr>\n",
       "      <th>50</th>\n",
       "      <td>Rafael Leão, PRT</td>\n",
       "      <td>LW</td>\n",
       "      <td>Milano FC</td>\n",
       "      <td>94</td>\n",
       "      <td>94</td>\n",
       "      <td>94</td>\n",
       "    </tr>\n",
       "    <tr>\n",
       "      <th>107</th>\n",
       "      <td>Jeremie Frimpong, NaN</td>\n",
       "      <td>RM</td>\n",
       "      <td>Leverkusen</td>\n",
       "      <td>93</td>\n",
       "      <td>96</td>\n",
       "      <td>91</td>\n",
       "    </tr>\n",
       "    <tr>\n",
       "      <th>142</th>\n",
       "      <td>Rafa, PRT</td>\n",
       "      <td>CAM</td>\n",
       "      <td>Beşiktaş</td>\n",
       "      <td>93</td>\n",
       "      <td>94</td>\n",
       "      <td>93</td>\n",
       "    </tr>\n",
       "    <tr>\n",
       "      <th>11761</th>\n",
       "      <td>Trent Buhagiar, AUS</td>\n",
       "      <td>ST</td>\n",
       "      <td>Brescia</td>\n",
       "      <td>93</td>\n",
       "      <td>94</td>\n",
       "      <td>93</td>\n",
       "    </tr>\n",
       "    <tr>\n",
       "      <th>98</th>\n",
       "      <td>Federico Chiesa, ITA</td>\n",
       "      <td>RW</td>\n",
       "      <td>Liverpool</td>\n",
       "      <td>93</td>\n",
       "      <td>92</td>\n",
       "      <td>93</td>\n",
       "    </tr>\n",
       "    <tr>\n",
       "      <th>541</th>\n",
       "      <td>Manuel Lazzari, ITA</td>\n",
       "      <td>RB</td>\n",
       "      <td>Latium</td>\n",
       "      <td>93</td>\n",
       "      <td>92</td>\n",
       "      <td>93</td>\n",
       "    </tr>\n",
       "    <tr>\n",
       "      <th>576</th>\n",
       "      <td>Galeno, BRA</td>\n",
       "      <td>LM</td>\n",
       "      <td>FC Porto</td>\n",
       "      <td>93</td>\n",
       "      <td>92</td>\n",
       "      <td>94</td>\n",
       "    </tr>\n",
       "  </tbody>\n",
       "</table>\n",
       "</div>"
      ],
      "text/plain": [
       "                        Label Position               Team  PAC  Acceleration  \\\n",
       "0          Kylian Mbappé, FRA       ST        Real Madrid   97            97   \n",
       "462        Karim Adeyemi, DEU       LM  Borussia Dortmund   96            96   \n",
       "1954      Yankuba Minteh, GMB       RM           Brighton   95            94   \n",
       "32        Theo Hernández, FRA       LB          Milano FC   95            95   \n",
       "140         Moussa Diaby, FRA       RM         Al Ittihad   95            95   \n",
       "214      Alphonso Davies, CAN       LB  FC Bayern München   95            96   \n",
       "4               Vini Jr., BRA       LW        Real Madrid   95            95   \n",
       "16415  Rosemonde Kouassi, CIV       RM  Washington Spirit   94            94   \n",
       "3193        Kevin Schade, DEU       LW          Brentford   94            93   \n",
       "6042   Nestory Irankunda, AUS       RM  FC Bayern München   94            95   \n",
       "16244     Trinity Rodman, USA       RM  Washington Spirit   94            93   \n",
       "278       Iñaki Williams, GHA       RM      Athletic Club   94            93   \n",
       "16226   Tabitha Chawinga, MWI       ST                 OL   94            93   \n",
       "50           Rafael Leão, PRT       LW          Milano FC   94            94   \n",
       "107     Jeremie Frimpong, NaN       RM         Leverkusen   93            96   \n",
       "142                 Rafa, PRT      CAM           Beşiktaş   93            94   \n",
       "11761     Trent Buhagiar, AUS       ST            Brescia   93            94   \n",
       "98       Federico Chiesa, ITA       RW          Liverpool   93            92   \n",
       "541       Manuel Lazzari, ITA       RB             Latium   93            92   \n",
       "576               Galeno, BRA       LM           FC Porto   93            92   \n",
       "\n",
       "       Sprint Speed  \n",
       "0                97  \n",
       "462              96  \n",
       "1954             95  \n",
       "32               95  \n",
       "140              95  \n",
       "214              95  \n",
       "4                95  \n",
       "16415            94  \n",
       "3193             94  \n",
       "6042             94  \n",
       "16244            94  \n",
       "278              94  \n",
       "16226            95  \n",
       "50               94  \n",
       "107              91  \n",
       "142              93  \n",
       "11761            93  \n",
       "98               93  \n",
       "541              93  \n",
       "576              94  "
      ]
     },
     "execution_count": 35,
     "metadata": {},
     "output_type": "execute_result"
    }
   ],
   "source": [
    "#Top 20 speed\n",
    "speed_data = all_data[['Label', 'Position', 'Team', 'PAC','Acceleration', 'Sprint Speed']]\n",
    "speed_data = speed_data.sort_values('PAC', ascending=False)[:20]\n",
    "speed_data"
   ]
  },
  {
   "cell_type": "code",
   "execution_count": 36,
   "metadata": {},
   "outputs": [
    {
     "data": {
      "application/vnd.plotly.v1+json": {
       "config": {
        "plotlyServerURL": "https://plot.ly"
       },
       "data": [
        {
         "marker": {
          "color": [
           97,
           96,
           95,
           95,
           95,
           95,
           95,
           94,
           94,
           94,
           94,
           94,
           94,
           94,
           93,
           93,
           93,
           93,
           93,
           93
          ]
         },
         "name": "Player PAC",
         "type": "bar",
         "x": [
          "Kylian Mbappé, FRA",
          "Karim Adeyemi, DEU",
          "Yankuba Minteh, GMB",
          "Theo Hernández, FRA",
          "Moussa Diaby, FRA",
          "Alphonso Davies, CAN",
          "Vini Jr., BRA",
          "Rosemonde Kouassi, CIV",
          "Kevin Schade, DEU",
          "Nestory Irankunda, AUS",
          "Trinity Rodman, USA",
          "Iñaki Williams, GHA",
          "Tabitha Chawinga, MWI",
          "Rafael Leão, PRT",
          "Jeremie Frimpong, NaN",
          "Rafa, PRT",
          "Trent Buhagiar, AUS",
          "Federico Chiesa, ITA",
          "Manuel Lazzari, ITA",
          "Galeno, BRA"
         ],
         "y": [
          97,
          96,
          95,
          95,
          95,
          95,
          95,
          94,
          94,
          94,
          94,
          94,
          94,
          94,
          93,
          93,
          93,
          93,
          93,
          93
         ]
        }
       ],
       "layout": {
        "template": {
         "data": {
          "bar": [
           {
            "error_x": {
             "color": "#2a3f5f"
            },
            "error_y": {
             "color": "#2a3f5f"
            },
            "marker": {
             "line": {
              "color": "#E5ECF6",
              "width": 0.5
             },
             "pattern": {
              "fillmode": "overlay",
              "size": 10,
              "solidity": 0.2
             }
            },
            "type": "bar"
           }
          ],
          "barpolar": [
           {
            "marker": {
             "line": {
              "color": "#E5ECF6",
              "width": 0.5
             },
             "pattern": {
              "fillmode": "overlay",
              "size": 10,
              "solidity": 0.2
             }
            },
            "type": "barpolar"
           }
          ],
          "carpet": [
           {
            "aaxis": {
             "endlinecolor": "#2a3f5f",
             "gridcolor": "white",
             "linecolor": "white",
             "minorgridcolor": "white",
             "startlinecolor": "#2a3f5f"
            },
            "baxis": {
             "endlinecolor": "#2a3f5f",
             "gridcolor": "white",
             "linecolor": "white",
             "minorgridcolor": "white",
             "startlinecolor": "#2a3f5f"
            },
            "type": "carpet"
           }
          ],
          "choropleth": [
           {
            "colorbar": {
             "outlinewidth": 0,
             "ticks": ""
            },
            "type": "choropleth"
           }
          ],
          "contour": [
           {
            "colorbar": {
             "outlinewidth": 0,
             "ticks": ""
            },
            "colorscale": [
             [
              0,
              "#0d0887"
             ],
             [
              0.1111111111111111,
              "#46039f"
             ],
             [
              0.2222222222222222,
              "#7201a8"
             ],
             [
              0.3333333333333333,
              "#9c179e"
             ],
             [
              0.4444444444444444,
              "#bd3786"
             ],
             [
              0.5555555555555556,
              "#d8576b"
             ],
             [
              0.6666666666666666,
              "#ed7953"
             ],
             [
              0.7777777777777778,
              "#fb9f3a"
             ],
             [
              0.8888888888888888,
              "#fdca26"
             ],
             [
              1,
              "#f0f921"
             ]
            ],
            "type": "contour"
           }
          ],
          "contourcarpet": [
           {
            "colorbar": {
             "outlinewidth": 0,
             "ticks": ""
            },
            "type": "contourcarpet"
           }
          ],
          "heatmap": [
           {
            "colorbar": {
             "outlinewidth": 0,
             "ticks": ""
            },
            "colorscale": [
             [
              0,
              "#0d0887"
             ],
             [
              0.1111111111111111,
              "#46039f"
             ],
             [
              0.2222222222222222,
              "#7201a8"
             ],
             [
              0.3333333333333333,
              "#9c179e"
             ],
             [
              0.4444444444444444,
              "#bd3786"
             ],
             [
              0.5555555555555556,
              "#d8576b"
             ],
             [
              0.6666666666666666,
              "#ed7953"
             ],
             [
              0.7777777777777778,
              "#fb9f3a"
             ],
             [
              0.8888888888888888,
              "#fdca26"
             ],
             [
              1,
              "#f0f921"
             ]
            ],
            "type": "heatmap"
           }
          ],
          "heatmapgl": [
           {
            "colorbar": {
             "outlinewidth": 0,
             "ticks": ""
            },
            "colorscale": [
             [
              0,
              "#0d0887"
             ],
             [
              0.1111111111111111,
              "#46039f"
             ],
             [
              0.2222222222222222,
              "#7201a8"
             ],
             [
              0.3333333333333333,
              "#9c179e"
             ],
             [
              0.4444444444444444,
              "#bd3786"
             ],
             [
              0.5555555555555556,
              "#d8576b"
             ],
             [
              0.6666666666666666,
              "#ed7953"
             ],
             [
              0.7777777777777778,
              "#fb9f3a"
             ],
             [
              0.8888888888888888,
              "#fdca26"
             ],
             [
              1,
              "#f0f921"
             ]
            ],
            "type": "heatmapgl"
           }
          ],
          "histogram": [
           {
            "marker": {
             "pattern": {
              "fillmode": "overlay",
              "size": 10,
              "solidity": 0.2
             }
            },
            "type": "histogram"
           }
          ],
          "histogram2d": [
           {
            "colorbar": {
             "outlinewidth": 0,
             "ticks": ""
            },
            "colorscale": [
             [
              0,
              "#0d0887"
             ],
             [
              0.1111111111111111,
              "#46039f"
             ],
             [
              0.2222222222222222,
              "#7201a8"
             ],
             [
              0.3333333333333333,
              "#9c179e"
             ],
             [
              0.4444444444444444,
              "#bd3786"
             ],
             [
              0.5555555555555556,
              "#d8576b"
             ],
             [
              0.6666666666666666,
              "#ed7953"
             ],
             [
              0.7777777777777778,
              "#fb9f3a"
             ],
             [
              0.8888888888888888,
              "#fdca26"
             ],
             [
              1,
              "#f0f921"
             ]
            ],
            "type": "histogram2d"
           }
          ],
          "histogram2dcontour": [
           {
            "colorbar": {
             "outlinewidth": 0,
             "ticks": ""
            },
            "colorscale": [
             [
              0,
              "#0d0887"
             ],
             [
              0.1111111111111111,
              "#46039f"
             ],
             [
              0.2222222222222222,
              "#7201a8"
             ],
             [
              0.3333333333333333,
              "#9c179e"
             ],
             [
              0.4444444444444444,
              "#bd3786"
             ],
             [
              0.5555555555555556,
              "#d8576b"
             ],
             [
              0.6666666666666666,
              "#ed7953"
             ],
             [
              0.7777777777777778,
              "#fb9f3a"
             ],
             [
              0.8888888888888888,
              "#fdca26"
             ],
             [
              1,
              "#f0f921"
             ]
            ],
            "type": "histogram2dcontour"
           }
          ],
          "mesh3d": [
           {
            "colorbar": {
             "outlinewidth": 0,
             "ticks": ""
            },
            "type": "mesh3d"
           }
          ],
          "parcoords": [
           {
            "line": {
             "colorbar": {
              "outlinewidth": 0,
              "ticks": ""
             }
            },
            "type": "parcoords"
           }
          ],
          "pie": [
           {
            "automargin": true,
            "type": "pie"
           }
          ],
          "scatter": [
           {
            "fillpattern": {
             "fillmode": "overlay",
             "size": 10,
             "solidity": 0.2
            },
            "type": "scatter"
           }
          ],
          "scatter3d": [
           {
            "line": {
             "colorbar": {
              "outlinewidth": 0,
              "ticks": ""
             }
            },
            "marker": {
             "colorbar": {
              "outlinewidth": 0,
              "ticks": ""
             }
            },
            "type": "scatter3d"
           }
          ],
          "scattercarpet": [
           {
            "marker": {
             "colorbar": {
              "outlinewidth": 0,
              "ticks": ""
             }
            },
            "type": "scattercarpet"
           }
          ],
          "scattergeo": [
           {
            "marker": {
             "colorbar": {
              "outlinewidth": 0,
              "ticks": ""
             }
            },
            "type": "scattergeo"
           }
          ],
          "scattergl": [
           {
            "marker": {
             "colorbar": {
              "outlinewidth": 0,
              "ticks": ""
             }
            },
            "type": "scattergl"
           }
          ],
          "scattermapbox": [
           {
            "marker": {
             "colorbar": {
              "outlinewidth": 0,
              "ticks": ""
             }
            },
            "type": "scattermapbox"
           }
          ],
          "scatterpolar": [
           {
            "marker": {
             "colorbar": {
              "outlinewidth": 0,
              "ticks": ""
             }
            },
            "type": "scatterpolar"
           }
          ],
          "scatterpolargl": [
           {
            "marker": {
             "colorbar": {
              "outlinewidth": 0,
              "ticks": ""
             }
            },
            "type": "scatterpolargl"
           }
          ],
          "scatterternary": [
           {
            "marker": {
             "colorbar": {
              "outlinewidth": 0,
              "ticks": ""
             }
            },
            "type": "scatterternary"
           }
          ],
          "surface": [
           {
            "colorbar": {
             "outlinewidth": 0,
             "ticks": ""
            },
            "colorscale": [
             [
              0,
              "#0d0887"
             ],
             [
              0.1111111111111111,
              "#46039f"
             ],
             [
              0.2222222222222222,
              "#7201a8"
             ],
             [
              0.3333333333333333,
              "#9c179e"
             ],
             [
              0.4444444444444444,
              "#bd3786"
             ],
             [
              0.5555555555555556,
              "#d8576b"
             ],
             [
              0.6666666666666666,
              "#ed7953"
             ],
             [
              0.7777777777777778,
              "#fb9f3a"
             ],
             [
              0.8888888888888888,
              "#fdca26"
             ],
             [
              1,
              "#f0f921"
             ]
            ],
            "type": "surface"
           }
          ],
          "table": [
           {
            "cells": {
             "fill": {
              "color": "#EBF0F8"
             },
             "line": {
              "color": "white"
             }
            },
            "header": {
             "fill": {
              "color": "#C8D4E3"
             },
             "line": {
              "color": "white"
             }
            },
            "type": "table"
           }
          ]
         },
         "layout": {
          "annotationdefaults": {
           "arrowcolor": "#2a3f5f",
           "arrowhead": 0,
           "arrowwidth": 1
          },
          "autotypenumbers": "strict",
          "coloraxis": {
           "colorbar": {
            "outlinewidth": 0,
            "ticks": ""
           }
          },
          "colorscale": {
           "diverging": [
            [
             0,
             "#8e0152"
            ],
            [
             0.1,
             "#c51b7d"
            ],
            [
             0.2,
             "#de77ae"
            ],
            [
             0.3,
             "#f1b6da"
            ],
            [
             0.4,
             "#fde0ef"
            ],
            [
             0.5,
             "#f7f7f7"
            ],
            [
             0.6,
             "#e6f5d0"
            ],
            [
             0.7,
             "#b8e186"
            ],
            [
             0.8,
             "#7fbc41"
            ],
            [
             0.9,
             "#4d9221"
            ],
            [
             1,
             "#276419"
            ]
           ],
           "sequential": [
            [
             0,
             "#0d0887"
            ],
            [
             0.1111111111111111,
             "#46039f"
            ],
            [
             0.2222222222222222,
             "#7201a8"
            ],
            [
             0.3333333333333333,
             "#9c179e"
            ],
            [
             0.4444444444444444,
             "#bd3786"
            ],
            [
             0.5555555555555556,
             "#d8576b"
            ],
            [
             0.6666666666666666,
             "#ed7953"
            ],
            [
             0.7777777777777778,
             "#fb9f3a"
            ],
            [
             0.8888888888888888,
             "#fdca26"
            ],
            [
             1,
             "#f0f921"
            ]
           ],
           "sequentialminus": [
            [
             0,
             "#0d0887"
            ],
            [
             0.1111111111111111,
             "#46039f"
            ],
            [
             0.2222222222222222,
             "#7201a8"
            ],
            [
             0.3333333333333333,
             "#9c179e"
            ],
            [
             0.4444444444444444,
             "#bd3786"
            ],
            [
             0.5555555555555556,
             "#d8576b"
            ],
            [
             0.6666666666666666,
             "#ed7953"
            ],
            [
             0.7777777777777778,
             "#fb9f3a"
            ],
            [
             0.8888888888888888,
             "#fdca26"
            ],
            [
             1,
             "#f0f921"
            ]
           ]
          },
          "colorway": [
           "#636efa",
           "#EF553B",
           "#00cc96",
           "#ab63fa",
           "#FFA15A",
           "#19d3f3",
           "#FF6692",
           "#B6E880",
           "#FF97FF",
           "#FECB52"
          ],
          "font": {
           "color": "#2a3f5f"
          },
          "geo": {
           "bgcolor": "white",
           "lakecolor": "white",
           "landcolor": "#E5ECF6",
           "showlakes": true,
           "showland": true,
           "subunitcolor": "white"
          },
          "hoverlabel": {
           "align": "left"
          },
          "hovermode": "closest",
          "mapbox": {
           "style": "light"
          },
          "paper_bgcolor": "white",
          "plot_bgcolor": "#E5ECF6",
          "polar": {
           "angularaxis": {
            "gridcolor": "white",
            "linecolor": "white",
            "ticks": ""
           },
           "bgcolor": "#E5ECF6",
           "radialaxis": {
            "gridcolor": "white",
            "linecolor": "white",
            "ticks": ""
           }
          },
          "scene": {
           "xaxis": {
            "backgroundcolor": "#E5ECF6",
            "gridcolor": "white",
            "gridwidth": 2,
            "linecolor": "white",
            "showbackground": true,
            "ticks": "",
            "zerolinecolor": "white"
           },
           "yaxis": {
            "backgroundcolor": "#E5ECF6",
            "gridcolor": "white",
            "gridwidth": 2,
            "linecolor": "white",
            "showbackground": true,
            "ticks": "",
            "zerolinecolor": "white"
           },
           "zaxis": {
            "backgroundcolor": "#E5ECF6",
            "gridcolor": "white",
            "gridwidth": 2,
            "linecolor": "white",
            "showbackground": true,
            "ticks": "",
            "zerolinecolor": "white"
           }
          },
          "shapedefaults": {
           "line": {
            "color": "#2a3f5f"
           }
          },
          "ternary": {
           "aaxis": {
            "gridcolor": "white",
            "linecolor": "white",
            "ticks": ""
           },
           "baxis": {
            "gridcolor": "white",
            "linecolor": "white",
            "ticks": ""
           },
           "bgcolor": "#E5ECF6",
           "caxis": {
            "gridcolor": "white",
            "linecolor": "white",
            "ticks": ""
           }
          },
          "title": {
           "x": 0.05
          },
          "xaxis": {
           "automargin": true,
           "gridcolor": "white",
           "linecolor": "white",
           "ticks": "",
           "title": {
            "standoff": 15
           },
           "zerolinecolor": "white",
           "zerolinewidth": 2
          },
          "yaxis": {
           "automargin": true,
           "gridcolor": "white",
           "linecolor": "white",
           "ticks": "",
           "title": {
            "standoff": 15
           },
           "zerolinecolor": "white",
           "zerolinewidth": 2
          }
         }
        },
        "title": {
         "font": {
          "size": 24
         },
         "text": "Player PACE Comparison"
        },
        "updatemenus": [
         {
          "buttons": [
           {
            "args": [
             {
              "y": [
               [
                97,
                96,
                95,
                95,
                95,
                95,
                95,
                94,
                94,
                94,
                94,
                94,
                94,
                94,
                93,
                93,
                93,
                93,
                93,
                93
               ]
              ]
             },
             {
              "marker.color": [
               [
                97,
                96,
                95,
                95,
                95,
                95,
                95,
                94,
                94,
                94,
                94,
                94,
                94,
                94,
                93,
                93,
                93,
                93,
                93,
                93
               ]
              ]
             }
            ],
            "label": "PAC",
            "method": "update"
           },
           {
            "args": [
             {
              "y": [
               [
                97,
                96,
                94,
                95,
                95,
                96,
                95,
                94,
                93,
                95,
                93,
                93,
                93,
                94,
                96,
                94,
                94,
                92,
                92,
                92
               ]
              ]
             },
             {
              "marker.color": [
               [
                97,
                96,
                94,
                95,
                95,
                96,
                95,
                94,
                93,
                95,
                93,
                93,
                93,
                94,
                96,
                94,
                94,
                92,
                92,
                92
               ]
              ]
             }
            ],
            "label": "Acceleration",
            "method": "update"
           },
           {
            "args": [
             {
              "y": [
               [
                97,
                96,
                95,
                95,
                95,
                95,
                95,
                94,
                94,
                94,
                94,
                94,
                95,
                94,
                91,
                93,
                93,
                93,
                93,
                94
               ]
              ]
             },
             {
              "marker.color": [
               [
                97,
                96,
                95,
                95,
                95,
                95,
                95,
                94,
                94,
                94,
                94,
                94,
                95,
                94,
                91,
                93,
                93,
                93,
                93,
                94
               ]
              ]
             }
            ],
            "label": "Sprint Speed",
            "method": "update"
           }
          ],
          "direction": "right",
          "showactive": true,
          "type": "buttons",
          "x": 0.7,
          "y": 1.2
         }
        ],
        "xaxis": {
         "title": {
          "font": {
           "size": 18
          },
          "text": "Players"
         }
        },
        "yaxis": {
         "title": {
          "font": {
           "size": 18
          },
          "text": "Stat Values"
         }
        }
       }
      }
     },
     "metadata": {},
     "output_type": "display_data"
    }
   ],
   "source": [
    "fig = go.Figure()\n",
    "\n",
    "\n",
    "fig.add_trace(\n",
    "    go.Bar(\n",
    "        x=speed_data['Label'],\n",
    "        y=speed_data['PAC'],\n",
    "        name=\"Player PAC\",\n",
    "        marker_color=speed_data['PAC'] \n",
    "    )\n",
    ")\n",
    "fig.update_layout(\n",
    "    updatemenus=[\n",
    "        dict(\n",
    "            type=\"buttons\",\n",
    "            direction=\"right\",\n",
    "            x=0.7,\n",
    "            y=1.2,\n",
    "            showactive=True,\n",
    "            buttons=list([\n",
    "                dict(\n",
    "                    label=\"PAC\",\n",
    "                    method=\"update\",\n",
    "                    args=[\n",
    "                        {\"y\": [speed_data['PAC']]},\n",
    "                        {\"marker.color\": [speed_data['PAC']]}  \n",
    "                    ]\n",
    "                ),\n",
    "                dict(\n",
    "                    label=\"Acceleration\",\n",
    "                    method=\"update\",\n",
    "                    args=[\n",
    "                        {\"y\": [speed_data['Acceleration']]},\n",
    "                        {\"marker.color\": [speed_data['Acceleration']]} \n",
    "                    ]\n",
    "                ),\n",
    "                dict(\n",
    "                    label=\"Sprint Speed\",\n",
    "                    method=\"update\",\n",
    "                    args=[\n",
    "                        {\"y\": [speed_data['Sprint Speed']]},\n",
    "                        {\"marker.color\": [speed_data['Sprint Speed']]} \n",
    "                   ]\n",
    "                )\n",
    "            ])\n",
    "        )\n",
    "    ]\n",
    ")\n",
    "\n",
    "fig.update_layout(\n",
    "    title=\"Player PACE Comparison\",        \n",
    "    xaxis_title=\"Players\",                 \n",
    "    yaxis_title=\"Stat Values\",             \n",
    "    title_font=dict(size=24),              \n",
    "    xaxis=dict(title_font=dict(size=18)),  \n",
    "    yaxis=dict(title_font=dict(size=18))   \n",
    ")\n",
    "\n",
    "# Show the figure\n",
    "fig.show()               "
   ]
  },
  {
   "cell_type": "markdown",
   "metadata": {},
   "source": []
  },
  {
   "cell_type": "code",
   "execution_count": 37,
   "metadata": {},
   "outputs": [
    {
     "data": {
      "text/plain": [
       "Index(['Rank', 'Name', 'OVR', 'PAC', 'SHO', 'PAS', 'DRI', 'DEF', 'PHY',\n",
       "       'Acceleration', 'Sprint Speed', 'Positioning', 'Finishing',\n",
       "       'Shot Power', 'Long Shots', 'Volleys', 'Penalties', 'Vision',\n",
       "       'Crossing', 'Free Kick Accuracy', 'Short Passing', 'Long Passing',\n",
       "       'Curve', 'Dribbling', 'Agility', 'Balance', 'Reactions', 'Ball Control',\n",
       "       'Composure', 'Interceptions', 'Heading Accuracy', 'Def Awareness',\n",
       "       'Standing Tackle', 'Sliding Tackle', 'Jumping', 'Stamina', 'Strength',\n",
       "       'Aggression', 'Position', 'Weak foot', 'Skill moves', 'Preferred foot',\n",
       "       'Age', 'Nation', 'League', 'Team', 'Codes', 'Label'],\n",
       "      dtype='object')"
      ]
     },
     "execution_count": 37,
     "metadata": {},
     "output_type": "execute_result"
    }
   ],
   "source": [
    "all_data.columns"
   ]
  },
  {
   "cell_type": "markdown",
   "metadata": {},
   "source": []
  },
  {
   "cell_type": "code",
   "execution_count": 38,
   "metadata": {},
   "outputs": [
    {
     "data": {
      "text/html": [
       "<div>\n",
       "<style scoped>\n",
       "    .dataframe tbody tr th:only-of-type {\n",
       "        vertical-align: middle;\n",
       "    }\n",
       "\n",
       "    .dataframe tbody tr th {\n",
       "        vertical-align: top;\n",
       "    }\n",
       "\n",
       "    .dataframe thead th {\n",
       "        text-align: right;\n",
       "    }\n",
       "</style>\n",
       "<table border=\"1\" class=\"dataframe\">\n",
       "  <thead>\n",
       "    <tr style=\"text-align: right;\">\n",
       "      <th></th>\n",
       "      <th>Label</th>\n",
       "      <th>Position</th>\n",
       "      <th>Team</th>\n",
       "      <th>SHO</th>\n",
       "      <th>Positioning</th>\n",
       "      <th>Finishing</th>\n",
       "      <th>Shot Power</th>\n",
       "      <th>Long Shots</th>\n",
       "      <th>Volleys</th>\n",
       "      <th>Penalties</th>\n",
       "    </tr>\n",
       "  </thead>\n",
       "  <tbody>\n",
       "    <tr>\n",
       "      <th>6</th>\n",
       "      <td>Harry Kane, NaN</td>\n",
       "      <td>ST</td>\n",
       "      <td>FC Bayern München</td>\n",
       "      <td>93</td>\n",
       "      <td>94</td>\n",
       "      <td>95</td>\n",
       "      <td>94</td>\n",
       "      <td>89</td>\n",
       "      <td>89</td>\n",
       "      <td>93</td>\n",
       "    </tr>\n",
       "    <tr>\n",
       "      <th>2</th>\n",
       "      <td>Erling Haaland, NOR</td>\n",
       "      <td>ST</td>\n",
       "      <td>Manchester City</td>\n",
       "      <td>92</td>\n",
       "      <td>96</td>\n",
       "      <td>96</td>\n",
       "      <td>94</td>\n",
       "      <td>83</td>\n",
       "      <td>90</td>\n",
       "      <td>90</td>\n",
       "    </tr>\n",
       "    <tr>\n",
       "      <th>0</th>\n",
       "      <td>Kylian Mbappé, FRA</td>\n",
       "      <td>ST</td>\n",
       "      <td>Real Madrid</td>\n",
       "      <td>90</td>\n",
       "      <td>93</td>\n",
       "      <td>94</td>\n",
       "      <td>90</td>\n",
       "      <td>83</td>\n",
       "      <td>84</td>\n",
       "      <td>84</td>\n",
       "    </tr>\n",
       "    <tr>\n",
       "      <th>16166</th>\n",
       "      <td>Ada Hegerberg, NOR</td>\n",
       "      <td>ST</td>\n",
       "      <td>OL</td>\n",
       "      <td>89</td>\n",
       "      <td>93</td>\n",
       "      <td>91</td>\n",
       "      <td>85</td>\n",
       "      <td>86</td>\n",
       "      <td>90</td>\n",
       "      <td>84</td>\n",
       "    </tr>\n",
       "    <tr>\n",
       "      <th>38</th>\n",
       "      <td>Heung Min Son, NaN</td>\n",
       "      <td>ST</td>\n",
       "      <td>Spurs</td>\n",
       "      <td>89</td>\n",
       "      <td>91</td>\n",
       "      <td>90</td>\n",
       "      <td>89</td>\n",
       "      <td>89</td>\n",
       "      <td>83</td>\n",
       "      <td>75</td>\n",
       "    </tr>\n",
       "    <tr>\n",
       "      <th>16162</th>\n",
       "      <td>Alexia Putellas, ESP</td>\n",
       "      <td>CM</td>\n",
       "      <td>FC Barcelona</td>\n",
       "      <td>89</td>\n",
       "      <td>91</td>\n",
       "      <td>91</td>\n",
       "      <td>86</td>\n",
       "      <td>89</td>\n",
       "      <td>90</td>\n",
       "      <td>89</td>\n",
       "    </tr>\n",
       "    <tr>\n",
       "      <th>16164</th>\n",
       "      <td>Sam Kerr, AUS</td>\n",
       "      <td>ST</td>\n",
       "      <td>Chelsea</td>\n",
       "      <td>88</td>\n",
       "      <td>92</td>\n",
       "      <td>92</td>\n",
       "      <td>85</td>\n",
       "      <td>85</td>\n",
       "      <td>92</td>\n",
       "      <td>71</td>\n",
       "    </tr>\n",
       "    <tr>\n",
       "      <th>45</th>\n",
       "      <td>Cristiano Ronaldo, PRT</td>\n",
       "      <td>ST</td>\n",
       "      <td>Al Nassr</td>\n",
       "      <td>88</td>\n",
       "      <td>90</td>\n",
       "      <td>87</td>\n",
       "      <td>92</td>\n",
       "      <td>85</td>\n",
       "      <td>83</td>\n",
       "      <td>90</td>\n",
       "    </tr>\n",
       "    <tr>\n",
       "      <th>19</th>\n",
       "      <td>Robert Lewandowski, POL</td>\n",
       "      <td>ST</td>\n",
       "      <td>FC Barcelona</td>\n",
       "      <td>88</td>\n",
       "      <td>90</td>\n",
       "      <td>90</td>\n",
       "      <td>89</td>\n",
       "      <td>82</td>\n",
       "      <td>86</td>\n",
       "      <td>90</td>\n",
       "    </tr>\n",
       "    <tr>\n",
       "      <th>17</th>\n",
       "      <td>Antoine Griezmann, FRA</td>\n",
       "      <td>ST</td>\n",
       "      <td>Atlético de Madrid</td>\n",
       "      <td>88</td>\n",
       "      <td>90</td>\n",
       "      <td>90</td>\n",
       "      <td>85</td>\n",
       "      <td>87</td>\n",
       "      <td>86</td>\n",
       "      <td>79</td>\n",
       "    </tr>\n",
       "    <tr>\n",
       "      <th>16182</th>\n",
       "      <td>Ewa Pajor, POL</td>\n",
       "      <td>ST</td>\n",
       "      <td>FC Barcelona</td>\n",
       "      <td>88</td>\n",
       "      <td>90</td>\n",
       "      <td>91</td>\n",
       "      <td>85</td>\n",
       "      <td>85</td>\n",
       "      <td>89</td>\n",
       "      <td>89</td>\n",
       "    </tr>\n",
       "    <tr>\n",
       "      <th>11</th>\n",
       "      <td>Lautaro Martínez, ARG</td>\n",
       "      <td>ST</td>\n",
       "      <td>Lombardia FC</td>\n",
       "      <td>88</td>\n",
       "      <td>92</td>\n",
       "      <td>93</td>\n",
       "      <td>87</td>\n",
       "      <td>80</td>\n",
       "      <td>92</td>\n",
       "      <td>74</td>\n",
       "    </tr>\n",
       "    <tr>\n",
       "      <th>14</th>\n",
       "      <td>Mohamed Salah, EGY</td>\n",
       "      <td>RW</td>\n",
       "      <td>Liverpool</td>\n",
       "      <td>87</td>\n",
       "      <td>92</td>\n",
       "      <td>90</td>\n",
       "      <td>82</td>\n",
       "      <td>84</td>\n",
       "      <td>83</td>\n",
       "      <td>81</td>\n",
       "    </tr>\n",
       "    <tr>\n",
       "      <th>16181</th>\n",
       "      <td>Alex Morgan, USA</td>\n",
       "      <td>ST</td>\n",
       "      <td>San Diego Wave</td>\n",
       "      <td>87</td>\n",
       "      <td>90</td>\n",
       "      <td>93</td>\n",
       "      <td>86</td>\n",
       "      <td>77</td>\n",
       "      <td>77</td>\n",
       "      <td>88</td>\n",
       "    </tr>\n",
       "    <tr>\n",
       "      <th>16177</th>\n",
       "      <td>Alexandra Popp, DEU</td>\n",
       "      <td>ST</td>\n",
       "      <td>VfL Wolfsburg</td>\n",
       "      <td>87</td>\n",
       "      <td>91</td>\n",
       "      <td>86</td>\n",
       "      <td>91</td>\n",
       "      <td>85</td>\n",
       "      <td>88</td>\n",
       "      <td>86</td>\n",
       "    </tr>\n",
       "    <tr>\n",
       "      <th>5</th>\n",
       "      <td>Kevin De Bruyne, BEL</td>\n",
       "      <td>CM</td>\n",
       "      <td>Manchester City</td>\n",
       "      <td>87</td>\n",
       "      <td>88</td>\n",
       "      <td>84</td>\n",
       "      <td>92</td>\n",
       "      <td>90</td>\n",
       "      <td>83</td>\n",
       "      <td>83</td>\n",
       "    </tr>\n",
       "    <tr>\n",
       "      <th>16163</th>\n",
       "      <td>Caroline Graham Hansen, NOR</td>\n",
       "      <td>RW</td>\n",
       "      <td>FC Barcelona</td>\n",
       "      <td>87</td>\n",
       "      <td>87</td>\n",
       "      <td>86</td>\n",
       "      <td>88</td>\n",
       "      <td>89</td>\n",
       "      <td>83</td>\n",
       "      <td>79</td>\n",
       "    </tr>\n",
       "    <tr>\n",
       "      <th>3</th>\n",
       "      <td>Jude Bellingham, NaN</td>\n",
       "      <td>CAM</td>\n",
       "      <td>Real Madrid</td>\n",
       "      <td>87</td>\n",
       "      <td>91</td>\n",
       "      <td>90</td>\n",
       "      <td>85</td>\n",
       "      <td>86</td>\n",
       "      <td>77</td>\n",
       "      <td>74</td>\n",
       "    </tr>\n",
       "    <tr>\n",
       "      <th>16168</th>\n",
       "      <td>Marie Katoto, FRA</td>\n",
       "      <td>ST</td>\n",
       "      <td>Paris SG</td>\n",
       "      <td>87</td>\n",
       "      <td>91</td>\n",
       "      <td>90</td>\n",
       "      <td>84</td>\n",
       "      <td>83</td>\n",
       "      <td>91</td>\n",
       "      <td>82</td>\n",
       "    </tr>\n",
       "    <tr>\n",
       "      <th>16183</th>\n",
       "      <td>Khadija Shaw, JAM</td>\n",
       "      <td>ST</td>\n",
       "      <td>Manchester City</td>\n",
       "      <td>86</td>\n",
       "      <td>89</td>\n",
       "      <td>90</td>\n",
       "      <td>88</td>\n",
       "      <td>80</td>\n",
       "      <td>77</td>\n",
       "      <td>75</td>\n",
       "    </tr>\n",
       "  </tbody>\n",
       "</table>\n",
       "</div>"
      ],
      "text/plain": [
       "                             Label Position                Team  SHO  \\\n",
       "6                  Harry Kane, NaN       ST   FC Bayern München   93   \n",
       "2              Erling Haaland, NOR       ST     Manchester City   92   \n",
       "0               Kylian Mbappé, FRA       ST         Real Madrid   90   \n",
       "16166           Ada Hegerberg, NOR       ST                  OL   89   \n",
       "38              Heung Min Son, NaN       ST               Spurs   89   \n",
       "16162         Alexia Putellas, ESP       CM        FC Barcelona   89   \n",
       "16164                Sam Kerr, AUS       ST             Chelsea   88   \n",
       "45          Cristiano Ronaldo, PRT       ST            Al Nassr   88   \n",
       "19         Robert Lewandowski, POL       ST        FC Barcelona   88   \n",
       "17          Antoine Griezmann, FRA       ST  Atlético de Madrid   88   \n",
       "16182               Ewa Pajor, POL       ST        FC Barcelona   88   \n",
       "11           Lautaro Martínez, ARG       ST        Lombardia FC   88   \n",
       "14              Mohamed Salah, EGY       RW           Liverpool   87   \n",
       "16181             Alex Morgan, USA       ST      San Diego Wave   87   \n",
       "16177          Alexandra Popp, DEU       ST       VfL Wolfsburg   87   \n",
       "5             Kevin De Bruyne, BEL       CM     Manchester City   87   \n",
       "16163  Caroline Graham Hansen, NOR       RW        FC Barcelona   87   \n",
       "3             Jude Bellingham, NaN      CAM         Real Madrid   87   \n",
       "16168            Marie Katoto, FRA       ST            Paris SG   87   \n",
       "16183            Khadija Shaw, JAM       ST     Manchester City   86   \n",
       "\n",
       "      Positioning Finishing  Shot Power Long Shots Volleys  Penalties  \n",
       "6              94        95          94         89      89         93  \n",
       "2              96        96          94         83      90         90  \n",
       "0              93        94          90         83      84         84  \n",
       "16166          93        91          85         86      90         84  \n",
       "38             91        90          89         89      83         75  \n",
       "16162          91        91          86         89      90         89  \n",
       "16164          92        92          85         85      92         71  \n",
       "45             90        87          92         85      83         90  \n",
       "19             90        90          89         82      86         90  \n",
       "17             90        90          85         87      86         79  \n",
       "16182          90        91          85         85      89         89  \n",
       "11             92        93          87         80      92         74  \n",
       "14             92        90          82         84      83         81  \n",
       "16181          90        93          86         77      77         88  \n",
       "16177          91        86          91         85      88         86  \n",
       "5              88        84          92         90      83         83  \n",
       "16163          87        86          88         89      83         79  \n",
       "3              91        90          85         86      77         74  \n",
       "16168          91        90          84         83      91         82  \n",
       "16183          89        90          88         80      77         75  "
      ]
     },
     "execution_count": 38,
     "metadata": {},
     "output_type": "execute_result"
    }
   ],
   "source": [
    "shoot_data = all_data[['Label', 'Position', 'Team', 'SHO', 'Positioning', 'Finishing',\n",
    "       'Shot Power', 'Long Shots', 'Volleys', 'Penalties']]\n",
    "shoot_data = shoot_data.sort_values('SHO', ascending=False)[:20]\n",
    "shoot_data"
   ]
  },
  {
   "cell_type": "code",
   "execution_count": 40,
   "metadata": {},
   "outputs": [
    {
     "ename": "TypeError",
     "evalue": "unsupported operand type(s) for /: 'str' and 'int'",
     "output_type": "error",
     "traceback": [
      "\u001b[0;31m---------------------------------------------------------------------------\u001b[0m",
      "\u001b[0;31mTypeError\u001b[0m                                 Traceback (most recent call last)",
      "Cell \u001b[0;32mIn[40], line 1\u001b[0m\n\u001b[0;32m----> 1\u001b[0m fig \u001b[38;5;241m=\u001b[39m \u001b[43mpx\u001b[49m\u001b[38;5;241;43m.\u001b[39;49m\u001b[43mscatter_3d\u001b[49m\u001b[43m(\u001b[49m\u001b[43mshoot_data\u001b[49m\u001b[43m,\u001b[49m\u001b[43m \u001b[49m\n\u001b[1;32m      2\u001b[0m \u001b[43m                    \u001b[49m\u001b[43mx\u001b[49m\u001b[38;5;241;43m=\u001b[39;49m\u001b[38;5;124;43m'\u001b[39;49m\u001b[38;5;124;43mFinishing\u001b[39;49m\u001b[38;5;124;43m'\u001b[39;49m\u001b[43m,\u001b[49m\u001b[43m \u001b[49m\n\u001b[1;32m      3\u001b[0m \u001b[43m                    \u001b[49m\u001b[43my\u001b[49m\u001b[38;5;241;43m=\u001b[39;49m\u001b[38;5;124;43m'\u001b[39;49m\u001b[38;5;124;43mShot Power\u001b[39;49m\u001b[38;5;124;43m'\u001b[39;49m\u001b[43m,\u001b[49m\u001b[43m \u001b[49m\n\u001b[1;32m      4\u001b[0m \u001b[43m                    \u001b[49m\u001b[43mz\u001b[49m\u001b[38;5;241;43m=\u001b[39;49m\u001b[38;5;124;43m'\u001b[39;49m\u001b[38;5;124;43mLong Shots\u001b[39;49m\u001b[38;5;124;43m'\u001b[39;49m\u001b[43m,\u001b[49m\u001b[43m \u001b[49m\n\u001b[1;32m      5\u001b[0m \u001b[43m                    \u001b[49m\u001b[43mcolor\u001b[49m\u001b[38;5;241;43m=\u001b[39;49m\u001b[38;5;124;43m'\u001b[39;49m\u001b[38;5;124;43mPosition\u001b[39;49m\u001b[38;5;124;43m'\u001b[39;49m\u001b[43m,\u001b[49m\n\u001b[1;32m      6\u001b[0m \u001b[43m                    \u001b[49m\u001b[43mtitle\u001b[49m\u001b[38;5;241;43m=\u001b[39;49m\u001b[38;5;124;43m'\u001b[39;49m\u001b[38;5;124;43m3D Skill Distribution by Player Position\u001b[39;49m\u001b[38;5;124;43m'\u001b[39;49m\u001b[43m,\u001b[49m\n\u001b[1;32m      7\u001b[0m \u001b[43m                    \u001b[49m\u001b[43msize\u001b[49m\u001b[38;5;241;43m=\u001b[39;49m\u001b[38;5;124;43m'\u001b[39;49m\u001b[38;5;124;43mFinishing\u001b[39;49m\u001b[38;5;124;43m'\u001b[39;49m\u001b[43m,\u001b[49m\u001b[43m  \u001b[49m\n\u001b[1;32m      8\u001b[0m \u001b[43m                    \u001b[49m\u001b[43mhover_data\u001b[49m\u001b[38;5;241;43m=\u001b[39;49m\u001b[43m[\u001b[49m\u001b[38;5;124;43m'\u001b[39;49m\u001b[38;5;124;43mFinishing\u001b[39;49m\u001b[38;5;124;43m'\u001b[39;49m\u001b[43m,\u001b[49m\u001b[43m \u001b[49m\u001b[38;5;124;43m'\u001b[39;49m\u001b[38;5;124;43mShot Power\u001b[39;49m\u001b[38;5;124;43m'\u001b[39;49m\u001b[43m,\u001b[49m\u001b[43m \u001b[49m\u001b[38;5;124;43m'\u001b[39;49m\u001b[38;5;124;43mLong Shots\u001b[39;49m\u001b[38;5;124;43m'\u001b[39;49m\u001b[43m,\u001b[49m\u001b[43m \u001b[49m\u001b[38;5;124;43m'\u001b[39;49m\u001b[38;5;124;43mPosition\u001b[39;49m\u001b[38;5;124;43m'\u001b[39;49m\u001b[43m]\u001b[49m\u001b[43m,\u001b[49m\u001b[43m  \u001b[49m\n\u001b[1;32m      9\u001b[0m \u001b[43m                    \u001b[49m\u001b[43mcolor_discrete_sequence\u001b[49m\u001b[38;5;241;43m=\u001b[39;49m\u001b[43mpx\u001b[49m\u001b[38;5;241;43m.\u001b[39;49m\u001b[43mcolors\u001b[49m\u001b[38;5;241;43m.\u001b[39;49m\u001b[43mqualitative\u001b[49m\u001b[38;5;241;43m.\u001b[39;49m\u001b[43mBold\u001b[49m\u001b[43m)\u001b[49m  \n\u001b[1;32m     11\u001b[0m fig\u001b[38;5;241m.\u001b[39mupdate_traces(marker\u001b[38;5;241m=\u001b[39m\u001b[38;5;28mdict\u001b[39m(size\u001b[38;5;241m=\u001b[39m\u001b[38;5;241m8\u001b[39m, opacity\u001b[38;5;241m=\u001b[39m\u001b[38;5;241m0.8\u001b[39m), selector\u001b[38;5;241m=\u001b[39m\u001b[38;5;28mdict\u001b[39m(mode\u001b[38;5;241m=\u001b[39m\u001b[38;5;124m'\u001b[39m\u001b[38;5;124mmarkers\u001b[39m\u001b[38;5;124m'\u001b[39m))\n\u001b[1;32m     13\u001b[0m fig\u001b[38;5;241m.\u001b[39mupdate_layout(\n\u001b[1;32m     14\u001b[0m     scene\u001b[38;5;241m=\u001b[39m\u001b[38;5;28mdict\u001b[39m(\n\u001b[1;32m     15\u001b[0m         xaxis\u001b[38;5;241m=\u001b[39m\u001b[38;5;28mdict\u001b[39m(title\u001b[38;5;241m=\u001b[39m\u001b[38;5;124m'\u001b[39m\u001b[38;5;124mFinishing\u001b[39m\u001b[38;5;124m'\u001b[39m, backgroundcolor\u001b[38;5;241m=\u001b[39m\u001b[38;5;124m\"\u001b[39m\u001b[38;5;124mrgb(230, 230, 230)\u001b[39m\u001b[38;5;124m\"\u001b[39m, gridcolor\u001b[38;5;241m=\u001b[39m\u001b[38;5;124m\"\u001b[39m\u001b[38;5;124mwhite\u001b[39m\u001b[38;5;124m\"\u001b[39m, showbackground\u001b[38;5;241m=\u001b[39m\u001b[38;5;28;01mTrue\u001b[39;00m),\n\u001b[0;32m   (...)\u001b[0m\n\u001b[1;32m     22\u001b[0m     showlegend\u001b[38;5;241m=\u001b[39m\u001b[38;5;28;01mTrue\u001b[39;00m\n\u001b[1;32m     23\u001b[0m )\n",
      "File \u001b[0;32m/opt/anaconda3/envs/DataScience/lib/python3.11/site-packages/plotly/express/_chart_types.py:776\u001b[0m, in \u001b[0;36mscatter_3d\u001b[0;34m(data_frame, x, y, z, color, symbol, size, text, hover_name, hover_data, custom_data, error_x, error_x_minus, error_y, error_y_minus, error_z, error_z_minus, animation_frame, animation_group, category_orders, labels, size_max, color_discrete_sequence, color_discrete_map, color_continuous_scale, range_color, color_continuous_midpoint, symbol_sequence, symbol_map, opacity, log_x, log_y, log_z, range_x, range_y, range_z, title, template, width, height)\u001b[0m\n\u001b[1;32m    730\u001b[0m \u001b[38;5;28;01mdef\u001b[39;00m \u001b[38;5;21mscatter_3d\u001b[39m(\n\u001b[1;32m    731\u001b[0m     data_frame\u001b[38;5;241m=\u001b[39m\u001b[38;5;28;01mNone\u001b[39;00m,\n\u001b[1;32m    732\u001b[0m     x\u001b[38;5;241m=\u001b[39m\u001b[38;5;28;01mNone\u001b[39;00m,\n\u001b[0;32m   (...)\u001b[0m\n\u001b[1;32m    770\u001b[0m     height\u001b[38;5;241m=\u001b[39m\u001b[38;5;28;01mNone\u001b[39;00m,\n\u001b[1;32m    771\u001b[0m ) \u001b[38;5;241m-\u001b[39m\u001b[38;5;241m>\u001b[39m go\u001b[38;5;241m.\u001b[39mFigure:\n\u001b[1;32m    772\u001b[0m \u001b[38;5;250m    \u001b[39m\u001b[38;5;124;03m\"\"\"\u001b[39;00m\n\u001b[1;32m    773\u001b[0m \u001b[38;5;124;03m    In a 3D scatter plot, each row of `data_frame` is represented by a\u001b[39;00m\n\u001b[1;32m    774\u001b[0m \u001b[38;5;124;03m    symbol mark in 3D space.\u001b[39;00m\n\u001b[1;32m    775\u001b[0m \u001b[38;5;124;03m    \"\"\"\u001b[39;00m\n\u001b[0;32m--> 776\u001b[0m     \u001b[38;5;28;01mreturn\u001b[39;00m \u001b[43mmake_figure\u001b[49m\u001b[43m(\u001b[49m\u001b[43margs\u001b[49m\u001b[38;5;241;43m=\u001b[39;49m\u001b[38;5;28;43mlocals\u001b[39;49m\u001b[43m(\u001b[49m\u001b[43m)\u001b[49m\u001b[43m,\u001b[49m\u001b[43m \u001b[49m\u001b[43mconstructor\u001b[49m\u001b[38;5;241;43m=\u001b[39;49m\u001b[43mgo\u001b[49m\u001b[38;5;241;43m.\u001b[39;49m\u001b[43mScatter3d\u001b[49m\u001b[43m)\u001b[49m\n",
      "File \u001b[0;32m/opt/anaconda3/envs/DataScience/lib/python3.11/site-packages/plotly/express/_core.py:2126\u001b[0m, in \u001b[0;36mmake_figure\u001b[0;34m(args, constructor, trace_patch, layout_patch)\u001b[0m\n\u001b[1;32m   2123\u001b[0m     constructor \u001b[38;5;241m=\u001b[39m go\u001b[38;5;241m.\u001b[39mBar\n\u001b[1;32m   2124\u001b[0m     args \u001b[38;5;241m=\u001b[39m process_dataframe_timeline(args)\n\u001b[0;32m-> 2126\u001b[0m trace_specs, grouped_mappings, sizeref, show_colorbar \u001b[38;5;241m=\u001b[39m \u001b[43minfer_config\u001b[49m\u001b[43m(\u001b[49m\n\u001b[1;32m   2127\u001b[0m \u001b[43m    \u001b[49m\u001b[43margs\u001b[49m\u001b[43m,\u001b[49m\u001b[43m \u001b[49m\u001b[43mconstructor\u001b[49m\u001b[43m,\u001b[49m\u001b[43m \u001b[49m\u001b[43mtrace_patch\u001b[49m\u001b[43m,\u001b[49m\u001b[43m \u001b[49m\u001b[43mlayout_patch\u001b[49m\n\u001b[1;32m   2128\u001b[0m \u001b[43m\u001b[49m\u001b[43m)\u001b[49m\n\u001b[1;32m   2129\u001b[0m grouper \u001b[38;5;241m=\u001b[39m [x\u001b[38;5;241m.\u001b[39mgrouper \u001b[38;5;129;01mor\u001b[39;00m one_group \u001b[38;5;28;01mfor\u001b[39;00m x \u001b[38;5;129;01min\u001b[39;00m grouped_mappings] \u001b[38;5;129;01mor\u001b[39;00m [one_group]\n\u001b[1;32m   2130\u001b[0m groups, orders \u001b[38;5;241m=\u001b[39m get_groups_and_orders(args, grouper)\n",
      "File \u001b[0;32m/opt/anaconda3/envs/DataScience/lib/python3.11/site-packages/plotly/express/_core.py:1822\u001b[0m, in \u001b[0;36minfer_config\u001b[0;34m(args, constructor, trace_patch, layout_patch)\u001b[0m\n\u001b[1;32m   1820\u001b[0m sizeref \u001b[38;5;241m=\u001b[39m \u001b[38;5;241m0\u001b[39m\n\u001b[1;32m   1821\u001b[0m \u001b[38;5;28;01mif\u001b[39;00m \u001b[38;5;124m\"\u001b[39m\u001b[38;5;124msize\u001b[39m\u001b[38;5;124m\"\u001b[39m \u001b[38;5;129;01min\u001b[39;00m args \u001b[38;5;129;01mand\u001b[39;00m args[\u001b[38;5;124m\"\u001b[39m\u001b[38;5;124msize\u001b[39m\u001b[38;5;124m\"\u001b[39m]:\n\u001b[0;32m-> 1822\u001b[0m     sizeref \u001b[38;5;241m=\u001b[39m \u001b[43margs\u001b[49m\u001b[43m[\u001b[49m\u001b[38;5;124;43m\"\u001b[39;49m\u001b[38;5;124;43mdata_frame\u001b[39;49m\u001b[38;5;124;43m\"\u001b[39;49m\u001b[43m]\u001b[49m\u001b[43m[\u001b[49m\u001b[43margs\u001b[49m\u001b[43m[\u001b[49m\u001b[38;5;124;43m\"\u001b[39;49m\u001b[38;5;124;43msize\u001b[39;49m\u001b[38;5;124;43m\"\u001b[39;49m\u001b[43m]\u001b[49m\u001b[43m]\u001b[49m\u001b[38;5;241;43m.\u001b[39;49m\u001b[43mmax\u001b[49m\u001b[43m(\u001b[49m\u001b[43m)\u001b[49m\u001b[43m \u001b[49m\u001b[38;5;241;43m/\u001b[39;49m\u001b[43m \u001b[49m\u001b[43margs\u001b[49m\u001b[43m[\u001b[49m\u001b[38;5;124;43m\"\u001b[39;49m\u001b[38;5;124;43msize_max\u001b[39;49m\u001b[38;5;124;43m\"\u001b[39;49m\u001b[43m]\u001b[49m\u001b[43m \u001b[49m\u001b[38;5;241;43m*\u001b[39;49m\u001b[38;5;241;43m*\u001b[39;49m\u001b[43m \u001b[49m\u001b[38;5;241;43m2\u001b[39;49m\n\u001b[1;32m   1824\u001b[0m \u001b[38;5;66;03m# Compute color attributes and grouping attributes\u001b[39;00m\n\u001b[1;32m   1825\u001b[0m \u001b[38;5;28;01mif\u001b[39;00m \u001b[38;5;124m\"\u001b[39m\u001b[38;5;124mcolor\u001b[39m\u001b[38;5;124m\"\u001b[39m \u001b[38;5;129;01min\u001b[39;00m args:\n",
      "\u001b[0;31mTypeError\u001b[0m: unsupported operand type(s) for /: 'str' and 'int'"
     ]
    }
   ],
   "source": [
    "fig = px.scatter_3d(shoot_data, \n",
    "                    x='Finishing', \n",
    "                    y='Shot Power', \n",
    "                    z='Long Shots', \n",
    "                    color='Position',\n",
    "                    title='3D Skill Distribution by Player Position',\n",
    "                    size='Finishing',  \n",
    "                    hover_data=['Finishing', 'Shot Power', 'Long Shots', 'Position'],  \n",
    "                    color_discrete_sequence=px.colors.qualitative.Bold)  \n",
    "\n",
    "fig.update_traces(marker=dict(size=8, opacity=0.8), selector=dict(mode='markers'))\n",
    "\n",
    "fig.update_layout(\n",
    "    scene=dict(\n",
    "        xaxis=dict(title='Finishing', backgroundcolor=\"rgb(230, 230, 230)\", gridcolor=\"white\", showbackground=True),\n",
    "        yaxis=dict(title='Shot Power', backgroundcolor=\"rgb(230, 230, 230)\", gridcolor=\"white\", showbackground=True),\n",
    "        zaxis=dict(title='Long Shots', backgroundcolor=\"rgb(230, 230, 230)\", gridcolor=\"white\", showbackground=True),\n",
    "    ),\n",
    "    scene_aspectmode='cube',  \n",
    "    margin=dict(l=0, r=0, b=0, t=40),  \n",
    "    title=dict(x=0.5), \n",
    "    showlegend=True\n",
    ")\n",
    "\n",
    "fig.show()"
   ]
  },
  {
   "cell_type": "markdown",
   "metadata": {},
   "source": [
    "Parallel Coordinates Plot"
   ]
  },
  {
   "cell_type": "code",
   "execution_count": null,
   "metadata": {},
   "outputs": [
    {
     "data": {
      "application/vnd.plotly.v1+json": {
       "config": {
        "plotlyServerURL": "https://plot.ly"
       },
       "data": [
        {
         "dimensions": [
          {
           "label": "Finishing",
           "values": [
            95,
            96,
            94,
            11,
            91,
            91,
            14,
            90,
            92,
            91,
            90,
            90,
            87,
            93,
            90,
            86,
            90,
            84,
            86,
            93
           ]
          },
          {
           "label": "Shot Power",
           "values": [
            94,
            94,
            90,
            59,
            86,
            85,
            57,
            89,
            85,
            85,
            89,
            85,
            92,
            87,
            82,
            88,
            84,
            92,
            91,
            86
           ]
          },
          {
           "label": "Long Shots",
           "values": [
            89,
            83,
            83,
            12,
            89,
            86,
            17,
            89,
            85,
            85,
            82,
            87,
            85,
            80,
            84,
            89,
            83,
            90,
            85,
            77
           ]
          },
          {
           "label": "Penalties",
           "values": [
            93,
            90,
            84,
            11,
            89,
            84,
            27,
            75,
            71,
            89,
            90,
            79,
            90,
            74,
            81,
            79,
            82,
            83,
            86,
            88
           ]
          }
         ],
         "domain": {
          "x": [
           0,
           1
          ],
          "y": [
           0,
           1
          ]
         },
         "line": {
          "color": [
           93,
           92,
           90,
           90,
           89,
           89,
           89,
           89,
           88,
           88,
           88,
           88,
           88,
           88,
           87,
           87,
           87,
           87,
           87,
           87
          ],
          "coloraxis": "coloraxis"
         },
         "name": "",
         "type": "parcoords"
        }
       ],
       "layout": {
        "coloraxis": {
         "colorbar": {
          "title": {
           "text": "SHO"
          }
         },
         "colorscale": [
          [
           0,
           "#0d0887"
          ],
          [
           0.1111111111111111,
           "#46039f"
          ],
          [
           0.2222222222222222,
           "#7201a8"
          ],
          [
           0.3333333333333333,
           "#9c179e"
          ],
          [
           0.4444444444444444,
           "#bd3786"
          ],
          [
           0.5555555555555556,
           "#d8576b"
          ],
          [
           0.6666666666666666,
           "#ed7953"
          ],
          [
           0.7777777777777778,
           "#fb9f3a"
          ],
          [
           0.8888888888888888,
           "#fdca26"
          ],
          [
           1,
           "#f0f921"
          ]
         ]
        },
        "legend": {
         "tracegroupgap": 0
        },
        "margin": {
         "t": 60
        },
        "template": {
         "data": {
          "bar": [
           {
            "error_x": {
             "color": "#2a3f5f"
            },
            "error_y": {
             "color": "#2a3f5f"
            },
            "marker": {
             "line": {
              "color": "#E5ECF6",
              "width": 0.5
             },
             "pattern": {
              "fillmode": "overlay",
              "size": 10,
              "solidity": 0.2
             }
            },
            "type": "bar"
           }
          ],
          "barpolar": [
           {
            "marker": {
             "line": {
              "color": "#E5ECF6",
              "width": 0.5
             },
             "pattern": {
              "fillmode": "overlay",
              "size": 10,
              "solidity": 0.2
             }
            },
            "type": "barpolar"
           }
          ],
          "carpet": [
           {
            "aaxis": {
             "endlinecolor": "#2a3f5f",
             "gridcolor": "white",
             "linecolor": "white",
             "minorgridcolor": "white",
             "startlinecolor": "#2a3f5f"
            },
            "baxis": {
             "endlinecolor": "#2a3f5f",
             "gridcolor": "white",
             "linecolor": "white",
             "minorgridcolor": "white",
             "startlinecolor": "#2a3f5f"
            },
            "type": "carpet"
           }
          ],
          "choropleth": [
           {
            "colorbar": {
             "outlinewidth": 0,
             "ticks": ""
            },
            "type": "choropleth"
           }
          ],
          "contour": [
           {
            "colorbar": {
             "outlinewidth": 0,
             "ticks": ""
            },
            "colorscale": [
             [
              0,
              "#0d0887"
             ],
             [
              0.1111111111111111,
              "#46039f"
             ],
             [
              0.2222222222222222,
              "#7201a8"
             ],
             [
              0.3333333333333333,
              "#9c179e"
             ],
             [
              0.4444444444444444,
              "#bd3786"
             ],
             [
              0.5555555555555556,
              "#d8576b"
             ],
             [
              0.6666666666666666,
              "#ed7953"
             ],
             [
              0.7777777777777778,
              "#fb9f3a"
             ],
             [
              0.8888888888888888,
              "#fdca26"
             ],
             [
              1,
              "#f0f921"
             ]
            ],
            "type": "contour"
           }
          ],
          "contourcarpet": [
           {
            "colorbar": {
             "outlinewidth": 0,
             "ticks": ""
            },
            "type": "contourcarpet"
           }
          ],
          "heatmap": [
           {
            "colorbar": {
             "outlinewidth": 0,
             "ticks": ""
            },
            "colorscale": [
             [
              0,
              "#0d0887"
             ],
             [
              0.1111111111111111,
              "#46039f"
             ],
             [
              0.2222222222222222,
              "#7201a8"
             ],
             [
              0.3333333333333333,
              "#9c179e"
             ],
             [
              0.4444444444444444,
              "#bd3786"
             ],
             [
              0.5555555555555556,
              "#d8576b"
             ],
             [
              0.6666666666666666,
              "#ed7953"
             ],
             [
              0.7777777777777778,
              "#fb9f3a"
             ],
             [
              0.8888888888888888,
              "#fdca26"
             ],
             [
              1,
              "#f0f921"
             ]
            ],
            "type": "heatmap"
           }
          ],
          "heatmapgl": [
           {
            "colorbar": {
             "outlinewidth": 0,
             "ticks": ""
            },
            "colorscale": [
             [
              0,
              "#0d0887"
             ],
             [
              0.1111111111111111,
              "#46039f"
             ],
             [
              0.2222222222222222,
              "#7201a8"
             ],
             [
              0.3333333333333333,
              "#9c179e"
             ],
             [
              0.4444444444444444,
              "#bd3786"
             ],
             [
              0.5555555555555556,
              "#d8576b"
             ],
             [
              0.6666666666666666,
              "#ed7953"
             ],
             [
              0.7777777777777778,
              "#fb9f3a"
             ],
             [
              0.8888888888888888,
              "#fdca26"
             ],
             [
              1,
              "#f0f921"
             ]
            ],
            "type": "heatmapgl"
           }
          ],
          "histogram": [
           {
            "marker": {
             "pattern": {
              "fillmode": "overlay",
              "size": 10,
              "solidity": 0.2
             }
            },
            "type": "histogram"
           }
          ],
          "histogram2d": [
           {
            "colorbar": {
             "outlinewidth": 0,
             "ticks": ""
            },
            "colorscale": [
             [
              0,
              "#0d0887"
             ],
             [
              0.1111111111111111,
              "#46039f"
             ],
             [
              0.2222222222222222,
              "#7201a8"
             ],
             [
              0.3333333333333333,
              "#9c179e"
             ],
             [
              0.4444444444444444,
              "#bd3786"
             ],
             [
              0.5555555555555556,
              "#d8576b"
             ],
             [
              0.6666666666666666,
              "#ed7953"
             ],
             [
              0.7777777777777778,
              "#fb9f3a"
             ],
             [
              0.8888888888888888,
              "#fdca26"
             ],
             [
              1,
              "#f0f921"
             ]
            ],
            "type": "histogram2d"
           }
          ],
          "histogram2dcontour": [
           {
            "colorbar": {
             "outlinewidth": 0,
             "ticks": ""
            },
            "colorscale": [
             [
              0,
              "#0d0887"
             ],
             [
              0.1111111111111111,
              "#46039f"
             ],
             [
              0.2222222222222222,
              "#7201a8"
             ],
             [
              0.3333333333333333,
              "#9c179e"
             ],
             [
              0.4444444444444444,
              "#bd3786"
             ],
             [
              0.5555555555555556,
              "#d8576b"
             ],
             [
              0.6666666666666666,
              "#ed7953"
             ],
             [
              0.7777777777777778,
              "#fb9f3a"
             ],
             [
              0.8888888888888888,
              "#fdca26"
             ],
             [
              1,
              "#f0f921"
             ]
            ],
            "type": "histogram2dcontour"
           }
          ],
          "mesh3d": [
           {
            "colorbar": {
             "outlinewidth": 0,
             "ticks": ""
            },
            "type": "mesh3d"
           }
          ],
          "parcoords": [
           {
            "line": {
             "colorbar": {
              "outlinewidth": 0,
              "ticks": ""
             }
            },
            "type": "parcoords"
           }
          ],
          "pie": [
           {
            "automargin": true,
            "type": "pie"
           }
          ],
          "scatter": [
           {
            "fillpattern": {
             "fillmode": "overlay",
             "size": 10,
             "solidity": 0.2
            },
            "type": "scatter"
           }
          ],
          "scatter3d": [
           {
            "line": {
             "colorbar": {
              "outlinewidth": 0,
              "ticks": ""
             }
            },
            "marker": {
             "colorbar": {
              "outlinewidth": 0,
              "ticks": ""
             }
            },
            "type": "scatter3d"
           }
          ],
          "scattercarpet": [
           {
            "marker": {
             "colorbar": {
              "outlinewidth": 0,
              "ticks": ""
             }
            },
            "type": "scattercarpet"
           }
          ],
          "scattergeo": [
           {
            "marker": {
             "colorbar": {
              "outlinewidth": 0,
              "ticks": ""
             }
            },
            "type": "scattergeo"
           }
          ],
          "scattergl": [
           {
            "marker": {
             "colorbar": {
              "outlinewidth": 0,
              "ticks": ""
             }
            },
            "type": "scattergl"
           }
          ],
          "scattermapbox": [
           {
            "marker": {
             "colorbar": {
              "outlinewidth": 0,
              "ticks": ""
             }
            },
            "type": "scattermapbox"
           }
          ],
          "scatterpolar": [
           {
            "marker": {
             "colorbar": {
              "outlinewidth": 0,
              "ticks": ""
             }
            },
            "type": "scatterpolar"
           }
          ],
          "scatterpolargl": [
           {
            "marker": {
             "colorbar": {
              "outlinewidth": 0,
              "ticks": ""
             }
            },
            "type": "scatterpolargl"
           }
          ],
          "scatterternary": [
           {
            "marker": {
             "colorbar": {
              "outlinewidth": 0,
              "ticks": ""
             }
            },
            "type": "scatterternary"
           }
          ],
          "surface": [
           {
            "colorbar": {
             "outlinewidth": 0,
             "ticks": ""
            },
            "colorscale": [
             [
              0,
              "#0d0887"
             ],
             [
              0.1111111111111111,
              "#46039f"
             ],
             [
              0.2222222222222222,
              "#7201a8"
             ],
             [
              0.3333333333333333,
              "#9c179e"
             ],
             [
              0.4444444444444444,
              "#bd3786"
             ],
             [
              0.5555555555555556,
              "#d8576b"
             ],
             [
              0.6666666666666666,
              "#ed7953"
             ],
             [
              0.7777777777777778,
              "#fb9f3a"
             ],
             [
              0.8888888888888888,
              "#fdca26"
             ],
             [
              1,
              "#f0f921"
             ]
            ],
            "type": "surface"
           }
          ],
          "table": [
           {
            "cells": {
             "fill": {
              "color": "#EBF0F8"
             },
             "line": {
              "color": "white"
             }
            },
            "header": {
             "fill": {
              "color": "#C8D4E3"
             },
             "line": {
              "color": "white"
             }
            },
            "type": "table"
           }
          ]
         },
         "layout": {
          "annotationdefaults": {
           "arrowcolor": "#2a3f5f",
           "arrowhead": 0,
           "arrowwidth": 1
          },
          "autotypenumbers": "strict",
          "coloraxis": {
           "colorbar": {
            "outlinewidth": 0,
            "ticks": ""
           }
          },
          "colorscale": {
           "diverging": [
            [
             0,
             "#8e0152"
            ],
            [
             0.1,
             "#c51b7d"
            ],
            [
             0.2,
             "#de77ae"
            ],
            [
             0.3,
             "#f1b6da"
            ],
            [
             0.4,
             "#fde0ef"
            ],
            [
             0.5,
             "#f7f7f7"
            ],
            [
             0.6,
             "#e6f5d0"
            ],
            [
             0.7,
             "#b8e186"
            ],
            [
             0.8,
             "#7fbc41"
            ],
            [
             0.9,
             "#4d9221"
            ],
            [
             1,
             "#276419"
            ]
           ],
           "sequential": [
            [
             0,
             "#0d0887"
            ],
            [
             0.1111111111111111,
             "#46039f"
            ],
            [
             0.2222222222222222,
             "#7201a8"
            ],
            [
             0.3333333333333333,
             "#9c179e"
            ],
            [
             0.4444444444444444,
             "#bd3786"
            ],
            [
             0.5555555555555556,
             "#d8576b"
            ],
            [
             0.6666666666666666,
             "#ed7953"
            ],
            [
             0.7777777777777778,
             "#fb9f3a"
            ],
            [
             0.8888888888888888,
             "#fdca26"
            ],
            [
             1,
             "#f0f921"
            ]
           ],
           "sequentialminus": [
            [
             0,
             "#0d0887"
            ],
            [
             0.1111111111111111,
             "#46039f"
            ],
            [
             0.2222222222222222,
             "#7201a8"
            ],
            [
             0.3333333333333333,
             "#9c179e"
            ],
            [
             0.4444444444444444,
             "#bd3786"
            ],
            [
             0.5555555555555556,
             "#d8576b"
            ],
            [
             0.6666666666666666,
             "#ed7953"
            ],
            [
             0.7777777777777778,
             "#fb9f3a"
            ],
            [
             0.8888888888888888,
             "#fdca26"
            ],
            [
             1,
             "#f0f921"
            ]
           ]
          },
          "colorway": [
           "#636efa",
           "#EF553B",
           "#00cc96",
           "#ab63fa",
           "#FFA15A",
           "#19d3f3",
           "#FF6692",
           "#B6E880",
           "#FF97FF",
           "#FECB52"
          ],
          "font": {
           "color": "#2a3f5f"
          },
          "geo": {
           "bgcolor": "white",
           "lakecolor": "white",
           "landcolor": "#E5ECF6",
           "showlakes": true,
           "showland": true,
           "subunitcolor": "white"
          },
          "hoverlabel": {
           "align": "left"
          },
          "hovermode": "closest",
          "mapbox": {
           "style": "light"
          },
          "paper_bgcolor": "white",
          "plot_bgcolor": "#E5ECF6",
          "polar": {
           "angularaxis": {
            "gridcolor": "white",
            "linecolor": "white",
            "ticks": ""
           },
           "bgcolor": "#E5ECF6",
           "radialaxis": {
            "gridcolor": "white",
            "linecolor": "white",
            "ticks": ""
           }
          },
          "scene": {
           "xaxis": {
            "backgroundcolor": "#E5ECF6",
            "gridcolor": "white",
            "gridwidth": 2,
            "linecolor": "white",
            "showbackground": true,
            "ticks": "",
            "zerolinecolor": "white"
           },
           "yaxis": {
            "backgroundcolor": "#E5ECF6",
            "gridcolor": "white",
            "gridwidth": 2,
            "linecolor": "white",
            "showbackground": true,
            "ticks": "",
            "zerolinecolor": "white"
           },
           "zaxis": {
            "backgroundcolor": "#E5ECF6",
            "gridcolor": "white",
            "gridwidth": 2,
            "linecolor": "white",
            "showbackground": true,
            "ticks": "",
            "zerolinecolor": "white"
           }
          },
          "shapedefaults": {
           "line": {
            "color": "#2a3f5f"
           }
          },
          "ternary": {
           "aaxis": {
            "gridcolor": "white",
            "linecolor": "white",
            "ticks": ""
           },
           "baxis": {
            "gridcolor": "white",
            "linecolor": "white",
            "ticks": ""
           },
           "bgcolor": "#E5ECF6",
           "caxis": {
            "gridcolor": "white",
            "linecolor": "white",
            "ticks": ""
           }
          },
          "title": {
           "x": 0.05
          },
          "xaxis": {
           "automargin": true,
           "gridcolor": "white",
           "linecolor": "white",
           "ticks": "",
           "title": {
            "standoff": 15
           },
           "zerolinecolor": "white",
           "zerolinewidth": 2
          },
          "yaxis": {
           "automargin": true,
           "gridcolor": "white",
           "linecolor": "white",
           "ticks": "",
           "title": {
            "standoff": 15
           },
           "zerolinecolor": "white",
           "zerolinewidth": 2
          }
         }
        }
       }
      }
     },
     "metadata": {},
     "output_type": "display_data"
    }
   ],
   "source": [
    "fig = px.parallel_coordinates(shoot_data, color='SHO', dimensions=['Positioning', 'Finishing',\n",
    "       'Shot Power', 'Long Shots', 'Volleys', 'Penalties'])\n",
    "fig.show()"
   ]
  },
  {
   "cell_type": "code",
   "execution_count": null,
   "metadata": {},
   "outputs": [
    {
     "data": {
      "text/html": [
       "<div>\n",
       "<style scoped>\n",
       "    .dataframe tbody tr th:only-of-type {\n",
       "        vertical-align: middle;\n",
       "    }\n",
       "\n",
       "    .dataframe tbody tr th {\n",
       "        vertical-align: top;\n",
       "    }\n",
       "\n",
       "    .dataframe thead th {\n",
       "        text-align: right;\n",
       "    }\n",
       "</style>\n",
       "<table border=\"1\" class=\"dataframe\">\n",
       "  <thead>\n",
       "    <tr style=\"text-align: right;\">\n",
       "      <th></th>\n",
       "      <th>count</th>\n",
       "    </tr>\n",
       "    <tr>\n",
       "      <th>League</th>\n",
       "      <th></th>\n",
       "    </tr>\n",
       "  </thead>\n",
       "  <tbody>\n",
       "    <tr>\n",
       "      <th>Sudamericana</th>\n",
       "      <td>826</td>\n",
       "    </tr>\n",
       "    <tr>\n",
       "      <th>MLS</th>\n",
       "      <td>762</td>\n",
       "    </tr>\n",
       "    <tr>\n",
       "      <th>EFL Championship</th>\n",
       "      <td>683</td>\n",
       "    </tr>\n",
       "    <tr>\n",
       "      <th>EFL League One</th>\n",
       "      <td>615</td>\n",
       "    </tr>\n",
       "    <tr>\n",
       "      <th>Premier League</th>\n",
       "      <td>597</td>\n",
       "    </tr>\n",
       "    <tr>\n",
       "      <th>Libertadores</th>\n",
       "      <td>574</td>\n",
       "    </tr>\n",
       "    <tr>\n",
       "      <th>EFL League Two</th>\n",
       "      <td>562</td>\n",
       "    </tr>\n",
       "    <tr>\n",
       "      <th>Serie A Enilive</th>\n",
       "      <td>537</td>\n",
       "    </tr>\n",
       "    <tr>\n",
       "      <th>LALIGA EA SPORTS</th>\n",
       "      <td>529</td>\n",
       "    </tr>\n",
       "    <tr>\n",
       "      <th>Bundesliga 2</th>\n",
       "      <td>503</td>\n",
       "    </tr>\n",
       "  </tbody>\n",
       "</table>\n",
       "</div>"
      ],
      "text/plain": [
       "                  count\n",
       "League                 \n",
       "Sudamericana        826\n",
       "MLS                 762\n",
       "EFL Championship    683\n",
       "EFL League One      615\n",
       "Premier League      597\n",
       "Libertadores        574\n",
       "EFL League Two      562\n",
       "Serie A Enilive     537\n",
       "LALIGA EA SPORTS    529\n",
       "Bundesliga 2        503"
      ]
     },
     "execution_count": 57,
     "metadata": {},
     "output_type": "execute_result"
    }
   ],
   "source": [
    "top10 = all_data.League.value_counts()[:10]\n",
    "top10 = pd.DataFrame(top10)\n",
    "top10"
   ]
  },
  {
   "cell_type": "code",
   "execution_count": null,
   "metadata": {},
   "outputs": [
    {
     "data": {
      "text/plain": [
       "<Axes: xlabel='count', ylabel='League'>"
      ]
     },
     "execution_count": 58,
     "metadata": {},
     "output_type": "execute_result"
    },
    {
     "data": {
      "image/png": "[encoded data removed]",
      "text/plain": [
       "<Figure size 640x480 with 1 Axes>"
      ]
     },
     "metadata": {},
     "output_type": "display_data"
    }
   ],
   "source": [
    "sns.barplot(top10, x ='count', y=top10.index)"
   ]
  },
  {
   "cell_type": "markdown",
   "metadata": {},
   "source": [
    "Groupby "
   ]
  },
  {
   "cell_type": "code",
   "execution_count": null,
   "metadata": {},
   "outputs": [
    {
     "data": {
      "text/plain": [
       "685"
      ]
     },
     "execution_count": 59,
     "metadata": {},
     "output_type": "execute_result"
    }
   ],
   "source": [
    "teams = all_data.groupby('Team')\n",
    "len(teams)"
   ]
  },
  {
   "cell_type": "code",
   "execution_count": null,
   "metadata": {},
   "outputs": [
    {
     "data": {
      "text/html": [
       "<div>\n",
       "<style scoped>\n",
       "    .dataframe tbody tr th:only-of-type {\n",
       "        vertical-align: middle;\n",
       "    }\n",
       "\n",
       "    .dataframe tbody tr th {\n",
       "        vertical-align: top;\n",
       "    }\n",
       "\n",
       "    .dataframe thead th {\n",
       "        text-align: right;\n",
       "    }\n",
       "</style>\n",
       "<table border=\"1\" class=\"dataframe\">\n",
       "  <thead>\n",
       "    <tr style=\"text-align: right;\">\n",
       "      <th></th>\n",
       "      <th>Rank</th>\n",
       "      <th>Name</th>\n",
       "      <th>OVR</th>\n",
       "      <th>PAC</th>\n",
       "      <th>SHO</th>\n",
       "      <th>PAS</th>\n",
       "      <th>DRI</th>\n",
       "      <th>DEF</th>\n",
       "      <th>PHY</th>\n",
       "      <th>Acceleration</th>\n",
       "      <th>...</th>\n",
       "      <th>Team</th>\n",
       "      <th>play style</th>\n",
       "      <th>url</th>\n",
       "      <th>GK Diving</th>\n",
       "      <th>GK Handling</th>\n",
       "      <th>GK Kicking</th>\n",
       "      <th>GK Positioning</th>\n",
       "      <th>GK Reflexes</th>\n",
       "      <th>Codes</th>\n",
       "      <th>Label</th>\n",
       "    </tr>\n",
       "  </thead>\n",
       "  <tbody>\n",
       "    <tr>\n",
       "      <th>0</th>\n",
       "      <td>1</td>\n",
       "      <td>Kylian Mbappé</td>\n",
       "      <td>91</td>\n",
       "      <td>97</td>\n",
       "      <td>90</td>\n",
       "      <td>80</td>\n",
       "      <td>92</td>\n",
       "      <td>36</td>\n",
       "      <td>78</td>\n",
       "      <td>97</td>\n",
       "      <td>...</td>\n",
       "      <td>Real Madrid</td>\n",
       "      <td>Quick Step+, Acrobatic, Finesse Shot, Flair, R...</td>\n",
       "      <td>https://www.ea.com/games/ea-sports-fc/ratings/...</td>\n",
       "      <td>NaN</td>\n",
       "      <td>NaN</td>\n",
       "      <td>NaN</td>\n",
       "      <td>NaN</td>\n",
       "      <td>NaN</td>\n",
       "      <td>FRA</td>\n",
       "      <td>Kylian Mbappé, FRA</td>\n",
       "    </tr>\n",
       "    <tr>\n",
       "      <th>3</th>\n",
       "      <td>5</td>\n",
       "      <td>Jude Bellingham</td>\n",
       "      <td>90</td>\n",
       "      <td>80</td>\n",
       "      <td>87</td>\n",
       "      <td>83</td>\n",
       "      <td>88</td>\n",
       "      <td>78</td>\n",
       "      <td>83</td>\n",
       "      <td>81</td>\n",
       "      <td>...</td>\n",
       "      <td>Real Madrid</td>\n",
       "      <td>Relentless+, Flair, Intercept, Slide Tackle, T...</td>\n",
       "      <td>https://www.ea.com/games/ea-sports-fc/ratings/...</td>\n",
       "      <td>NaN</td>\n",
       "      <td>NaN</td>\n",
       "      <td>NaN</td>\n",
       "      <td>NaN</td>\n",
       "      <td>NaN</td>\n",
       "      <td>NaN</td>\n",
       "      <td>Jude Bellingham, NaN</td>\n",
       "    </tr>\n",
       "    <tr>\n",
       "      <th>4</th>\n",
       "      <td>7</td>\n",
       "      <td>Vini Jr.</td>\n",
       "      <td>90</td>\n",
       "      <td>95</td>\n",
       "      <td>84</td>\n",
       "      <td>81</td>\n",
       "      <td>91</td>\n",
       "      <td>29</td>\n",
       "      <td>69</td>\n",
       "      <td>95</td>\n",
       "      <td>...</td>\n",
       "      <td>Real Madrid</td>\n",
       "      <td>Quick Step+, Chip Shot, Finesse Shot, First To...</td>\n",
       "      <td>https://www.ea.com/games/ea-sports-fc/ratings/...</td>\n",
       "      <td>NaN</td>\n",
       "      <td>NaN</td>\n",
       "      <td>NaN</td>\n",
       "      <td>NaN</td>\n",
       "      <td>NaN</td>\n",
       "      <td>BRA</td>\n",
       "      <td>Vini Jr., BRA</td>\n",
       "    </tr>\n",
       "    <tr>\n",
       "      <th>10</th>\n",
       "      <td>16</td>\n",
       "      <td>Thibaut Courtois</td>\n",
       "      <td>89</td>\n",
       "      <td>85</td>\n",
       "      <td>89</td>\n",
       "      <td>76</td>\n",
       "      <td>90</td>\n",
       "      <td>46</td>\n",
       "      <td>88</td>\n",
       "      <td>42</td>\n",
       "      <td>...</td>\n",
       "      <td>Real Madrid</td>\n",
       "      <td>1v1 Close Down+, Cross Claimer, Far Throw</td>\n",
       "      <td>https://www.ea.com/games/ea-sports-fc/ratings/...</td>\n",
       "      <td>85.0</td>\n",
       "      <td>89.0</td>\n",
       "      <td>76.0</td>\n",
       "      <td>88.0</td>\n",
       "      <td>90.0</td>\n",
       "      <td>BEL</td>\n",
       "      <td>Thibaut Courtois, BEL</td>\n",
       "    </tr>\n",
       "    <tr>\n",
       "      <th>20</th>\n",
       "      <td>32</td>\n",
       "      <td>Federico Valverde</td>\n",
       "      <td>88</td>\n",
       "      <td>88</td>\n",
       "      <td>82</td>\n",
       "      <td>84</td>\n",
       "      <td>84</td>\n",
       "      <td>80</td>\n",
       "      <td>84</td>\n",
       "      <td>84</td>\n",
       "      <td>...</td>\n",
       "      <td>Real Madrid</td>\n",
       "      <td>Power Shot+, Long Ball Pass, Rapid, Relentless...</td>\n",
       "      <td>https://www.ea.com/games/ea-sports-fc/ratings/...</td>\n",
       "      <td>NaN</td>\n",
       "      <td>NaN</td>\n",
       "      <td>NaN</td>\n",
       "      <td>NaN</td>\n",
       "      <td>NaN</td>\n",
       "      <td>URY</td>\n",
       "      <td>Federico Valverde, URY</td>\n",
       "    </tr>\n",
       "  </tbody>\n",
       "</table>\n",
       "<p>5 rows × 58 columns</p>\n",
       "</div>"
      ],
      "text/plain": [
       "    Rank               Name  OVR  PAC  SHO  PAS  DRI  DEF  PHY  Acceleration  \\\n",
       "0      1      Kylian Mbappé   91   97   90   80   92   36   78            97   \n",
       "3      5    Jude Bellingham   90   80   87   83   88   78   83            81   \n",
       "4      7           Vini Jr.   90   95   84   81   91   29   69            95   \n",
       "10    16   Thibaut Courtois   89   85   89   76   90   46   88            42   \n",
       "20    32  Federico Valverde   88   88   82   84   84   80   84            84   \n",
       "\n",
       "    ...         Team                                         play style  \\\n",
       "0   ...  Real Madrid  Quick Step+, Acrobatic, Finesse Shot, Flair, R...   \n",
       "3   ...  Real Madrid  Relentless+, Flair, Intercept, Slide Tackle, T...   \n",
       "4   ...  Real Madrid  Quick Step+, Chip Shot, Finesse Shot, First To...   \n",
       "10  ...  Real Madrid          1v1 Close Down+, Cross Claimer, Far Throw   \n",
       "20  ...  Real Madrid  Power Shot+, Long Ball Pass, Rapid, Relentless...   \n",
       "\n",
       "                                                  url  GK Diving GK Handling  \\\n",
       "0   https://www.ea.com/games/ea-sports-fc/ratings/...        NaN         NaN   \n",
       "3   https://www.ea.com/games/ea-sports-fc/ratings/...        NaN         NaN   \n",
       "4   https://www.ea.com/games/ea-sports-fc/ratings/...        NaN         NaN   \n",
       "10  https://www.ea.com/games/ea-sports-fc/ratings/...       85.0        89.0   \n",
       "20  https://www.ea.com/games/ea-sports-fc/ratings/...        NaN         NaN   \n",
       "\n",
       "   GK Kicking  GK Positioning  GK Reflexes Codes                   Label  \n",
       "0         NaN             NaN          NaN   FRA      Kylian Mbappé, FRA  \n",
       "3         NaN             NaN          NaN   NaN    Jude Bellingham, NaN  \n",
       "4         NaN             NaN          NaN   BRA           Vini Jr., BRA  \n",
       "10       76.0            88.0         90.0   BEL   Thibaut Courtois, BEL  \n",
       "20        NaN             NaN          NaN   URY  Federico Valverde, URY  \n",
       "\n",
       "[5 rows x 58 columns]"
      ]
     },
     "execution_count": 60,
     "metadata": {},
     "output_type": "execute_result"
    }
   ],
   "source": [
    "real = teams.get_group('Real Madrid')\n",
    "real.head()"
   ]
  },
  {
   "cell_type": "code",
   "execution_count": null,
   "metadata": {},
   "outputs": [
    {
     "name": "stderr",
     "output_type": "stream",
     "text": [
      "/var/folders/yk/fs7s5htj44b8ds6qh_c6gb0m0000gn/T/ipykernel_3472/3093121445.py:10: SettingWithCopyWarning:\n",
      "\n",
      "\n",
      "A value is trying to be set on a copy of a slice from a DataFrame.\n",
      "Try using .loc[row_indexer,col_indexer] = value instead\n",
      "\n",
      "See the caveats in the documentation: https://pandas.pydata.org/pandas-docs/stable/user_guide/indexing.html#returning-a-view-versus-a-copy\n",
      "\n",
      "/var/folders/yk/fs7s5htj44b8ds6qh_c6gb0m0000gn/T/ipykernel_3472/3093121445.py:11: FutureWarning:\n",
      "\n",
      "A value is trying to be set on a copy of a DataFrame or Series through chained assignment using an inplace method.\n",
      "The behavior will change in pandas 3.0. This inplace method will never work because the intermediate object on which we are setting values always behaves as a copy.\n",
      "\n",
      "For example, when doing 'df[col].method(value, inplace=True)', try using 'df.method({col: value}, inplace=True)' or df[col] = df[col].method(value) instead, to perform the operation inplace on the original object.\n",
      "\n",
      "\n",
      "\n",
      "/var/folders/yk/fs7s5htj44b8ds6qh_c6gb0m0000gn/T/ipykernel_3472/3093121445.py:11: SettingWithCopyWarning:\n",
      "\n",
      "\n",
      "A value is trying to be set on a copy of a slice from a DataFrame\n",
      "\n",
      "See the caveats in the documentation: https://pandas.pydata.org/pandas-docs/stable/user_guide/indexing.html#returning-a-view-versus-a-copy\n",
      "\n",
      "/var/folders/yk/fs7s5htj44b8ds6qh_c6gb0m0000gn/T/ipykernel_3472/3093121445.py:13: SettingWithCopyWarning:\n",
      "\n",
      "\n",
      "A value is trying to be set on a copy of a slice from a DataFrame.\n",
      "Try using .loc[row_indexer,col_indexer] = value instead\n",
      "\n",
      "See the caveats in the documentation: https://pandas.pydata.org/pandas-docs/stable/user_guide/indexing.html#returning-a-view-versus-a-copy\n",
      "\n"
     ]
    },
    {
     "data": {
      "text/html": [
       "<div>\n",
       "<style scoped>\n",
       "    .dataframe tbody tr th:only-of-type {\n",
       "        vertical-align: middle;\n",
       "    }\n",
       "\n",
       "    .dataframe tbody tr th {\n",
       "        vertical-align: top;\n",
       "    }\n",
       "\n",
       "    .dataframe thead th {\n",
       "        text-align: right;\n",
       "    }\n",
       "</style>\n",
       "<table border=\"1\" class=\"dataframe\">\n",
       "  <thead>\n",
       "    <tr style=\"text-align: right;\">\n",
       "      <th></th>\n",
       "      <th>Rank</th>\n",
       "      <th>Name</th>\n",
       "      <th>OVR</th>\n",
       "      <th>PAC</th>\n",
       "      <th>SHO</th>\n",
       "      <th>PAS</th>\n",
       "      <th>DRI</th>\n",
       "      <th>DEF</th>\n",
       "      <th>PHY</th>\n",
       "      <th>Acceleration</th>\n",
       "      <th>...</th>\n",
       "      <th>Team</th>\n",
       "      <th>play style</th>\n",
       "      <th>url</th>\n",
       "      <th>GK Diving</th>\n",
       "      <th>GK Handling</th>\n",
       "      <th>GK Kicking</th>\n",
       "      <th>GK Positioning</th>\n",
       "      <th>GK Reflexes</th>\n",
       "      <th>Codes</th>\n",
       "      <th>Label</th>\n",
       "    </tr>\n",
       "  </thead>\n",
       "  <tbody>\n",
       "    <tr>\n",
       "      <th>0</th>\n",
       "      <td>1</td>\n",
       "      <td>Kylian Mbappé</td>\n",
       "      <td>91</td>\n",
       "      <td>97</td>\n",
       "      <td>90</td>\n",
       "      <td>80</td>\n",
       "      <td>92</td>\n",
       "      <td>36</td>\n",
       "      <td>78</td>\n",
       "      <td>97</td>\n",
       "      <td>...</td>\n",
       "      <td>Real Madrid</td>\n",
       "      <td>Quick Step+, Acrobatic, Finesse Shot, Flair, R...</td>\n",
       "      <td>https://www.ea.com/games/ea-sports-fc/ratings/...</td>\n",
       "      <td>NaN</td>\n",
       "      <td>NaN</td>\n",
       "      <td>NaN</td>\n",
       "      <td>NaN</td>\n",
       "      <td>NaN</td>\n",
       "      <td>FRA</td>\n",
       "      <td>Kylian Mbappé, FRA</td>\n",
       "    </tr>\n",
       "    <tr>\n",
       "      <th>3</th>\n",
       "      <td>5</td>\n",
       "      <td>Jude Bellingham</td>\n",
       "      <td>90</td>\n",
       "      <td>80</td>\n",
       "      <td>87</td>\n",
       "      <td>83</td>\n",
       "      <td>88</td>\n",
       "      <td>78</td>\n",
       "      <td>83</td>\n",
       "      <td>81</td>\n",
       "      <td>...</td>\n",
       "      <td>Real Madrid</td>\n",
       "      <td>Relentless+, Flair, Intercept, Slide Tackle, T...</td>\n",
       "      <td>https://www.ea.com/games/ea-sports-fc/ratings/...</td>\n",
       "      <td>NaN</td>\n",
       "      <td>NaN</td>\n",
       "      <td>NaN</td>\n",
       "      <td>NaN</td>\n",
       "      <td>NaN</td>\n",
       "      <td>NaN</td>\n",
       "      <td>Jude Bellingham, NaN</td>\n",
       "    </tr>\n",
       "    <tr>\n",
       "      <th>4</th>\n",
       "      <td>7</td>\n",
       "      <td>Vini Jr.</td>\n",
       "      <td>90</td>\n",
       "      <td>95</td>\n",
       "      <td>84</td>\n",
       "      <td>81</td>\n",
       "      <td>91</td>\n",
       "      <td>29</td>\n",
       "      <td>69</td>\n",
       "      <td>95</td>\n",
       "      <td>...</td>\n",
       "      <td>Real Madrid</td>\n",
       "      <td>Quick Step+, Chip Shot, Finesse Shot, First To...</td>\n",
       "      <td>https://www.ea.com/games/ea-sports-fc/ratings/...</td>\n",
       "      <td>NaN</td>\n",
       "      <td>NaN</td>\n",
       "      <td>NaN</td>\n",
       "      <td>NaN</td>\n",
       "      <td>NaN</td>\n",
       "      <td>BRA</td>\n",
       "      <td>Vini Jr., BRA</td>\n",
       "    </tr>\n",
       "    <tr>\n",
       "      <th>10</th>\n",
       "      <td>16</td>\n",
       "      <td>Thibaut Courtois</td>\n",
       "      <td>89</td>\n",
       "      <td>85</td>\n",
       "      <td>89</td>\n",
       "      <td>76</td>\n",
       "      <td>90</td>\n",
       "      <td>46</td>\n",
       "      <td>88</td>\n",
       "      <td>42</td>\n",
       "      <td>...</td>\n",
       "      <td>Real Madrid</td>\n",
       "      <td>1v1 Close Down+, Cross Claimer, Far Throw</td>\n",
       "      <td>https://www.ea.com/games/ea-sports-fc/ratings/...</td>\n",
       "      <td>85.0</td>\n",
       "      <td>89.0</td>\n",
       "      <td>76.0</td>\n",
       "      <td>88.0</td>\n",
       "      <td>90.0</td>\n",
       "      <td>BEL</td>\n",
       "      <td>Thibaut Courtois, BEL</td>\n",
       "    </tr>\n",
       "    <tr>\n",
       "      <th>20</th>\n",
       "      <td>32</td>\n",
       "      <td>Federico Valverde</td>\n",
       "      <td>88</td>\n",
       "      <td>88</td>\n",
       "      <td>82</td>\n",
       "      <td>84</td>\n",
       "      <td>84</td>\n",
       "      <td>80</td>\n",
       "      <td>84</td>\n",
       "      <td>84</td>\n",
       "      <td>...</td>\n",
       "      <td>Real Madrid</td>\n",
       "      <td>Power Shot+, Long Ball Pass, Rapid, Relentless...</td>\n",
       "      <td>https://www.ea.com/games/ea-sports-fc/ratings/...</td>\n",
       "      <td>NaN</td>\n",
       "      <td>NaN</td>\n",
       "      <td>NaN</td>\n",
       "      <td>NaN</td>\n",
       "      <td>NaN</td>\n",
       "      <td>URY</td>\n",
       "      <td>Federico Valverde, URY</td>\n",
       "    </tr>\n",
       "    <tr>\n",
       "      <th>24</th>\n",
       "      <td>40</td>\n",
       "      <td>Antonio Rüdiger</td>\n",
       "      <td>88</td>\n",
       "      <td>82</td>\n",
       "      <td>55</td>\n",
       "      <td>73</td>\n",
       "      <td>70</td>\n",
       "      <td>86</td>\n",
       "      <td>86</td>\n",
       "      <td>71</td>\n",
       "      <td>...</td>\n",
       "      <td>Real Madrid</td>\n",
       "      <td>Bruiser+, Acrobatic, Aerial, Block, Jockey</td>\n",
       "      <td>https://www.ea.com/games/ea-sports-fc/ratings/...</td>\n",
       "      <td>NaN</td>\n",
       "      <td>NaN</td>\n",
       "      <td>NaN</td>\n",
       "      <td>NaN</td>\n",
       "      <td>NaN</td>\n",
       "      <td>DEU</td>\n",
       "      <td>Antonio Rüdiger, DEU</td>\n",
       "    </tr>\n",
       "    <tr>\n",
       "      <th>48</th>\n",
       "      <td>72</td>\n",
       "      <td>Rodrygo</td>\n",
       "      <td>86</td>\n",
       "      <td>89</td>\n",
       "      <td>81</td>\n",
       "      <td>79</td>\n",
       "      <td>88</td>\n",
       "      <td>31</td>\n",
       "      <td>64</td>\n",
       "      <td>90</td>\n",
       "      <td>...</td>\n",
       "      <td>Real Madrid</td>\n",
       "      <td>Dead Ball, Finesse Shot, Flair, Technical</td>\n",
       "      <td>https://www.ea.com/games/ea-sports-fc/ratings/...</td>\n",
       "      <td>NaN</td>\n",
       "      <td>NaN</td>\n",
       "      <td>NaN</td>\n",
       "      <td>NaN</td>\n",
       "      <td>NaN</td>\n",
       "      <td>BRA</td>\n",
       "      <td>Rodrygo, BRA</td>\n",
       "    </tr>\n",
       "    <tr>\n",
       "      <th>52</th>\n",
       "      <td>77</td>\n",
       "      <td>Luka Modrić</td>\n",
       "      <td>86</td>\n",
       "      <td>72</td>\n",
       "      <td>76</td>\n",
       "      <td>88</td>\n",
       "      <td>87</td>\n",
       "      <td>71</td>\n",
       "      <td>64</td>\n",
       "      <td>75</td>\n",
       "      <td>...</td>\n",
       "      <td>Real Madrid</td>\n",
       "      <td>Trivela+, Incisive Pass, Long Ball Pass, Techn...</td>\n",
       "      <td>https://www.ea.com/games/ea-sports-fc/ratings/...</td>\n",
       "      <td>NaN</td>\n",
       "      <td>NaN</td>\n",
       "      <td>NaN</td>\n",
       "      <td>NaN</td>\n",
       "      <td>NaN</td>\n",
       "      <td>HRV</td>\n",
       "      <td>Luka Modrić, HRV</td>\n",
       "    </tr>\n",
       "    <tr>\n",
       "      <th>54</th>\n",
       "      <td>81</td>\n",
       "      <td>Carvajal</td>\n",
       "      <td>86</td>\n",
       "      <td>81</td>\n",
       "      <td>58</td>\n",
       "      <td>79</td>\n",
       "      <td>81</td>\n",
       "      <td>81</td>\n",
       "      <td>79</td>\n",
       "      <td>82</td>\n",
       "      <td>...</td>\n",
       "      <td>Real Madrid</td>\n",
       "      <td>Block, Whipped Pass</td>\n",
       "      <td>https://www.ea.com/games/ea-sports-fc/ratings/...</td>\n",
       "      <td>NaN</td>\n",
       "      <td>NaN</td>\n",
       "      <td>NaN</td>\n",
       "      <td>NaN</td>\n",
       "      <td>NaN</td>\n",
       "      <td>ESP</td>\n",
       "      <td>Carvajal, ESP</td>\n",
       "    </tr>\n",
       "    <tr>\n",
       "      <th>65</th>\n",
       "      <td>101</td>\n",
       "      <td>David Alaba</td>\n",
       "      <td>85</td>\n",
       "      <td>79</td>\n",
       "      <td>71</td>\n",
       "      <td>83</td>\n",
       "      <td>80</td>\n",
       "      <td>85</td>\n",
       "      <td>77</td>\n",
       "      <td>78</td>\n",
       "      <td>...</td>\n",
       "      <td>Real Madrid</td>\n",
       "      <td>Anticipate, Dead Ball, Long Ball Pass</td>\n",
       "      <td>https://www.ea.com/games/ea-sports-fc/ratings/...</td>\n",
       "      <td>NaN</td>\n",
       "      <td>NaN</td>\n",
       "      <td>NaN</td>\n",
       "      <td>NaN</td>\n",
       "      <td>NaN</td>\n",
       "      <td>AUT</td>\n",
       "      <td>David Alaba, AUT</td>\n",
       "    </tr>\n",
       "    <tr>\n",
       "      <th>68</th>\n",
       "      <td>101</td>\n",
       "      <td>Éder Militão</td>\n",
       "      <td>85</td>\n",
       "      <td>85</td>\n",
       "      <td>50</td>\n",
       "      <td>69</td>\n",
       "      <td>71</td>\n",
       "      <td>85</td>\n",
       "      <td>82</td>\n",
       "      <td>81</td>\n",
       "      <td>...</td>\n",
       "      <td>Real Madrid</td>\n",
       "      <td>Aerial, Block, Intercept, Long Ball Pass, Powe...</td>\n",
       "      <td>https://www.ea.com/games/ea-sports-fc/ratings/...</td>\n",
       "      <td>NaN</td>\n",
       "      <td>NaN</td>\n",
       "      <td>NaN</td>\n",
       "      <td>NaN</td>\n",
       "      <td>NaN</td>\n",
       "      <td>BRA</td>\n",
       "      <td>Éder Militão, BRA</td>\n",
       "    </tr>\n",
       "    <tr>\n",
       "      <th>87</th>\n",
       "      <td>101</td>\n",
       "      <td>Aurélien Tchouaméni</td>\n",
       "      <td>85</td>\n",
       "      <td>73</td>\n",
       "      <td>69</td>\n",
       "      <td>79</td>\n",
       "      <td>78</td>\n",
       "      <td>82</td>\n",
       "      <td>82</td>\n",
       "      <td>74</td>\n",
       "      <td>...</td>\n",
       "      <td>Real Madrid</td>\n",
       "      <td>Aerial, Anticipate, Bruiser, Intercept, Jockey...</td>\n",
       "      <td>https://www.ea.com/games/ea-sports-fc/ratings/...</td>\n",
       "      <td>NaN</td>\n",
       "      <td>NaN</td>\n",
       "      <td>NaN</td>\n",
       "      <td>NaN</td>\n",
       "      <td>NaN</td>\n",
       "      <td>FRA</td>\n",
       "      <td>Aurélien Tchouaméni, FRA</td>\n",
       "    </tr>\n",
       "    <tr>\n",
       "      <th>118</th>\n",
       "      <td>149</td>\n",
       "      <td>Ferland Mendy</td>\n",
       "      <td>84</td>\n",
       "      <td>89</td>\n",
       "      <td>64</td>\n",
       "      <td>76</td>\n",
       "      <td>76</td>\n",
       "      <td>81</td>\n",
       "      <td>85</td>\n",
       "      <td>88</td>\n",
       "      <td>...</td>\n",
       "      <td>Real Madrid</td>\n",
       "      <td>Block, Rapid</td>\n",
       "      <td>https://www.ea.com/games/ea-sports-fc/ratings/...</td>\n",
       "      <td>NaN</td>\n",
       "      <td>NaN</td>\n",
       "      <td>NaN</td>\n",
       "      <td>NaN</td>\n",
       "      <td>NaN</td>\n",
       "      <td>FRA</td>\n",
       "      <td>Ferland Mendy, FRA</td>\n",
       "    </tr>\n",
       "    <tr>\n",
       "      <th>135</th>\n",
       "      <td>222</td>\n",
       "      <td>Eduardo Camavinga</td>\n",
       "      <td>83</td>\n",
       "      <td>80</td>\n",
       "      <td>67</td>\n",
       "      <td>81</td>\n",
       "      <td>84</td>\n",
       "      <td>78</td>\n",
       "      <td>80</td>\n",
       "      <td>81</td>\n",
       "      <td>...</td>\n",
       "      <td>Real Madrid</td>\n",
       "      <td>Block, Bruiser, Flair, Jockey, Technical</td>\n",
       "      <td>https://www.ea.com/games/ea-sports-fc/ratings/...</td>\n",
       "      <td>NaN</td>\n",
       "      <td>NaN</td>\n",
       "      <td>NaN</td>\n",
       "      <td>NaN</td>\n",
       "      <td>NaN</td>\n",
       "      <td>FRA</td>\n",
       "      <td>Eduardo Camavinga, FRA</td>\n",
       "    </tr>\n",
       "    <tr>\n",
       "      <th>216</th>\n",
       "      <td>322</td>\n",
       "      <td>Brahim</td>\n",
       "      <td>82</td>\n",
       "      <td>85</td>\n",
       "      <td>74</td>\n",
       "      <td>78</td>\n",
       "      <td>85</td>\n",
       "      <td>31</td>\n",
       "      <td>56</td>\n",
       "      <td>85</td>\n",
       "      <td>...</td>\n",
       "      <td>Real Madrid</td>\n",
       "      <td>First Touch, Flair, Technical</td>\n",
       "      <td>https://www.ea.com/games/ea-sports-fc/ratings/...</td>\n",
       "      <td>NaN</td>\n",
       "      <td>NaN</td>\n",
       "      <td>NaN</td>\n",
       "      <td>NaN</td>\n",
       "      <td>NaN</td>\n",
       "      <td>MAR</td>\n",
       "      <td>Brahim, MAR</td>\n",
       "    </tr>\n",
       "    <tr>\n",
       "      <th>317</th>\n",
       "      <td>458</td>\n",
       "      <td>Andriy Lunin</td>\n",
       "      <td>81</td>\n",
       "      <td>80</td>\n",
       "      <td>78</td>\n",
       "      <td>77</td>\n",
       "      <td>82</td>\n",
       "      <td>37</td>\n",
       "      <td>80</td>\n",
       "      <td>39</td>\n",
       "      <td>...</td>\n",
       "      <td>Real Madrid</td>\n",
       "      <td>Footwork</td>\n",
       "      <td>https://www.ea.com/games/ea-sports-fc/ratings/...</td>\n",
       "      <td>80.0</td>\n",
       "      <td>78.0</td>\n",
       "      <td>77.0</td>\n",
       "      <td>80.0</td>\n",
       "      <td>82.0</td>\n",
       "      <td>UKR</td>\n",
       "      <td>Andriy Lunin, UKR</td>\n",
       "    </tr>\n",
       "    <tr>\n",
       "      <th>345</th>\n",
       "      <td>458</td>\n",
       "      <td>Lucas Vázquez</td>\n",
       "      <td>81</td>\n",
       "      <td>81</td>\n",
       "      <td>74</td>\n",
       "      <td>80</td>\n",
       "      <td>81</td>\n",
       "      <td>74</td>\n",
       "      <td>69</td>\n",
       "      <td>81</td>\n",
       "      <td>...</td>\n",
       "      <td>Real Madrid</td>\n",
       "      <td>Block, Rapid, Whipped Pass</td>\n",
       "      <td>https://www.ea.com/games/ea-sports-fc/ratings/...</td>\n",
       "      <td>NaN</td>\n",
       "      <td>NaN</td>\n",
       "      <td>NaN</td>\n",
       "      <td>NaN</td>\n",
       "      <td>NaN</td>\n",
       "      <td>ESP</td>\n",
       "      <td>Lucas Vázquez, ESP</td>\n",
       "    </tr>\n",
       "    <tr>\n",
       "      <th>490</th>\n",
       "      <td>736</td>\n",
       "      <td>Dani Ceballos</td>\n",
       "      <td>79</td>\n",
       "      <td>63</td>\n",
       "      <td>70</td>\n",
       "      <td>79</td>\n",
       "      <td>82</td>\n",
       "      <td>70</td>\n",
       "      <td>67</td>\n",
       "      <td>69</td>\n",
       "      <td>...</td>\n",
       "      <td>Real Madrid</td>\n",
       "      <td>Flair, Intercept, Jockey, Long Ball Pass, Tech...</td>\n",
       "      <td>https://www.ea.com/games/ea-sports-fc/ratings/...</td>\n",
       "      <td>NaN</td>\n",
       "      <td>NaN</td>\n",
       "      <td>NaN</td>\n",
       "      <td>NaN</td>\n",
       "      <td>NaN</td>\n",
       "      <td>ESP</td>\n",
       "      <td>Dani Ceballos, ESP</td>\n",
       "    </tr>\n",
       "    <tr>\n",
       "      <th>684</th>\n",
       "      <td>970</td>\n",
       "      <td>Fran García</td>\n",
       "      <td>78</td>\n",
       "      <td>89</td>\n",
       "      <td>49</td>\n",
       "      <td>69</td>\n",
       "      <td>77</td>\n",
       "      <td>71</td>\n",
       "      <td>69</td>\n",
       "      <td>90</td>\n",
       "      <td>...</td>\n",
       "      <td>Real Madrid</td>\n",
       "      <td>Quick Step, Rapid, Whipped Pass</td>\n",
       "      <td>https://www.ea.com/games/ea-sports-fc/ratings/...</td>\n",
       "      <td>NaN</td>\n",
       "      <td>NaN</td>\n",
       "      <td>NaN</td>\n",
       "      <td>NaN</td>\n",
       "      <td>NaN</td>\n",
       "      <td>ESP</td>\n",
       "      <td>Fran García, ESP</td>\n",
       "    </tr>\n",
       "    <tr>\n",
       "      <th>695</th>\n",
       "      <td>970</td>\n",
       "      <td>Arda Güler</td>\n",
       "      <td>78</td>\n",
       "      <td>72</td>\n",
       "      <td>73</td>\n",
       "      <td>80</td>\n",
       "      <td>82</td>\n",
       "      <td>52</td>\n",
       "      <td>50</td>\n",
       "      <td>75</td>\n",
       "      <td>...</td>\n",
       "      <td>Real Madrid</td>\n",
       "      <td>Finesse Shot, Flair, Incisive Pass, Long Ball ...</td>\n",
       "      <td>https://www.ea.com/games/ea-sports-fc/ratings/...</td>\n",
       "      <td>NaN</td>\n",
       "      <td>NaN</td>\n",
       "      <td>NaN</td>\n",
       "      <td>NaN</td>\n",
       "      <td>NaN</td>\n",
       "      <td>NaN</td>\n",
       "      <td>Arda Güler, NaN</td>\n",
       "    </tr>\n",
       "    <tr>\n",
       "      <th>956</th>\n",
       "      <td>1218</td>\n",
       "      <td>Endrick</td>\n",
       "      <td>77</td>\n",
       "      <td>89</td>\n",
       "      <td>76</td>\n",
       "      <td>61</td>\n",
       "      <td>78</td>\n",
       "      <td>30</td>\n",
       "      <td>64</td>\n",
       "      <td>91</td>\n",
       "      <td>...</td>\n",
       "      <td>Real Madrid</td>\n",
       "      <td>Flair, Power Shot, Quick Step, Rapid</td>\n",
       "      <td>https://www.ea.com/games/ea-sports-fc/ratings/...</td>\n",
       "      <td>NaN</td>\n",
       "      <td>NaN</td>\n",
       "      <td>NaN</td>\n",
       "      <td>NaN</td>\n",
       "      <td>NaN</td>\n",
       "      <td>BRA</td>\n",
       "      <td>Endrick, BRA</td>\n",
       "    </tr>\n",
       "    <tr>\n",
       "      <th>2633</th>\n",
       "      <td>2882</td>\n",
       "      <td>Vallejo</td>\n",
       "      <td>73</td>\n",
       "      <td>66</td>\n",
       "      <td>42</td>\n",
       "      <td>56</td>\n",
       "      <td>64</td>\n",
       "      <td>74</td>\n",
       "      <td>63</td>\n",
       "      <td>63</td>\n",
       "      <td>...</td>\n",
       "      <td>Real Madrid</td>\n",
       "      <td>NaN</td>\n",
       "      <td>https://www.ea.com/games/ea-sports-fc/ratings/...</td>\n",
       "      <td>NaN</td>\n",
       "      <td>NaN</td>\n",
       "      <td>NaN</td>\n",
       "      <td>NaN</td>\n",
       "      <td>NaN</td>\n",
       "      <td>ESP</td>\n",
       "      <td>Vallejo, ESP</td>\n",
       "    </tr>\n",
       "    <tr>\n",
       "      <th>9034</th>\n",
       "      <td>10108</td>\n",
       "      <td>Gonzalo</td>\n",
       "      <td>65</td>\n",
       "      <td>66</td>\n",
       "      <td>59</td>\n",
       "      <td>60</td>\n",
       "      <td>67</td>\n",
       "      <td>44</td>\n",
       "      <td>60</td>\n",
       "      <td>67</td>\n",
       "      <td>...</td>\n",
       "      <td>Real Madrid</td>\n",
       "      <td>NaN</td>\n",
       "      <td>https://www.ea.com/games/ea-sports-fc/ratings/...</td>\n",
       "      <td>NaN</td>\n",
       "      <td>NaN</td>\n",
       "      <td>NaN</td>\n",
       "      <td>NaN</td>\n",
       "      <td>NaN</td>\n",
       "      <td>ESP</td>\n",
       "      <td>Gonzalo, ESP</td>\n",
       "    </tr>\n",
       "    <tr>\n",
       "      <th>10518</th>\n",
       "      <td>11203</td>\n",
       "      <td>Jacobo</td>\n",
       "      <td>64</td>\n",
       "      <td>63</td>\n",
       "      <td>22</td>\n",
       "      <td>45</td>\n",
       "      <td>48</td>\n",
       "      <td>65</td>\n",
       "      <td>64</td>\n",
       "      <td>62</td>\n",
       "      <td>...</td>\n",
       "      <td>Real Madrid</td>\n",
       "      <td>NaN</td>\n",
       "      <td>https://www.ea.com/games/ea-sports-fc/ratings/...</td>\n",
       "      <td>NaN</td>\n",
       "      <td>NaN</td>\n",
       "      <td>NaN</td>\n",
       "      <td>NaN</td>\n",
       "      <td>NaN</td>\n",
       "      <td>ESP</td>\n",
       "      <td>Jacobo, ESP</td>\n",
       "    </tr>\n",
       "    <tr>\n",
       "      <th>11426</th>\n",
       "      <td>12239</td>\n",
       "      <td>Edgar Pujol</td>\n",
       "      <td>63</td>\n",
       "      <td>59</td>\n",
       "      <td>24</td>\n",
       "      <td>47</td>\n",
       "      <td>55</td>\n",
       "      <td>63</td>\n",
       "      <td>61</td>\n",
       "      <td>56</td>\n",
       "      <td>...</td>\n",
       "      <td>Real Madrid</td>\n",
       "      <td>NaN</td>\n",
       "      <td>https://www.ea.com/games/ea-sports-fc/ratings/...</td>\n",
       "      <td>NaN</td>\n",
       "      <td>NaN</td>\n",
       "      <td>NaN</td>\n",
       "      <td>NaN</td>\n",
       "      <td>NaN</td>\n",
       "      <td>ESP</td>\n",
       "      <td>Edgar Pujol, ESP</td>\n",
       "    </tr>\n",
       "  </tbody>\n",
       "</table>\n",
       "<p>25 rows × 58 columns</p>\n",
       "</div>"
      ],
      "text/plain": [
       "        Rank                 Name  OVR  PAC  SHO  PAS  DRI  DEF  PHY  \\\n",
       "0          1        Kylian Mbappé   91   97   90   80   92   36   78   \n",
       "3          5      Jude Bellingham   90   80   87   83   88   78   83   \n",
       "4          7             Vini Jr.   90   95   84   81   91   29   69   \n",
       "10        16     Thibaut Courtois   89   85   89   76   90   46   88   \n",
       "20        32    Federico Valverde   88   88   82   84   84   80   84   \n",
       "24        40      Antonio Rüdiger   88   82   55   73   70   86   86   \n",
       "48        72              Rodrygo   86   89   81   79   88   31   64   \n",
       "52        77          Luka Modrić   86   72   76   88   87   71   64   \n",
       "54        81             Carvajal   86   81   58   79   81   81   79   \n",
       "65       101          David Alaba   85   79   71   83   80   85   77   \n",
       "68       101         Éder Militão   85   85   50   69   71   85   82   \n",
       "87       101  Aurélien Tchouaméni   85   73   69   79   78   82   82   \n",
       "118      149        Ferland Mendy   84   89   64   76   76   81   85   \n",
       "135      222    Eduardo Camavinga   83   80   67   81   84   78   80   \n",
       "216      322               Brahim   82   85   74   78   85   31   56   \n",
       "317      458         Andriy Lunin   81   80   78   77   82   37   80   \n",
       "345      458        Lucas Vázquez   81   81   74   80   81   74   69   \n",
       "490      736        Dani Ceballos   79   63   70   79   82   70   67   \n",
       "684      970          Fran García   78   89   49   69   77   71   69   \n",
       "695      970           Arda Güler   78   72   73   80   82   52   50   \n",
       "956     1218              Endrick   77   89   76   61   78   30   64   \n",
       "2633    2882              Vallejo   73   66   42   56   64   74   63   \n",
       "9034   10108              Gonzalo   65   66   59   60   67   44   60   \n",
       "10518  11203               Jacobo   64   63   22   45   48   65   64   \n",
       "11426  12239          Edgar Pujol   63   59   24   47   55   63   61   \n",
       "\n",
       "       Acceleration  ...         Team  \\\n",
       "0                97  ...  Real Madrid   \n",
       "3                81  ...  Real Madrid   \n",
       "4                95  ...  Real Madrid   \n",
       "10               42  ...  Real Madrid   \n",
       "20               84  ...  Real Madrid   \n",
       "24               71  ...  Real Madrid   \n",
       "48               90  ...  Real Madrid   \n",
       "52               75  ...  Real Madrid   \n",
       "54               82  ...  Real Madrid   \n",
       "65               78  ...  Real Madrid   \n",
       "68               81  ...  Real Madrid   \n",
       "87               74  ...  Real Madrid   \n",
       "118              88  ...  Real Madrid   \n",
       "135              81  ...  Real Madrid   \n",
       "216              85  ...  Real Madrid   \n",
       "317              39  ...  Real Madrid   \n",
       "345              81  ...  Real Madrid   \n",
       "490              69  ...  Real Madrid   \n",
       "684              90  ...  Real Madrid   \n",
       "695              75  ...  Real Madrid   \n",
       "956              91  ...  Real Madrid   \n",
       "2633             63  ...  Real Madrid   \n",
       "9034             67  ...  Real Madrid   \n",
       "10518            62  ...  Real Madrid   \n",
       "11426            56  ...  Real Madrid   \n",
       "\n",
       "                                              play style  \\\n",
       "0      Quick Step+, Acrobatic, Finesse Shot, Flair, R...   \n",
       "3      Relentless+, Flair, Intercept, Slide Tackle, T...   \n",
       "4      Quick Step+, Chip Shot, Finesse Shot, First To...   \n",
       "10             1v1 Close Down+, Cross Claimer, Far Throw   \n",
       "20     Power Shot+, Long Ball Pass, Rapid, Relentless...   \n",
       "24            Bruiser+, Acrobatic, Aerial, Block, Jockey   \n",
       "48             Dead Ball, Finesse Shot, Flair, Technical   \n",
       "52     Trivela+, Incisive Pass, Long Ball Pass, Techn...   \n",
       "54                                   Block, Whipped Pass   \n",
       "65                 Anticipate, Dead Ball, Long Ball Pass   \n",
       "68     Aerial, Block, Intercept, Long Ball Pass, Powe...   \n",
       "87     Aerial, Anticipate, Bruiser, Intercept, Jockey...   \n",
       "118                                         Block, Rapid   \n",
       "135             Block, Bruiser, Flair, Jockey, Technical   \n",
       "216                        First Touch, Flair, Technical   \n",
       "317                                             Footwork   \n",
       "345                           Block, Rapid, Whipped Pass   \n",
       "490    Flair, Intercept, Jockey, Long Ball Pass, Tech...   \n",
       "684                      Quick Step, Rapid, Whipped Pass   \n",
       "695    Finesse Shot, Flair, Incisive Pass, Long Ball ...   \n",
       "956                 Flair, Power Shot, Quick Step, Rapid   \n",
       "2633                                                 NaN   \n",
       "9034                                                 NaN   \n",
       "10518                                                NaN   \n",
       "11426                                                NaN   \n",
       "\n",
       "                                                     url  GK Diving  \\\n",
       "0      https://www.ea.com/games/ea-sports-fc/ratings/...        NaN   \n",
       "3      https://www.ea.com/games/ea-sports-fc/ratings/...        NaN   \n",
       "4      https://www.ea.com/games/ea-sports-fc/ratings/...        NaN   \n",
       "10     https://www.ea.com/games/ea-sports-fc/ratings/...       85.0   \n",
       "20     https://www.ea.com/games/ea-sports-fc/ratings/...        NaN   \n",
       "24     https://www.ea.com/games/ea-sports-fc/ratings/...        NaN   \n",
       "48     https://www.ea.com/games/ea-sports-fc/ratings/...        NaN   \n",
       "52     https://www.ea.com/games/ea-sports-fc/ratings/...        NaN   \n",
       "54     https://www.ea.com/games/ea-sports-fc/ratings/...        NaN   \n",
       "65     https://www.ea.com/games/ea-sports-fc/ratings/...        NaN   \n",
       "68     https://www.ea.com/games/ea-sports-fc/ratings/...        NaN   \n",
       "87     https://www.ea.com/games/ea-sports-fc/ratings/...        NaN   \n",
       "118    https://www.ea.com/games/ea-sports-fc/ratings/...        NaN   \n",
       "135    https://www.ea.com/games/ea-sports-fc/ratings/...        NaN   \n",
       "216    https://www.ea.com/games/ea-sports-fc/ratings/...        NaN   \n",
       "317    https://www.ea.com/games/ea-sports-fc/ratings/...       80.0   \n",
       "345    https://www.ea.com/games/ea-sports-fc/ratings/...        NaN   \n",
       "490    https://www.ea.com/games/ea-sports-fc/ratings/...        NaN   \n",
       "684    https://www.ea.com/games/ea-sports-fc/ratings/...        NaN   \n",
       "695    https://www.ea.com/games/ea-sports-fc/ratings/...        NaN   \n",
       "956    https://www.ea.com/games/ea-sports-fc/ratings/...        NaN   \n",
       "2633   https://www.ea.com/games/ea-sports-fc/ratings/...        NaN   \n",
       "9034   https://www.ea.com/games/ea-sports-fc/ratings/...        NaN   \n",
       "10518  https://www.ea.com/games/ea-sports-fc/ratings/...        NaN   \n",
       "11426  https://www.ea.com/games/ea-sports-fc/ratings/...        NaN   \n",
       "\n",
       "      GK Handling GK Kicking  GK Positioning  GK Reflexes Codes  \\\n",
       "0             NaN        NaN             NaN          NaN   FRA   \n",
       "3             NaN        NaN             NaN          NaN   NaN   \n",
       "4             NaN        NaN             NaN          NaN   BRA   \n",
       "10           89.0       76.0            88.0         90.0   BEL   \n",
       "20            NaN        NaN             NaN          NaN   URY   \n",
       "24            NaN        NaN             NaN          NaN   DEU   \n",
       "48            NaN        NaN             NaN          NaN   BRA   \n",
       "52            NaN        NaN             NaN          NaN   HRV   \n",
       "54            NaN        NaN             NaN          NaN   ESP   \n",
       "65            NaN        NaN             NaN          NaN   AUT   \n",
       "68            NaN        NaN             NaN          NaN   BRA   \n",
       "87            NaN        NaN             NaN          NaN   FRA   \n",
       "118           NaN        NaN             NaN          NaN   FRA   \n",
       "135           NaN        NaN             NaN          NaN   FRA   \n",
       "216           NaN        NaN             NaN          NaN   MAR   \n",
       "317          78.0       77.0            80.0         82.0   UKR   \n",
       "345           NaN        NaN             NaN          NaN   ESP   \n",
       "490           NaN        NaN             NaN          NaN   ESP   \n",
       "684           NaN        NaN             NaN          NaN   ESP   \n",
       "695           NaN        NaN             NaN          NaN   NaN   \n",
       "956           NaN        NaN             NaN          NaN   BRA   \n",
       "2633          NaN        NaN             NaN          NaN   ESP   \n",
       "9034          NaN        NaN             NaN          NaN   ESP   \n",
       "10518         NaN        NaN             NaN          NaN   ESP   \n",
       "11426         NaN        NaN             NaN          NaN   ESP   \n",
       "\n",
       "                          Label  \n",
       "0            Kylian Mbappé, FRA  \n",
       "3          Jude Bellingham, NaN  \n",
       "4                 Vini Jr., BRA  \n",
       "10        Thibaut Courtois, BEL  \n",
       "20       Federico Valverde, URY  \n",
       "24         Antonio Rüdiger, DEU  \n",
       "48                 Rodrygo, BRA  \n",
       "52             Luka Modrić, HRV  \n",
       "54                Carvajal, ESP  \n",
       "65             David Alaba, AUT  \n",
       "68            Éder Militão, BRA  \n",
       "87     Aurélien Tchouaméni, FRA  \n",
       "118          Ferland Mendy, FRA  \n",
       "135      Eduardo Camavinga, FRA  \n",
       "216                 Brahim, MAR  \n",
       "317           Andriy Lunin, UKR  \n",
       "345          Lucas Vázquez, ESP  \n",
       "490          Dani Ceballos, ESP  \n",
       "684            Fran García, ESP  \n",
       "695             Arda Güler, NaN  \n",
       "956                Endrick, BRA  \n",
       "2633               Vallejo, ESP  \n",
       "9034               Gonzalo, ESP  \n",
       "10518               Jacobo, ESP  \n",
       "11426          Edgar Pujol, ESP  \n",
       "\n",
       "[25 rows x 58 columns]"
      ]
     },
     "execution_count": 61,
     "metadata": {},
     "output_type": "execute_result"
    }
   ],
   "source": [
    "import pycountry\n",
    "\n",
    "input_countries = real['Nation']\n",
    "\n",
    "countries = {}\n",
    "for country in pycountry.countries:\n",
    "    countries[country.name] = country.alpha_3\n",
    "\n",
    "codes = [countries.get(country, 'Unknown code') for country in input_countries]\n",
    "real['Codes'] = codes\n",
    "real['Codes'].replace('Unknown code', 'NaN', inplace=True)\n",
    "\n",
    "real['Label'] = real['Name'] + \", \" + real['Codes']\n",
    "real"
   ]
  },
  {
   "cell_type": "code",
   "execution_count": null,
   "metadata": {},
   "outputs": [
    {
     "name": "stderr",
     "output_type": "stream",
     "text": [
      "/var/folders/yk/fs7s5htj44b8ds6qh_c6gb0m0000gn/T/ipykernel_3472/1606036323.py:2: SettingWithCopyWarning:\n",
      "\n",
      "\n",
      "A value is trying to be set on a copy of a slice from a DataFrame.\n",
      "Try using .loc[row_indexer,col_indexer] = value instead\n",
      "\n",
      "See the caveats in the documentation: https://pandas.pydata.org/pandas-docs/stable/user_guide/indexing.html#returning-a-view-versus-a-copy\n",
      "\n"
     ]
    },
    {
     "data": {
      "application/vnd.plotly.v1+json": {
       "config": {
        "plotlyServerURL": "https://plot.ly"
       },
       "data": [
        {
         "marker": {
          "color": [
           91,
           90,
           90,
           89,
           88,
           88,
           86,
           86,
           86,
           85,
           85,
           85,
           84,
           83,
           82,
           81,
           81,
           79,
           78,
           78,
           77,
           73,
           65,
           64,
           63
          ]
         },
         "name": "Player OVR",
         "type": "bar",
         "x": [
          "Kylian Mbappé FRA",
          "Jude Bellingham NaN",
          "Vini Jr. BRA",
          "Thibaut Courtois BEL",
          "Federico Valverde URY",
          "Antonio Rüdiger DEU",
          "Rodrygo BRA",
          "Luka Modrić HRV",
          "Carvajal ESP",
          "David Alaba AUT",
          "Éder Militão BRA",
          "Aurélien Tchouaméni FRA",
          "Ferland Mendy FRA",
          "Eduardo Camavinga FRA",
          "Brahim MAR",
          "Andriy Lunin UKR",
          "Lucas Vázquez ESP",
          "Dani Ceballos ESP",
          "Fran García ESP",
          "Arda Güler NaN",
          "Endrick BRA",
          "Vallejo ESP",
          "Gonzalo ESP",
          "Jacobo ESP",
          "Edgar Pujol ESP"
         ],
         "y": [
          91,
          90,
          90,
          89,
          88,
          88,
          86,
          86,
          86,
          85,
          85,
          85,
          84,
          83,
          82,
          81,
          81,
          79,
          78,
          78,
          77,
          73,
          65,
          64,
          63
         ]
        }
       ],
       "layout": {
        "template": {
         "data": {
          "bar": [
           {
            "error_x": {
             "color": "#2a3f5f"
            },
            "error_y": {
             "color": "#2a3f5f"
            },
            "marker": {
             "line": {
              "color": "#E5ECF6",
              "width": 0.5
             },
             "pattern": {
              "fillmode": "overlay",
              "size": 10,
              "solidity": 0.2
             }
            },
            "type": "bar"
           }
          ],
          "barpolar": [
           {
            "marker": {
             "line": {
              "color": "#E5ECF6",
              "width": 0.5
             },
             "pattern": {
              "fillmode": "overlay",
              "size": 10,
              "solidity": 0.2
             }
            },
            "type": "barpolar"
           }
          ],
          "carpet": [
           {
            "aaxis": {
             "endlinecolor": "#2a3f5f",
             "gridcolor": "white",
             "linecolor": "white",
             "minorgridcolor": "white",
             "startlinecolor": "#2a3f5f"
            },
            "baxis": {
             "endlinecolor": "#2a3f5f",
             "gridcolor": "white",
             "linecolor": "white",
             "minorgridcolor": "white",
             "startlinecolor": "#2a3f5f"
            },
            "type": "carpet"
           }
          ],
          "choropleth": [
           {
            "colorbar": {
             "outlinewidth": 0,
             "ticks": ""
            },
            "type": "choropleth"
           }
          ],
          "contour": [
           {
            "colorbar": {
             "outlinewidth": 0,
             "ticks": ""
            },
            "colorscale": [
             [
              0,
              "#0d0887"
             ],
             [
              0.1111111111111111,
              "#46039f"
             ],
             [
              0.2222222222222222,
              "#7201a8"
             ],
             [
              0.3333333333333333,
              "#9c179e"
             ],
             [
              0.4444444444444444,
              "#bd3786"
             ],
             [
              0.5555555555555556,
              "#d8576b"
             ],
             [
              0.6666666666666666,
              "#ed7953"
             ],
             [
              0.7777777777777778,
              "#fb9f3a"
             ],
             [
              0.8888888888888888,
              "#fdca26"
             ],
             [
              1,
              "#f0f921"
             ]
            ],
            "type": "contour"
           }
          ],
          "contourcarpet": [
           {
            "colorbar": {
             "outlinewidth": 0,
             "ticks": ""
            },
            "type": "contourcarpet"
           }
          ],
          "heatmap": [
           {
            "colorbar": {
             "outlinewidth": 0,
             "ticks": ""
            },
            "colorscale": [
             [
              0,
              "#0d0887"
             ],
             [
              0.1111111111111111,
              "#46039f"
             ],
             [
              0.2222222222222222,
              "#7201a8"
             ],
             [
              0.3333333333333333,
              "#9c179e"
             ],
             [
              0.4444444444444444,
              "#bd3786"
             ],
             [
              0.5555555555555556,
              "#d8576b"
             ],
             [
              0.6666666666666666,
              "#ed7953"
             ],
             [
              0.7777777777777778,
              "#fb9f3a"
             ],
             [
              0.8888888888888888,
              "#fdca26"
             ],
             [
              1,
              "#f0f921"
             ]
            ],
            "type": "heatmap"
           }
          ],
          "heatmapgl": [
           {
            "colorbar": {
             "outlinewidth": 0,
             "ticks": ""
            },
            "colorscale": [
             [
              0,
              "#0d0887"
             ],
             [
              0.1111111111111111,
              "#46039f"
             ],
             [
              0.2222222222222222,
              "#7201a8"
             ],
             [
              0.3333333333333333,
              "#9c179e"
             ],
             [
              0.4444444444444444,
              "#bd3786"
             ],
             [
              0.5555555555555556,
              "#d8576b"
             ],
             [
              0.6666666666666666,
              "#ed7953"
             ],
             [
              0.7777777777777778,
              "#fb9f3a"
             ],
             [
              0.8888888888888888,
              "#fdca26"
             ],
             [
              1,
              "#f0f921"
             ]
            ],
            "type": "heatmapgl"
           }
          ],
          "histogram": [
           {
            "marker": {
             "pattern": {
              "fillmode": "overlay",
              "size": 10,
              "solidity": 0.2
             }
            },
            "type": "histogram"
           }
          ],
          "histogram2d": [
           {
            "colorbar": {
             "outlinewidth": 0,
             "ticks": ""
            },
            "colorscale": [
             [
              0,
              "#0d0887"
             ],
             [
              0.1111111111111111,
              "#46039f"
             ],
             [
              0.2222222222222222,
              "#7201a8"
             ],
             [
              0.3333333333333333,
              "#9c179e"
             ],
             [
              0.4444444444444444,
              "#bd3786"
             ],
             [
              0.5555555555555556,
              "#d8576b"
             ],
             [
              0.6666666666666666,
              "#ed7953"
             ],
             [
              0.7777777777777778,
              "#fb9f3a"
             ],
             [
              0.8888888888888888,
              "#fdca26"
             ],
             [
              1,
              "#f0f921"
             ]
            ],
            "type": "histogram2d"
           }
          ],
          "histogram2dcontour": [
           {
            "colorbar": {
             "outlinewidth": 0,
             "ticks": ""
            },
            "colorscale": [
             [
              0,
              "#0d0887"
             ],
             [
              0.1111111111111111,
              "#46039f"
             ],
             [
              0.2222222222222222,
              "#7201a8"
             ],
             [
              0.3333333333333333,
              "#9c179e"
             ],
             [
              0.4444444444444444,
              "#bd3786"
             ],
             [
              0.5555555555555556,
              "#d8576b"
             ],
             [
              0.6666666666666666,
              "#ed7953"
             ],
             [
              0.7777777777777778,
              "#fb9f3a"
             ],
             [
              0.8888888888888888,
              "#fdca26"
             ],
             [
              1,
              "#f0f921"
             ]
            ],
            "type": "histogram2dcontour"
           }
          ],
          "mesh3d": [
           {
            "colorbar": {
             "outlinewidth": 0,
             "ticks": ""
            },
            "type": "mesh3d"
           }
          ],
          "parcoords": [
           {
            "line": {
             "colorbar": {
              "outlinewidth": 0,
              "ticks": ""
             }
            },
            "type": "parcoords"
           }
          ],
          "pie": [
           {
            "automargin": true,
            "type": "pie"
           }
          ],
          "scatter": [
           {
            "fillpattern": {
             "fillmode": "overlay",
             "size": 10,
             "solidity": 0.2
            },
            "type": "scatter"
           }
          ],
          "scatter3d": [
           {
            "line": {
             "colorbar": {
              "outlinewidth": 0,
              "ticks": ""
             }
            },
            "marker": {
             "colorbar": {
              "outlinewidth": 0,
              "ticks": ""
             }
            },
            "type": "scatter3d"
           }
          ],
          "scattercarpet": [
           {
            "marker": {
             "colorbar": {
              "outlinewidth": 0,
              "ticks": ""
             }
            },
            "type": "scattercarpet"
           }
          ],
          "scattergeo": [
           {
            "marker": {
             "colorbar": {
              "outlinewidth": 0,
              "ticks": ""
             }
            },
            "type": "scattergeo"
           }
          ],
          "scattergl": [
           {
            "marker": {
             "colorbar": {
              "outlinewidth": 0,
              "ticks": ""
             }
            },
            "type": "scattergl"
           }
          ],
          "scattermapbox": [
           {
            "marker": {
             "colorbar": {
              "outlinewidth": 0,
              "ticks": ""
             }
            },
            "type": "scattermapbox"
           }
          ],
          "scatterpolar": [
           {
            "marker": {
             "colorbar": {
              "outlinewidth": 0,
              "ticks": ""
             }
            },
            "type": "scatterpolar"
           }
          ],
          "scatterpolargl": [
           {
            "marker": {
             "colorbar": {
              "outlinewidth": 0,
              "ticks": ""
             }
            },
            "type": "scatterpolargl"
           }
          ],
          "scatterternary": [
           {
            "marker": {
             "colorbar": {
              "outlinewidth": 0,
              "ticks": ""
             }
            },
            "type": "scatterternary"
           }
          ],
          "surface": [
           {
            "colorbar": {
             "outlinewidth": 0,
             "ticks": ""
            },
            "colorscale": [
             [
              0,
              "#0d0887"
             ],
             [
              0.1111111111111111,
              "#46039f"
             ],
             [
              0.2222222222222222,
              "#7201a8"
             ],
             [
              0.3333333333333333,
              "#9c179e"
             ],
             [
              0.4444444444444444,
              "#bd3786"
             ],
             [
              0.5555555555555556,
              "#d8576b"
             ],
             [
              0.6666666666666666,
              "#ed7953"
             ],
             [
              0.7777777777777778,
              "#fb9f3a"
             ],
             [
              0.8888888888888888,
              "#fdca26"
             ],
             [
              1,
              "#f0f921"
             ]
            ],
            "type": "surface"
           }
          ],
          "table": [
           {
            "cells": {
             "fill": {
              "color": "#EBF0F8"
             },
             "line": {
              "color": "white"
             }
            },
            "header": {
             "fill": {
              "color": "#C8D4E3"
             },
             "line": {
              "color": "white"
             }
            },
            "type": "table"
           }
          ]
         },
         "layout": {
          "annotationdefaults": {
           "arrowcolor": "#2a3f5f",
           "arrowhead": 0,
           "arrowwidth": 1
          },
          "autotypenumbers": "strict",
          "coloraxis": {
           "colorbar": {
            "outlinewidth": 0,
            "ticks": ""
           }
          },
          "colorscale": {
           "diverging": [
            [
             0,
             "#8e0152"
            ],
            [
             0.1,
             "#c51b7d"
            ],
            [
             0.2,
             "#de77ae"
            ],
            [
             0.3,
             "#f1b6da"
            ],
            [
             0.4,
             "#fde0ef"
            ],
            [
             0.5,
             "#f7f7f7"
            ],
            [
             0.6,
             "#e6f5d0"
            ],
            [
             0.7,
             "#b8e186"
            ],
            [
             0.8,
             "#7fbc41"
            ],
            [
             0.9,
             "#4d9221"
            ],
            [
             1,
             "#276419"
            ]
           ],
           "sequential": [
            [
             0,
             "#0d0887"
            ],
            [
             0.1111111111111111,
             "#46039f"
            ],
            [
             0.2222222222222222,
             "#7201a8"
            ],
            [
             0.3333333333333333,
             "#9c179e"
            ],
            [
             0.4444444444444444,
             "#bd3786"
            ],
            [
             0.5555555555555556,
             "#d8576b"
            ],
            [
             0.6666666666666666,
             "#ed7953"
            ],
            [
             0.7777777777777778,
             "#fb9f3a"
            ],
            [
             0.8888888888888888,
             "#fdca26"
            ],
            [
             1,
             "#f0f921"
            ]
           ],
           "sequentialminus": [
            [
             0,
             "#0d0887"
            ],
            [
             0.1111111111111111,
             "#46039f"
            ],
            [
             0.2222222222222222,
             "#7201a8"
            ],
            [
             0.3333333333333333,
             "#9c179e"
            ],
            [
             0.4444444444444444,
             "#bd3786"
            ],
            [
             0.5555555555555556,
             "#d8576b"
            ],
            [
             0.6666666666666666,
             "#ed7953"
            ],
            [
             0.7777777777777778,
             "#fb9f3a"
            ],
            [
             0.8888888888888888,
             "#fdca26"
            ],
            [
             1,
             "#f0f921"
            ]
           ]
          },
          "colorway": [
           "#636efa",
           "#EF553B",
           "#00cc96",
           "#ab63fa",
           "#FFA15A",
           "#19d3f3",
           "#FF6692",
           "#B6E880",
           "#FF97FF",
           "#FECB52"
          ],
          "font": {
           "color": "#2a3f5f"
          },
          "geo": {
           "bgcolor": "white",
           "lakecolor": "white",
           "landcolor": "#E5ECF6",
           "showlakes": true,
           "showland": true,
           "subunitcolor": "white"
          },
          "hoverlabel": {
           "align": "left"
          },
          "hovermode": "closest",
          "mapbox": {
           "style": "light"
          },
          "paper_bgcolor": "white",
          "plot_bgcolor": "#E5ECF6",
          "polar": {
           "angularaxis": {
            "gridcolor": "white",
            "linecolor": "white",
            "ticks": ""
           },
           "bgcolor": "#E5ECF6",
           "radialaxis": {
            "gridcolor": "white",
            "linecolor": "white",
            "ticks": ""
           }
          },
          "scene": {
           "xaxis": {
            "backgroundcolor": "#E5ECF6",
            "gridcolor": "white",
            "gridwidth": 2,
            "linecolor": "white",
            "showbackground": true,
            "ticks": "",
            "zerolinecolor": "white"
           },
           "yaxis": {
            "backgroundcolor": "#E5ECF6",
            "gridcolor": "white",
            "gridwidth": 2,
            "linecolor": "white",
            "showbackground": true,
            "ticks": "",
            "zerolinecolor": "white"
           },
           "zaxis": {
            "backgroundcolor": "#E5ECF6",
            "gridcolor": "white",
            "gridwidth": 2,
            "linecolor": "white",
            "showbackground": true,
            "ticks": "",
            "zerolinecolor": "white"
           }
          },
          "shapedefaults": {
           "line": {
            "color": "#2a3f5f"
           }
          },
          "ternary": {
           "aaxis": {
            "gridcolor": "white",
            "linecolor": "white",
            "ticks": ""
           },
           "baxis": {
            "gridcolor": "white",
            "linecolor": "white",
            "ticks": ""
           },
           "bgcolor": "#E5ECF6",
           "caxis": {
            "gridcolor": "white",
            "linecolor": "white",
            "ticks": ""
           }
          },
          "title": {
           "x": 0.05
          },
          "xaxis": {
           "automargin": true,
           "gridcolor": "white",
           "linecolor": "white",
           "ticks": "",
           "title": {
            "standoff": 15
           },
           "zerolinecolor": "white",
           "zerolinewidth": 2
          },
          "yaxis": {
           "automargin": true,
           "gridcolor": "white",
           "linecolor": "white",
           "ticks": "",
           "title": {
            "standoff": 15
           },
           "zerolinecolor": "white",
           "zerolinewidth": 2
          }
         }
        },
        "title": {
         "font": {
          "size": 24
         },
         "text": "Player Stats Comparison"
        },
        "updatemenus": [
         {
          "buttons": [
           {
            "args": [
             {
              "y": [
               [
                91,
                90,
                90,
                89,
                88,
                88,
                86,
                86,
                86,
                85,
                85,
                85,
                84,
                83,
                82,
                81,
                81,
                79,
                78,
                78,
                77,
                73,
                65,
                64,
                63
               ]
              ]
             },
             {
              "marker.color": [
               [
                91,
                90,
                90,
                89,
                88,
                88,
                86,
                86,
                86,
                85,
                85,
                85,
                84,
                83,
                82,
                81,
                81,
                79,
                78,
                78,
                77,
                73,
                65,
                64,
                63
               ]
              ]
             }
            ],
            "label": "OVR",
            "method": "update"
           },
           {
            "args": [
             {
              "y": [
               [
                90,
                87,
                84,
                89,
                82,
                55,
                81,
                76,
                58,
                71,
                50,
                69,
                64,
                67,
                74,
                78,
                74,
                70,
                49,
                73,
                76,
                42,
                59,
                22,
                24
               ]
              ]
             },
             {
              "marker.color": [
               [
                90,
                87,
                84,
                89,
                82,
                55,
                81,
                76,
                58,
                71,
                50,
                69,
                64,
                67,
                74,
                78,
                74,
                70,
                49,
                73,
                76,
                42,
                59,
                22,
                24
               ]
              ]
             }
            ],
            "label": "SHO",
            "method": "update"
           },
           {
            "args": [
             {
              "y": [
               [
                80,
                83,
                81,
                76,
                84,
                73,
                79,
                88,
                79,
                83,
                69,
                79,
                76,
                81,
                78,
                77,
                80,
                79,
                69,
                80,
                61,
                56,
                60,
                45,
                47
               ]
              ]
             },
             {
              "marker.color": [
               [
                80,
                83,
                81,
                76,
                84,
                73,
                79,
                88,
                79,
                83,
                69,
                79,
                76,
                81,
                78,
                77,
                80,
                79,
                69,
                80,
                61,
                56,
                60,
                45,
                47
               ]
              ]
             }
            ],
            "label": "PAS",
            "method": "update"
           },
           {
            "args": [
             {
              "y": [
               [
                92,
                88,
                91,
                90,
                84,
                70,
                88,
                87,
                81,
                80,
                71,
                78,
                76,
                84,
                85,
                82,
                81,
                82,
                77,
                82,
                78,
                64,
                67,
                48,
                55
               ]
              ]
             },
             {
              "marker.color": [
               [
                92,
                88,
                91,
                90,
                84,
                70,
                88,
                87,
                81,
                80,
                71,
                78,
                76,
                84,
                85,
                82,
                81,
                82,
                77,
                82,
                78,
                64,
                67,
                48,
                55
               ]
              ]
             }
            ],
            "label": "DRI",
            "method": "update"
           },
           {
            "args": [
             {
              "y": [
               [
                36,
                78,
                29,
                46,
                80,
                86,
                31,
                71,
                81,
                85,
                85,
                82,
                81,
                78,
                31,
                37,
                74,
                70,
                71,
                52,
                30,
                74,
                44,
                65,
                63
               ]
              ]
             },
             {
              "marker.color": [
               [
                36,
                78,
                29,
                46,
                80,
                86,
                31,
                71,
                81,
                85,
                85,
                82,
                81,
                78,
                31,
                37,
                74,
                70,
                71,
                52,
                30,
                74,
                44,
                65,
                63
               ]
              ]
             }
            ],
            "label": "DEF",
            "method": "update"
           },
           {
            "args": [
             {
              "y": [
               [
                78,
                83,
                69,
                88,
                84,
                86,
                64,
                64,
                79,
                77,
                82,
                82,
                85,
                80,
                56,
                80,
                69,
                67,
                69,
                50,
                64,
                63,
                60,
                64,
                61
               ]
              ]
             },
             {
              "marker.color": [
               [
                78,
                83,
                69,
                88,
                84,
                86,
                64,
                64,
                79,
                77,
                82,
                82,
                85,
                80,
                56,
                80,
                69,
                67,
                69,
                50,
                64,
                63,
                60,
                64,
                61
               ]
              ]
             }
            ],
            "label": "PHY",
            "method": "update"
           }
          ],
          "direction": "right",
          "showactive": true,
          "type": "buttons",
          "x": 0.7,
          "y": 1.2
         }
        ],
        "xaxis": {
         "title": {
          "font": {
           "size": 18
          },
          "text": "Players"
         }
        },
        "yaxis": {
         "title": {
          "font": {
           "size": 18
          },
          "text": "Stat Values"
         }
        }
       }
      }
     },
     "metadata": {},
     "output_type": "display_data"
    }
   ],
   "source": [
    "import plotly.graph_objects as go\n",
    "real['Label'] = real['Name'] + \" \" + real['Codes']\n",
    "\n",
    "fig = go.Figure()\n",
    "\n",
    "# Add bar plot for the default stat (e.g., OVR)\n",
    "fig.add_trace(\n",
    "    go.Bar(\n",
    "        x=real['Label'],\n",
    "        y=real['OVR'],\n",
    "        name=\"Player OVR\",\n",
    "        marker_color=real['OVR']  # Color mapped to the values\n",
    "    )\n",
    ")\n",
    "\n",
    "# Add updatemenus for switching between different stats for the bar plot\n",
    "fig.update_layout(\n",
    "    updatemenus=[\n",
    "        dict(\n",
    "            type=\"buttons\",\n",
    "            direction=\"right\",\n",
    "            x=0.7,\n",
    "            y=1.2,\n",
    "            showactive=True,\n",
    "            buttons=list([\n",
    "                dict(\n",
    "                    label=\"OVR\",\n",
    "                    method=\"update\",\n",
    "                    args=[\n",
    "                        {\"y\": [real['OVR']]},  # Update y for OVR\n",
    "                        {\"marker.color\": [real['OVR']]}  # Update color based on OVR values\n",
    "                    ]\n",
    "                ),\n",
    "                dict(\n",
    "                    label=\"SHO\",\n",
    "                    method=\"update\",\n",
    "                    args=[\n",
    "                        {\"y\": [real['SHO']]},  # Update y for SHO\n",
    "                        {\"marker.color\": [real['SHO']]}  # Update color based on SHO values\n",
    "                    ]\n",
    "                ),\n",
    "                dict(\n",
    "                    label=\"PAS\",\n",
    "                    method=\"update\",\n",
    "                    args=[\n",
    "                        {\"y\": [real['PAS']]},  # Update y for PAS\n",
    "                        {\"marker.color\": [real['PAS']]}  # Update color based on PAS values\n",
    "                    ]\n",
    "                ),\n",
    "                dict(\n",
    "                    label=\"DRI\",\n",
    "                    method=\"update\",\n",
    "                    args=[\n",
    "                        {\"y\": [real['DRI']]},  # Update y for DRI\n",
    "                        {\"marker.color\": [real['DRI']]}  # Update color based on DRI values\n",
    "                    ]\n",
    "                ),\n",
    "                dict(\n",
    "                    label=\"DEF\",\n",
    "                    method=\"update\",\n",
    "                    args=[\n",
    "                        {\"y\": [real['DEF']]},  # Update y for DEF\n",
    "                        {\"marker.color\": [real['DEF']]}  # Update color based on DEF values\n",
    "                    ]\n",
    "                ),\n",
    "                dict(\n",
    "                    label=\"PHY\",\n",
    "                    method=\"update\",\n",
    "                    args=[\n",
    "                        {\"y\": [real['PHY']]},  # Update y for PHY\n",
    "                        {\"marker.color\": [real['PHY']]}  # Update color based on PHY values\n",
    "                    ]\n",
    "                )\n",
    "            ])\n",
    "        )\n",
    "    ]\n",
    ")\n",
    "\n",
    "# Update layout with titles, x-axis, and y-axis labels\n",
    "fig.update_layout(\n",
    "    title=\"Player Stats Comparison\",        # Title of the chart\n",
    "    xaxis_title=\"Players\",                  # X-axis label\n",
    "    yaxis_title=\"Stat Values\",              # Y-axis label\n",
    "    title_font=dict(size=24),               # Customize title font size\n",
    "    xaxis=dict(title_font=dict(size=18)),   # Customize x-axis title font size\n",
    "    yaxis=dict(title_font=dict(size=18))    # Customize y-axis title font size\n",
    ")\n",
    "\n",
    "# Show the figure\n",
    "fig.show()"
   ]
  },
  {
   "cell_type": "code",
   "execution_count": null,
   "metadata": {},
   "outputs": [],
   "source": [
    "league_club = all_data.groupby(['League', 'Team'])"
   ]
  },
  {
   "cell_type": "code",
   "execution_count": null,
   "metadata": {},
   "outputs": [
    {
     "data": {
      "text/plain": [
       "Nation\n",
       "Albania                 55\n",
       "Algeria                 63\n",
       "Andorra                  1\n",
       "Angola                  27\n",
       "Antigua and Barbuda      3\n",
       "                      ... \n",
       "Vanuatu                  1\n",
       "Venezuela              108\n",
       "Wales                  156\n",
       "Zambia                  13\n",
       "Zimbabwe                12\n",
       "Length: 154, dtype: int64"
      ]
     },
     "execution_count": 64,
     "metadata": {},
     "output_type": "execute_result"
    }
   ],
   "source": [
    "nation = all_data.groupby(by=['Nation'])\n",
    "nation.size()"
   ]
  }
 ],
 "metadata": {
  "kernelspec": {
   "display_name": "DataScience",
   "language": "python",
   "name": "python3"
  },
  "language_info": {
   "codemirror_mode": {
    "name": "ipython",
    "version": 3
   },
   "file_extension": ".py",
   "mimetype": "text/x-python",
   "name": "python",
   "nbconvert_exporter": "python",
   "pygments_lexer": "ipython3",
   "version": "3.11.9"
  }
 },
 "nbformat": 4,
 "nbformat_minor": 2
}
