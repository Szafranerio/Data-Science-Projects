{
 "cells": [
  {
   "cell_type": "code",
   "execution_count": 30,
   "metadata": {},
   "outputs": [],
   "source": [
    "import numpy as np\n",
    "import pandas as pd\n",
    "import plotly.express as px\n",
    "import matplotlib.pyplot as plt\n",
    "import plotly.graph_objects as go\n",
    "import seaborn as sns\n",
    "from iso3166 import countries\n",
    "from datetime import datetime, timedelta"
   ]
  },
  {
   "cell_type": "code",
   "execution_count": 31,
   "metadata": {},
   "outputs": [
    {
     "data": {
      "text/html": [
       "<div>\n",
       "<style scoped>\n",
       "    .dataframe tbody tr th:only-of-type {\n",
       "        vertical-align: middle;\n",
       "    }\n",
       "\n",
       "    .dataframe tbody tr th {\n",
       "        vertical-align: top;\n",
       "    }\n",
       "\n",
       "    .dataframe thead th {\n",
       "        text-align: right;\n",
       "    }\n",
       "</style>\n",
       "<table border=\"1\" class=\"dataframe\">\n",
       "  <thead>\n",
       "    <tr style=\"text-align: right;\">\n",
       "      <th></th>\n",
       "      <th>Unnamed: 0.1</th>\n",
       "      <th>Unnamed: 0</th>\n",
       "      <th>Organisation</th>\n",
       "      <th>Location</th>\n",
       "      <th>Date</th>\n",
       "      <th>Detail</th>\n",
       "      <th>Rocket_Status</th>\n",
       "      <th>Price</th>\n",
       "      <th>Mission_Status</th>\n",
       "    </tr>\n",
       "  </thead>\n",
       "  <tbody>\n",
       "    <tr>\n",
       "      <th>0</th>\n",
       "      <td>0</td>\n",
       "      <td>0</td>\n",
       "      <td>SpaceX</td>\n",
       "      <td>LC-39A, Kennedy Space Center, Florida, USA</td>\n",
       "      <td>Fri Aug 07, 2020 05:12 UTC</td>\n",
       "      <td>Falcon 9 Block 5 | Starlink V1 L9 &amp; BlackSky</td>\n",
       "      <td>StatusActive</td>\n",
       "      <td>50.0</td>\n",
       "      <td>Success</td>\n",
       "    </tr>\n",
       "    <tr>\n",
       "      <th>1</th>\n",
       "      <td>1</td>\n",
       "      <td>1</td>\n",
       "      <td>CASC</td>\n",
       "      <td>Site 9401 (SLS-2), Jiuquan Satellite Launch Ce...</td>\n",
       "      <td>Thu Aug 06, 2020 04:01 UTC</td>\n",
       "      <td>Long March 2D | Gaofen-9 04 &amp; Q-SAT</td>\n",
       "      <td>StatusActive</td>\n",
       "      <td>29.75</td>\n",
       "      <td>Success</td>\n",
       "    </tr>\n",
       "    <tr>\n",
       "      <th>2</th>\n",
       "      <td>2</td>\n",
       "      <td>2</td>\n",
       "      <td>SpaceX</td>\n",
       "      <td>Pad A, Boca Chica, Texas, USA</td>\n",
       "      <td>Tue Aug 04, 2020 23:57 UTC</td>\n",
       "      <td>Starship Prototype | 150 Meter Hop</td>\n",
       "      <td>StatusActive</td>\n",
       "      <td>NaN</td>\n",
       "      <td>Success</td>\n",
       "    </tr>\n",
       "    <tr>\n",
       "      <th>3</th>\n",
       "      <td>3</td>\n",
       "      <td>3</td>\n",
       "      <td>Roscosmos</td>\n",
       "      <td>Site 200/39, Baikonur Cosmodrome, Kazakhstan</td>\n",
       "      <td>Thu Jul 30, 2020 21:25 UTC</td>\n",
       "      <td>Proton-M/Briz-M | Ekspress-80 &amp; Ekspress-103</td>\n",
       "      <td>StatusActive</td>\n",
       "      <td>65.0</td>\n",
       "      <td>Success</td>\n",
       "    </tr>\n",
       "    <tr>\n",
       "      <th>4</th>\n",
       "      <td>4</td>\n",
       "      <td>4</td>\n",
       "      <td>ULA</td>\n",
       "      <td>SLC-41, Cape Canaveral AFS, Florida, USA</td>\n",
       "      <td>Thu Jul 30, 2020 11:50 UTC</td>\n",
       "      <td>Atlas V 541 | Perseverance</td>\n",
       "      <td>StatusActive</td>\n",
       "      <td>145.0</td>\n",
       "      <td>Success</td>\n",
       "    </tr>\n",
       "  </tbody>\n",
       "</table>\n",
       "</div>"
      ],
      "text/plain": [
       "   Unnamed: 0.1  Unnamed: 0 Organisation  \\\n",
       "0             0           0       SpaceX   \n",
       "1             1           1         CASC   \n",
       "2             2           2       SpaceX   \n",
       "3             3           3    Roscosmos   \n",
       "4             4           4          ULA   \n",
       "\n",
       "                                            Location  \\\n",
       "0         LC-39A, Kennedy Space Center, Florida, USA   \n",
       "1  Site 9401 (SLS-2), Jiuquan Satellite Launch Ce...   \n",
       "2                      Pad A, Boca Chica, Texas, USA   \n",
       "3       Site 200/39, Baikonur Cosmodrome, Kazakhstan   \n",
       "4           SLC-41, Cape Canaveral AFS, Florida, USA   \n",
       "\n",
       "                         Date                                        Detail  \\\n",
       "0  Fri Aug 07, 2020 05:12 UTC  Falcon 9 Block 5 | Starlink V1 L9 & BlackSky   \n",
       "1  Thu Aug 06, 2020 04:01 UTC           Long March 2D | Gaofen-9 04 & Q-SAT   \n",
       "2  Tue Aug 04, 2020 23:57 UTC            Starship Prototype | 150 Meter Hop   \n",
       "3  Thu Jul 30, 2020 21:25 UTC  Proton-M/Briz-M | Ekspress-80 & Ekspress-103   \n",
       "4  Thu Jul 30, 2020 11:50 UTC                    Atlas V 541 | Perseverance   \n",
       "\n",
       "  Rocket_Status  Price Mission_Status  \n",
       "0  StatusActive   50.0        Success  \n",
       "1  StatusActive  29.75        Success  \n",
       "2  StatusActive    NaN        Success  \n",
       "3  StatusActive   65.0        Success  \n",
       "4  StatusActive  145.0        Success  "
      ]
     },
     "execution_count": 31,
     "metadata": {},
     "output_type": "execute_result"
    }
   ],
   "source": [
    "data = pd.read_csv('./data/space/mission_launches.csv')\n",
    "data.head()"
   ]
  },
  {
   "cell_type": "code",
   "execution_count": 32,
   "metadata": {},
   "outputs": [
    {
     "name": "stdout",
     "output_type": "stream",
     "text": [
      "Size of data is (4324, 9)\n",
      "Any Nan values True\n",
      "Where are the Nan values Unnamed: 0.1  Unnamed: 0  Organisation  Location  Date   Detail  Rocket_Status  Price  Mission_Status\n",
      "False         False       False         False     False  False   False          True   False             3360\n",
      "                                                                                False  False              964\n",
      "Name: count, dtype: int64\n",
      "Duplicated values?: 0\n"
     ]
    }
   ],
   "source": [
    "#Data info\n",
    "print(f'Size of data is {data.shape}')\n",
    "print(f'Any Nan values {data.isnull().sum().any()}')\n",
    "print(f'Where are the Nan values {data.isnull().value_counts()}')\n",
    "print(f'Duplicated values?: {data.duplicated().sum()}')"
   ]
  },
  {
   "cell_type": "code",
   "execution_count": 33,
   "metadata": {},
   "outputs": [
    {
     "data": {
      "image/png": "[encoded data removed]",
      "text/plain": [
       "<Figure size 640x480 with 1 Axes>"
      ]
     },
     "metadata": {},
     "output_type": "display_data"
    }
   ],
   "source": [
    "sns.heatmap(data.isnull(), yticklabels=False, cbar=False, cmap='viridis')\n",
    "plt.show()"
   ]
  },
  {
   "cell_type": "code",
   "execution_count": 34,
   "metadata": {},
   "outputs": [
    {
     "data": {
      "text/html": [
       "<div>\n",
       "<style scoped>\n",
       "    .dataframe tbody tr th:only-of-type {\n",
       "        vertical-align: middle;\n",
       "    }\n",
       "\n",
       "    .dataframe tbody tr th {\n",
       "        vertical-align: top;\n",
       "    }\n",
       "\n",
       "    .dataframe thead th {\n",
       "        text-align: right;\n",
       "    }\n",
       "</style>\n",
       "<table border=\"1\" class=\"dataframe\">\n",
       "  <thead>\n",
       "    <tr style=\"text-align: right;\">\n",
       "      <th></th>\n",
       "      <th>Unnamed: 0.1</th>\n",
       "      <th>Unnamed: 0</th>\n",
       "      <th>Organisation</th>\n",
       "      <th>Location</th>\n",
       "      <th>Date</th>\n",
       "      <th>Detail</th>\n",
       "      <th>Rocket_Status</th>\n",
       "      <th>Mission_Status</th>\n",
       "    </tr>\n",
       "  </thead>\n",
       "  <tbody>\n",
       "    <tr>\n",
       "      <th>0</th>\n",
       "      <td>0</td>\n",
       "      <td>0</td>\n",
       "      <td>SpaceX</td>\n",
       "      <td>LC-39A, Kennedy Space Center, Florida, USA</td>\n",
       "      <td>Fri Aug 07, 2020 05:12 UTC</td>\n",
       "      <td>Falcon 9 Block 5 | Starlink V1 L9 &amp; BlackSky</td>\n",
       "      <td>StatusActive</td>\n",
       "      <td>Success</td>\n",
       "    </tr>\n",
       "    <tr>\n",
       "      <th>1</th>\n",
       "      <td>1</td>\n",
       "      <td>1</td>\n",
       "      <td>CASC</td>\n",
       "      <td>Site 9401 (SLS-2), Jiuquan Satellite Launch Ce...</td>\n",
       "      <td>Thu Aug 06, 2020 04:01 UTC</td>\n",
       "      <td>Long March 2D | Gaofen-9 04 &amp; Q-SAT</td>\n",
       "      <td>StatusActive</td>\n",
       "      <td>Success</td>\n",
       "    </tr>\n",
       "    <tr>\n",
       "      <th>2</th>\n",
       "      <td>2</td>\n",
       "      <td>2</td>\n",
       "      <td>SpaceX</td>\n",
       "      <td>Pad A, Boca Chica, Texas, USA</td>\n",
       "      <td>Tue Aug 04, 2020 23:57 UTC</td>\n",
       "      <td>Starship Prototype | 150 Meter Hop</td>\n",
       "      <td>StatusActive</td>\n",
       "      <td>Success</td>\n",
       "    </tr>\n",
       "    <tr>\n",
       "      <th>3</th>\n",
       "      <td>3</td>\n",
       "      <td>3</td>\n",
       "      <td>Roscosmos</td>\n",
       "      <td>Site 200/39, Baikonur Cosmodrome, Kazakhstan</td>\n",
       "      <td>Thu Jul 30, 2020 21:25 UTC</td>\n",
       "      <td>Proton-M/Briz-M | Ekspress-80 &amp; Ekspress-103</td>\n",
       "      <td>StatusActive</td>\n",
       "      <td>Success</td>\n",
       "    </tr>\n",
       "    <tr>\n",
       "      <th>4</th>\n",
       "      <td>4</td>\n",
       "      <td>4</td>\n",
       "      <td>ULA</td>\n",
       "      <td>SLC-41, Cape Canaveral AFS, Florida, USA</td>\n",
       "      <td>Thu Jul 30, 2020 11:50 UTC</td>\n",
       "      <td>Atlas V 541 | Perseverance</td>\n",
       "      <td>StatusActive</td>\n",
       "      <td>Success</td>\n",
       "    </tr>\n",
       "  </tbody>\n",
       "</table>\n",
       "</div>"
      ],
      "text/plain": [
       "   Unnamed: 0.1  Unnamed: 0 Organisation  \\\n",
       "0             0           0       SpaceX   \n",
       "1             1           1         CASC   \n",
       "2             2           2       SpaceX   \n",
       "3             3           3    Roscosmos   \n",
       "4             4           4          ULA   \n",
       "\n",
       "                                            Location  \\\n",
       "0         LC-39A, Kennedy Space Center, Florida, USA   \n",
       "1  Site 9401 (SLS-2), Jiuquan Satellite Launch Ce...   \n",
       "2                      Pad A, Boca Chica, Texas, USA   \n",
       "3       Site 200/39, Baikonur Cosmodrome, Kazakhstan   \n",
       "4           SLC-41, Cape Canaveral AFS, Florida, USA   \n",
       "\n",
       "                         Date                                        Detail  \\\n",
       "0  Fri Aug 07, 2020 05:12 UTC  Falcon 9 Block 5 | Starlink V1 L9 & BlackSky   \n",
       "1  Thu Aug 06, 2020 04:01 UTC           Long March 2D | Gaofen-9 04 & Q-SAT   \n",
       "2  Tue Aug 04, 2020 23:57 UTC            Starship Prototype | 150 Meter Hop   \n",
       "3  Thu Jul 30, 2020 21:25 UTC  Proton-M/Briz-M | Ekspress-80 & Ekspress-103   \n",
       "4  Thu Jul 30, 2020 11:50 UTC                    Atlas V 541 | Perseverance   \n",
       "\n",
       "  Rocket_Status Mission_Status  \n",
       "0  StatusActive        Success  \n",
       "1  StatusActive        Success  \n",
       "2  StatusActive        Success  \n",
       "3  StatusActive        Success  \n",
       "4  StatusActive        Success  "
      ]
     },
     "execution_count": 34,
     "metadata": {},
     "output_type": "execute_result"
    }
   ],
   "source": [
    "#Drop the price column becasue of a lot of missing values\n",
    "data.drop('Price', axis=1, inplace=True)\n",
    "data.head()"
   ]
  },
  {
   "cell_type": "code",
   "execution_count": 35,
   "metadata": {},
   "outputs": [
    {
     "name": "stdout",
     "output_type": "stream",
     "text": [
      "<class 'pandas.core.frame.DataFrame'>\n",
      "RangeIndex: 4324 entries, 0 to 4323\n",
      "Data columns (total 8 columns):\n",
      " #   Column          Non-Null Count  Dtype \n",
      "---  ------          --------------  ----- \n",
      " 0   Unnamed: 0.1    4324 non-null   int64 \n",
      " 1   Unnamed: 0      4324 non-null   int64 \n",
      " 2   Organisation    4324 non-null   object\n",
      " 3   Location        4324 non-null   object\n",
      " 4   Date            4324 non-null   object\n",
      " 5   Detail          4324 non-null   object\n",
      " 6   Rocket_Status   4324 non-null   object\n",
      " 7   Mission_Status  4324 non-null   object\n",
      "dtypes: int64(2), object(6)\n",
      "memory usage: 270.4+ KB\n"
     ]
    }
   ],
   "source": [
    "data.info()"
   ]
  },
  {
   "cell_type": "code",
   "execution_count": 36,
   "metadata": {},
   "outputs": [
    {
     "data": {
      "text/html": [
       "<div>\n",
       "<style scoped>\n",
       "    .dataframe tbody tr th:only-of-type {\n",
       "        vertical-align: middle;\n",
       "    }\n",
       "\n",
       "    .dataframe tbody tr th {\n",
       "        vertical-align: top;\n",
       "    }\n",
       "\n",
       "    .dataframe thead th {\n",
       "        text-align: right;\n",
       "    }\n",
       "</style>\n",
       "<table border=\"1\" class=\"dataframe\">\n",
       "  <thead>\n",
       "    <tr style=\"text-align: right;\">\n",
       "      <th></th>\n",
       "      <th>Unnamed: 0.1</th>\n",
       "      <th>Unnamed: 0</th>\n",
       "      <th>Organisation</th>\n",
       "      <th>Location</th>\n",
       "      <th>Date</th>\n",
       "      <th>Detail</th>\n",
       "      <th>Rocket_Status</th>\n",
       "      <th>Mission_Status</th>\n",
       "      <th>Day</th>\n",
       "    </tr>\n",
       "  </thead>\n",
       "  <tbody>\n",
       "    <tr>\n",
       "      <th>0</th>\n",
       "      <td>0</td>\n",
       "      <td>0</td>\n",
       "      <td>SpaceX</td>\n",
       "      <td>LC-39A, Kennedy Space Center, Florida, USA</td>\n",
       "      <td>2020 05:12 UTC</td>\n",
       "      <td>Falcon 9 Block 5 | Starlink V1 L9 &amp; BlackSky</td>\n",
       "      <td>StatusActive</td>\n",
       "      <td>Success</td>\n",
       "      <td>Fri Aug 07</td>\n",
       "    </tr>\n",
       "    <tr>\n",
       "      <th>1</th>\n",
       "      <td>1</td>\n",
       "      <td>1</td>\n",
       "      <td>CASC</td>\n",
       "      <td>Site 9401 (SLS-2), Jiuquan Satellite Launch Ce...</td>\n",
       "      <td>2020 04:01 UTC</td>\n",
       "      <td>Long March 2D | Gaofen-9 04 &amp; Q-SAT</td>\n",
       "      <td>StatusActive</td>\n",
       "      <td>Success</td>\n",
       "      <td>Thu Aug 06</td>\n",
       "    </tr>\n",
       "    <tr>\n",
       "      <th>2</th>\n",
       "      <td>2</td>\n",
       "      <td>2</td>\n",
       "      <td>SpaceX</td>\n",
       "      <td>Pad A, Boca Chica, Texas, USA</td>\n",
       "      <td>2020 23:57 UTC</td>\n",
       "      <td>Starship Prototype | 150 Meter Hop</td>\n",
       "      <td>StatusActive</td>\n",
       "      <td>Success</td>\n",
       "      <td>Tue Aug 04</td>\n",
       "    </tr>\n",
       "    <tr>\n",
       "      <th>3</th>\n",
       "      <td>3</td>\n",
       "      <td>3</td>\n",
       "      <td>Roscosmos</td>\n",
       "      <td>Site 200/39, Baikonur Cosmodrome, Kazakhstan</td>\n",
       "      <td>2020 21:25 UTC</td>\n",
       "      <td>Proton-M/Briz-M | Ekspress-80 &amp; Ekspress-103</td>\n",
       "      <td>StatusActive</td>\n",
       "      <td>Success</td>\n",
       "      <td>Thu Jul 30</td>\n",
       "    </tr>\n",
       "    <tr>\n",
       "      <th>4</th>\n",
       "      <td>4</td>\n",
       "      <td>4</td>\n",
       "      <td>ULA</td>\n",
       "      <td>SLC-41, Cape Canaveral AFS, Florida, USA</td>\n",
       "      <td>2020 11:50 UTC</td>\n",
       "      <td>Atlas V 541 | Perseverance</td>\n",
       "      <td>StatusActive</td>\n",
       "      <td>Success</td>\n",
       "      <td>Thu Jul 30</td>\n",
       "    </tr>\n",
       "    <tr>\n",
       "      <th>...</th>\n",
       "      <td>...</td>\n",
       "      <td>...</td>\n",
       "      <td>...</td>\n",
       "      <td>...</td>\n",
       "      <td>...</td>\n",
       "      <td>...</td>\n",
       "      <td>...</td>\n",
       "      <td>...</td>\n",
       "      <td>...</td>\n",
       "    </tr>\n",
       "    <tr>\n",
       "      <th>4319</th>\n",
       "      <td>4319</td>\n",
       "      <td>4319</td>\n",
       "      <td>US Navy</td>\n",
       "      <td>LC-18A, Cape Canaveral AFS, Florida, USA</td>\n",
       "      <td>1958 07:33 UTC</td>\n",
       "      <td>Vanguard | Vanguard TV3BU</td>\n",
       "      <td>StatusRetired</td>\n",
       "      <td>Failure</td>\n",
       "      <td>Wed Feb 05</td>\n",
       "    </tr>\n",
       "    <tr>\n",
       "      <th>4320</th>\n",
       "      <td>4320</td>\n",
       "      <td>4320</td>\n",
       "      <td>AMBA</td>\n",
       "      <td>LC-26A, Cape Canaveral AFS, Florida, USA</td>\n",
       "      <td>1958 03:48 UTC</td>\n",
       "      <td>Juno I | Explorer 1</td>\n",
       "      <td>StatusRetired</td>\n",
       "      <td>Success</td>\n",
       "      <td>Sat Feb 01</td>\n",
       "    </tr>\n",
       "    <tr>\n",
       "      <th>4321</th>\n",
       "      <td>4321</td>\n",
       "      <td>4321</td>\n",
       "      <td>US Navy</td>\n",
       "      <td>LC-18A, Cape Canaveral AFS, Florida, USA</td>\n",
       "      <td>1957 16:44 UTC</td>\n",
       "      <td>Vanguard | Vanguard TV3</td>\n",
       "      <td>StatusRetired</td>\n",
       "      <td>Failure</td>\n",
       "      <td>Fri Dec 06</td>\n",
       "    </tr>\n",
       "    <tr>\n",
       "      <th>4322</th>\n",
       "      <td>4322</td>\n",
       "      <td>4322</td>\n",
       "      <td>RVSN USSR</td>\n",
       "      <td>Site 1/5, Baikonur Cosmodrome, Kazakhstan</td>\n",
       "      <td>1957 02:30 UTC</td>\n",
       "      <td>Sputnik 8K71PS | Sputnik-2</td>\n",
       "      <td>StatusRetired</td>\n",
       "      <td>Success</td>\n",
       "      <td>Sun Nov 03</td>\n",
       "    </tr>\n",
       "    <tr>\n",
       "      <th>4323</th>\n",
       "      <td>4323</td>\n",
       "      <td>4323</td>\n",
       "      <td>RVSN USSR</td>\n",
       "      <td>Site 1/5, Baikonur Cosmodrome, Kazakhstan</td>\n",
       "      <td>1957 19:28 UTC</td>\n",
       "      <td>Sputnik 8K71PS | Sputnik-1</td>\n",
       "      <td>StatusRetired</td>\n",
       "      <td>Success</td>\n",
       "      <td>Fri Oct 04</td>\n",
       "    </tr>\n",
       "  </tbody>\n",
       "</table>\n",
       "<p>4324 rows × 9 columns</p>\n",
       "</div>"
      ],
      "text/plain": [
       "      Unnamed: 0.1  Unnamed: 0 Organisation  \\\n",
       "0                0           0       SpaceX   \n",
       "1                1           1         CASC   \n",
       "2                2           2       SpaceX   \n",
       "3                3           3    Roscosmos   \n",
       "4                4           4          ULA   \n",
       "...            ...         ...          ...   \n",
       "4319          4319        4319      US Navy   \n",
       "4320          4320        4320         AMBA   \n",
       "4321          4321        4321      US Navy   \n",
       "4322          4322        4322    RVSN USSR   \n",
       "4323          4323        4323    RVSN USSR   \n",
       "\n",
       "                                               Location            Date  \\\n",
       "0            LC-39A, Kennedy Space Center, Florida, USA  2020 05:12 UTC   \n",
       "1     Site 9401 (SLS-2), Jiuquan Satellite Launch Ce...  2020 04:01 UTC   \n",
       "2                         Pad A, Boca Chica, Texas, USA  2020 23:57 UTC   \n",
       "3          Site 200/39, Baikonur Cosmodrome, Kazakhstan  2020 21:25 UTC   \n",
       "4              SLC-41, Cape Canaveral AFS, Florida, USA  2020 11:50 UTC   \n",
       "...                                                 ...             ...   \n",
       "4319           LC-18A, Cape Canaveral AFS, Florida, USA  1958 07:33 UTC   \n",
       "4320           LC-26A, Cape Canaveral AFS, Florida, USA  1958 03:48 UTC   \n",
       "4321           LC-18A, Cape Canaveral AFS, Florida, USA  1957 16:44 UTC   \n",
       "4322          Site 1/5, Baikonur Cosmodrome, Kazakhstan  1957 02:30 UTC   \n",
       "4323          Site 1/5, Baikonur Cosmodrome, Kazakhstan  1957 19:28 UTC   \n",
       "\n",
       "                                            Detail  Rocket_Status  \\\n",
       "0     Falcon 9 Block 5 | Starlink V1 L9 & BlackSky   StatusActive   \n",
       "1              Long March 2D | Gaofen-9 04 & Q-SAT   StatusActive   \n",
       "2               Starship Prototype | 150 Meter Hop   StatusActive   \n",
       "3     Proton-M/Briz-M | Ekspress-80 & Ekspress-103   StatusActive   \n",
       "4                       Atlas V 541 | Perseverance   StatusActive   \n",
       "...                                            ...            ...   \n",
       "4319                     Vanguard | Vanguard TV3BU  StatusRetired   \n",
       "4320                           Juno I | Explorer 1  StatusRetired   \n",
       "4321                       Vanguard | Vanguard TV3  StatusRetired   \n",
       "4322                    Sputnik 8K71PS | Sputnik-2  StatusRetired   \n",
       "4323                    Sputnik 8K71PS | Sputnik-1  StatusRetired   \n",
       "\n",
       "     Mission_Status         Day  \n",
       "0           Success  Fri Aug 07  \n",
       "1           Success  Thu Aug 06  \n",
       "2           Success  Tue Aug 04  \n",
       "3           Success  Thu Jul 30  \n",
       "4           Success  Thu Jul 30  \n",
       "...             ...         ...  \n",
       "4319        Failure  Wed Feb 05  \n",
       "4320        Success  Sat Feb 01  \n",
       "4321        Failure  Fri Dec 06  \n",
       "4322        Success  Sun Nov 03  \n",
       "4323        Success  Fri Oct 04  \n",
       "\n",
       "[4324 rows x 9 columns]"
      ]
     },
     "execution_count": 36,
     "metadata": {},
     "output_type": "execute_result"
    }
   ],
   "source": [
    "data[['Day', 'Date']] = data['Date'].str.split(\", \", expand=True)\n",
    "data"
   ]
  },
  {
   "cell_type": "code",
   "execution_count": 37,
   "metadata": {},
   "outputs": [],
   "source": [
    "data['Year'] = data['Date'].str.slice(0,4)\n",
    "data.drop('Date', axis=1, inplace=True)"
   ]
  },
  {
   "cell_type": "code",
   "execution_count": 38,
   "metadata": {},
   "outputs": [
    {
     "data": {
      "text/html": [
       "<div>\n",
       "<style scoped>\n",
       "    .dataframe tbody tr th:only-of-type {\n",
       "        vertical-align: middle;\n",
       "    }\n",
       "\n",
       "    .dataframe tbody tr th {\n",
       "        vertical-align: top;\n",
       "    }\n",
       "\n",
       "    .dataframe thead th {\n",
       "        text-align: right;\n",
       "    }\n",
       "</style>\n",
       "<table border=\"1\" class=\"dataframe\">\n",
       "  <thead>\n",
       "    <tr style=\"text-align: right;\">\n",
       "      <th></th>\n",
       "      <th>Organisation</th>\n",
       "      <th>Location</th>\n",
       "      <th>Detail</th>\n",
       "      <th>Rocket_Status</th>\n",
       "      <th>Mission_Status</th>\n",
       "      <th>Day</th>\n",
       "      <th>Year</th>\n",
       "    </tr>\n",
       "  </thead>\n",
       "  <tbody>\n",
       "    <tr>\n",
       "      <th>0</th>\n",
       "      <td>SpaceX</td>\n",
       "      <td>LC-39A, Kennedy Space Center, Florida, USA</td>\n",
       "      <td>Falcon 9 Block 5 | Starlink V1 L9 &amp; BlackSky</td>\n",
       "      <td>StatusActive</td>\n",
       "      <td>Success</td>\n",
       "      <td>Fri Aug 07</td>\n",
       "      <td>2020</td>\n",
       "    </tr>\n",
       "    <tr>\n",
       "      <th>1</th>\n",
       "      <td>CASC</td>\n",
       "      <td>Site 9401 (SLS-2), Jiuquan Satellite Launch Ce...</td>\n",
       "      <td>Long March 2D | Gaofen-9 04 &amp; Q-SAT</td>\n",
       "      <td>StatusActive</td>\n",
       "      <td>Success</td>\n",
       "      <td>Thu Aug 06</td>\n",
       "      <td>2020</td>\n",
       "    </tr>\n",
       "    <tr>\n",
       "      <th>2</th>\n",
       "      <td>SpaceX</td>\n",
       "      <td>Pad A, Boca Chica, Texas, USA</td>\n",
       "      <td>Starship Prototype | 150 Meter Hop</td>\n",
       "      <td>StatusActive</td>\n",
       "      <td>Success</td>\n",
       "      <td>Tue Aug 04</td>\n",
       "      <td>2020</td>\n",
       "    </tr>\n",
       "    <tr>\n",
       "      <th>3</th>\n",
       "      <td>Roscosmos</td>\n",
       "      <td>Site 200/39, Baikonur Cosmodrome, Kazakhstan</td>\n",
       "      <td>Proton-M/Briz-M | Ekspress-80 &amp; Ekspress-103</td>\n",
       "      <td>StatusActive</td>\n",
       "      <td>Success</td>\n",
       "      <td>Thu Jul 30</td>\n",
       "      <td>2020</td>\n",
       "    </tr>\n",
       "    <tr>\n",
       "      <th>4</th>\n",
       "      <td>ULA</td>\n",
       "      <td>SLC-41, Cape Canaveral AFS, Florida, USA</td>\n",
       "      <td>Atlas V 541 | Perseverance</td>\n",
       "      <td>StatusActive</td>\n",
       "      <td>Success</td>\n",
       "      <td>Thu Jul 30</td>\n",
       "      <td>2020</td>\n",
       "    </tr>\n",
       "    <tr>\n",
       "      <th>...</th>\n",
       "      <td>...</td>\n",
       "      <td>...</td>\n",
       "      <td>...</td>\n",
       "      <td>...</td>\n",
       "      <td>...</td>\n",
       "      <td>...</td>\n",
       "      <td>...</td>\n",
       "    </tr>\n",
       "    <tr>\n",
       "      <th>4319</th>\n",
       "      <td>US Navy</td>\n",
       "      <td>LC-18A, Cape Canaveral AFS, Florida, USA</td>\n",
       "      <td>Vanguard | Vanguard TV3BU</td>\n",
       "      <td>StatusRetired</td>\n",
       "      <td>Failure</td>\n",
       "      <td>Wed Feb 05</td>\n",
       "      <td>1958</td>\n",
       "    </tr>\n",
       "    <tr>\n",
       "      <th>4320</th>\n",
       "      <td>AMBA</td>\n",
       "      <td>LC-26A, Cape Canaveral AFS, Florida, USA</td>\n",
       "      <td>Juno I | Explorer 1</td>\n",
       "      <td>StatusRetired</td>\n",
       "      <td>Success</td>\n",
       "      <td>Sat Feb 01</td>\n",
       "      <td>1958</td>\n",
       "    </tr>\n",
       "    <tr>\n",
       "      <th>4321</th>\n",
       "      <td>US Navy</td>\n",
       "      <td>LC-18A, Cape Canaveral AFS, Florida, USA</td>\n",
       "      <td>Vanguard | Vanguard TV3</td>\n",
       "      <td>StatusRetired</td>\n",
       "      <td>Failure</td>\n",
       "      <td>Fri Dec 06</td>\n",
       "      <td>1957</td>\n",
       "    </tr>\n",
       "    <tr>\n",
       "      <th>4322</th>\n",
       "      <td>RVSN USSR</td>\n",
       "      <td>Site 1/5, Baikonur Cosmodrome, Kazakhstan</td>\n",
       "      <td>Sputnik 8K71PS | Sputnik-2</td>\n",
       "      <td>StatusRetired</td>\n",
       "      <td>Success</td>\n",
       "      <td>Sun Nov 03</td>\n",
       "      <td>1957</td>\n",
       "    </tr>\n",
       "    <tr>\n",
       "      <th>4323</th>\n",
       "      <td>RVSN USSR</td>\n",
       "      <td>Site 1/5, Baikonur Cosmodrome, Kazakhstan</td>\n",
       "      <td>Sputnik 8K71PS | Sputnik-1</td>\n",
       "      <td>StatusRetired</td>\n",
       "      <td>Success</td>\n",
       "      <td>Fri Oct 04</td>\n",
       "      <td>1957</td>\n",
       "    </tr>\n",
       "  </tbody>\n",
       "</table>\n",
       "<p>4324 rows × 7 columns</p>\n",
       "</div>"
      ],
      "text/plain": [
       "     Organisation                                           Location  \\\n",
       "0          SpaceX         LC-39A, Kennedy Space Center, Florida, USA   \n",
       "1            CASC  Site 9401 (SLS-2), Jiuquan Satellite Launch Ce...   \n",
       "2          SpaceX                      Pad A, Boca Chica, Texas, USA   \n",
       "3       Roscosmos       Site 200/39, Baikonur Cosmodrome, Kazakhstan   \n",
       "4             ULA           SLC-41, Cape Canaveral AFS, Florida, USA   \n",
       "...           ...                                                ...   \n",
       "4319      US Navy           LC-18A, Cape Canaveral AFS, Florida, USA   \n",
       "4320         AMBA           LC-26A, Cape Canaveral AFS, Florida, USA   \n",
       "4321      US Navy           LC-18A, Cape Canaveral AFS, Florida, USA   \n",
       "4322    RVSN USSR          Site 1/5, Baikonur Cosmodrome, Kazakhstan   \n",
       "4323    RVSN USSR          Site 1/5, Baikonur Cosmodrome, Kazakhstan   \n",
       "\n",
       "                                            Detail  Rocket_Status  \\\n",
       "0     Falcon 9 Block 5 | Starlink V1 L9 & BlackSky   StatusActive   \n",
       "1              Long March 2D | Gaofen-9 04 & Q-SAT   StatusActive   \n",
       "2               Starship Prototype | 150 Meter Hop   StatusActive   \n",
       "3     Proton-M/Briz-M | Ekspress-80 & Ekspress-103   StatusActive   \n",
       "4                       Atlas V 541 | Perseverance   StatusActive   \n",
       "...                                            ...            ...   \n",
       "4319                     Vanguard | Vanguard TV3BU  StatusRetired   \n",
       "4320                           Juno I | Explorer 1  StatusRetired   \n",
       "4321                       Vanguard | Vanguard TV3  StatusRetired   \n",
       "4322                    Sputnik 8K71PS | Sputnik-2  StatusRetired   \n",
       "4323                    Sputnik 8K71PS | Sputnik-1  StatusRetired   \n",
       "\n",
       "     Mission_Status         Day  Year  \n",
       "0           Success  Fri Aug 07  2020  \n",
       "1           Success  Thu Aug 06  2020  \n",
       "2           Success  Tue Aug 04  2020  \n",
       "3           Success  Thu Jul 30  2020  \n",
       "4           Success  Thu Jul 30  2020  \n",
       "...             ...         ...   ...  \n",
       "4319        Failure  Wed Feb 05  1958  \n",
       "4320        Success  Sat Feb 01  1958  \n",
       "4321        Failure  Fri Dec 06  1957  \n",
       "4322        Success  Sun Nov 03  1957  \n",
       "4323        Success  Fri Oct 04  1957  \n",
       "\n",
       "[4324 rows x 7 columns]"
      ]
     },
     "execution_count": 38,
     "metadata": {},
     "output_type": "execute_result"
    }
   ],
   "source": [
    "data.drop(['Unnamed: 0.1', 'Unnamed: 0'], axis=1, inplace = True)\n",
    "data"
   ]
  },
  {
   "cell_type": "code",
   "execution_count": 39,
   "metadata": {},
   "outputs": [
    {
     "name": "stdout",
     "output_type": "stream",
     "text": [
      "Rocket_Status\n",
      "StatusRetired    3534\n",
      "StatusActive      790\n",
      "Name: count, dtype: int64\n",
      "Mission_Status\n",
      "Success              3879\n",
      "Failure               339\n",
      "Partial Failure       102\n",
      "Prelaunch Failure       4\n",
      "Name: count, dtype: int64\n"
     ]
    }
   ],
   "source": [
    "print(f'{data.Rocket_Status.value_counts()}')\n",
    "print(f'{data.Mission_Status.value_counts()}')"
   ]
  },
  {
   "cell_type": "code",
   "execution_count": 40,
   "metadata": {},
   "outputs": [
    {
     "data": {
      "text/html": [
       "<div>\n",
       "<style scoped>\n",
       "    .dataframe tbody tr th:only-of-type {\n",
       "        vertical-align: middle;\n",
       "    }\n",
       "\n",
       "    .dataframe tbody tr th {\n",
       "        vertical-align: top;\n",
       "    }\n",
       "\n",
       "    .dataframe thead th {\n",
       "        text-align: right;\n",
       "    }\n",
       "</style>\n",
       "<table border=\"1\" class=\"dataframe\">\n",
       "  <thead>\n",
       "    <tr style=\"text-align: right;\">\n",
       "      <th></th>\n",
       "      <th>Organisation</th>\n",
       "      <th>Location</th>\n",
       "      <th>Detail</th>\n",
       "      <th>Rocket_Status</th>\n",
       "      <th>Mission_Status</th>\n",
       "      <th>Day</th>\n",
       "    </tr>\n",
       "    <tr>\n",
       "      <th>Year</th>\n",
       "      <th></th>\n",
       "      <th></th>\n",
       "      <th></th>\n",
       "      <th></th>\n",
       "      <th></th>\n",
       "      <th></th>\n",
       "    </tr>\n",
       "  </thead>\n",
       "  <tbody>\n",
       "    <tr>\n",
       "      <th>2020</th>\n",
       "      <td>SpaceX</td>\n",
       "      <td>LC-39A, Kennedy Space Center, Florida, USA</td>\n",
       "      <td>Falcon 9 Block 5 | Starlink V1 L9 &amp; BlackSky</td>\n",
       "      <td>StatusActive</td>\n",
       "      <td>Success</td>\n",
       "      <td>Fri Aug 07</td>\n",
       "    </tr>\n",
       "    <tr>\n",
       "      <th>2020</th>\n",
       "      <td>CASC</td>\n",
       "      <td>Site 9401 (SLS-2), Jiuquan Satellite Launch Ce...</td>\n",
       "      <td>Long March 2D | Gaofen-9 04 &amp; Q-SAT</td>\n",
       "      <td>StatusActive</td>\n",
       "      <td>Success</td>\n",
       "      <td>Thu Aug 06</td>\n",
       "    </tr>\n",
       "    <tr>\n",
       "      <th>2020</th>\n",
       "      <td>SpaceX</td>\n",
       "      <td>Pad A, Boca Chica, Texas, USA</td>\n",
       "      <td>Starship Prototype | 150 Meter Hop</td>\n",
       "      <td>StatusActive</td>\n",
       "      <td>Success</td>\n",
       "      <td>Tue Aug 04</td>\n",
       "    </tr>\n",
       "    <tr>\n",
       "      <th>2020</th>\n",
       "      <td>Roscosmos</td>\n",
       "      <td>Site 200/39, Baikonur Cosmodrome, Kazakhstan</td>\n",
       "      <td>Proton-M/Briz-M | Ekspress-80 &amp; Ekspress-103</td>\n",
       "      <td>StatusActive</td>\n",
       "      <td>Success</td>\n",
       "      <td>Thu Jul 30</td>\n",
       "    </tr>\n",
       "    <tr>\n",
       "      <th>2020</th>\n",
       "      <td>ULA</td>\n",
       "      <td>SLC-41, Cape Canaveral AFS, Florida, USA</td>\n",
       "      <td>Atlas V 541 | Perseverance</td>\n",
       "      <td>StatusActive</td>\n",
       "      <td>Success</td>\n",
       "      <td>Thu Jul 30</td>\n",
       "    </tr>\n",
       "    <tr>\n",
       "      <th>...</th>\n",
       "      <td>...</td>\n",
       "      <td>...</td>\n",
       "      <td>...</td>\n",
       "      <td>...</td>\n",
       "      <td>...</td>\n",
       "      <td>...</td>\n",
       "    </tr>\n",
       "    <tr>\n",
       "      <th>1958</th>\n",
       "      <td>US Navy</td>\n",
       "      <td>LC-18A, Cape Canaveral AFS, Florida, USA</td>\n",
       "      <td>Vanguard | Vanguard TV3BU</td>\n",
       "      <td>StatusRetired</td>\n",
       "      <td>Failure</td>\n",
       "      <td>Wed Feb 05</td>\n",
       "    </tr>\n",
       "    <tr>\n",
       "      <th>1958</th>\n",
       "      <td>AMBA</td>\n",
       "      <td>LC-26A, Cape Canaveral AFS, Florida, USA</td>\n",
       "      <td>Juno I | Explorer 1</td>\n",
       "      <td>StatusRetired</td>\n",
       "      <td>Success</td>\n",
       "      <td>Sat Feb 01</td>\n",
       "    </tr>\n",
       "    <tr>\n",
       "      <th>1957</th>\n",
       "      <td>US Navy</td>\n",
       "      <td>LC-18A, Cape Canaveral AFS, Florida, USA</td>\n",
       "      <td>Vanguard | Vanguard TV3</td>\n",
       "      <td>StatusRetired</td>\n",
       "      <td>Failure</td>\n",
       "      <td>Fri Dec 06</td>\n",
       "    </tr>\n",
       "    <tr>\n",
       "      <th>1957</th>\n",
       "      <td>RVSN USSR</td>\n",
       "      <td>Site 1/5, Baikonur Cosmodrome, Kazakhstan</td>\n",
       "      <td>Sputnik 8K71PS | Sputnik-2</td>\n",
       "      <td>StatusRetired</td>\n",
       "      <td>Success</td>\n",
       "      <td>Sun Nov 03</td>\n",
       "    </tr>\n",
       "    <tr>\n",
       "      <th>1957</th>\n",
       "      <td>RVSN USSR</td>\n",
       "      <td>Site 1/5, Baikonur Cosmodrome, Kazakhstan</td>\n",
       "      <td>Sputnik 8K71PS | Sputnik-1</td>\n",
       "      <td>StatusRetired</td>\n",
       "      <td>Success</td>\n",
       "      <td>Fri Oct 04</td>\n",
       "    </tr>\n",
       "  </tbody>\n",
       "</table>\n",
       "<p>4324 rows × 6 columns</p>\n",
       "</div>"
      ],
      "text/plain": [
       "     Organisation                                           Location  \\\n",
       "Year                                                                   \n",
       "2020       SpaceX         LC-39A, Kennedy Space Center, Florida, USA   \n",
       "2020         CASC  Site 9401 (SLS-2), Jiuquan Satellite Launch Ce...   \n",
       "2020       SpaceX                      Pad A, Boca Chica, Texas, USA   \n",
       "2020    Roscosmos       Site 200/39, Baikonur Cosmodrome, Kazakhstan   \n",
       "2020          ULA           SLC-41, Cape Canaveral AFS, Florida, USA   \n",
       "...           ...                                                ...   \n",
       "1958      US Navy           LC-18A, Cape Canaveral AFS, Florida, USA   \n",
       "1958         AMBA           LC-26A, Cape Canaveral AFS, Florida, USA   \n",
       "1957      US Navy           LC-18A, Cape Canaveral AFS, Florida, USA   \n",
       "1957    RVSN USSR          Site 1/5, Baikonur Cosmodrome, Kazakhstan   \n",
       "1957    RVSN USSR          Site 1/5, Baikonur Cosmodrome, Kazakhstan   \n",
       "\n",
       "                                            Detail  Rocket_Status  \\\n",
       "Year                                                                \n",
       "2020  Falcon 9 Block 5 | Starlink V1 L9 & BlackSky   StatusActive   \n",
       "2020           Long March 2D | Gaofen-9 04 & Q-SAT   StatusActive   \n",
       "2020            Starship Prototype | 150 Meter Hop   StatusActive   \n",
       "2020  Proton-M/Briz-M | Ekspress-80 & Ekspress-103   StatusActive   \n",
       "2020                    Atlas V 541 | Perseverance   StatusActive   \n",
       "...                                            ...            ...   \n",
       "1958                     Vanguard | Vanguard TV3BU  StatusRetired   \n",
       "1958                           Juno I | Explorer 1  StatusRetired   \n",
       "1957                       Vanguard | Vanguard TV3  StatusRetired   \n",
       "1957                    Sputnik 8K71PS | Sputnik-2  StatusRetired   \n",
       "1957                    Sputnik 8K71PS | Sputnik-1  StatusRetired   \n",
       "\n",
       "     Mission_Status         Day  \n",
       "Year                             \n",
       "2020        Success  Fri Aug 07  \n",
       "2020        Success  Thu Aug 06  \n",
       "2020        Success  Tue Aug 04  \n",
       "2020        Success  Thu Jul 30  \n",
       "2020        Success  Thu Jul 30  \n",
       "...             ...         ...  \n",
       "1958        Failure  Wed Feb 05  \n",
       "1958        Success  Sat Feb 01  \n",
       "1957        Failure  Fri Dec 06  \n",
       "1957        Success  Sun Nov 03  \n",
       "1957        Success  Fri Oct 04  \n",
       "\n",
       "[4324 rows x 6 columns]"
      ]
     },
     "execution_count": 40,
     "metadata": {},
     "output_type": "execute_result"
    }
   ],
   "source": [
    "data.set_index('Year', inplace=True)\n",
    "data"
   ]
  },
  {
   "cell_type": "code",
   "execution_count": 41,
   "metadata": {},
   "outputs": [
    {
     "data": {
      "application/vnd.plotly.v1+json": {
       "config": {
        "plotlyServerURL": "https://plot.ly"
       },
       "data": [
        {
         "domain": {
          "x": [
           0,
           1
          ],
          "y": [
           0,
           1
          ]
         },
         "hole": 0.5,
         "hovertemplate": "label=%{label}<br>value=%{value}<extra></extra>",
         "labels": [
          "Success",
          "Failure",
          "Partial Failure",
          "Prelaunch Failure"
         ],
         "legendgroup": "",
         "name": "",
         "showlegend": true,
         "textinfo": "percent+label",
         "textposition": "outside",
         "type": "pie",
         "values": [
          3879,
          339,
          102,
          4
         ]
        }
       ],
       "layout": {
        "legend": {
         "tracegroupgap": 0
        },
        "margin": {
         "t": 60
        },
        "piecolorway": [
         "rgb(103,0,31)",
         "rgb(178,24,43)",
         "rgb(214,96,77)",
         "rgb(244,165,130)",
         "rgb(253,219,199)",
         "rgb(247,247,247)",
         "rgb(209,229,240)",
         "rgb(146,197,222)",
         "rgb(67,147,195)",
         "rgb(33,102,172)",
         "rgb(5,48,97)"
        ],
        "template": {
         "data": {
          "bar": [
           {
            "error_x": {
             "color": "#2a3f5f"
            },
            "error_y": {
             "color": "#2a3f5f"
            },
            "marker": {
             "line": {
              "color": "#E5ECF6",
              "width": 0.5
             },
             "pattern": {
              "fillmode": "overlay",
              "size": 10,
              "solidity": 0.2
             }
            },
            "type": "bar"
           }
          ],
          "barpolar": [
           {
            "marker": {
             "line": {
              "color": "#E5ECF6",
              "width": 0.5
             },
             "pattern": {
              "fillmode": "overlay",
              "size": 10,
              "solidity": 0.2
             }
            },
            "type": "barpolar"
           }
          ],
          "carpet": [
           {
            "aaxis": {
             "endlinecolor": "#2a3f5f",
             "gridcolor": "white",
             "linecolor": "white",
             "minorgridcolor": "white",
             "startlinecolor": "#2a3f5f"
            },
            "baxis": {
             "endlinecolor": "#2a3f5f",
             "gridcolor": "white",
             "linecolor": "white",
             "minorgridcolor": "white",
             "startlinecolor": "#2a3f5f"
            },
            "type": "carpet"
           }
          ],
          "choropleth": [
           {
            "colorbar": {
             "outlinewidth": 0,
             "ticks": ""
            },
            "type": "choropleth"
           }
          ],
          "contour": [
           {
            "colorbar": {
             "outlinewidth": 0,
             "ticks": ""
            },
            "colorscale": [
             [
              0,
              "#0d0887"
             ],
             [
              0.1111111111111111,
              "#46039f"
             ],
             [
              0.2222222222222222,
              "#7201a8"
             ],
             [
              0.3333333333333333,
              "#9c179e"
             ],
             [
              0.4444444444444444,
              "#bd3786"
             ],
             [
              0.5555555555555556,
              "#d8576b"
             ],
             [
              0.6666666666666666,
              "#ed7953"
             ],
             [
              0.7777777777777778,
              "#fb9f3a"
             ],
             [
              0.8888888888888888,
              "#fdca26"
             ],
             [
              1,
              "#f0f921"
             ]
            ],
            "type": "contour"
           }
          ],
          "contourcarpet": [
           {
            "colorbar": {
             "outlinewidth": 0,
             "ticks": ""
            },
            "type": "contourcarpet"
           }
          ],
          "heatmap": [
           {
            "colorbar": {
             "outlinewidth": 0,
             "ticks": ""
            },
            "colorscale": [
             [
              0,
              "#0d0887"
             ],
             [
              0.1111111111111111,
              "#46039f"
             ],
             [
              0.2222222222222222,
              "#7201a8"
             ],
             [
              0.3333333333333333,
              "#9c179e"
             ],
             [
              0.4444444444444444,
              "#bd3786"
             ],
             [
              0.5555555555555556,
              "#d8576b"
             ],
             [
              0.6666666666666666,
              "#ed7953"
             ],
             [
              0.7777777777777778,
              "#fb9f3a"
             ],
             [
              0.8888888888888888,
              "#fdca26"
             ],
             [
              1,
              "#f0f921"
             ]
            ],
            "type": "heatmap"
           }
          ],
          "heatmapgl": [
           {
            "colorbar": {
             "outlinewidth": 0,
             "ticks": ""
            },
            "colorscale": [
             [
              0,
              "#0d0887"
             ],
             [
              0.1111111111111111,
              "#46039f"
             ],
             [
              0.2222222222222222,
              "#7201a8"
             ],
             [
              0.3333333333333333,
              "#9c179e"
             ],
             [
              0.4444444444444444,
              "#bd3786"
             ],
             [
              0.5555555555555556,
              "#d8576b"
             ],
             [
              0.6666666666666666,
              "#ed7953"
             ],
             [
              0.7777777777777778,
              "#fb9f3a"
             ],
             [
              0.8888888888888888,
              "#fdca26"
             ],
             [
              1,
              "#f0f921"
             ]
            ],
            "type": "heatmapgl"
           }
          ],
          "histogram": [
           {
            "marker": {
             "pattern": {
              "fillmode": "overlay",
              "size": 10,
              "solidity": 0.2
             }
            },
            "type": "histogram"
           }
          ],
          "histogram2d": [
           {
            "colorbar": {
             "outlinewidth": 0,
             "ticks": ""
            },
            "colorscale": [
             [
              0,
              "#0d0887"
             ],
             [
              0.1111111111111111,
              "#46039f"
             ],
             [
              0.2222222222222222,
              "#7201a8"
             ],
             [
              0.3333333333333333,
              "#9c179e"
             ],
             [
              0.4444444444444444,
              "#bd3786"
             ],
             [
              0.5555555555555556,
              "#d8576b"
             ],
             [
              0.6666666666666666,
              "#ed7953"
             ],
             [
              0.7777777777777778,
              "#fb9f3a"
             ],
             [
              0.8888888888888888,
              "#fdca26"
             ],
             [
              1,
              "#f0f921"
             ]
            ],
            "type": "histogram2d"
           }
          ],
          "histogram2dcontour": [
           {
            "colorbar": {
             "outlinewidth": 0,
             "ticks": ""
            },
            "colorscale": [
             [
              0,
              "#0d0887"
             ],
             [
              0.1111111111111111,
              "#46039f"
             ],
             [
              0.2222222222222222,
              "#7201a8"
             ],
             [
              0.3333333333333333,
              "#9c179e"
             ],
             [
              0.4444444444444444,
              "#bd3786"
             ],
             [
              0.5555555555555556,
              "#d8576b"
             ],
             [
              0.6666666666666666,
              "#ed7953"
             ],
             [
              0.7777777777777778,
              "#fb9f3a"
             ],
             [
              0.8888888888888888,
              "#fdca26"
             ],
             [
              1,
              "#f0f921"
             ]
            ],
            "type": "histogram2dcontour"
           }
          ],
          "mesh3d": [
           {
            "colorbar": {
             "outlinewidth": 0,
             "ticks": ""
            },
            "type": "mesh3d"
           }
          ],
          "parcoords": [
           {
            "line": {
             "colorbar": {
              "outlinewidth": 0,
              "ticks": ""
             }
            },
            "type": "parcoords"
           }
          ],
          "pie": [
           {
            "automargin": true,
            "type": "pie"
           }
          ],
          "scatter": [
           {
            "fillpattern": {
             "fillmode": "overlay",
             "size": 10,
             "solidity": 0.2
            },
            "type": "scatter"
           }
          ],
          "scatter3d": [
           {
            "line": {
             "colorbar": {
              "outlinewidth": 0,
              "ticks": ""
             }
            },
            "marker": {
             "colorbar": {
              "outlinewidth": 0,
              "ticks": ""
             }
            },
            "type": "scatter3d"
           }
          ],
          "scattercarpet": [
           {
            "marker": {
             "colorbar": {
              "outlinewidth": 0,
              "ticks": ""
             }
            },
            "type": "scattercarpet"
           }
          ],
          "scattergeo": [
           {
            "marker": {
             "colorbar": {
              "outlinewidth": 0,
              "ticks": ""
             }
            },
            "type": "scattergeo"
           }
          ],
          "scattergl": [
           {
            "marker": {
             "colorbar": {
              "outlinewidth": 0,
              "ticks": ""
             }
            },
            "type": "scattergl"
           }
          ],
          "scattermapbox": [
           {
            "marker": {
             "colorbar": {
              "outlinewidth": 0,
              "ticks": ""
             }
            },
            "type": "scattermapbox"
           }
          ],
          "scatterpolar": [
           {
            "marker": {
             "colorbar": {
              "outlinewidth": 0,
              "ticks": ""
             }
            },
            "type": "scatterpolar"
           }
          ],
          "scatterpolargl": [
           {
            "marker": {
             "colorbar": {
              "outlinewidth": 0,
              "ticks": ""
             }
            },
            "type": "scatterpolargl"
           }
          ],
          "scatterternary": [
           {
            "marker": {
             "colorbar": {
              "outlinewidth": 0,
              "ticks": ""
             }
            },
            "type": "scatterternary"
           }
          ],
          "surface": [
           {
            "colorbar": {
             "outlinewidth": 0,
             "ticks": ""
            },
            "colorscale": [
             [
              0,
              "#0d0887"
             ],
             [
              0.1111111111111111,
              "#46039f"
             ],
             [
              0.2222222222222222,
              "#7201a8"
             ],
             [
              0.3333333333333333,
              "#9c179e"
             ],
             [
              0.4444444444444444,
              "#bd3786"
             ],
             [
              0.5555555555555556,
              "#d8576b"
             ],
             [
              0.6666666666666666,
              "#ed7953"
             ],
             [
              0.7777777777777778,
              "#fb9f3a"
             ],
             [
              0.8888888888888888,
              "#fdca26"
             ],
             [
              1,
              "#f0f921"
             ]
            ],
            "type": "surface"
           }
          ],
          "table": [
           {
            "cells": {
             "fill": {
              "color": "#EBF0F8"
             },
             "line": {
              "color": "white"
             }
            },
            "header": {
             "fill": {
              "color": "#C8D4E3"
             },
             "line": {
              "color": "white"
             }
            },
            "type": "table"
           }
          ]
         },
         "layout": {
          "annotationdefaults": {
           "arrowcolor": "#2a3f5f",
           "arrowhead": 0,
           "arrowwidth": 1
          },
          "autotypenumbers": "strict",
          "coloraxis": {
           "colorbar": {
            "outlinewidth": 0,
            "ticks": ""
           }
          },
          "colorscale": {
           "diverging": [
            [
             0,
             "#8e0152"
            ],
            [
             0.1,
             "#c51b7d"
            ],
            [
             0.2,
             "#de77ae"
            ],
            [
             0.3,
             "#f1b6da"
            ],
            [
             0.4,
             "#fde0ef"
            ],
            [
             0.5,
             "#f7f7f7"
            ],
            [
             0.6,
             "#e6f5d0"
            ],
            [
             0.7,
             "#b8e186"
            ],
            [
             0.8,
             "#7fbc41"
            ],
            [
             0.9,
             "#4d9221"
            ],
            [
             1,
             "#276419"
            ]
           ],
           "sequential": [
            [
             0,
             "#0d0887"
            ],
            [
             0.1111111111111111,
             "#46039f"
            ],
            [
             0.2222222222222222,
             "#7201a8"
            ],
            [
             0.3333333333333333,
             "#9c179e"
            ],
            [
             0.4444444444444444,
             "#bd3786"
            ],
            [
             0.5555555555555556,
             "#d8576b"
            ],
            [
             0.6666666666666666,
             "#ed7953"
            ],
            [
             0.7777777777777778,
             "#fb9f3a"
            ],
            [
             0.8888888888888888,
             "#fdca26"
            ],
            [
             1,
             "#f0f921"
            ]
           ],
           "sequentialminus": [
            [
             0,
             "#0d0887"
            ],
            [
             0.1111111111111111,
             "#46039f"
            ],
            [
             0.2222222222222222,
             "#7201a8"
            ],
            [
             0.3333333333333333,
             "#9c179e"
            ],
            [
             0.4444444444444444,
             "#bd3786"
            ],
            [
             0.5555555555555556,
             "#d8576b"
            ],
            [
             0.6666666666666666,
             "#ed7953"
            ],
            [
             0.7777777777777778,
             "#fb9f3a"
            ],
            [
             0.8888888888888888,
             "#fdca26"
            ],
            [
             1,
             "#f0f921"
            ]
           ]
          },
          "colorway": [
           "#636efa",
           "#EF553B",
           "#00cc96",
           "#ab63fa",
           "#FFA15A",
           "#19d3f3",
           "#FF6692",
           "#B6E880",
           "#FF97FF",
           "#FECB52"
          ],
          "font": {
           "color": "#2a3f5f"
          },
          "geo": {
           "bgcolor": "white",
           "lakecolor": "white",
           "landcolor": "#E5ECF6",
           "showlakes": true,
           "showland": true,
           "subunitcolor": "white"
          },
          "hoverlabel": {
           "align": "left"
          },
          "hovermode": "closest",
          "mapbox": {
           "style": "light"
          },
          "paper_bgcolor": "white",
          "plot_bgcolor": "#E5ECF6",
          "polar": {
           "angularaxis": {
            "gridcolor": "white",
            "linecolor": "white",
            "ticks": ""
           },
           "bgcolor": "#E5ECF6",
           "radialaxis": {
            "gridcolor": "white",
            "linecolor": "white",
            "ticks": ""
           }
          },
          "scene": {
           "xaxis": {
            "backgroundcolor": "#E5ECF6",
            "gridcolor": "white",
            "gridwidth": 2,
            "linecolor": "white",
            "showbackground": true,
            "ticks": "",
            "zerolinecolor": "white"
           },
           "yaxis": {
            "backgroundcolor": "#E5ECF6",
            "gridcolor": "white",
            "gridwidth": 2,
            "linecolor": "white",
            "showbackground": true,
            "ticks": "",
            "zerolinecolor": "white"
           },
           "zaxis": {
            "backgroundcolor": "#E5ECF6",
            "gridcolor": "white",
            "gridwidth": 2,
            "linecolor": "white",
            "showbackground": true,
            "ticks": "",
            "zerolinecolor": "white"
           }
          },
          "shapedefaults": {
           "line": {
            "color": "#2a3f5f"
           }
          },
          "ternary": {
           "aaxis": {
            "gridcolor": "white",
            "linecolor": "white",
            "ticks": ""
           },
           "baxis": {
            "gridcolor": "white",
            "linecolor": "white",
            "ticks": ""
           },
           "bgcolor": "#E5ECF6",
           "caxis": {
            "gridcolor": "white",
            "linecolor": "white",
            "ticks": ""
           }
          },
          "title": {
           "x": 0.05
          },
          "xaxis": {
           "automargin": true,
           "gridcolor": "white",
           "linecolor": "white",
           "ticks": "",
           "title": {
            "standoff": 15
           },
           "zerolinecolor": "white",
           "zerolinewidth": 2
          },
          "yaxis": {
           "automargin": true,
           "gridcolor": "white",
           "linecolor": "white",
           "ticks": "",
           "title": {
            "standoff": 15
           },
           "zerolinecolor": "white",
           "zerolinewidth": 2
          }
         }
        }
       }
      }
     },
     "metadata": {},
     "output_type": "display_data"
    }
   ],
   "source": [
    "status = data.Mission_Status.value_counts()\n",
    "fig = px.pie(labels=status.index, values=status.values, names = status.index, hole=0.5, color_discrete_sequence=px.colors.sequential.RdBu)\n",
    "fig.update_traces(textposition='outside', textinfo = 'percent+label')\n",
    "\n",
    "fig.show()"
   ]
  },
  {
   "cell_type": "code",
   "execution_count": 42,
   "metadata": {},
   "outputs": [
    {
     "data": {
      "application/vnd.plotly.v1+json": {
       "config": {
        "plotlyServerURL": "https://plot.ly"
       },
       "data": [
        {
         "labels": [
          "StatusRetired",
          "StatusActive"
         ],
         "pull": [
          0,
          0.5
         ],
         "type": "pie",
         "values": [
          3534,
          790
         ]
        }
       ],
       "layout": {
        "template": {
         "data": {
          "bar": [
           {
            "error_x": {
             "color": "#2a3f5f"
            },
            "error_y": {
             "color": "#2a3f5f"
            },
            "marker": {
             "line": {
              "color": "#E5ECF6",
              "width": 0.5
             },
             "pattern": {
              "fillmode": "overlay",
              "size": 10,
              "solidity": 0.2
             }
            },
            "type": "bar"
           }
          ],
          "barpolar": [
           {
            "marker": {
             "line": {
              "color": "#E5ECF6",
              "width": 0.5
             },
             "pattern": {
              "fillmode": "overlay",
              "size": 10,
              "solidity": 0.2
             }
            },
            "type": "barpolar"
           }
          ],
          "carpet": [
           {
            "aaxis": {
             "endlinecolor": "#2a3f5f",
             "gridcolor": "white",
             "linecolor": "white",
             "minorgridcolor": "white",
             "startlinecolor": "#2a3f5f"
            },
            "baxis": {
             "endlinecolor": "#2a3f5f",
             "gridcolor": "white",
             "linecolor": "white",
             "minorgridcolor": "white",
             "startlinecolor": "#2a3f5f"
            },
            "type": "carpet"
           }
          ],
          "choropleth": [
           {
            "colorbar": {
             "outlinewidth": 0,
             "ticks": ""
            },
            "type": "choropleth"
           }
          ],
          "contour": [
           {
            "colorbar": {
             "outlinewidth": 0,
             "ticks": ""
            },
            "colorscale": [
             [
              0,
              "#0d0887"
             ],
             [
              0.1111111111111111,
              "#46039f"
             ],
             [
              0.2222222222222222,
              "#7201a8"
             ],
             [
              0.3333333333333333,
              "#9c179e"
             ],
             [
              0.4444444444444444,
              "#bd3786"
             ],
             [
              0.5555555555555556,
              "#d8576b"
             ],
             [
              0.6666666666666666,
              "#ed7953"
             ],
             [
              0.7777777777777778,
              "#fb9f3a"
             ],
             [
              0.8888888888888888,
              "#fdca26"
             ],
             [
              1,
              "#f0f921"
             ]
            ],
            "type": "contour"
           }
          ],
          "contourcarpet": [
           {
            "colorbar": {
             "outlinewidth": 0,
             "ticks": ""
            },
            "type": "contourcarpet"
           }
          ],
          "heatmap": [
           {
            "colorbar": {
             "outlinewidth": 0,
             "ticks": ""
            },
            "colorscale": [
             [
              0,
              "#0d0887"
             ],
             [
              0.1111111111111111,
              "#46039f"
             ],
             [
              0.2222222222222222,
              "#7201a8"
             ],
             [
              0.3333333333333333,
              "#9c179e"
             ],
             [
              0.4444444444444444,
              "#bd3786"
             ],
             [
              0.5555555555555556,
              "#d8576b"
             ],
             [
              0.6666666666666666,
              "#ed7953"
             ],
             [
              0.7777777777777778,
              "#fb9f3a"
             ],
             [
              0.8888888888888888,
              "#fdca26"
             ],
             [
              1,
              "#f0f921"
             ]
            ],
            "type": "heatmap"
           }
          ],
          "heatmapgl": [
           {
            "colorbar": {
             "outlinewidth": 0,
             "ticks": ""
            },
            "colorscale": [
             [
              0,
              "#0d0887"
             ],
             [
              0.1111111111111111,
              "#46039f"
             ],
             [
              0.2222222222222222,
              "#7201a8"
             ],
             [
              0.3333333333333333,
              "#9c179e"
             ],
             [
              0.4444444444444444,
              "#bd3786"
             ],
             [
              0.5555555555555556,
              "#d8576b"
             ],
             [
              0.6666666666666666,
              "#ed7953"
             ],
             [
              0.7777777777777778,
              "#fb9f3a"
             ],
             [
              0.8888888888888888,
              "#fdca26"
             ],
             [
              1,
              "#f0f921"
             ]
            ],
            "type": "heatmapgl"
           }
          ],
          "histogram": [
           {
            "marker": {
             "pattern": {
              "fillmode": "overlay",
              "size": 10,
              "solidity": 0.2
             }
            },
            "type": "histogram"
           }
          ],
          "histogram2d": [
           {
            "colorbar": {
             "outlinewidth": 0,
             "ticks": ""
            },
            "colorscale": [
             [
              0,
              "#0d0887"
             ],
             [
              0.1111111111111111,
              "#46039f"
             ],
             [
              0.2222222222222222,
              "#7201a8"
             ],
             [
              0.3333333333333333,
              "#9c179e"
             ],
             [
              0.4444444444444444,
              "#bd3786"
             ],
             [
              0.5555555555555556,
              "#d8576b"
             ],
             [
              0.6666666666666666,
              "#ed7953"
             ],
             [
              0.7777777777777778,
              "#fb9f3a"
             ],
             [
              0.8888888888888888,
              "#fdca26"
             ],
             [
              1,
              "#f0f921"
             ]
            ],
            "type": "histogram2d"
           }
          ],
          "histogram2dcontour": [
           {
            "colorbar": {
             "outlinewidth": 0,
             "ticks": ""
            },
            "colorscale": [
             [
              0,
              "#0d0887"
             ],
             [
              0.1111111111111111,
              "#46039f"
             ],
             [
              0.2222222222222222,
              "#7201a8"
             ],
             [
              0.3333333333333333,
              "#9c179e"
             ],
             [
              0.4444444444444444,
              "#bd3786"
             ],
             [
              0.5555555555555556,
              "#d8576b"
             ],
             [
              0.6666666666666666,
              "#ed7953"
             ],
             [
              0.7777777777777778,
              "#fb9f3a"
             ],
             [
              0.8888888888888888,
              "#fdca26"
             ],
             [
              1,
              "#f0f921"
             ]
            ],
            "type": "histogram2dcontour"
           }
          ],
          "mesh3d": [
           {
            "colorbar": {
             "outlinewidth": 0,
             "ticks": ""
            },
            "type": "mesh3d"
           }
          ],
          "parcoords": [
           {
            "line": {
             "colorbar": {
              "outlinewidth": 0,
              "ticks": ""
             }
            },
            "type": "parcoords"
           }
          ],
          "pie": [
           {
            "automargin": true,
            "type": "pie"
           }
          ],
          "scatter": [
           {
            "fillpattern": {
             "fillmode": "overlay",
             "size": 10,
             "solidity": 0.2
            },
            "type": "scatter"
           }
          ],
          "scatter3d": [
           {
            "line": {
             "colorbar": {
              "outlinewidth": 0,
              "ticks": ""
             }
            },
            "marker": {
             "colorbar": {
              "outlinewidth": 0,
              "ticks": ""
             }
            },
            "type": "scatter3d"
           }
          ],
          "scattercarpet": [
           {
            "marker": {
             "colorbar": {
              "outlinewidth": 0,
              "ticks": ""
             }
            },
            "type": "scattercarpet"
           }
          ],
          "scattergeo": [
           {
            "marker": {
             "colorbar": {
              "outlinewidth": 0,
              "ticks": ""
             }
            },
            "type": "scattergeo"
           }
          ],
          "scattergl": [
           {
            "marker": {
             "colorbar": {
              "outlinewidth": 0,
              "ticks": ""
             }
            },
            "type": "scattergl"
           }
          ],
          "scattermapbox": [
           {
            "marker": {
             "colorbar": {
              "outlinewidth": 0,
              "ticks": ""
             }
            },
            "type": "scattermapbox"
           }
          ],
          "scatterpolar": [
           {
            "marker": {
             "colorbar": {
              "outlinewidth": 0,
              "ticks": ""
             }
            },
            "type": "scatterpolar"
           }
          ],
          "scatterpolargl": [
           {
            "marker": {
             "colorbar": {
              "outlinewidth": 0,
              "ticks": ""
             }
            },
            "type": "scatterpolargl"
           }
          ],
          "scatterternary": [
           {
            "marker": {
             "colorbar": {
              "outlinewidth": 0,
              "ticks": ""
             }
            },
            "type": "scatterternary"
           }
          ],
          "surface": [
           {
            "colorbar": {
             "outlinewidth": 0,
             "ticks": ""
            },
            "colorscale": [
             [
              0,
              "#0d0887"
             ],
             [
              0.1111111111111111,
              "#46039f"
             ],
             [
              0.2222222222222222,
              "#7201a8"
             ],
             [
              0.3333333333333333,
              "#9c179e"
             ],
             [
              0.4444444444444444,
              "#bd3786"
             ],
             [
              0.5555555555555556,
              "#d8576b"
             ],
             [
              0.6666666666666666,
              "#ed7953"
             ],
             [
              0.7777777777777778,
              "#fb9f3a"
             ],
             [
              0.8888888888888888,
              "#fdca26"
             ],
             [
              1,
              "#f0f921"
             ]
            ],
            "type": "surface"
           }
          ],
          "table": [
           {
            "cells": {
             "fill": {
              "color": "#EBF0F8"
             },
             "line": {
              "color": "white"
             }
            },
            "header": {
             "fill": {
              "color": "#C8D4E3"
             },
             "line": {
              "color": "white"
             }
            },
            "type": "table"
           }
          ]
         },
         "layout": {
          "annotationdefaults": {
           "arrowcolor": "#2a3f5f",
           "arrowhead": 0,
           "arrowwidth": 1
          },
          "autotypenumbers": "strict",
          "coloraxis": {
           "colorbar": {
            "outlinewidth": 0,
            "ticks": ""
           }
          },
          "colorscale": {
           "diverging": [
            [
             0,
             "#8e0152"
            ],
            [
             0.1,
             "#c51b7d"
            ],
            [
             0.2,
             "#de77ae"
            ],
            [
             0.3,
             "#f1b6da"
            ],
            [
             0.4,
             "#fde0ef"
            ],
            [
             0.5,
             "#f7f7f7"
            ],
            [
             0.6,
             "#e6f5d0"
            ],
            [
             0.7,
             "#b8e186"
            ],
            [
             0.8,
             "#7fbc41"
            ],
            [
             0.9,
             "#4d9221"
            ],
            [
             1,
             "#276419"
            ]
           ],
           "sequential": [
            [
             0,
             "#0d0887"
            ],
            [
             0.1111111111111111,
             "#46039f"
            ],
            [
             0.2222222222222222,
             "#7201a8"
            ],
            [
             0.3333333333333333,
             "#9c179e"
            ],
            [
             0.4444444444444444,
             "#bd3786"
            ],
            [
             0.5555555555555556,
             "#d8576b"
            ],
            [
             0.6666666666666666,
             "#ed7953"
            ],
            [
             0.7777777777777778,
             "#fb9f3a"
            ],
            [
             0.8888888888888888,
             "#fdca26"
            ],
            [
             1,
             "#f0f921"
            ]
           ],
           "sequentialminus": [
            [
             0,
             "#0d0887"
            ],
            [
             0.1111111111111111,
             "#46039f"
            ],
            [
             0.2222222222222222,
             "#7201a8"
            ],
            [
             0.3333333333333333,
             "#9c179e"
            ],
            [
             0.4444444444444444,
             "#bd3786"
            ],
            [
             0.5555555555555556,
             "#d8576b"
            ],
            [
             0.6666666666666666,
             "#ed7953"
            ],
            [
             0.7777777777777778,
             "#fb9f3a"
            ],
            [
             0.8888888888888888,
             "#fdca26"
            ],
            [
             1,
             "#f0f921"
            ]
           ]
          },
          "colorway": [
           "#636efa",
           "#EF553B",
           "#00cc96",
           "#ab63fa",
           "#FFA15A",
           "#19d3f3",
           "#FF6692",
           "#B6E880",
           "#FF97FF",
           "#FECB52"
          ],
          "font": {
           "color": "#2a3f5f"
          },
          "geo": {
           "bgcolor": "white",
           "lakecolor": "white",
           "landcolor": "#E5ECF6",
           "showlakes": true,
           "showland": true,
           "subunitcolor": "white"
          },
          "hoverlabel": {
           "align": "left"
          },
          "hovermode": "closest",
          "mapbox": {
           "style": "light"
          },
          "paper_bgcolor": "white",
          "plot_bgcolor": "#E5ECF6",
          "polar": {
           "angularaxis": {
            "gridcolor": "white",
            "linecolor": "white",
            "ticks": ""
           },
           "bgcolor": "#E5ECF6",
           "radialaxis": {
            "gridcolor": "white",
            "linecolor": "white",
            "ticks": ""
           }
          },
          "scene": {
           "xaxis": {
            "backgroundcolor": "#E5ECF6",
            "gridcolor": "white",
            "gridwidth": 2,
            "linecolor": "white",
            "showbackground": true,
            "ticks": "",
            "zerolinecolor": "white"
           },
           "yaxis": {
            "backgroundcolor": "#E5ECF6",
            "gridcolor": "white",
            "gridwidth": 2,
            "linecolor": "white",
            "showbackground": true,
            "ticks": "",
            "zerolinecolor": "white"
           },
           "zaxis": {
            "backgroundcolor": "#E5ECF6",
            "gridcolor": "white",
            "gridwidth": 2,
            "linecolor": "white",
            "showbackground": true,
            "ticks": "",
            "zerolinecolor": "white"
           }
          },
          "shapedefaults": {
           "line": {
            "color": "#2a3f5f"
           }
          },
          "ternary": {
           "aaxis": {
            "gridcolor": "white",
            "linecolor": "white",
            "ticks": ""
           },
           "baxis": {
            "gridcolor": "white",
            "linecolor": "white",
            "ticks": ""
           },
           "bgcolor": "#E5ECF6",
           "caxis": {
            "gridcolor": "white",
            "linecolor": "white",
            "ticks": ""
           }
          },
          "title": {
           "x": 0.05
          },
          "xaxis": {
           "automargin": true,
           "gridcolor": "white",
           "linecolor": "white",
           "ticks": "",
           "title": {
            "standoff": 15
           },
           "zerolinecolor": "white",
           "zerolinewidth": 2
          },
          "yaxis": {
           "automargin": true,
           "gridcolor": "white",
           "linecolor": "white",
           "ticks": "",
           "title": {
            "standoff": 15
           },
           "zerolinecolor": "white",
           "zerolinewidth": 2
          }
         }
        }
       }
      }
     },
     "metadata": {},
     "output_type": "display_data"
    }
   ],
   "source": [
    "rocket = data.Rocket_Status.value_counts()\n",
    "fig = go.Figure(data=[go.Pie(labels=rocket.index, values= rocket.values, pull=[0, 0.5])])\n",
    "fig.show()\n"
   ]
  },
  {
   "cell_type": "markdown",
   "metadata": {},
   "source": []
  },
  {
   "cell_type": "code",
   "execution_count": 43,
   "metadata": {},
   "outputs": [
    {
     "data": {
      "text/html": [
       "<div>\n",
       "<style scoped>\n",
       "    .dataframe tbody tr th:only-of-type {\n",
       "        vertical-align: middle;\n",
       "    }\n",
       "\n",
       "    .dataframe tbody tr th {\n",
       "        vertical-align: top;\n",
       "    }\n",
       "\n",
       "    .dataframe thead th {\n",
       "        text-align: right;\n",
       "    }\n",
       "</style>\n",
       "<table border=\"1\" class=\"dataframe\">\n",
       "  <thead>\n",
       "    <tr style=\"text-align: right;\">\n",
       "      <th></th>\n",
       "      <th>Organisation</th>\n",
       "      <th>Location</th>\n",
       "      <th>Detail</th>\n",
       "      <th>Rocket_Status</th>\n",
       "      <th>Mission_Status</th>\n",
       "      <th>Day</th>\n",
       "    </tr>\n",
       "    <tr>\n",
       "      <th>Year</th>\n",
       "      <th></th>\n",
       "      <th></th>\n",
       "      <th></th>\n",
       "      <th></th>\n",
       "      <th></th>\n",
       "      <th></th>\n",
       "    </tr>\n",
       "  </thead>\n",
       "  <tbody>\n",
       "    <tr>\n",
       "      <th>2020</th>\n",
       "      <td>SpaceX</td>\n",
       "      <td>LC-39A, Kennedy Space Center, Florida, USA</td>\n",
       "      <td>Falcon 9 Block 5 | Starlink V1 L9 &amp; BlackSky</td>\n",
       "      <td>StatusActive</td>\n",
       "      <td>Success</td>\n",
       "      <td>Fri Aug 07</td>\n",
       "    </tr>\n",
       "    <tr>\n",
       "      <th>2020</th>\n",
       "      <td>CASC</td>\n",
       "      <td>Site 9401 (SLS-2), Jiuquan Satellite Launch Ce...</td>\n",
       "      <td>Long March 2D | Gaofen-9 04 &amp; Q-SAT</td>\n",
       "      <td>StatusActive</td>\n",
       "      <td>Success</td>\n",
       "      <td>Thu Aug 06</td>\n",
       "    </tr>\n",
       "    <tr>\n",
       "      <th>2020</th>\n",
       "      <td>SpaceX</td>\n",
       "      <td>Pad A, Boca Chica, Texas, USA</td>\n",
       "      <td>Starship Prototype | 150 Meter Hop</td>\n",
       "      <td>StatusActive</td>\n",
       "      <td>Success</td>\n",
       "      <td>Tue Aug 04</td>\n",
       "    </tr>\n",
       "    <tr>\n",
       "      <th>2020</th>\n",
       "      <td>Roscosmos</td>\n",
       "      <td>Site 200/39, Baikonur Cosmodrome, Kazakhstan</td>\n",
       "      <td>Proton-M/Briz-M | Ekspress-80 &amp; Ekspress-103</td>\n",
       "      <td>StatusActive</td>\n",
       "      <td>Success</td>\n",
       "      <td>Thu Jul 30</td>\n",
       "    </tr>\n",
       "    <tr>\n",
       "      <th>2020</th>\n",
       "      <td>ULA</td>\n",
       "      <td>SLC-41, Cape Canaveral AFS, Florida, USA</td>\n",
       "      <td>Atlas V 541 | Perseverance</td>\n",
       "      <td>StatusActive</td>\n",
       "      <td>Success</td>\n",
       "      <td>Thu Jul 30</td>\n",
       "    </tr>\n",
       "  </tbody>\n",
       "</table>\n",
       "</div>"
      ],
      "text/plain": [
       "     Organisation                                           Location  \\\n",
       "Year                                                                   \n",
       "2020       SpaceX         LC-39A, Kennedy Space Center, Florida, USA   \n",
       "2020         CASC  Site 9401 (SLS-2), Jiuquan Satellite Launch Ce...   \n",
       "2020       SpaceX                      Pad A, Boca Chica, Texas, USA   \n",
       "2020    Roscosmos       Site 200/39, Baikonur Cosmodrome, Kazakhstan   \n",
       "2020          ULA           SLC-41, Cape Canaveral AFS, Florida, USA   \n",
       "\n",
       "                                            Detail Rocket_Status  \\\n",
       "Year                                                               \n",
       "2020  Falcon 9 Block 5 | Starlink V1 L9 & BlackSky  StatusActive   \n",
       "2020           Long March 2D | Gaofen-9 04 & Q-SAT  StatusActive   \n",
       "2020            Starship Prototype | 150 Meter Hop  StatusActive   \n",
       "2020  Proton-M/Briz-M | Ekspress-80 & Ekspress-103  StatusActive   \n",
       "2020                    Atlas V 541 | Perseverance  StatusActive   \n",
       "\n",
       "     Mission_Status         Day  \n",
       "Year                             \n",
       "2020        Success  Fri Aug 07  \n",
       "2020        Success  Thu Aug 06  \n",
       "2020        Success  Tue Aug 04  \n",
       "2020        Success  Thu Jul 30  \n",
       "2020        Success  Thu Jul 30  "
      ]
     },
     "execution_count": 43,
     "metadata": {},
     "output_type": "execute_result"
    }
   ],
   "source": [
    "data.head()"
   ]
  },
  {
   "cell_type": "code",
   "execution_count": 44,
   "metadata": {},
   "outputs": [
    {
     "data": {
      "text/plain": [
       "Country\n",
       "Russia                            1395\n",
       "USA                               1344\n",
       "Kazakhstan                         701\n",
       "France                             303\n",
       "China                              268\n",
       "Japan                              126\n",
       "India                               76\n",
       "Pacific Ocean                       36\n",
       "New Zealand                         13\n",
       "Iran                                13\n",
       "Israel                              11\n",
       "Kenya                                9\n",
       "Australia                            6\n",
       "North Korea                          5\n",
       "New Mexico                           4\n",
       "South Korea                          3\n",
       "Barents Sea                          3\n",
       "Brazil                               3\n",
       "Gran Canaria                         2\n",
       "Pacific Missile Range Facility       1\n",
       "Yellow Sea                           1\n",
       "Shahrud Missile Test Site            1\n",
       "Name: count, dtype: int64"
      ]
     },
     "execution_count": 44,
     "metadata": {},
     "output_type": "execute_result"
    }
   ],
   "source": [
    "data['Country'] = data['Location'].str.split(\",\").str[-1].str.strip()\n",
    "data['Country'].value_counts()"
   ]
  },
  {
   "cell_type": "code",
   "execution_count": 45,
   "metadata": {},
   "outputs": [
    {
     "name": "stderr",
     "output_type": "stream",
     "text": [
      "/var/folders/yk/fs7s5htj44b8ds6qh_c6gb0m0000gn/T/ipykernel_42353/1378809139.py:1: FutureWarning:\n",
      "\n",
      "A value is trying to be set on a copy of a DataFrame or Series through chained assignment using an inplace method.\n",
      "The behavior will change in pandas 3.0. This inplace method will never work because the intermediate object on which we are setting values always behaves as a copy.\n",
      "\n",
      "For example, when doing 'df[col].method(value, inplace=True)', try using 'df.method({col: value}, inplace=True)' or df[col] = df[col].method(value) instead, to perform the operation inplace on the original object.\n",
      "\n",
      "\n",
      "\n",
      "/var/folders/yk/fs7s5htj44b8ds6qh_c6gb0m0000gn/T/ipykernel_42353/1378809139.py:2: FutureWarning:\n",
      "\n",
      "A value is trying to be set on a copy of a DataFrame or Series through chained assignment using an inplace method.\n",
      "The behavior will change in pandas 3.0. This inplace method will never work because the intermediate object on which we are setting values always behaves as a copy.\n",
      "\n",
      "For example, when doing 'df[col].method(value, inplace=True)', try using 'df.method({col: value}, inplace=True)' or df[col] = df[col].method(value) instead, to perform the operation inplace on the original object.\n",
      "\n",
      "\n",
      "\n",
      "/var/folders/yk/fs7s5htj44b8ds6qh_c6gb0m0000gn/T/ipykernel_42353/1378809139.py:3: FutureWarning:\n",
      "\n",
      "A value is trying to be set on a copy of a DataFrame or Series through chained assignment using an inplace method.\n",
      "The behavior will change in pandas 3.0. This inplace method will never work because the intermediate object on which we are setting values always behaves as a copy.\n",
      "\n",
      "For example, when doing 'df[col].method(value, inplace=True)', try using 'df.method({col: value}, inplace=True)' or df[col] = df[col].method(value) instead, to perform the operation inplace on the original object.\n",
      "\n",
      "\n",
      "\n",
      "/var/folders/yk/fs7s5htj44b8ds6qh_c6gb0m0000gn/T/ipykernel_42353/1378809139.py:4: FutureWarning:\n",
      "\n",
      "A value is trying to be set on a copy of a DataFrame or Series through chained assignment using an inplace method.\n",
      "The behavior will change in pandas 3.0. This inplace method will never work because the intermediate object on which we are setting values always behaves as a copy.\n",
      "\n",
      "For example, when doing 'df[col].method(value, inplace=True)', try using 'df.method({col: value}, inplace=True)' or df[col] = df[col].method(value) instead, to perform the operation inplace on the original object.\n",
      "\n",
      "\n",
      "\n",
      "/var/folders/yk/fs7s5htj44b8ds6qh_c6gb0m0000gn/T/ipykernel_42353/1378809139.py:5: FutureWarning:\n",
      "\n",
      "A value is trying to be set on a copy of a DataFrame or Series through chained assignment using an inplace method.\n",
      "The behavior will change in pandas 3.0. This inplace method will never work because the intermediate object on which we are setting values always behaves as a copy.\n",
      "\n",
      "For example, when doing 'df[col].method(value, inplace=True)', try using 'df.method({col: value}, inplace=True)' or df[col] = df[col].method(value) instead, to perform the operation inplace on the original object.\n",
      "\n",
      "\n",
      "\n",
      "/var/folders/yk/fs7s5htj44b8ds6qh_c6gb0m0000gn/T/ipykernel_42353/1378809139.py:6: FutureWarning:\n",
      "\n",
      "A value is trying to be set on a copy of a DataFrame or Series through chained assignment using an inplace method.\n",
      "The behavior will change in pandas 3.0. This inplace method will never work because the intermediate object on which we are setting values always behaves as a copy.\n",
      "\n",
      "For example, when doing 'df[col].method(value, inplace=True)', try using 'df.method({col: value}, inplace=True)' or df[col] = df[col].method(value) instead, to perform the operation inplace on the original object.\n",
      "\n",
      "\n",
      "\n",
      "/var/folders/yk/fs7s5htj44b8ds6qh_c6gb0m0000gn/T/ipykernel_42353/1378809139.py:7: FutureWarning:\n",
      "\n",
      "A value is trying to be set on a copy of a DataFrame or Series through chained assignment using an inplace method.\n",
      "The behavior will change in pandas 3.0. This inplace method will never work because the intermediate object on which we are setting values always behaves as a copy.\n",
      "\n",
      "For example, when doing 'df[col].method(value, inplace=True)', try using 'df.method({col: value}, inplace=True)' or df[col] = df[col].method(value) instead, to perform the operation inplace on the original object.\n",
      "\n",
      "\n",
      "\n"
     ]
    },
    {
     "data": {
      "text/plain": [
       "Country\n",
       "Russian Federation    1398\n",
       "USA                   1351\n",
       "Kazakhstan             701\n",
       "France                 303\n",
       "China                  269\n",
       "Japan                  126\n",
       "India                   76\n",
       "Pacific Ocean           36\n",
       "Iran                    14\n",
       "New Zealand             13\n",
       "Israel                  11\n",
       "Kenya                    9\n",
       "Australia                6\n",
       "North Korea              5\n",
       "South Korea              3\n",
       "Brazil                   3\n",
       "Name: count, dtype: int64"
      ]
     },
     "execution_count": 45,
     "metadata": {},
     "output_type": "execute_result"
    }
   ],
   "source": [
    "data['Country'].replace('New Mexico', 'USA', inplace=True)\n",
    "data['Country'].replace('Yellow Sea', 'China', inplace=True)\n",
    "data['Country'].replace('Shahrud Missile Test Site', 'Iran', inplace=True)\n",
    "data['Country'].replace('Pacific Missile Range Facility', 'USA', inplace=True)\n",
    "data['Country'].replace('Barents Sea', 'Russian Federation', inplace=True)\n",
    "data['Country'].replace('Gran Canaria', 'USA', inplace=True)\n",
    "data['Country'].replace('Russia', 'Russian Federation', inplace=True)\n",
    "data['Country'].value_counts()"
   ]
  },
  {
   "cell_type": "code",
   "execution_count": 46,
   "metadata": {},
   "outputs": [
    {
     "data": {
      "text/html": [
       "<div>\n",
       "<style scoped>\n",
       "    .dataframe tbody tr th:only-of-type {\n",
       "        vertical-align: middle;\n",
       "    }\n",
       "\n",
       "    .dataframe tbody tr th {\n",
       "        vertical-align: top;\n",
       "    }\n",
       "\n",
       "    .dataframe thead th {\n",
       "        text-align: right;\n",
       "    }\n",
       "</style>\n",
       "<table border=\"1\" class=\"dataframe\">\n",
       "  <thead>\n",
       "    <tr style=\"text-align: right;\">\n",
       "      <th></th>\n",
       "      <th>Organisation</th>\n",
       "      <th>Location</th>\n",
       "      <th>Detail</th>\n",
       "      <th>Rocket_Status</th>\n",
       "      <th>Mission_Status</th>\n",
       "      <th>Day</th>\n",
       "      <th>Country</th>\n",
       "      <th>Alpha_3</th>\n",
       "    </tr>\n",
       "    <tr>\n",
       "      <th>Year</th>\n",
       "      <th></th>\n",
       "      <th></th>\n",
       "      <th></th>\n",
       "      <th></th>\n",
       "      <th></th>\n",
       "      <th></th>\n",
       "      <th></th>\n",
       "      <th></th>\n",
       "    </tr>\n",
       "  </thead>\n",
       "  <tbody>\n",
       "    <tr>\n",
       "      <th>2020</th>\n",
       "      <td>SpaceX</td>\n",
       "      <td>LC-39A, Kennedy Space Center, Florida, USA</td>\n",
       "      <td>Falcon 9 Block 5 | Starlink V1 L9 &amp; BlackSky</td>\n",
       "      <td>StatusActive</td>\n",
       "      <td>Success</td>\n",
       "      <td>Fri Aug 07</td>\n",
       "      <td>USA</td>\n",
       "      <td>USA</td>\n",
       "    </tr>\n",
       "    <tr>\n",
       "      <th>2020</th>\n",
       "      <td>CASC</td>\n",
       "      <td>Site 9401 (SLS-2), Jiuquan Satellite Launch Ce...</td>\n",
       "      <td>Long March 2D | Gaofen-9 04 &amp; Q-SAT</td>\n",
       "      <td>StatusActive</td>\n",
       "      <td>Success</td>\n",
       "      <td>Thu Aug 06</td>\n",
       "      <td>China</td>\n",
       "      <td>CHN</td>\n",
       "    </tr>\n",
       "    <tr>\n",
       "      <th>2020</th>\n",
       "      <td>SpaceX</td>\n",
       "      <td>Pad A, Boca Chica, Texas, USA</td>\n",
       "      <td>Starship Prototype | 150 Meter Hop</td>\n",
       "      <td>StatusActive</td>\n",
       "      <td>Success</td>\n",
       "      <td>Tue Aug 04</td>\n",
       "      <td>USA</td>\n",
       "      <td>USA</td>\n",
       "    </tr>\n",
       "    <tr>\n",
       "      <th>2020</th>\n",
       "      <td>Roscosmos</td>\n",
       "      <td>Site 200/39, Baikonur Cosmodrome, Kazakhstan</td>\n",
       "      <td>Proton-M/Briz-M | Ekspress-80 &amp; Ekspress-103</td>\n",
       "      <td>StatusActive</td>\n",
       "      <td>Success</td>\n",
       "      <td>Thu Jul 30</td>\n",
       "      <td>Kazakhstan</td>\n",
       "      <td>KAZ</td>\n",
       "    </tr>\n",
       "    <tr>\n",
       "      <th>2020</th>\n",
       "      <td>ULA</td>\n",
       "      <td>SLC-41, Cape Canaveral AFS, Florida, USA</td>\n",
       "      <td>Atlas V 541 | Perseverance</td>\n",
       "      <td>StatusActive</td>\n",
       "      <td>Success</td>\n",
       "      <td>Thu Jul 30</td>\n",
       "      <td>USA</td>\n",
       "      <td>USA</td>\n",
       "    </tr>\n",
       "    <tr>\n",
       "      <th>...</th>\n",
       "      <td>...</td>\n",
       "      <td>...</td>\n",
       "      <td>...</td>\n",
       "      <td>...</td>\n",
       "      <td>...</td>\n",
       "      <td>...</td>\n",
       "      <td>...</td>\n",
       "      <td>...</td>\n",
       "    </tr>\n",
       "    <tr>\n",
       "      <th>1958</th>\n",
       "      <td>US Navy</td>\n",
       "      <td>LC-18A, Cape Canaveral AFS, Florida, USA</td>\n",
       "      <td>Vanguard | Vanguard TV3BU</td>\n",
       "      <td>StatusRetired</td>\n",
       "      <td>Failure</td>\n",
       "      <td>Wed Feb 05</td>\n",
       "      <td>USA</td>\n",
       "      <td>USA</td>\n",
       "    </tr>\n",
       "    <tr>\n",
       "      <th>1958</th>\n",
       "      <td>AMBA</td>\n",
       "      <td>LC-26A, Cape Canaveral AFS, Florida, USA</td>\n",
       "      <td>Juno I | Explorer 1</td>\n",
       "      <td>StatusRetired</td>\n",
       "      <td>Success</td>\n",
       "      <td>Sat Feb 01</td>\n",
       "      <td>USA</td>\n",
       "      <td>USA</td>\n",
       "    </tr>\n",
       "    <tr>\n",
       "      <th>1957</th>\n",
       "      <td>US Navy</td>\n",
       "      <td>LC-18A, Cape Canaveral AFS, Florida, USA</td>\n",
       "      <td>Vanguard | Vanguard TV3</td>\n",
       "      <td>StatusRetired</td>\n",
       "      <td>Failure</td>\n",
       "      <td>Fri Dec 06</td>\n",
       "      <td>USA</td>\n",
       "      <td>USA</td>\n",
       "    </tr>\n",
       "    <tr>\n",
       "      <th>1957</th>\n",
       "      <td>RVSN USSR</td>\n",
       "      <td>Site 1/5, Baikonur Cosmodrome, Kazakhstan</td>\n",
       "      <td>Sputnik 8K71PS | Sputnik-2</td>\n",
       "      <td>StatusRetired</td>\n",
       "      <td>Success</td>\n",
       "      <td>Sun Nov 03</td>\n",
       "      <td>Kazakhstan</td>\n",
       "      <td>KAZ</td>\n",
       "    </tr>\n",
       "    <tr>\n",
       "      <th>1957</th>\n",
       "      <td>RVSN USSR</td>\n",
       "      <td>Site 1/5, Baikonur Cosmodrome, Kazakhstan</td>\n",
       "      <td>Sputnik 8K71PS | Sputnik-1</td>\n",
       "      <td>StatusRetired</td>\n",
       "      <td>Success</td>\n",
       "      <td>Fri Oct 04</td>\n",
       "      <td>Kazakhstan</td>\n",
       "      <td>KAZ</td>\n",
       "    </tr>\n",
       "  </tbody>\n",
       "</table>\n",
       "<p>4324 rows × 8 columns</p>\n",
       "</div>"
      ],
      "text/plain": [
       "     Organisation                                           Location  \\\n",
       "Year                                                                   \n",
       "2020       SpaceX         LC-39A, Kennedy Space Center, Florida, USA   \n",
       "2020         CASC  Site 9401 (SLS-2), Jiuquan Satellite Launch Ce...   \n",
       "2020       SpaceX                      Pad A, Boca Chica, Texas, USA   \n",
       "2020    Roscosmos       Site 200/39, Baikonur Cosmodrome, Kazakhstan   \n",
       "2020          ULA           SLC-41, Cape Canaveral AFS, Florida, USA   \n",
       "...           ...                                                ...   \n",
       "1958      US Navy           LC-18A, Cape Canaveral AFS, Florida, USA   \n",
       "1958         AMBA           LC-26A, Cape Canaveral AFS, Florida, USA   \n",
       "1957      US Navy           LC-18A, Cape Canaveral AFS, Florida, USA   \n",
       "1957    RVSN USSR          Site 1/5, Baikonur Cosmodrome, Kazakhstan   \n",
       "1957    RVSN USSR          Site 1/5, Baikonur Cosmodrome, Kazakhstan   \n",
       "\n",
       "                                            Detail  Rocket_Status  \\\n",
       "Year                                                                \n",
       "2020  Falcon 9 Block 5 | Starlink V1 L9 & BlackSky   StatusActive   \n",
       "2020           Long March 2D | Gaofen-9 04 & Q-SAT   StatusActive   \n",
       "2020            Starship Prototype | 150 Meter Hop   StatusActive   \n",
       "2020  Proton-M/Briz-M | Ekspress-80 & Ekspress-103   StatusActive   \n",
       "2020                    Atlas V 541 | Perseverance   StatusActive   \n",
       "...                                            ...            ...   \n",
       "1958                     Vanguard | Vanguard TV3BU  StatusRetired   \n",
       "1958                           Juno I | Explorer 1  StatusRetired   \n",
       "1957                       Vanguard | Vanguard TV3  StatusRetired   \n",
       "1957                    Sputnik 8K71PS | Sputnik-2  StatusRetired   \n",
       "1957                    Sputnik 8K71PS | Sputnik-1  StatusRetired   \n",
       "\n",
       "     Mission_Status         Day     Country Alpha_3  \n",
       "Year                                                 \n",
       "2020        Success  Fri Aug 07         USA     USA  \n",
       "2020        Success  Thu Aug 06       China     CHN  \n",
       "2020        Success  Tue Aug 04         USA     USA  \n",
       "2020        Success  Thu Jul 30  Kazakhstan     KAZ  \n",
       "2020        Success  Thu Jul 30         USA     USA  \n",
       "...             ...         ...         ...     ...  \n",
       "1958        Failure  Wed Feb 05         USA     USA  \n",
       "1958        Success  Sat Feb 01         USA     USA  \n",
       "1957        Failure  Fri Dec 06         USA     USA  \n",
       "1957        Success  Sun Nov 03  Kazakhstan     KAZ  \n",
       "1957        Success  Fri Oct 04  Kazakhstan     KAZ  \n",
       "\n",
       "[4324 rows x 8 columns]"
      ]
     },
     "execution_count": 46,
     "metadata": {},
     "output_type": "execute_result"
    }
   ],
   "source": [
    "import pycountry\n",
    "def country_to_alpha_3(country_name):\n",
    "    try:\n",
    "        return pycountry.countries.lookup(country_name).alpha_3\n",
    "    except LookupError:\n",
    "        return None\n",
    "data['Alpha_3'] = data['Country'].apply(country_to_alpha_3)\n",
    "data"
   ]
  },
  {
   "cell_type": "code",
   "execution_count": 47,
   "metadata": {},
   "outputs": [],
   "source": [
    "#data['Country_Count'] = data['Country'].map(data['Country'].value_counts())\n",
    "#fig = px.choropleth(data, \n",
    "#                    locations=data['Alpha_3'], \n",
    "#                    color='Country_Count',  \n",
    "#                    hover_name='Country',  \n",
    "#                    color_continuous_scale=px.colors.sequential.matter  \n",
    "#                   )\n",
    "#fig.show()"
   ]
  },
  {
   "cell_type": "code",
   "execution_count": 48,
   "metadata": {},
   "outputs": [
    {
     "data": {
      "text/plain": [
       "Country\n",
       "Russian Federation    1398\n",
       "USA                   1351\n",
       "Kazakhstan             701\n",
       "France                 303\n",
       "China                  269\n",
       "Name: count, dtype: int64"
      ]
     },
     "execution_count": 48,
     "metadata": {},
     "output_type": "execute_result"
    }
   ],
   "source": [
    "top5 = data['Country'].value_counts()[:5]\n",
    "top5"
   ]
  },
  {
   "cell_type": "code",
   "execution_count": 49,
   "metadata": {},
   "outputs": [
    {
     "data": {
      "application/vnd.plotly.v1+json": {
       "config": {
        "plotlyServerURL": "https://plot.ly"
       },
       "data": [
        {
         "alignmentgroup": "True",
         "hovertemplate": "Country=%{x}<br>y=%{y}<extra></extra>",
         "legendgroup": "",
         "marker": {
          "color": "#636efa",
          "pattern": {
           "shape": ""
          }
         },
         "name": "",
         "offsetgroup": "",
         "orientation": "v",
         "showlegend": false,
         "textposition": "auto",
         "type": "bar",
         "x": [
          "Russian Federation",
          "USA",
          "Kazakhstan",
          "France",
          "China"
         ],
         "xaxis": "x",
         "y": [
          1398,
          1351,
          701,
          303,
          269
         ],
         "yaxis": "y"
        }
       ],
       "layout": {
        "barmode": "relative",
        "legend": {
         "tracegroupgap": 0
        },
        "margin": {
         "t": 60
        },
        "template": {
         "data": {
          "bar": [
           {
            "error_x": {
             "color": "#2a3f5f"
            },
            "error_y": {
             "color": "#2a3f5f"
            },
            "marker": {
             "line": {
              "color": "#E5ECF6",
              "width": 0.5
             },
             "pattern": {
              "fillmode": "overlay",
              "size": 10,
              "solidity": 0.2
             }
            },
            "type": "bar"
           }
          ],
          "barpolar": [
           {
            "marker": {
             "line": {
              "color": "#E5ECF6",
              "width": 0.5
             },
             "pattern": {
              "fillmode": "overlay",
              "size": 10,
              "solidity": 0.2
             }
            },
            "type": "barpolar"
           }
          ],
          "carpet": [
           {
            "aaxis": {
             "endlinecolor": "#2a3f5f",
             "gridcolor": "white",
             "linecolor": "white",
             "minorgridcolor": "white",
             "startlinecolor": "#2a3f5f"
            },
            "baxis": {
             "endlinecolor": "#2a3f5f",
             "gridcolor": "white",
             "linecolor": "white",
             "minorgridcolor": "white",
             "startlinecolor": "#2a3f5f"
            },
            "type": "carpet"
           }
          ],
          "choropleth": [
           {
            "colorbar": {
             "outlinewidth": 0,
             "ticks": ""
            },
            "type": "choropleth"
           }
          ],
          "contour": [
           {
            "colorbar": {
             "outlinewidth": 0,
             "ticks": ""
            },
            "colorscale": [
             [
              0,
              "#0d0887"
             ],
             [
              0.1111111111111111,
              "#46039f"
             ],
             [
              0.2222222222222222,
              "#7201a8"
             ],
             [
              0.3333333333333333,
              "#9c179e"
             ],
             [
              0.4444444444444444,
              "#bd3786"
             ],
             [
              0.5555555555555556,
              "#d8576b"
             ],
             [
              0.6666666666666666,
              "#ed7953"
             ],
             [
              0.7777777777777778,
              "#fb9f3a"
             ],
             [
              0.8888888888888888,
              "#fdca26"
             ],
             [
              1,
              "#f0f921"
             ]
            ],
            "type": "contour"
           }
          ],
          "contourcarpet": [
           {
            "colorbar": {
             "outlinewidth": 0,
             "ticks": ""
            },
            "type": "contourcarpet"
           }
          ],
          "heatmap": [
           {
            "colorbar": {
             "outlinewidth": 0,
             "ticks": ""
            },
            "colorscale": [
             [
              0,
              "#0d0887"
             ],
             [
              0.1111111111111111,
              "#46039f"
             ],
             [
              0.2222222222222222,
              "#7201a8"
             ],
             [
              0.3333333333333333,
              "#9c179e"
             ],
             [
              0.4444444444444444,
              "#bd3786"
             ],
             [
              0.5555555555555556,
              "#d8576b"
             ],
             [
              0.6666666666666666,
              "#ed7953"
             ],
             [
              0.7777777777777778,
              "#fb9f3a"
             ],
             [
              0.8888888888888888,
              "#fdca26"
             ],
             [
              1,
              "#f0f921"
             ]
            ],
            "type": "heatmap"
           }
          ],
          "heatmapgl": [
           {
            "colorbar": {
             "outlinewidth": 0,
             "ticks": ""
            },
            "colorscale": [
             [
              0,
              "#0d0887"
             ],
             [
              0.1111111111111111,
              "#46039f"
             ],
             [
              0.2222222222222222,
              "#7201a8"
             ],
             [
              0.3333333333333333,
              "#9c179e"
             ],
             [
              0.4444444444444444,
              "#bd3786"
             ],
             [
              0.5555555555555556,
              "#d8576b"
             ],
             [
              0.6666666666666666,
              "#ed7953"
             ],
             [
              0.7777777777777778,
              "#fb9f3a"
             ],
             [
              0.8888888888888888,
              "#fdca26"
             ],
             [
              1,
              "#f0f921"
             ]
            ],
            "type": "heatmapgl"
           }
          ],
          "histogram": [
           {
            "marker": {
             "pattern": {
              "fillmode": "overlay",
              "size": 10,
              "solidity": 0.2
             }
            },
            "type": "histogram"
           }
          ],
          "histogram2d": [
           {
            "colorbar": {
             "outlinewidth": 0,
             "ticks": ""
            },
            "colorscale": [
             [
              0,
              "#0d0887"
             ],
             [
              0.1111111111111111,
              "#46039f"
             ],
             [
              0.2222222222222222,
              "#7201a8"
             ],
             [
              0.3333333333333333,
              "#9c179e"
             ],
             [
              0.4444444444444444,
              "#bd3786"
             ],
             [
              0.5555555555555556,
              "#d8576b"
             ],
             [
              0.6666666666666666,
              "#ed7953"
             ],
             [
              0.7777777777777778,
              "#fb9f3a"
             ],
             [
              0.8888888888888888,
              "#fdca26"
             ],
             [
              1,
              "#f0f921"
             ]
            ],
            "type": "histogram2d"
           }
          ],
          "histogram2dcontour": [
           {
            "colorbar": {
             "outlinewidth": 0,
             "ticks": ""
            },
            "colorscale": [
             [
              0,
              "#0d0887"
             ],
             [
              0.1111111111111111,
              "#46039f"
             ],
             [
              0.2222222222222222,
              "#7201a8"
             ],
             [
              0.3333333333333333,
              "#9c179e"
             ],
             [
              0.4444444444444444,
              "#bd3786"
             ],
             [
              0.5555555555555556,
              "#d8576b"
             ],
             [
              0.6666666666666666,
              "#ed7953"
             ],
             [
              0.7777777777777778,
              "#fb9f3a"
             ],
             [
              0.8888888888888888,
              "#fdca26"
             ],
             [
              1,
              "#f0f921"
             ]
            ],
            "type": "histogram2dcontour"
           }
          ],
          "mesh3d": [
           {
            "colorbar": {
             "outlinewidth": 0,
             "ticks": ""
            },
            "type": "mesh3d"
           }
          ],
          "parcoords": [
           {
            "line": {
             "colorbar": {
              "outlinewidth": 0,
              "ticks": ""
             }
            },
            "type": "parcoords"
           }
          ],
          "pie": [
           {
            "automargin": true,
            "type": "pie"
           }
          ],
          "scatter": [
           {
            "fillpattern": {
             "fillmode": "overlay",
             "size": 10,
             "solidity": 0.2
            },
            "type": "scatter"
           }
          ],
          "scatter3d": [
           {
            "line": {
             "colorbar": {
              "outlinewidth": 0,
              "ticks": ""
             }
            },
            "marker": {
             "colorbar": {
              "outlinewidth": 0,
              "ticks": ""
             }
            },
            "type": "scatter3d"
           }
          ],
          "scattercarpet": [
           {
            "marker": {
             "colorbar": {
              "outlinewidth": 0,
              "ticks": ""
             }
            },
            "type": "scattercarpet"
           }
          ],
          "scattergeo": [
           {
            "marker": {
             "colorbar": {
              "outlinewidth": 0,
              "ticks": ""
             }
            },
            "type": "scattergeo"
           }
          ],
          "scattergl": [
           {
            "marker": {
             "colorbar": {
              "outlinewidth": 0,
              "ticks": ""
             }
            },
            "type": "scattergl"
           }
          ],
          "scattermapbox": [
           {
            "marker": {
             "colorbar": {
              "outlinewidth": 0,
              "ticks": ""
             }
            },
            "type": "scattermapbox"
           }
          ],
          "scatterpolar": [
           {
            "marker": {
             "colorbar": {
              "outlinewidth": 0,
              "ticks": ""
             }
            },
            "type": "scatterpolar"
           }
          ],
          "scatterpolargl": [
           {
            "marker": {
             "colorbar": {
              "outlinewidth": 0,
              "ticks": ""
             }
            },
            "type": "scatterpolargl"
           }
          ],
          "scatterternary": [
           {
            "marker": {
             "colorbar": {
              "outlinewidth": 0,
              "ticks": ""
             }
            },
            "type": "scatterternary"
           }
          ],
          "surface": [
           {
            "colorbar": {
             "outlinewidth": 0,
             "ticks": ""
            },
            "colorscale": [
             [
              0,
              "#0d0887"
             ],
             [
              0.1111111111111111,
              "#46039f"
             ],
             [
              0.2222222222222222,
              "#7201a8"
             ],
             [
              0.3333333333333333,
              "#9c179e"
             ],
             [
              0.4444444444444444,
              "#bd3786"
             ],
             [
              0.5555555555555556,
              "#d8576b"
             ],
             [
              0.6666666666666666,
              "#ed7953"
             ],
             [
              0.7777777777777778,
              "#fb9f3a"
             ],
             [
              0.8888888888888888,
              "#fdca26"
             ],
             [
              1,
              "#f0f921"
             ]
            ],
            "type": "surface"
           }
          ],
          "table": [
           {
            "cells": {
             "fill": {
              "color": "#EBF0F8"
             },
             "line": {
              "color": "white"
             }
            },
            "header": {
             "fill": {
              "color": "#C8D4E3"
             },
             "line": {
              "color": "white"
             }
            },
            "type": "table"
           }
          ]
         },
         "layout": {
          "annotationdefaults": {
           "arrowcolor": "#2a3f5f",
           "arrowhead": 0,
           "arrowwidth": 1
          },
          "autotypenumbers": "strict",
          "coloraxis": {
           "colorbar": {
            "outlinewidth": 0,
            "ticks": ""
           }
          },
          "colorscale": {
           "diverging": [
            [
             0,
             "#8e0152"
            ],
            [
             0.1,
             "#c51b7d"
            ],
            [
             0.2,
             "#de77ae"
            ],
            [
             0.3,
             "#f1b6da"
            ],
            [
             0.4,
             "#fde0ef"
            ],
            [
             0.5,
             "#f7f7f7"
            ],
            [
             0.6,
             "#e6f5d0"
            ],
            [
             0.7,
             "#b8e186"
            ],
            [
             0.8,
             "#7fbc41"
            ],
            [
             0.9,
             "#4d9221"
            ],
            [
             1,
             "#276419"
            ]
           ],
           "sequential": [
            [
             0,
             "#0d0887"
            ],
            [
             0.1111111111111111,
             "#46039f"
            ],
            [
             0.2222222222222222,
             "#7201a8"
            ],
            [
             0.3333333333333333,
             "#9c179e"
            ],
            [
             0.4444444444444444,
             "#bd3786"
            ],
            [
             0.5555555555555556,
             "#d8576b"
            ],
            [
             0.6666666666666666,
             "#ed7953"
            ],
            [
             0.7777777777777778,
             "#fb9f3a"
            ],
            [
             0.8888888888888888,
             "#fdca26"
            ],
            [
             1,
             "#f0f921"
            ]
           ],
           "sequentialminus": [
            [
             0,
             "#0d0887"
            ],
            [
             0.1111111111111111,
             "#46039f"
            ],
            [
             0.2222222222222222,
             "#7201a8"
            ],
            [
             0.3333333333333333,
             "#9c179e"
            ],
            [
             0.4444444444444444,
             "#bd3786"
            ],
            [
             0.5555555555555556,
             "#d8576b"
            ],
            [
             0.6666666666666666,
             "#ed7953"
            ],
            [
             0.7777777777777778,
             "#fb9f3a"
            ],
            [
             0.8888888888888888,
             "#fdca26"
            ],
            [
             1,
             "#f0f921"
            ]
           ]
          },
          "colorway": [
           "#636efa",
           "#EF553B",
           "#00cc96",
           "#ab63fa",
           "#FFA15A",
           "#19d3f3",
           "#FF6692",
           "#B6E880",
           "#FF97FF",
           "#FECB52"
          ],
          "font": {
           "color": "#2a3f5f"
          },
          "geo": {
           "bgcolor": "white",
           "lakecolor": "white",
           "landcolor": "#E5ECF6",
           "showlakes": true,
           "showland": true,
           "subunitcolor": "white"
          },
          "hoverlabel": {
           "align": "left"
          },
          "hovermode": "closest",
          "mapbox": {
           "style": "light"
          },
          "paper_bgcolor": "white",
          "plot_bgcolor": "#E5ECF6",
          "polar": {
           "angularaxis": {
            "gridcolor": "white",
            "linecolor": "white",
            "ticks": ""
           },
           "bgcolor": "#E5ECF6",
           "radialaxis": {
            "gridcolor": "white",
            "linecolor": "white",
            "ticks": ""
           }
          },
          "scene": {
           "xaxis": {
            "backgroundcolor": "#E5ECF6",
            "gridcolor": "white",
            "gridwidth": 2,
            "linecolor": "white",
            "showbackground": true,
            "ticks": "",
            "zerolinecolor": "white"
           },
           "yaxis": {
            "backgroundcolor": "#E5ECF6",
            "gridcolor": "white",
            "gridwidth": 2,
            "linecolor": "white",
            "showbackground": true,
            "ticks": "",
            "zerolinecolor": "white"
           },
           "zaxis": {
            "backgroundcolor": "#E5ECF6",
            "gridcolor": "white",
            "gridwidth": 2,
            "linecolor": "white",
            "showbackground": true,
            "ticks": "",
            "zerolinecolor": "white"
           }
          },
          "shapedefaults": {
           "line": {
            "color": "#2a3f5f"
           }
          },
          "ternary": {
           "aaxis": {
            "gridcolor": "white",
            "linecolor": "white",
            "ticks": ""
           },
           "baxis": {
            "gridcolor": "white",
            "linecolor": "white",
            "ticks": ""
           },
           "bgcolor": "#E5ECF6",
           "caxis": {
            "gridcolor": "white",
            "linecolor": "white",
            "ticks": ""
           }
          },
          "title": {
           "x": 0.05
          },
          "xaxis": {
           "automargin": true,
           "gridcolor": "white",
           "linecolor": "white",
           "ticks": "",
           "title": {
            "standoff": 15
           },
           "zerolinecolor": "white",
           "zerolinewidth": 2
          },
          "yaxis": {
           "automargin": true,
           "gridcolor": "white",
           "linecolor": "white",
           "ticks": "",
           "title": {
            "standoff": 15
           },
           "zerolinecolor": "white",
           "zerolinewidth": 2
          }
         }
        },
        "xaxis": {
         "anchor": "y",
         "domain": [
          0,
          1
         ],
         "title": {
          "text": "Country"
         }
        },
        "yaxis": {
         "anchor": "x",
         "domain": [
          0,
          1
         ],
         "title": {
          "text": "Count"
         }
        }
       }
      }
     },
     "metadata": {},
     "output_type": "display_data"
    }
   ],
   "source": [
    "fig =px.bar(top5, x=top5.index, y= top5.values)\n",
    "fig.update_layout(xaxis_title='Country', yaxis_title='Count')\n",
    "fig.show()"
   ]
  },
  {
   "cell_type": "code",
   "execution_count": 50,
   "metadata": {},
   "outputs": [
    {
     "data": {
      "application/vnd.plotly.v1+json": {
       "config": {
        "plotlyServerURL": "https://plot.ly"
       },
       "data": [
        {
         "branchvalues": "total",
         "domain": {
          "x": [
           0,
           1
          ],
          "y": [
           0,
           1
          ]
         },
         "hovertemplate": "labels=%{label}<br>count=%{value}<br>parent=%{parent}<br>id=%{id}<extra></extra>",
         "ids": [
          "Kazakhstan/StatusRetired/1957",
          "USA/StatusRetired/1957",
          "Kazakhstan/StatusRetired/1958",
          "USA/StatusRetired/1958",
          "Kazakhstan/StatusRetired/1959",
          "USA/StatusRetired/1959",
          "Kazakhstan/StatusRetired/1960",
          "USA/StatusRetired/1960",
          "Kazakhstan/StatusRetired/1961",
          "Russian Federation/StatusRetired/1961",
          "USA/StatusRetired/1961",
          "Kazakhstan/StatusRetired/1962",
          "Russian Federation/StatusRetired/1962",
          "USA/StatusRetired/1962",
          "Kazakhstan/StatusRetired/1963",
          "Russian Federation/StatusRetired/1963",
          "USA/StatusRetired/1963",
          "Kazakhstan/StatusRetired/1964",
          "Russian Federation/StatusRetired/1964",
          "USA/StatusRetired/1964",
          "France/StatusRetired/1965",
          "Kazakhstan/StatusRetired/1965",
          "Russian Federation/StatusRetired/1965",
          "USA/StatusRetired/1965",
          "France/StatusRetired/1966",
          "Japan/StatusRetired/1966",
          "Kazakhstan/StatusRetired/1966",
          "Russian Federation/StatusRetired/1966",
          "USA/StatusRetired/1966",
          "Australia/StatusRetired/1967",
          "France/StatusRetired/1967",
          "Japan/StatusRetired/1967",
          "Kazakhstan/StatusRetired/1967",
          "Kenya/StatusRetired/1967",
          "Russian Federation/StatusRetired/1967",
          "USA/StatusRetired/1967",
          "Australia/StatusRetired/1968",
          "Kazakhstan/StatusRetired/1968",
          "Russian Federation/StatusRetired/1968",
          "USA/StatusRetired/1968",
          "Australia/StatusRetired/1969",
          "China/StatusRetired/1969",
          "Japan/StatusRetired/1969",
          "Kazakhstan/StatusRetired/1969",
          "Russian Federation/StatusRetired/1969",
          "USA/StatusRetired/1969",
          "Australia/StatusRetired/1970",
          "China/StatusRetired/1970",
          "France/StatusRetired/1970",
          "Japan/StatusRetired/1970",
          "Kazakhstan/StatusRetired/1970",
          "Kenya/StatusRetired/1970",
          "Russian Federation/StatusRetired/1970",
          "USA/StatusRetired/1970",
          "Australia/StatusRetired/1971",
          "China/StatusRetired/1971",
          "France/StatusRetired/1971",
          "Japan/StatusRetired/1971",
          "Kazakhstan/StatusRetired/1971",
          "Kenya/StatusRetired/1971",
          "Russian Federation/StatusRetired/1971",
          "USA/StatusRetired/1971",
          "China/StatusRetired/1972",
          "Japan/StatusRetired/1972",
          "Kazakhstan/StatusRetired/1972",
          "Kenya/StatusRetired/1972",
          "Russian Federation/StatusRetired/1972",
          "USA/StatusRetired/1972",
          "China/StatusRetired/1973",
          "France/StatusRetired/1973",
          "Kazakhstan/StatusRetired/1973",
          "Russian Federation/StatusRetired/1973",
          "USA/StatusRetired/1973",
          "China/StatusRetired/1974",
          "Japan/StatusRetired/1974",
          "Kazakhstan/StatusRetired/1974",
          "Kenya/StatusRetired/1974",
          "Russian Federation/StatusRetired/1974",
          "USA/StatusRetired/1974",
          "China/StatusRetired/1975",
          "France/StatusRetired/1975",
          "Japan/StatusRetired/1975",
          "Kazakhstan/StatusRetired/1975",
          "Kenya/StatusRetired/1975",
          "Russian Federation/StatusRetired/1975",
          "USA/StatusRetired/1975",
          "China/StatusRetired/1976",
          "Japan/StatusRetired/1976",
          "Kazakhstan/StatusRetired/1976",
          "Russian Federation/StatusRetired/1976",
          "USA/StatusRetired/1976",
          "China/StatusRetired/1977",
          "Japan/StatusRetired/1977",
          "Kazakhstan/StatusRetired/1977",
          "Russian Federation/StatusRetired/1977",
          "USA/StatusRetired/1977",
          "China/StatusRetired/1978",
          "Japan/StatusRetired/1978",
          "Kazakhstan/StatusRetired/1978",
          "Russian Federation/StatusRetired/1978",
          "USA/StatusRetired/1978",
          "China/StatusRetired/1979",
          "France/StatusRetired/1979",
          "India/StatusRetired/1979",
          "Japan/StatusRetired/1979",
          "Kazakhstan/StatusRetired/1979",
          "Russian Federation/StatusRetired/1979",
          "USA/StatusRetired/1979",
          "France/StatusRetired/1980",
          "India/StatusRetired/1980",
          "Japan/StatusRetired/1980",
          "Kazakhstan/StatusRetired/1980",
          "Russian Federation/StatusRetired/1980",
          "USA/StatusRetired/1980",
          "China/StatusRetired/1981",
          "France/StatusRetired/1981",
          "India/StatusRetired/1981",
          "Japan/StatusRetired/1981",
          "Kazakhstan/StatusRetired/1981",
          "Russian Federation/StatusRetired/1981",
          "USA/StatusRetired/1981",
          "China/StatusActive/1982",
          "France/StatusRetired/1982",
          "Japan/StatusRetired/1982",
          "Kazakhstan/StatusRetired/1982",
          "Russian Federation/StatusRetired/1982",
          "USA/StatusRetired/1982",
          "China/StatusActive/1983",
          "France/StatusRetired/1983",
          "India/StatusRetired/1983",
          "Japan/StatusRetired/1983",
          "Kazakhstan/StatusRetired/1983",
          "Russian Federation/StatusRetired/1983",
          "USA/StatusRetired/1983",
          "China/StatusActive/1984",
          "China/StatusRetired/1984",
          "France/StatusRetired/1984",
          "Japan/StatusRetired/1984",
          "Kazakhstan/StatusRetired/1984",
          "Russian Federation/StatusRetired/1984",
          "USA/StatusRetired/1984",
          "China/StatusActive/1985",
          "France/StatusRetired/1985",
          "Japan/StatusRetired/1985",
          "Kazakhstan/StatusRetired/1985",
          "Russian Federation/StatusRetired/1985",
          "USA/StatusRetired/1985",
          "China/StatusActive/1986",
          "China/StatusRetired/1986",
          "France/StatusRetired/1986",
          "Japan/StatusRetired/1986",
          "Kazakhstan/StatusRetired/1986",
          "Russian Federation/StatusRetired/1986",
          "USA/StatusRetired/1986",
          "China/StatusActive/1987",
          "France/StatusRetired/1987",
          "India/StatusRetired/1987",
          "Japan/StatusRetired/1987",
          "Kazakhstan/StatusRetired/1987",
          "Russian Federation/StatusRetired/1987",
          "USA/StatusRetired/1987",
          "China/StatusActive/1988",
          "China/StatusRetired/1988",
          "France/StatusRetired/1988",
          "India/StatusRetired/1988",
          "Israel/StatusRetired/1988",
          "Japan/StatusRetired/1988",
          "Kazakhstan/StatusRetired/1988",
          "Kenya/StatusRetired/1988",
          "Russian Federation/StatusRetired/1988",
          "USA/StatusRetired/1988",
          "France/StatusRetired/1989",
          "India/StatusRetired/1989",
          "Japan/StatusRetired/1989",
          "Kazakhstan/StatusRetired/1989",
          "Russian Federation/StatusRetired/1989",
          "USA/StatusRetired/1989",
          "China/StatusActive/1990",
          "China/StatusRetired/1990",
          "France/StatusRetired/1990",
          "Israel/StatusRetired/1990",
          "Japan/StatusRetired/1990",
          "Kazakhstan/StatusRetired/1990",
          "Russian Federation/StatusRetired/1990",
          "USA/StatusRetired/1990",
          "China/StatusRetired/1991",
          "France/StatusRetired/1991",
          "Japan/StatusRetired/1991",
          "Kazakhstan/StatusRetired/1991",
          "Russian Federation/StatusRetired/1991",
          "USA/StatusRetired/1991",
          "China/StatusActive/1992",
          "China/StatusRetired/1992",
          "France/StatusRetired/1992",
          "Japan/StatusRetired/1992",
          "Kazakhstan/StatusRetired/1992",
          "Russian Federation/StatusRetired/1992",
          "USA/StatusRetired/1992",
          "China/StatusActive/1993",
          "Russian Federation/StatusActive/1993",
          "France/StatusRetired/1993",
          "India/StatusRetired/1993",
          "Japan/StatusRetired/1993",
          "Kazakhstan/StatusRetired/1993",
          "Russian Federation/StatusRetired/1993",
          "USA/StatusRetired/1993",
          "China/StatusActive/1994",
          "USA/StatusActive/1994",
          "China/StatusRetired/1994",
          "France/StatusRetired/1994",
          "India/StatusRetired/1994",
          "Japan/StatusRetired/1994",
          "Kazakhstan/StatusRetired/1994",
          "Russian Federation/StatusRetired/1994",
          "USA/StatusRetired/1994",
          "USA/StatusActive/1995",
          "China/StatusRetired/1995",
          "France/StatusRetired/1995",
          "Israel/StatusRetired/1995",
          "Japan/StatusRetired/1995",
          "Kazakhstan/StatusRetired/1995",
          "Russian Federation/StatusRetired/1995",
          "USA/StatusRetired/1995",
          "China/StatusActive/1996",
          "USA/StatusActive/1996",
          "China/StatusRetired/1996",
          "France/StatusRetired/1996",
          "India/StatusRetired/1996",
          "Japan/StatusRetired/1996",
          "Kazakhstan/StatusRetired/1996",
          "Russian Federation/StatusRetired/1996",
          "USA/StatusRetired/1996",
          "Brazil/StatusActive/1997",
          "China/StatusActive/1997",
          "Russian Federation/StatusActive/1997",
          "USA/StatusActive/1997",
          "China/StatusRetired/1997",
          "France/StatusRetired/1997",
          "India/StatusRetired/1997",
          "Japan/StatusRetired/1997",
          "Kazakhstan/StatusRetired/1997",
          "Russian Federation/StatusRetired/1997",
          "USA/StatusRetired/1997",
          "China/StatusActive/1998",
          "USA/StatusActive/1998",
          "France/StatusRetired/1998",
          "Israel/StatusRetired/1998",
          "Japan/StatusRetired/1998",
          "Kazakhstan/StatusRetired/1998",
          "North Korea/StatusRetired/1998",
          "Russian Federation/StatusRetired/1998",
          "USA/StatusRetired/1998",
          "Brazil/StatusActive/1999",
          "China/StatusActive/1999",
          "Pacific Ocean/StatusActive/1999",
          "USA/StatusActive/1999",
          "France/StatusRetired/1999",
          "India/StatusRetired/1999",
          "Japan/StatusRetired/1999",
          "Kazakhstan/StatusRetired/1999",
          "Russian Federation/StatusRetired/1999",
          "USA/StatusRetired/1999",
          "China/StatusActive/2000",
          "Pacific Ocean/StatusActive/2000",
          "Russian Federation/StatusActive/2000",
          "USA/StatusActive/2000",
          "China/StatusRetired/2000",
          "France/StatusRetired/2000",
          "Japan/StatusRetired/2000",
          "Kazakhstan/StatusRetired/2000",
          "Russian Federation/StatusRetired/2000",
          "USA/StatusRetired/2000",
          "China/StatusActive/2001",
          "Japan/StatusActive/2001",
          "Pacific Ocean/StatusActive/2001",
          "Russian Federation/StatusActive/2001",
          "USA/StatusActive/2001",
          "France/StatusRetired/2001",
          "India/StatusRetired/2001",
          "Kazakhstan/StatusRetired/2001",
          "Russian Federation/StatusRetired/2001",
          "USA/StatusRetired/2001",
          "China/StatusActive/2002",
          "France/StatusActive/2002",
          "Japan/StatusActive/2002",
          "Pacific Ocean/StatusActive/2002",
          "USA/StatusActive/2002",
          "China/StatusRetired/2002",
          "France/StatusRetired/2002",
          "India/StatusRetired/2002",
          "Israel/StatusRetired/2002",
          "Japan/StatusRetired/2002",
          "Kazakhstan/StatusRetired/2002",
          "Russian Federation/StatusRetired/2002",
          "USA/StatusRetired/2002",
          "Brazil/StatusActive/2003",
          "China/StatusActive/2003",
          "Pacific Ocean/StatusActive/2003",
          "USA/StatusActive/2003",
          "China/StatusRetired/2003",
          "France/StatusRetired/2003",
          "India/StatusRetired/2003",
          "Japan/StatusRetired/2003",
          "Kazakhstan/StatusRetired/2003",
          "Russian Federation/StatusRetired/2003",
          "USA/StatusRetired/2003",
          "China/StatusActive/2004",
          "Pacific Ocean/StatusActive/2004",
          "Russian Federation/StatusActive/2004",
          "USA/StatusActive/2004",
          "France/StatusRetired/2004",
          "India/StatusRetired/2004",
          "Israel/StatusRetired/2004",
          "Kazakhstan/StatusRetired/2004",
          "Russian Federation/StatusRetired/2004",
          "USA/StatusRetired/2004",
          "China/StatusActive/2005",
          "France/StatusActive/2005",
          "Pacific Ocean/StatusActive/2005",
          "USA/StatusActive/2005",
          "France/StatusRetired/2005",
          "India/StatusRetired/2005",
          "Japan/StatusRetired/2005",
          "Kazakhstan/StatusRetired/2005",
          "Russian Federation/StatusRetired/2005",
          "USA/StatusRetired/2005",
          "China/StatusActive/2006",
          "France/StatusActive/2006",
          "Japan/StatusActive/2006",
          "Pacific Ocean/StatusActive/2006",
          "Russian Federation/StatusActive/2006",
          "USA/StatusActive/2006",
          "India/StatusRetired/2006",
          "Japan/StatusRetired/2006",
          "Kazakhstan/StatusRetired/2006",
          "Russian Federation/StatusRetired/2006",
          "USA/StatusRetired/2006",
          "China/StatusActive/2007",
          "France/StatusActive/2007",
          "India/StatusActive/2007",
          "Israel/StatusActive/2007",
          "Pacific Ocean/StatusActive/2007",
          "USA/StatusActive/2007",
          "France/StatusRetired/2007",
          "India/StatusRetired/2007",
          "Japan/StatusRetired/2007",
          "Kazakhstan/StatusRetired/2007",
          "Russian Federation/StatusRetired/2007",
          "USA/StatusRetired/2007",
          "China/StatusActive/2008",
          "France/StatusActive/2008",
          "India/StatusActive/2008",
          "Japan/StatusActive/2008",
          "Kazakhstan/StatusActive/2008",
          "Pacific Ocean/StatusActive/2008",
          "USA/StatusActive/2008",
          "France/StatusRetired/2008",
          "Iran/StatusRetired/2008",
          "Kazakhstan/StatusRetired/2008",
          "Russian Federation/StatusRetired/2008",
          "USA/StatusRetired/2008",
          "France/StatusActive/2009",
          "India/StatusActive/2009",
          "Japan/StatusActive/2009",
          "Kazakhstan/StatusActive/2009",
          "Pacific Ocean/StatusActive/2009",
          "USA/StatusActive/2009",
          "France/StatusRetired/2009",
          "Iran/StatusRetired/2009",
          "Japan/StatusRetired/2009",
          "Kazakhstan/StatusRetired/2009",
          "North Korea/StatusRetired/2009",
          "Russian Federation/StatusRetired/2009",
          "South Korea/StatusRetired/2009",
          "USA/StatusRetired/2009",
          "France/StatusActive/2010",
          "India/StatusActive/2010",
          "Israel/StatusActive/2010",
          "Japan/StatusActive/2010",
          "USA/StatusActive/2010",
          "India/StatusRetired/2010",
          "Kazakhstan/StatusRetired/2010",
          "Russian Federation/StatusRetired/2010",
          "South Korea/StatusRetired/2010",
          "USA/StatusRetired/2010",
          "China/StatusActive/2011",
          "France/StatusActive/2011",
          "India/StatusActive/2011",
          "Japan/StatusActive/2011",
          "Kazakhstan/StatusActive/2011",
          "Pacific Ocean/StatusActive/2011",
          "USA/StatusActive/2011",
          "France/StatusRetired/2011",
          "India/StatusRetired/2011",
          "Iran/StatusRetired/2011",
          "Japan/StatusRetired/2011",
          "Russian Federation/StatusRetired/2011",
          "USA/StatusRetired/2011",
          "China/StatusActive/2012",
          "France/StatusActive/2012",
          "India/StatusActive/2012",
          "Iran/StatusActive/2012",
          "Japan/StatusActive/2012",
          "North Korea/StatusActive/2012",
          "Pacific Ocean/StatusActive/2012",
          "USA/StatusActive/2012",
          "France/StatusRetired/2012",
          "Iran/StatusRetired/2012",
          "Japan/StatusRetired/2012",
          "Russian Federation/StatusRetired/2012",
          "USA/StatusRetired/2012",
          "China/StatusActive/2013",
          "France/StatusActive/2013",
          "India/StatusActive/2013",
          "Japan/StatusActive/2013",
          "Kazakhstan/StatusActive/2013",
          "Pacific Ocean/StatusActive/2013",
          "Russian Federation/StatusActive/2013",
          "USA/StatusActive/2013",
          "China/StatusRetired/2013",
          "France/StatusRetired/2013",
          "Japan/StatusRetired/2013",
          "Kazakhstan/StatusRetired/2013",
          "Russian Federation/StatusRetired/2013",
          "South Korea/StatusRetired/2013",
          "USA/StatusRetired/2013",
          "France/StatusActive/2014",
          "India/StatusActive/2014",
          "Israel/StatusActive/2014",
          "Japan/StatusActive/2014",
          "Pacific Ocean/StatusActive/2014",
          "Russian Federation/StatusActive/2014",
          "USA/StatusActive/2014",
          "China/StatusRetired/2014",
          "France/StatusRetired/2014",
          "Kazakhstan/StatusRetired/2014",
          "Russian Federation/StatusRetired/2014",
          "USA/StatusRetired/2014",
          "China/StatusActive/2015",
          "France/StatusActive/2015",
          "India/StatusActive/2015",
          "Iran/StatusActive/2015",
          "Japan/StatusActive/2015",
          "Kazakhstan/StatusActive/2015",
          "Russian Federation/StatusActive/2015",
          "USA/StatusActive/2015",
          "Japan/StatusRetired/2015",
          "Russian Federation/StatusRetired/2015",
          "USA/StatusRetired/2015",
          "China/StatusActive/2016",
          "France/StatusActive/2016",
          "India/StatusActive/2016",
          "Israel/StatusActive/2016",
          "Japan/StatusActive/2016",
          "Kazakhstan/StatusActive/2016",
          "North Korea/StatusActive/2016",
          "Russian Federation/StatusActive/2016",
          "USA/StatusActive/2016",
          "France/StatusRetired/2016",
          "India/StatusRetired/2016",
          "Japan/StatusRetired/2016",
          "Kazakhstan/StatusRetired/2016",
          "Russian Federation/StatusRetired/2016",
          "USA/StatusRetired/2016",
          "China/StatusActive/2017",
          "France/StatusActive/2017",
          "India/StatusActive/2017",
          "Iran/StatusActive/2017",
          "Japan/StatusActive/2017",
          "Kazakhstan/StatusActive/2017",
          "New Zealand/StatusActive/2017",
          "Russian Federation/StatusActive/2017",
          "USA/StatusActive/2017",
          "France/StatusRetired/2017",
          "Kazakhstan/StatusRetired/2017",
          "Russian Federation/StatusRetired/2017",
          "USA/StatusRetired/2017",
          "China/StatusActive/2018",
          "France/StatusActive/2018",
          "India/StatusActive/2018",
          "Japan/StatusActive/2018",
          "Kazakhstan/StatusActive/2018",
          "New Zealand/StatusActive/2018",
          "Russian Federation/StatusActive/2018",
          "USA/StatusActive/2018",
          "China/StatusRetired/2018",
          "France/StatusRetired/2018",
          "Japan/StatusRetired/2018",
          "Kazakhstan/StatusRetired/2018",
          "Russian Federation/StatusRetired/2018",
          "USA/StatusRetired/2018",
          "China/StatusActive/2019",
          "France/StatusActive/2019",
          "India/StatusActive/2019",
          "Iran/StatusActive/2019",
          "Japan/StatusActive/2019",
          "Kazakhstan/StatusActive/2019",
          "New Zealand/StatusActive/2019",
          "Russian Federation/StatusActive/2019",
          "USA/StatusActive/2019",
          "Japan/StatusRetired/2019",
          "Kazakhstan/StatusRetired/2019",
          "Russian Federation/StatusRetired/2019",
          "USA/StatusRetired/2019",
          "China/StatusActive/2020",
          "France/StatusActive/2020",
          "Iran/StatusActive/2020",
          "Israel/StatusActive/2020",
          "Japan/StatusActive/2020",
          "Kazakhstan/StatusActive/2020",
          "New Zealand/StatusActive/2020",
          "Russian Federation/StatusActive/2020",
          "USA/StatusActive/2020",
          "Japan/StatusRetired/2020",
          "Brazil/StatusActive",
          "China/StatusActive",
          "France/StatusActive",
          "India/StatusActive",
          "Iran/StatusActive",
          "Israel/StatusActive",
          "Japan/StatusActive",
          "Kazakhstan/StatusActive",
          "New Zealand/StatusActive",
          "North Korea/StatusActive",
          "Pacific Ocean/StatusActive",
          "Russian Federation/StatusActive",
          "USA/StatusActive",
          "Australia/StatusRetired",
          "China/StatusRetired",
          "France/StatusRetired",
          "India/StatusRetired",
          "Iran/StatusRetired",
          "Israel/StatusRetired",
          "Japan/StatusRetired",
          "Kazakhstan/StatusRetired",
          "Kenya/StatusRetired",
          "North Korea/StatusRetired",
          "Russian Federation/StatusRetired",
          "South Korea/StatusRetired",
          "USA/StatusRetired",
          "Australia",
          "Brazil",
          "China",
          "France",
          "India",
          "Iran",
          "Israel",
          "Japan",
          "Kazakhstan",
          "Kenya",
          "New Zealand",
          "North Korea",
          "Pacific Ocean",
          "Russian Federation",
          "South Korea",
          "USA"
         ],
         "labels": [
          "1957",
          "1957",
          "1958",
          "1958",
          "1959",
          "1959",
          "1960",
          "1960",
          "1961",
          "1961",
          "1961",
          "1962",
          "1962",
          "1962",
          "1963",
          "1963",
          "1963",
          "1964",
          "1964",
          "1964",
          "1965",
          "1965",
          "1965",
          "1965",
          "1966",
          "1966",
          "1966",
          "1966",
          "1966",
          "1967",
          "1967",
          "1967",
          "1967",
          "1967",
          "1967",
          "1967",
          "1968",
          "1968",
          "1968",
          "1968",
          "1969",
          "1969",
          "1969",
          "1969",
          "1969",
          "1969",
          "1970",
          "1970",
          "1970",
          "1970",
          "1970",
          "1970",
          "1970",
          "1970",
          "1971",
          "1971",
          "1971",
          "1971",
          "1971",
          "1971",
          "1971",
          "1971",
          "1972",
          "1972",
          "1972",
          "1972",
          "1972",
          "1972",
          "1973",
          "1973",
          "1973",
          "1973",
          "1973",
          "1974",
          "1974",
          "1974",
          "1974",
          "1974",
          "1974",
          "1975",
          "1975",
          "1975",
          "1975",
          "1975",
          "1975",
          "1975",
          "1976",
          "1976",
          "1976",
          "1976",
          "1976",
          "1977",
          "1977",
          "1977",
          "1977",
          "1977",
          "1978",
          "1978",
          "1978",
          "1978",
          "1978",
          "1979",
          "1979",
          "1979",
          "1979",
          "1979",
          "1979",
          "1979",
          "1980",
          "1980",
          "1980",
          "1980",
          "1980",
          "1980",
          "1981",
          "1981",
          "1981",
          "1981",
          "1981",
          "1981",
          "1981",
          "1982",
          "1982",
          "1982",
          "1982",
          "1982",
          "1982",
          "1983",
          "1983",
          "1983",
          "1983",
          "1983",
          "1983",
          "1983",
          "1984",
          "1984",
          "1984",
          "1984",
          "1984",
          "1984",
          "1984",
          "1985",
          "1985",
          "1985",
          "1985",
          "1985",
          "1985",
          "1986",
          "1986",
          "1986",
          "1986",
          "1986",
          "1986",
          "1986",
          "1987",
          "1987",
          "1987",
          "1987",
          "1987",
          "1987",
          "1987",
          "1988",
          "1988",
          "1988",
          "1988",
          "1988",
          "1988",
          "1988",
          "1988",
          "1988",
          "1988",
          "1989",
          "1989",
          "1989",
          "1989",
          "1989",
          "1989",
          "1990",
          "1990",
          "1990",
          "1990",
          "1990",
          "1990",
          "1990",
          "1990",
          "1991",
          "1991",
          "1991",
          "1991",
          "1991",
          "1991",
          "1992",
          "1992",
          "1992",
          "1992",
          "1992",
          "1992",
          "1992",
          "1993",
          "1993",
          "1993",
          "1993",
          "1993",
          "1993",
          "1993",
          "1993",
          "1994",
          "1994",
          "1994",
          "1994",
          "1994",
          "1994",
          "1994",
          "1994",
          "1994",
          "1995",
          "1995",
          "1995",
          "1995",
          "1995",
          "1995",
          "1995",
          "1995",
          "1996",
          "1996",
          "1996",
          "1996",
          "1996",
          "1996",
          "1996",
          "1996",
          "1996",
          "1997",
          "1997",
          "1997",
          "1997",
          "1997",
          "1997",
          "1997",
          "1997",
          "1997",
          "1997",
          "1997",
          "1998",
          "1998",
          "1998",
          "1998",
          "1998",
          "1998",
          "1998",
          "1998",
          "1998",
          "1999",
          "1999",
          "1999",
          "1999",
          "1999",
          "1999",
          "1999",
          "1999",
          "1999",
          "1999",
          "2000",
          "2000",
          "2000",
          "2000",
          "2000",
          "2000",
          "2000",
          "2000",
          "2000",
          "2000",
          "2001",
          "2001",
          "2001",
          "2001",
          "2001",
          "2001",
          "2001",
          "2001",
          "2001",
          "2001",
          "2002",
          "2002",
          "2002",
          "2002",
          "2002",
          "2002",
          "2002",
          "2002",
          "2002",
          "2002",
          "2002",
          "2002",
          "2002",
          "2003",
          "2003",
          "2003",
          "2003",
          "2003",
          "2003",
          "2003",
          "2003",
          "2003",
          "2003",
          "2003",
          "2004",
          "2004",
          "2004",
          "2004",
          "2004",
          "2004",
          "2004",
          "2004",
          "2004",
          "2004",
          "2005",
          "2005",
          "2005",
          "2005",
          "2005",
          "2005",
          "2005",
          "2005",
          "2005",
          "2005",
          "2006",
          "2006",
          "2006",
          "2006",
          "2006",
          "2006",
          "2006",
          "2006",
          "2006",
          "2006",
          "2006",
          "2007",
          "2007",
          "2007",
          "2007",
          "2007",
          "2007",
          "2007",
          "2007",
          "2007",
          "2007",
          "2007",
          "2007",
          "2008",
          "2008",
          "2008",
          "2008",
          "2008",
          "2008",
          "2008",
          "2008",
          "2008",
          "2008",
          "2008",
          "2008",
          "2009",
          "2009",
          "2009",
          "2009",
          "2009",
          "2009",
          "2009",
          "2009",
          "2009",
          "2009",
          "2009",
          "2009",
          "2009",
          "2009",
          "2010",
          "2010",
          "2010",
          "2010",
          "2010",
          "2010",
          "2010",
          "2010",
          "2010",
          "2010",
          "2011",
          "2011",
          "2011",
          "2011",
          "2011",
          "2011",
          "2011",
          "2011",
          "2011",
          "2011",
          "2011",
          "2011",
          "2011",
          "2012",
          "2012",
          "2012",
          "2012",
          "2012",
          "2012",
          "2012",
          "2012",
          "2012",
          "2012",
          "2012",
          "2012",
          "2012",
          "2013",
          "2013",
          "2013",
          "2013",
          "2013",
          "2013",
          "2013",
          "2013",
          "2013",
          "2013",
          "2013",
          "2013",
          "2013",
          "2013",
          "2013",
          "2014",
          "2014",
          "2014",
          "2014",
          "2014",
          "2014",
          "2014",
          "2014",
          "2014",
          "2014",
          "2014",
          "2014",
          "2015",
          "2015",
          "2015",
          "2015",
          "2015",
          "2015",
          "2015",
          "2015",
          "2015",
          "2015",
          "2015",
          "2016",
          "2016",
          "2016",
          "2016",
          "2016",
          "2016",
          "2016",
          "2016",
          "2016",
          "2016",
          "2016",
          "2016",
          "2016",
          "2016",
          "2016",
          "2017",
          "2017",
          "2017",
          "2017",
          "2017",
          "2017",
          "2017",
          "2017",
          "2017",
          "2017",
          "2017",
          "2017",
          "2017",
          "2018",
          "2018",
          "2018",
          "2018",
          "2018",
          "2018",
          "2018",
          "2018",
          "2018",
          "2018",
          "2018",
          "2018",
          "2018",
          "2018",
          "2019",
          "2019",
          "2019",
          "2019",
          "2019",
          "2019",
          "2019",
          "2019",
          "2019",
          "2019",
          "2019",
          "2019",
          "2019",
          "2020",
          "2020",
          "2020",
          "2020",
          "2020",
          "2020",
          "2020",
          "2020",
          "2020",
          "2020",
          "StatusActive",
          "StatusActive",
          "StatusActive",
          "StatusActive",
          "StatusActive",
          "StatusActive",
          "StatusActive",
          "StatusActive",
          "StatusActive",
          "StatusActive",
          "StatusActive",
          "StatusActive",
          "StatusActive",
          "StatusRetired",
          "StatusRetired",
          "StatusRetired",
          "StatusRetired",
          "StatusRetired",
          "StatusRetired",
          "StatusRetired",
          "StatusRetired",
          "StatusRetired",
          "StatusRetired",
          "StatusRetired",
          "StatusRetired",
          "StatusRetired",
          "Australia",
          "Brazil",
          "China",
          "France",
          "India",
          "Iran",
          "Israel",
          "Japan",
          "Kazakhstan",
          "Kenya",
          "New Zealand",
          "North Korea",
          "Pacific Ocean",
          "Russian Federation",
          "South Korea",
          "USA"
         ],
         "name": "",
         "parents": [
          "Kazakhstan/StatusRetired",
          "USA/StatusRetired",
          "Kazakhstan/StatusRetired",
          "USA/StatusRetired",
          "Kazakhstan/StatusRetired",
          "USA/StatusRetired",
          "Kazakhstan/StatusRetired",
          "USA/StatusRetired",
          "Kazakhstan/StatusRetired",
          "Russian Federation/StatusRetired",
          "USA/StatusRetired",
          "Kazakhstan/StatusRetired",
          "Russian Federation/StatusRetired",
          "USA/StatusRetired",
          "Kazakhstan/StatusRetired",
          "Russian Federation/StatusRetired",
          "USA/StatusRetired",
          "Kazakhstan/StatusRetired",
          "Russian Federation/StatusRetired",
          "USA/StatusRetired",
          "France/StatusRetired",
          "Kazakhstan/StatusRetired",
          "Russian Federation/StatusRetired",
          "USA/StatusRetired",
          "France/StatusRetired",
          "Japan/StatusRetired",
          "Kazakhstan/StatusRetired",
          "Russian Federation/StatusRetired",
          "USA/StatusRetired",
          "Australia/StatusRetired",
          "France/StatusRetired",
          "Japan/StatusRetired",
          "Kazakhstan/StatusRetired",
          "Kenya/StatusRetired",
          "Russian Federation/StatusRetired",
          "USA/StatusRetired",
          "Australia/StatusRetired",
          "Kazakhstan/StatusRetired",
          "Russian Federation/StatusRetired",
          "USA/StatusRetired",
          "Australia/StatusRetired",
          "China/StatusRetired",
          "Japan/StatusRetired",
          "Kazakhstan/StatusRetired",
          "Russian Federation/StatusRetired",
          "USA/StatusRetired",
          "Australia/StatusRetired",
          "China/StatusRetired",
          "France/StatusRetired",
          "Japan/StatusRetired",
          "Kazakhstan/StatusRetired",
          "Kenya/StatusRetired",
          "Russian Federation/StatusRetired",
          "USA/StatusRetired",
          "Australia/StatusRetired",
          "China/StatusRetired",
          "France/StatusRetired",
          "Japan/StatusRetired",
          "Kazakhstan/StatusRetired",
          "Kenya/StatusRetired",
          "Russian Federation/StatusRetired",
          "USA/StatusRetired",
          "China/StatusRetired",
          "Japan/StatusRetired",
          "Kazakhstan/StatusRetired",
          "Kenya/StatusRetired",
          "Russian Federation/StatusRetired",
          "USA/StatusRetired",
          "China/StatusRetired",
          "France/StatusRetired",
          "Kazakhstan/StatusRetired",
          "Russian Federation/StatusRetired",
          "USA/StatusRetired",
          "China/StatusRetired",
          "Japan/StatusRetired",
          "Kazakhstan/StatusRetired",
          "Kenya/StatusRetired",
          "Russian Federation/StatusRetired",
          "USA/StatusRetired",
          "China/StatusRetired",
          "France/StatusRetired",
          "Japan/StatusRetired",
          "Kazakhstan/StatusRetired",
          "Kenya/StatusRetired",
          "Russian Federation/StatusRetired",
          "USA/StatusRetired",
          "China/StatusRetired",
          "Japan/StatusRetired",
          "Kazakhstan/StatusRetired",
          "Russian Federation/StatusRetired",
          "USA/StatusRetired",
          "China/StatusRetired",
          "Japan/StatusRetired",
          "Kazakhstan/StatusRetired",
          "Russian Federation/StatusRetired",
          "USA/StatusRetired",
          "China/StatusRetired",
          "Japan/StatusRetired",
          "Kazakhstan/StatusRetired",
          "Russian Federation/StatusRetired",
          "USA/StatusRetired",
          "China/StatusRetired",
          "France/StatusRetired",
          "India/StatusRetired",
          "Japan/StatusRetired",
          "Kazakhstan/StatusRetired",
          "Russian Federation/StatusRetired",
          "USA/StatusRetired",
          "France/StatusRetired",
          "India/StatusRetired",
          "Japan/StatusRetired",
          "Kazakhstan/StatusRetired",
          "Russian Federation/StatusRetired",
          "USA/StatusRetired",
          "China/StatusRetired",
          "France/StatusRetired",
          "India/StatusRetired",
          "Japan/StatusRetired",
          "Kazakhstan/StatusRetired",
          "Russian Federation/StatusRetired",
          "USA/StatusRetired",
          "China/StatusActive",
          "France/StatusRetired",
          "Japan/StatusRetired",
          "Kazakhstan/StatusRetired",
          "Russian Federation/StatusRetired",
          "USA/StatusRetired",
          "China/StatusActive",
          "France/StatusRetired",
          "India/StatusRetired",
          "Japan/StatusRetired",
          "Kazakhstan/StatusRetired",
          "Russian Federation/StatusRetired",
          "USA/StatusRetired",
          "China/StatusActive",
          "China/StatusRetired",
          "France/StatusRetired",
          "Japan/StatusRetired",
          "Kazakhstan/StatusRetired",
          "Russian Federation/StatusRetired",
          "USA/StatusRetired",
          "China/StatusActive",
          "France/StatusRetired",
          "Japan/StatusRetired",
          "Kazakhstan/StatusRetired",
          "Russian Federation/StatusRetired",
          "USA/StatusRetired",
          "China/StatusActive",
          "China/StatusRetired",
          "France/StatusRetired",
          "Japan/StatusRetired",
          "Kazakhstan/StatusRetired",
          "Russian Federation/StatusRetired",
          "USA/StatusRetired",
          "China/StatusActive",
          "France/StatusRetired",
          "India/StatusRetired",
          "Japan/StatusRetired",
          "Kazakhstan/StatusRetired",
          "Russian Federation/StatusRetired",
          "USA/StatusRetired",
          "China/StatusActive",
          "China/StatusRetired",
          "France/StatusRetired",
          "India/StatusRetired",
          "Israel/StatusRetired",
          "Japan/StatusRetired",
          "Kazakhstan/StatusRetired",
          "Kenya/StatusRetired",
          "Russian Federation/StatusRetired",
          "USA/StatusRetired",
          "France/StatusRetired",
          "India/StatusRetired",
          "Japan/StatusRetired",
          "Kazakhstan/StatusRetired",
          "Russian Federation/StatusRetired",
          "USA/StatusRetired",
          "China/StatusActive",
          "China/StatusRetired",
          "France/StatusRetired",
          "Israel/StatusRetired",
          "Japan/StatusRetired",
          "Kazakhstan/StatusRetired",
          "Russian Federation/StatusRetired",
          "USA/StatusRetired",
          "China/StatusRetired",
          "France/StatusRetired",
          "Japan/StatusRetired",
          "Kazakhstan/StatusRetired",
          "Russian Federation/StatusRetired",
          "USA/StatusRetired",
          "China/StatusActive",
          "China/StatusRetired",
          "France/StatusRetired",
          "Japan/StatusRetired",
          "Kazakhstan/StatusRetired",
          "Russian Federation/StatusRetired",
          "USA/StatusRetired",
          "China/StatusActive",
          "Russian Federation/StatusActive",
          "France/StatusRetired",
          "India/StatusRetired",
          "Japan/StatusRetired",
          "Kazakhstan/StatusRetired",
          "Russian Federation/StatusRetired",
          "USA/StatusRetired",
          "China/StatusActive",
          "USA/StatusActive",
          "China/StatusRetired",
          "France/StatusRetired",
          "India/StatusRetired",
          "Japan/StatusRetired",
          "Kazakhstan/StatusRetired",
          "Russian Federation/StatusRetired",
          "USA/StatusRetired",
          "USA/StatusActive",
          "China/StatusRetired",
          "France/StatusRetired",
          "Israel/StatusRetired",
          "Japan/StatusRetired",
          "Kazakhstan/StatusRetired",
          "Russian Federation/StatusRetired",
          "USA/StatusRetired",
          "China/StatusActive",
          "USA/StatusActive",
          "China/StatusRetired",
          "France/StatusRetired",
          "India/StatusRetired",
          "Japan/StatusRetired",
          "Kazakhstan/StatusRetired",
          "Russian Federation/StatusRetired",
          "USA/StatusRetired",
          "Brazil/StatusActive",
          "China/StatusActive",
          "Russian Federation/StatusActive",
          "USA/StatusActive",
          "China/StatusRetired",
          "France/StatusRetired",
          "India/StatusRetired",
          "Japan/StatusRetired",
          "Kazakhstan/StatusRetired",
          "Russian Federation/StatusRetired",
          "USA/StatusRetired",
          "China/StatusActive",
          "USA/StatusActive",
          "France/StatusRetired",
          "Israel/StatusRetired",
          "Japan/StatusRetired",
          "Kazakhstan/StatusRetired",
          "North Korea/StatusRetired",
          "Russian Federation/StatusRetired",
          "USA/StatusRetired",
          "Brazil/StatusActive",
          "China/StatusActive",
          "Pacific Ocean/StatusActive",
          "USA/StatusActive",
          "France/StatusRetired",
          "India/StatusRetired",
          "Japan/StatusRetired",
          "Kazakhstan/StatusRetired",
          "Russian Federation/StatusRetired",
          "USA/StatusRetired",
          "China/StatusActive",
          "Pacific Ocean/StatusActive",
          "Russian Federation/StatusActive",
          "USA/StatusActive",
          "China/StatusRetired",
          "France/StatusRetired",
          "Japan/StatusRetired",
          "Kazakhstan/StatusRetired",
          "Russian Federation/StatusRetired",
          "USA/StatusRetired",
          "China/StatusActive",
          "Japan/StatusActive",
          "Pacific Ocean/StatusActive",
          "Russian Federation/StatusActive",
          "USA/StatusActive",
          "France/StatusRetired",
          "India/StatusRetired",
          "Kazakhstan/StatusRetired",
          "Russian Federation/StatusRetired",
          "USA/StatusRetired",
          "China/StatusActive",
          "France/StatusActive",
          "Japan/StatusActive",
          "Pacific Ocean/StatusActive",
          "USA/StatusActive",
          "China/StatusRetired",
          "France/StatusRetired",
          "India/StatusRetired",
          "Israel/StatusRetired",
          "Japan/StatusRetired",
          "Kazakhstan/StatusRetired",
          "Russian Federation/StatusRetired",
          "USA/StatusRetired",
          "Brazil/StatusActive",
          "China/StatusActive",
          "Pacific Ocean/StatusActive",
          "USA/StatusActive",
          "China/StatusRetired",
          "France/StatusRetired",
          "India/StatusRetired",
          "Japan/StatusRetired",
          "Kazakhstan/StatusRetired",
          "Russian Federation/StatusRetired",
          "USA/StatusRetired",
          "China/StatusActive",
          "Pacific Ocean/StatusActive",
          "Russian Federation/StatusActive",
          "USA/StatusActive",
          "France/StatusRetired",
          "India/StatusRetired",
          "Israel/StatusRetired",
          "Kazakhstan/StatusRetired",
          "Russian Federation/StatusRetired",
          "USA/StatusRetired",
          "China/StatusActive",
          "France/StatusActive",
          "Pacific Ocean/StatusActive",
          "USA/StatusActive",
          "France/StatusRetired",
          "India/StatusRetired",
          "Japan/StatusRetired",
          "Kazakhstan/StatusRetired",
          "Russian Federation/StatusRetired",
          "USA/StatusRetired",
          "China/StatusActive",
          "France/StatusActive",
          "Japan/StatusActive",
          "Pacific Ocean/StatusActive",
          "Russian Federation/StatusActive",
          "USA/StatusActive",
          "India/StatusRetired",
          "Japan/StatusRetired",
          "Kazakhstan/StatusRetired",
          "Russian Federation/StatusRetired",
          "USA/StatusRetired",
          "China/StatusActive",
          "France/StatusActive",
          "India/StatusActive",
          "Israel/StatusActive",
          "Pacific Ocean/StatusActive",
          "USA/StatusActive",
          "France/StatusRetired",
          "India/StatusRetired",
          "Japan/StatusRetired",
          "Kazakhstan/StatusRetired",
          "Russian Federation/StatusRetired",
          "USA/StatusRetired",
          "China/StatusActive",
          "France/StatusActive",
          "India/StatusActive",
          "Japan/StatusActive",
          "Kazakhstan/StatusActive",
          "Pacific Ocean/StatusActive",
          "USA/StatusActive",
          "France/StatusRetired",
          "Iran/StatusRetired",
          "Kazakhstan/StatusRetired",
          "Russian Federation/StatusRetired",
          "USA/StatusRetired",
          "France/StatusActive",
          "India/StatusActive",
          "Japan/StatusActive",
          "Kazakhstan/StatusActive",
          "Pacific Ocean/StatusActive",
          "USA/StatusActive",
          "France/StatusRetired",
          "Iran/StatusRetired",
          "Japan/StatusRetired",
          "Kazakhstan/StatusRetired",
          "North Korea/StatusRetired",
          "Russian Federation/StatusRetired",
          "South Korea/StatusRetired",
          "USA/StatusRetired",
          "France/StatusActive",
          "India/StatusActive",
          "Israel/StatusActive",
          "Japan/StatusActive",
          "USA/StatusActive",
          "India/StatusRetired",
          "Kazakhstan/StatusRetired",
          "Russian Federation/StatusRetired",
          "South Korea/StatusRetired",
          "USA/StatusRetired",
          "China/StatusActive",
          "France/StatusActive",
          "India/StatusActive",
          "Japan/StatusActive",
          "Kazakhstan/StatusActive",
          "Pacific Ocean/StatusActive",
          "USA/StatusActive",
          "France/StatusRetired",
          "India/StatusRetired",
          "Iran/StatusRetired",
          "Japan/StatusRetired",
          "Russian Federation/StatusRetired",
          "USA/StatusRetired",
          "China/StatusActive",
          "France/StatusActive",
          "India/StatusActive",
          "Iran/StatusActive",
          "Japan/StatusActive",
          "North Korea/StatusActive",
          "Pacific Ocean/StatusActive",
          "USA/StatusActive",
          "France/StatusRetired",
          "Iran/StatusRetired",
          "Japan/StatusRetired",
          "Russian Federation/StatusRetired",
          "USA/StatusRetired",
          "China/StatusActive",
          "France/StatusActive",
          "India/StatusActive",
          "Japan/StatusActive",
          "Kazakhstan/StatusActive",
          "Pacific Ocean/StatusActive",
          "Russian Federation/StatusActive",
          "USA/StatusActive",
          "China/StatusRetired",
          "France/StatusRetired",
          "Japan/StatusRetired",
          "Kazakhstan/StatusRetired",
          "Russian Federation/StatusRetired",
          "South Korea/StatusRetired",
          "USA/StatusRetired",
          "France/StatusActive",
          "India/StatusActive",
          "Israel/StatusActive",
          "Japan/StatusActive",
          "Pacific Ocean/StatusActive",
          "Russian Federation/StatusActive",
          "USA/StatusActive",
          "China/StatusRetired",
          "France/StatusRetired",
          "Kazakhstan/StatusRetired",
          "Russian Federation/StatusRetired",
          "USA/StatusRetired",
          "China/StatusActive",
          "France/StatusActive",
          "India/StatusActive",
          "Iran/StatusActive",
          "Japan/StatusActive",
          "Kazakhstan/StatusActive",
          "Russian Federation/StatusActive",
          "USA/StatusActive",
          "Japan/StatusRetired",
          "Russian Federation/StatusRetired",
          "USA/StatusRetired",
          "China/StatusActive",
          "France/StatusActive",
          "India/StatusActive",
          "Israel/StatusActive",
          "Japan/StatusActive",
          "Kazakhstan/StatusActive",
          "North Korea/StatusActive",
          "Russian Federation/StatusActive",
          "USA/StatusActive",
          "France/StatusRetired",
          "India/StatusRetired",
          "Japan/StatusRetired",
          "Kazakhstan/StatusRetired",
          "Russian Federation/StatusRetired",
          "USA/StatusRetired",
          "China/StatusActive",
          "France/StatusActive",
          "India/StatusActive",
          "Iran/StatusActive",
          "Japan/StatusActive",
          "Kazakhstan/StatusActive",
          "New Zealand/StatusActive",
          "Russian Federation/StatusActive",
          "USA/StatusActive",
          "France/StatusRetired",
          "Kazakhstan/StatusRetired",
          "Russian Federation/StatusRetired",
          "USA/StatusRetired",
          "China/StatusActive",
          "France/StatusActive",
          "India/StatusActive",
          "Japan/StatusActive",
          "Kazakhstan/StatusActive",
          "New Zealand/StatusActive",
          "Russian Federation/StatusActive",
          "USA/StatusActive",
          "China/StatusRetired",
          "France/StatusRetired",
          "Japan/StatusRetired",
          "Kazakhstan/StatusRetired",
          "Russian Federation/StatusRetired",
          "USA/StatusRetired",
          "China/StatusActive",
          "France/StatusActive",
          "India/StatusActive",
          "Iran/StatusActive",
          "Japan/StatusActive",
          "Kazakhstan/StatusActive",
          "New Zealand/StatusActive",
          "Russian Federation/StatusActive",
          "USA/StatusActive",
          "Japan/StatusRetired",
          "Kazakhstan/StatusRetired",
          "Russian Federation/StatusRetired",
          "USA/StatusRetired",
          "China/StatusActive",
          "France/StatusActive",
          "Iran/StatusActive",
          "Israel/StatusActive",
          "Japan/StatusActive",
          "Kazakhstan/StatusActive",
          "New Zealand/StatusActive",
          "Russian Federation/StatusActive",
          "USA/StatusActive",
          "Japan/StatusRetired",
          "Brazil",
          "China",
          "France",
          "India",
          "Iran",
          "Israel",
          "Japan",
          "Kazakhstan",
          "New Zealand",
          "North Korea",
          "Pacific Ocean",
          "Russian Federation",
          "USA",
          "Australia",
          "China",
          "France",
          "India",
          "Iran",
          "Israel",
          "Japan",
          "Kazakhstan",
          "Kenya",
          "North Korea",
          "Russian Federation",
          "South Korea",
          "USA",
          "",
          "",
          "",
          "",
          "",
          "",
          "",
          "",
          "",
          "",
          "",
          "",
          "",
          "",
          "",
          ""
         ],
         "type": "sunburst",
         "values": [
          2,
          1,
          5,
          23,
          4,
          16,
          9,
          30,
          7,
          2,
          43,
          14,
          8,
          60,
          16,
          8,
          17,
          28,
          8,
          24,
          1,
          43,
          10,
          33,
          1,
          2,
          36,
          15,
          47,
          1,
          2,
          1,
          38,
          1,
          37,
          26,
          1,
          40,
          40,
          22,
          1,
          1,
          1,
          38,
          45,
          17,
          2,
          1,
          2,
          2,
          29,
          1,
          59,
          11,
          1,
          1,
          3,
          3,
          31,
          2,
          62,
          16,
          1,
          1,
          22,
          1,
          57,
          17,
          1,
          1,
          17,
          67,
          17,
          2,
          1,
          23,
          2,
          60,
          10,
          3,
          3,
          2,
          23,
          1,
          66,
          15,
          3,
          2,
          29,
          66,
          13,
          1,
          2,
          25,
          72,
          14,
          2,
          3,
          9,
          62,
          21,
          1,
          1,
          1,
          1,
          3,
          33,
          9,
          1,
          1,
          2,
          6,
          34,
          11,
          1,
          2,
          1,
          3,
          10,
          41,
          13,
          1,
          1,
          1,
          10,
          43,
          11,
          1,
          2,
          1,
          3,
          6,
          40,
          13,
          1,
          2,
          4,
          3,
          4,
          38,
          17,
          1,
          4,
          2,
          12,
          39,
          16,
          1,
          1,
          3,
          2,
          7,
          42,
          6,
          2,
          2,
          1,
          3,
          12,
          30,
          6,
          1,
          3,
          7,
          1,
          1,
          2,
          9,
          1,
          27,
          7,
          7,
          1,
          2,
          4,
          22,
          16,
          1,
          4,
          6,
          1,
          5,
          7,
          30,
          26,
          1,
          8,
          3,
          4,
          25,
          18,
          2,
          2,
          7,
          1,
          3,
          20,
          27,
          1,
          1,
          7,
          1,
          1,
          6,
          20,
          24,
          3,
          2,
          2,
          8,
          2,
          2,
          6,
          15,
          24,
          1,
          3,
          11,
          1,
          2,
          4,
          10,
          29,
          2,
          4,
          2,
          11,
          1,
          1,
          2,
          8,
          29,
          1,
          5,
          2,
          5,
          1,
          12,
          1,
          2,
          3,
          5,
          33,
          6,
          7,
          11,
          1,
          2,
          3,
          1,
          8,
          29,
          1,
          4,
          2,
          4,
          10,
          1,
          1,
          3,
          4,
          27,
          3,
          3,
          1,
          4,
          1,
          12,
          1,
          3,
          5,
          24,
          1,
          1,
          2,
          1,
          1,
          8,
          2,
          2,
          4,
          21,
          4,
          1,
          1,
          1,
          2,
          1,
          11,
          1,
          1,
          2,
          1,
          8,
          15,
          1,
          6,
          3,
          6,
          1,
          4,
          2,
          3,
          2,
          7,
          17,
          8,
          3,
          1,
          3,
          3,
          1,
          1,
          3,
          4,
          13,
          5,
          2,
          4,
          5,
          3,
          1,
          2,
          1,
          7,
          7,
          6,
          5,
          2,
          5,
          1,
          5,
          1,
          4,
          2,
          5,
          13,
          10,
          4,
          1,
          1,
          1,
          7,
          2,
          2,
          2,
          3,
          5,
          12,
          9,
          5,
          3,
          1,
          1,
          5,
          4,
          1,
          1,
          1,
          6,
          11,
          6,
          2,
          2,
          3,
          1,
          8,
          1,
          1,
          1,
          1,
          1,
          5,
          1,
          17,
          6,
          2,
          1,
          1,
          7,
          1,
          5,
          5,
          1,
          8,
          2,
          6,
          2,
          3,
          4,
          1,
          10,
          1,
          1,
          1,
          1,
          2,
          8,
          1,
          9,
          3,
          2,
          1,
          2,
          3,
          8,
          1,
          1,
          1,
          1,
          5,
          1,
          6,
          3,
          1,
          2,
          1,
          1,
          12,
          1,
          1,
          2,
          1,
          6,
          1,
          7,
          10,
          5,
          1,
          4,
          1,
          2,
          10,
          1,
          1,
          1,
          4,
          13,
          2,
          12,
          5,
          2,
          3,
          1,
          1,
          12,
          1,
          3,
          10,
          22,
          10,
          6,
          1,
          3,
          5,
          1,
          4,
          14,
          1,
          1,
          1,
          6,
          2,
          13,
          18,
          10,
          5,
          1,
          7,
          8,
          1,
          5,
          9,
          1,
          5,
          1,
          21,
          38,
          10,
          7,
          5,
          4,
          3,
          6,
          20,
          1,
          1,
          1,
          5,
          2,
          14,
          34,
          9,
          6,
          3,
          1,
          10,
          6,
          7,
          24,
          1,
          3,
          2,
          3,
          22,
          2,
          2,
          1,
          2,
          6,
          3,
          3,
          21,
          1,
          3,
          224,
          113,
          50,
          10,
          5,
          38,
          44,
          13,
          3,
          36,
          36,
          215,
          6,
          45,
          190,
          26,
          4,
          6,
          88,
          657,
          9,
          2,
          1362,
          3,
          1136,
          6,
          3,
          269,
          303,
          76,
          14,
          11,
          126,
          701,
          9,
          13,
          5,
          36,
          1398,
          3,
          1351
         ]
        }
       ],
       "layout": {
        "legend": {
         "tracegroupgap": 0
        },
        "margin": {
         "t": 60
        },
        "template": {
         "data": {
          "bar": [
           {
            "error_x": {
             "color": "#2a3f5f"
            },
            "error_y": {
             "color": "#2a3f5f"
            },
            "marker": {
             "line": {
              "color": "#E5ECF6",
              "width": 0.5
             },
             "pattern": {
              "fillmode": "overlay",
              "size": 10,
              "solidity": 0.2
             }
            },
            "type": "bar"
           }
          ],
          "barpolar": [
           {
            "marker": {
             "line": {
              "color": "#E5ECF6",
              "width": 0.5
             },
             "pattern": {
              "fillmode": "overlay",
              "size": 10,
              "solidity": 0.2
             }
            },
            "type": "barpolar"
           }
          ],
          "carpet": [
           {
            "aaxis": {
             "endlinecolor": "#2a3f5f",
             "gridcolor": "white",
             "linecolor": "white",
             "minorgridcolor": "white",
             "startlinecolor": "#2a3f5f"
            },
            "baxis": {
             "endlinecolor": "#2a3f5f",
             "gridcolor": "white",
             "linecolor": "white",
             "minorgridcolor": "white",
             "startlinecolor": "#2a3f5f"
            },
            "type": "carpet"
           }
          ],
          "choropleth": [
           {
            "colorbar": {
             "outlinewidth": 0,
             "ticks": ""
            },
            "type": "choropleth"
           }
          ],
          "contour": [
           {
            "colorbar": {
             "outlinewidth": 0,
             "ticks": ""
            },
            "colorscale": [
             [
              0,
              "#0d0887"
             ],
             [
              0.1111111111111111,
              "#46039f"
             ],
             [
              0.2222222222222222,
              "#7201a8"
             ],
             [
              0.3333333333333333,
              "#9c179e"
             ],
             [
              0.4444444444444444,
              "#bd3786"
             ],
             [
              0.5555555555555556,
              "#d8576b"
             ],
             [
              0.6666666666666666,
              "#ed7953"
             ],
             [
              0.7777777777777778,
              "#fb9f3a"
             ],
             [
              0.8888888888888888,
              "#fdca26"
             ],
             [
              1,
              "#f0f921"
             ]
            ],
            "type": "contour"
           }
          ],
          "contourcarpet": [
           {
            "colorbar": {
             "outlinewidth": 0,
             "ticks": ""
            },
            "type": "contourcarpet"
           }
          ],
          "heatmap": [
           {
            "colorbar": {
             "outlinewidth": 0,
             "ticks": ""
            },
            "colorscale": [
             [
              0,
              "#0d0887"
             ],
             [
              0.1111111111111111,
              "#46039f"
             ],
             [
              0.2222222222222222,
              "#7201a8"
             ],
             [
              0.3333333333333333,
              "#9c179e"
             ],
             [
              0.4444444444444444,
              "#bd3786"
             ],
             [
              0.5555555555555556,
              "#d8576b"
             ],
             [
              0.6666666666666666,
              "#ed7953"
             ],
             [
              0.7777777777777778,
              "#fb9f3a"
             ],
             [
              0.8888888888888888,
              "#fdca26"
             ],
             [
              1,
              "#f0f921"
             ]
            ],
            "type": "heatmap"
           }
          ],
          "heatmapgl": [
           {
            "colorbar": {
             "outlinewidth": 0,
             "ticks": ""
            },
            "colorscale": [
             [
              0,
              "#0d0887"
             ],
             [
              0.1111111111111111,
              "#46039f"
             ],
             [
              0.2222222222222222,
              "#7201a8"
             ],
             [
              0.3333333333333333,
              "#9c179e"
             ],
             [
              0.4444444444444444,
              "#bd3786"
             ],
             [
              0.5555555555555556,
              "#d8576b"
             ],
             [
              0.6666666666666666,
              "#ed7953"
             ],
             [
              0.7777777777777778,
              "#fb9f3a"
             ],
             [
              0.8888888888888888,
              "#fdca26"
             ],
             [
              1,
              "#f0f921"
             ]
            ],
            "type": "heatmapgl"
           }
          ],
          "histogram": [
           {
            "marker": {
             "pattern": {
              "fillmode": "overlay",
              "size": 10,
              "solidity": 0.2
             }
            },
            "type": "histogram"
           }
          ],
          "histogram2d": [
           {
            "colorbar": {
             "outlinewidth": 0,
             "ticks": ""
            },
            "colorscale": [
             [
              0,
              "#0d0887"
             ],
             [
              0.1111111111111111,
              "#46039f"
             ],
             [
              0.2222222222222222,
              "#7201a8"
             ],
             [
              0.3333333333333333,
              "#9c179e"
             ],
             [
              0.4444444444444444,
              "#bd3786"
             ],
             [
              0.5555555555555556,
              "#d8576b"
             ],
             [
              0.6666666666666666,
              "#ed7953"
             ],
             [
              0.7777777777777778,
              "#fb9f3a"
             ],
             [
              0.8888888888888888,
              "#fdca26"
             ],
             [
              1,
              "#f0f921"
             ]
            ],
            "type": "histogram2d"
           }
          ],
          "histogram2dcontour": [
           {
            "colorbar": {
             "outlinewidth": 0,
             "ticks": ""
            },
            "colorscale": [
             [
              0,
              "#0d0887"
             ],
             [
              0.1111111111111111,
              "#46039f"
             ],
             [
              0.2222222222222222,
              "#7201a8"
             ],
             [
              0.3333333333333333,
              "#9c179e"
             ],
             [
              0.4444444444444444,
              "#bd3786"
             ],
             [
              0.5555555555555556,
              "#d8576b"
             ],
             [
              0.6666666666666666,
              "#ed7953"
             ],
             [
              0.7777777777777778,
              "#fb9f3a"
             ],
             [
              0.8888888888888888,
              "#fdca26"
             ],
             [
              1,
              "#f0f921"
             ]
            ],
            "type": "histogram2dcontour"
           }
          ],
          "mesh3d": [
           {
            "colorbar": {
             "outlinewidth": 0,
             "ticks": ""
            },
            "type": "mesh3d"
           }
          ],
          "parcoords": [
           {
            "line": {
             "colorbar": {
              "outlinewidth": 0,
              "ticks": ""
             }
            },
            "type": "parcoords"
           }
          ],
          "pie": [
           {
            "automargin": true,
            "type": "pie"
           }
          ],
          "scatter": [
           {
            "fillpattern": {
             "fillmode": "overlay",
             "size": 10,
             "solidity": 0.2
            },
            "type": "scatter"
           }
          ],
          "scatter3d": [
           {
            "line": {
             "colorbar": {
              "outlinewidth": 0,
              "ticks": ""
             }
            },
            "marker": {
             "colorbar": {
              "outlinewidth": 0,
              "ticks": ""
             }
            },
            "type": "scatter3d"
           }
          ],
          "scattercarpet": [
           {
            "marker": {
             "colorbar": {
              "outlinewidth": 0,
              "ticks": ""
             }
            },
            "type": "scattercarpet"
           }
          ],
          "scattergeo": [
           {
            "marker": {
             "colorbar": {
              "outlinewidth": 0,
              "ticks": ""
             }
            },
            "type": "scattergeo"
           }
          ],
          "scattergl": [
           {
            "marker": {
             "colorbar": {
              "outlinewidth": 0,
              "ticks": ""
             }
            },
            "type": "scattergl"
           }
          ],
          "scattermapbox": [
           {
            "marker": {
             "colorbar": {
              "outlinewidth": 0,
              "ticks": ""
             }
            },
            "type": "scattermapbox"
           }
          ],
          "scatterpolar": [
           {
            "marker": {
             "colorbar": {
              "outlinewidth": 0,
              "ticks": ""
             }
            },
            "type": "scatterpolar"
           }
          ],
          "scatterpolargl": [
           {
            "marker": {
             "colorbar": {
              "outlinewidth": 0,
              "ticks": ""
             }
            },
            "type": "scatterpolargl"
           }
          ],
          "scatterternary": [
           {
            "marker": {
             "colorbar": {
              "outlinewidth": 0,
              "ticks": ""
             }
            },
            "type": "scatterternary"
           }
          ],
          "surface": [
           {
            "colorbar": {
             "outlinewidth": 0,
             "ticks": ""
            },
            "colorscale": [
             [
              0,
              "#0d0887"
             ],
             [
              0.1111111111111111,
              "#46039f"
             ],
             [
              0.2222222222222222,
              "#7201a8"
             ],
             [
              0.3333333333333333,
              "#9c179e"
             ],
             [
              0.4444444444444444,
              "#bd3786"
             ],
             [
              0.5555555555555556,
              "#d8576b"
             ],
             [
              0.6666666666666666,
              "#ed7953"
             ],
             [
              0.7777777777777778,
              "#fb9f3a"
             ],
             [
              0.8888888888888888,
              "#fdca26"
             ],
             [
              1,
              "#f0f921"
             ]
            ],
            "type": "surface"
           }
          ],
          "table": [
           {
            "cells": {
             "fill": {
              "color": "#EBF0F8"
             },
             "line": {
              "color": "white"
             }
            },
            "header": {
             "fill": {
              "color": "#C8D4E3"
             },
             "line": {
              "color": "white"
             }
            },
            "type": "table"
           }
          ]
         },
         "layout": {
          "annotationdefaults": {
           "arrowcolor": "#2a3f5f",
           "arrowhead": 0,
           "arrowwidth": 1
          },
          "autotypenumbers": "strict",
          "coloraxis": {
           "colorbar": {
            "outlinewidth": 0,
            "ticks": ""
           }
          },
          "colorscale": {
           "diverging": [
            [
             0,
             "#8e0152"
            ],
            [
             0.1,
             "#c51b7d"
            ],
            [
             0.2,
             "#de77ae"
            ],
            [
             0.3,
             "#f1b6da"
            ],
            [
             0.4,
             "#fde0ef"
            ],
            [
             0.5,
             "#f7f7f7"
            ],
            [
             0.6,
             "#e6f5d0"
            ],
            [
             0.7,
             "#b8e186"
            ],
            [
             0.8,
             "#7fbc41"
            ],
            [
             0.9,
             "#4d9221"
            ],
            [
             1,
             "#276419"
            ]
           ],
           "sequential": [
            [
             0,
             "#0d0887"
            ],
            [
             0.1111111111111111,
             "#46039f"
            ],
            [
             0.2222222222222222,
             "#7201a8"
            ],
            [
             0.3333333333333333,
             "#9c179e"
            ],
            [
             0.4444444444444444,
             "#bd3786"
            ],
            [
             0.5555555555555556,
             "#d8576b"
            ],
            [
             0.6666666666666666,
             "#ed7953"
            ],
            [
             0.7777777777777778,
             "#fb9f3a"
            ],
            [
             0.8888888888888888,
             "#fdca26"
            ],
            [
             1,
             "#f0f921"
            ]
           ],
           "sequentialminus": [
            [
             0,
             "#0d0887"
            ],
            [
             0.1111111111111111,
             "#46039f"
            ],
            [
             0.2222222222222222,
             "#7201a8"
            ],
            [
             0.3333333333333333,
             "#9c179e"
            ],
            [
             0.4444444444444444,
             "#bd3786"
            ],
            [
             0.5555555555555556,
             "#d8576b"
            ],
            [
             0.6666666666666666,
             "#ed7953"
            ],
            [
             0.7777777777777778,
             "#fb9f3a"
            ],
            [
             0.8888888888888888,
             "#fdca26"
            ],
            [
             1,
             "#f0f921"
            ]
           ]
          },
          "colorway": [
           "#636efa",
           "#EF553B",
           "#00cc96",
           "#ab63fa",
           "#FFA15A",
           "#19d3f3",
           "#FF6692",
           "#B6E880",
           "#FF97FF",
           "#FECB52"
          ],
          "font": {
           "color": "#2a3f5f"
          },
          "geo": {
           "bgcolor": "white",
           "lakecolor": "white",
           "landcolor": "#E5ECF6",
           "showlakes": true,
           "showland": true,
           "subunitcolor": "white"
          },
          "hoverlabel": {
           "align": "left"
          },
          "hovermode": "closest",
          "mapbox": {
           "style": "light"
          },
          "paper_bgcolor": "white",
          "plot_bgcolor": "#E5ECF6",
          "polar": {
           "angularaxis": {
            "gridcolor": "white",
            "linecolor": "white",
            "ticks": ""
           },
           "bgcolor": "#E5ECF6",
           "radialaxis": {
            "gridcolor": "white",
            "linecolor": "white",
            "ticks": ""
           }
          },
          "scene": {
           "xaxis": {
            "backgroundcolor": "#E5ECF6",
            "gridcolor": "white",
            "gridwidth": 2,
            "linecolor": "white",
            "showbackground": true,
            "ticks": "",
            "zerolinecolor": "white"
           },
           "yaxis": {
            "backgroundcolor": "#E5ECF6",
            "gridcolor": "white",
            "gridwidth": 2,
            "linecolor": "white",
            "showbackground": true,
            "ticks": "",
            "zerolinecolor": "white"
           },
           "zaxis": {
            "backgroundcolor": "#E5ECF6",
            "gridcolor": "white",
            "gridwidth": 2,
            "linecolor": "white",
            "showbackground": true,
            "ticks": "",
            "zerolinecolor": "white"
           }
          },
          "shapedefaults": {
           "line": {
            "color": "#2a3f5f"
           }
          },
          "ternary": {
           "aaxis": {
            "gridcolor": "white",
            "linecolor": "white",
            "ticks": ""
           },
           "baxis": {
            "gridcolor": "white",
            "linecolor": "white",
            "ticks": ""
           },
           "bgcolor": "#E5ECF6",
           "caxis": {
            "gridcolor": "white",
            "linecolor": "white",
            "ticks": ""
           }
          },
          "title": {
           "x": 0.05
          },
          "xaxis": {
           "automargin": true,
           "gridcolor": "white",
           "linecolor": "white",
           "ticks": "",
           "title": {
            "standoff": 15
           },
           "zerolinecolor": "white",
           "zerolinewidth": 2
          },
          "yaxis": {
           "automargin": true,
           "gridcolor": "white",
           "linecolor": "white",
           "ticks": "",
           "title": {
            "standoff": 15
           },
           "zerolinecolor": "white",
           "zerolinewidth": 2
          }
         }
        }
       }
      }
     },
     "metadata": {},
     "output_type": "display_data"
    }
   ],
   "source": [
    "fig = px.sunburst(data, path=['Country', 'Rocket_Status', data.index])\n",
    "fig.show()"
   ]
  },
  {
   "cell_type": "markdown",
   "metadata": {},
   "source": [
    "Cold war analysis"
   ]
  },
  {
   "cell_type": "code",
   "execution_count": 51,
   "metadata": {},
   "outputs": [],
   "source": [
    "data = data.reset_index()\n"
   ]
  },
  {
   "cell_type": "code",
   "execution_count": 52,
   "metadata": {},
   "outputs": [],
   "source": [
    "data['Year'] = pd.to_datetime(data.Year)\n"
   ]
  },
  {
   "cell_type": "code",
   "execution_count": 53,
   "metadata": {},
   "outputs": [],
   "source": [
    "coldwar = pd.to_datetime('1992')\n",
    "before_coldwar = data[data.Year < coldwar]\n",
    "after_coldwar = data[data.Year >= coldwar]"
   ]
  },
  {
   "cell_type": "code",
   "execution_count": 54,
   "metadata": {},
   "outputs": [
    {
     "name": "stderr",
     "output_type": "stream",
     "text": [
      "/var/folders/yk/fs7s5htj44b8ds6qh_c6gb0m0000gn/T/ipykernel_42353/1138177776.py:1: SettingWithCopyWarning:\n",
      "\n",
      "\n",
      "A value is trying to be set on a copy of a slice from a DataFrame.\n",
      "Try using .loc[row_indexer,col_indexer] = value instead\n",
      "\n",
      "See the caveats in the documentation: https://pandas.pydata.org/pandas-docs/stable/user_guide/indexing.html#returning-a-view-versus-a-copy\n",
      "\n",
      "/var/folders/yk/fs7s5htj44b8ds6qh_c6gb0m0000gn/T/ipykernel_42353/1138177776.py:2: SettingWithCopyWarning:\n",
      "\n",
      "\n",
      "A value is trying to be set on a copy of a slice from a DataFrame\n",
      "\n",
      "See the caveats in the documentation: https://pandas.pydata.org/pandas-docs/stable/user_guide/indexing.html#returning-a-view-versus-a-copy\n",
      "\n"
     ]
    },
    {
     "data": {
      "text/html": [
       "<div>\n",
       "<style scoped>\n",
       "    .dataframe tbody tr th:only-of-type {\n",
       "        vertical-align: middle;\n",
       "    }\n",
       "\n",
       "    .dataframe tbody tr th {\n",
       "        vertical-align: top;\n",
       "    }\n",
       "\n",
       "    .dataframe thead th {\n",
       "        text-align: right;\n",
       "    }\n",
       "</style>\n",
       "<table border=\"1\" class=\"dataframe\">\n",
       "  <thead>\n",
       "    <tr style=\"text-align: right;\">\n",
       "      <th></th>\n",
       "      <th>Organisation</th>\n",
       "      <th>Location</th>\n",
       "      <th>Detail</th>\n",
       "      <th>Rocket_Status</th>\n",
       "      <th>Mission_Status</th>\n",
       "      <th>Day</th>\n",
       "      <th>Country</th>\n",
       "      <th>Alpha_3</th>\n",
       "    </tr>\n",
       "    <tr>\n",
       "      <th>Year_Only</th>\n",
       "      <th></th>\n",
       "      <th></th>\n",
       "      <th></th>\n",
       "      <th></th>\n",
       "      <th></th>\n",
       "      <th></th>\n",
       "      <th></th>\n",
       "      <th></th>\n",
       "    </tr>\n",
       "  </thead>\n",
       "  <tbody>\n",
       "    <tr>\n",
       "      <th>2020</th>\n",
       "      <td>SpaceX</td>\n",
       "      <td>LC-39A, Kennedy Space Center, Florida, USA</td>\n",
       "      <td>Falcon 9 Block 5 | Starlink V1 L9 &amp; BlackSky</td>\n",
       "      <td>StatusActive</td>\n",
       "      <td>Success</td>\n",
       "      <td>Fri Aug 07</td>\n",
       "      <td>USA</td>\n",
       "      <td>USA</td>\n",
       "    </tr>\n",
       "    <tr>\n",
       "      <th>2020</th>\n",
       "      <td>CASC</td>\n",
       "      <td>Site 9401 (SLS-2), Jiuquan Satellite Launch Ce...</td>\n",
       "      <td>Long March 2D | Gaofen-9 04 &amp; Q-SAT</td>\n",
       "      <td>StatusActive</td>\n",
       "      <td>Success</td>\n",
       "      <td>Thu Aug 06</td>\n",
       "      <td>China</td>\n",
       "      <td>CHN</td>\n",
       "    </tr>\n",
       "    <tr>\n",
       "      <th>2020</th>\n",
       "      <td>SpaceX</td>\n",
       "      <td>Pad A, Boca Chica, Texas, USA</td>\n",
       "      <td>Starship Prototype | 150 Meter Hop</td>\n",
       "      <td>StatusActive</td>\n",
       "      <td>Success</td>\n",
       "      <td>Tue Aug 04</td>\n",
       "      <td>USA</td>\n",
       "      <td>USA</td>\n",
       "    </tr>\n",
       "    <tr>\n",
       "      <th>2020</th>\n",
       "      <td>Roscosmos</td>\n",
       "      <td>Site 200/39, Baikonur Cosmodrome, Kazakhstan</td>\n",
       "      <td>Proton-M/Briz-M | Ekspress-80 &amp; Ekspress-103</td>\n",
       "      <td>StatusActive</td>\n",
       "      <td>Success</td>\n",
       "      <td>Thu Jul 30</td>\n",
       "      <td>Kazakhstan</td>\n",
       "      <td>KAZ</td>\n",
       "    </tr>\n",
       "    <tr>\n",
       "      <th>2020</th>\n",
       "      <td>ULA</td>\n",
       "      <td>SLC-41, Cape Canaveral AFS, Florida, USA</td>\n",
       "      <td>Atlas V 541 | Perseverance</td>\n",
       "      <td>StatusActive</td>\n",
       "      <td>Success</td>\n",
       "      <td>Thu Jul 30</td>\n",
       "      <td>USA</td>\n",
       "      <td>USA</td>\n",
       "    </tr>\n",
       "    <tr>\n",
       "      <th>...</th>\n",
       "      <td>...</td>\n",
       "      <td>...</td>\n",
       "      <td>...</td>\n",
       "      <td>...</td>\n",
       "      <td>...</td>\n",
       "      <td>...</td>\n",
       "      <td>...</td>\n",
       "      <td>...</td>\n",
       "    </tr>\n",
       "    <tr>\n",
       "      <th>1992</th>\n",
       "      <td>MHI</td>\n",
       "      <td>LA-Y1, Tanegashima Space Center, Japan</td>\n",
       "      <td>H-I (9 SO) | JERS 1</td>\n",
       "      <td>StatusRetired</td>\n",
       "      <td>Success</td>\n",
       "      <td>Tue Feb 11</td>\n",
       "      <td>Japan</td>\n",
       "      <td>JPN</td>\n",
       "    </tr>\n",
       "    <tr>\n",
       "      <th>1992</th>\n",
       "      <td>General Dynamics</td>\n",
       "      <td>SLC-36A, Cape Canaveral AFS, Florida, USA</td>\n",
       "      <td>Atlas II | USA-78 (DSCS IIIB-14)</td>\n",
       "      <td>StatusRetired</td>\n",
       "      <td>Success</td>\n",
       "      <td>Tue Feb 11</td>\n",
       "      <td>USA</td>\n",
       "      <td>USA</td>\n",
       "    </tr>\n",
       "    <tr>\n",
       "      <th>1992</th>\n",
       "      <td>RVSN USSR</td>\n",
       "      <td>Site 45/1, Baikonur Cosmodrome, Kazakhstan</td>\n",
       "      <td>Zenit-2 | Tselina-2 n†­10</td>\n",
       "      <td>StatusRetired</td>\n",
       "      <td>Failure</td>\n",
       "      <td>Wed Feb 05</td>\n",
       "      <td>Kazakhstan</td>\n",
       "      <td>KAZ</td>\n",
       "    </tr>\n",
       "    <tr>\n",
       "      <th>1992</th>\n",
       "      <td>RVSN USSR</td>\n",
       "      <td>Site 43/3, Plesetsk Cosmodrome, Russia</td>\n",
       "      <td>Molniya-M /Block 2BL | Cosmos 2176</td>\n",
       "      <td>StatusRetired</td>\n",
       "      <td>Success</td>\n",
       "      <td>Fri Jan 24</td>\n",
       "      <td>Russian Federation</td>\n",
       "      <td>RUS</td>\n",
       "    </tr>\n",
       "    <tr>\n",
       "      <th>1992</th>\n",
       "      <td>NASA</td>\n",
       "      <td>LC-39A, Kennedy Space Center, Florida, USA</td>\n",
       "      <td>Space Shuttle Discovery | STS-42</td>\n",
       "      <td>StatusRetired</td>\n",
       "      <td>Success</td>\n",
       "      <td>Wed Jan 22</td>\n",
       "      <td>USA</td>\n",
       "      <td>USA</td>\n",
       "    </tr>\n",
       "  </tbody>\n",
       "</table>\n",
       "<p>1717 rows × 8 columns</p>\n",
       "</div>"
      ],
      "text/plain": [
       "               Organisation  \\\n",
       "Year_Only                     \n",
       "2020                 SpaceX   \n",
       "2020                   CASC   \n",
       "2020                 SpaceX   \n",
       "2020              Roscosmos   \n",
       "2020                    ULA   \n",
       "...                     ...   \n",
       "1992                    MHI   \n",
       "1992       General Dynamics   \n",
       "1992              RVSN USSR   \n",
       "1992              RVSN USSR   \n",
       "1992                   NASA   \n",
       "\n",
       "                                                    Location  \\\n",
       "Year_Only                                                      \n",
       "2020              LC-39A, Kennedy Space Center, Florida, USA   \n",
       "2020       Site 9401 (SLS-2), Jiuquan Satellite Launch Ce...   \n",
       "2020                           Pad A, Boca Chica, Texas, USA   \n",
       "2020            Site 200/39, Baikonur Cosmodrome, Kazakhstan   \n",
       "2020                SLC-41, Cape Canaveral AFS, Florida, USA   \n",
       "...                                                      ...   \n",
       "1992                  LA-Y1, Tanegashima Space Center, Japan   \n",
       "1992               SLC-36A, Cape Canaveral AFS, Florida, USA   \n",
       "1992              Site 45/1, Baikonur Cosmodrome, Kazakhstan   \n",
       "1992                  Site 43/3, Plesetsk Cosmodrome, Russia   \n",
       "1992              LC-39A, Kennedy Space Center, Florida, USA   \n",
       "\n",
       "                                                 Detail  Rocket_Status  \\\n",
       "Year_Only                                                                \n",
       "2020       Falcon 9 Block 5 | Starlink V1 L9 & BlackSky   StatusActive   \n",
       "2020                Long March 2D | Gaofen-9 04 & Q-SAT   StatusActive   \n",
       "2020                 Starship Prototype | 150 Meter Hop   StatusActive   \n",
       "2020       Proton-M/Briz-M | Ekspress-80 & Ekspress-103   StatusActive   \n",
       "2020                         Atlas V 541 | Perseverance   StatusActive   \n",
       "...                                                 ...            ...   \n",
       "1992                                H-I (9 SO) | JERS 1  StatusRetired   \n",
       "1992                   Atlas II | USA-78 (DSCS IIIB-14)  StatusRetired   \n",
       "1992                          Zenit-2 | Tselina-2 n†­10  StatusRetired   \n",
       "1992                 Molniya-M /Block 2BL | Cosmos 2176  StatusRetired   \n",
       "1992                   Space Shuttle Discovery | STS-42  StatusRetired   \n",
       "\n",
       "          Mission_Status         Day             Country Alpha_3  \n",
       "Year_Only                                                         \n",
       "2020             Success  Fri Aug 07                 USA     USA  \n",
       "2020             Success  Thu Aug 06               China     CHN  \n",
       "2020             Success  Tue Aug 04                 USA     USA  \n",
       "2020             Success  Thu Jul 30          Kazakhstan     KAZ  \n",
       "2020             Success  Thu Jul 30                 USA     USA  \n",
       "...                  ...         ...                 ...     ...  \n",
       "1992             Success  Tue Feb 11               Japan     JPN  \n",
       "1992             Success  Tue Feb 11                 USA     USA  \n",
       "1992             Failure  Wed Feb 05          Kazakhstan     KAZ  \n",
       "1992             Success  Fri Jan 24  Russian Federation     RUS  \n",
       "1992             Success  Wed Jan 22                 USA     USA  \n",
       "\n",
       "[1717 rows x 8 columns]"
      ]
     },
     "execution_count": 54,
     "metadata": {},
     "output_type": "execute_result"
    }
   ],
   "source": [
    "after_coldwar['Year_Only'] = after_coldwar['Year'].dt.year\n",
    "after_coldwar.drop('Year', axis=1, inplace=True)\n",
    "after_coldwar.set_index('Year_Only', inplace= True)\n",
    "after_coldwar"
   ]
  },
  {
   "cell_type": "code",
   "execution_count": 55,
   "metadata": {},
   "outputs": [
    {
     "data": {
      "text/plain": [
       "Country\n",
       "USA                   689\n",
       "France                242\n",
       "China                 231\n",
       "Russian Federation    210\n",
       "Kazakhstan            119\n",
       "Japan                  74\n",
       "India                  69\n",
       "Pacific Ocean          36\n",
       "Iran                   14\n",
       "New Zealand            13\n",
       "Israel                  9\n",
       "North Korea             5\n",
       "South Korea             3\n",
       "Brazil                  3\n",
       "Name: count, dtype: int64"
      ]
     },
     "execution_count": 55,
     "metadata": {},
     "output_type": "execute_result"
    }
   ],
   "source": [
    "total_aftercoldawr = after_coldwar.Country.value_counts()\n",
    "total_aftercoldawr"
   ]
  },
  {
   "cell_type": "code",
   "execution_count": 56,
   "metadata": {},
   "outputs": [
    {
     "name": "stderr",
     "output_type": "stream",
     "text": [
      "/var/folders/yk/fs7s5htj44b8ds6qh_c6gb0m0000gn/T/ipykernel_42353/3686242037.py:1: SettingWithCopyWarning:\n",
      "\n",
      "\n",
      "A value is trying to be set on a copy of a slice from a DataFrame.\n",
      "Try using .loc[row_indexer,col_indexer] = value instead\n",
      "\n",
      "See the caveats in the documentation: https://pandas.pydata.org/pandas-docs/stable/user_guide/indexing.html#returning-a-view-versus-a-copy\n",
      "\n",
      "/var/folders/yk/fs7s5htj44b8ds6qh_c6gb0m0000gn/T/ipykernel_42353/3686242037.py:2: SettingWithCopyWarning:\n",
      "\n",
      "\n",
      "A value is trying to be set on a copy of a slice from a DataFrame\n",
      "\n",
      "See the caveats in the documentation: https://pandas.pydata.org/pandas-docs/stable/user_guide/indexing.html#returning-a-view-versus-a-copy\n",
      "\n"
     ]
    },
    {
     "data": {
      "text/html": [
       "<div>\n",
       "<style scoped>\n",
       "    .dataframe tbody tr th:only-of-type {\n",
       "        vertical-align: middle;\n",
       "    }\n",
       "\n",
       "    .dataframe tbody tr th {\n",
       "        vertical-align: top;\n",
       "    }\n",
       "\n",
       "    .dataframe thead th {\n",
       "        text-align: right;\n",
       "    }\n",
       "</style>\n",
       "<table border=\"1\" class=\"dataframe\">\n",
       "  <thead>\n",
       "    <tr style=\"text-align: right;\">\n",
       "      <th></th>\n",
       "      <th>Organisation</th>\n",
       "      <th>Location</th>\n",
       "      <th>Detail</th>\n",
       "      <th>Rocket_Status</th>\n",
       "      <th>Mission_Status</th>\n",
       "      <th>Day</th>\n",
       "      <th>Country</th>\n",
       "      <th>Alpha_3</th>\n",
       "    </tr>\n",
       "    <tr>\n",
       "      <th>Year_Only</th>\n",
       "      <th></th>\n",
       "      <th></th>\n",
       "      <th></th>\n",
       "      <th></th>\n",
       "      <th></th>\n",
       "      <th></th>\n",
       "      <th></th>\n",
       "      <th></th>\n",
       "    </tr>\n",
       "  </thead>\n",
       "  <tbody>\n",
       "    <tr>\n",
       "      <th>1991</th>\n",
       "      <td>CASC</td>\n",
       "      <td>LC-3, Xichang Satellite Launch Center, China</td>\n",
       "      <td>Long March 3 | DFH-2A-T5</td>\n",
       "      <td>StatusRetired</td>\n",
       "      <td>Partial Failure</td>\n",
       "      <td>Sat Dec 28</td>\n",
       "      <td>China</td>\n",
       "      <td>CHN</td>\n",
       "    </tr>\n",
       "    <tr>\n",
       "      <th>1991</th>\n",
       "      <td>RVSN USSR</td>\n",
       "      <td>Site 175/58, Baikonur Cosmodrome, Kazakhstan</td>\n",
       "      <td>Rokot/Briz K | GVM Demo Flight</td>\n",
       "      <td>StatusRetired</td>\n",
       "      <td>Success</td>\n",
       "      <td>Fri Dec 20</td>\n",
       "      <td>Kazakhstan</td>\n",
       "      <td>KAZ</td>\n",
       "    </tr>\n",
       "    <tr>\n",
       "      <th>1991</th>\n",
       "      <td>Yuzhmash</td>\n",
       "      <td>Site 32/2, Plesetsk Cosmodrome, Russia</td>\n",
       "      <td>Tsyklon-3 | Intercosmos 25 &amp; Magion 3</td>\n",
       "      <td>StatusRetired</td>\n",
       "      <td>Success</td>\n",
       "      <td>Wed Dec 18</td>\n",
       "      <td>Russian Federation</td>\n",
       "      <td>RUS</td>\n",
       "    </tr>\n",
       "    <tr>\n",
       "      <th>1991</th>\n",
       "      <td>Arianespace</td>\n",
       "      <td>ELA-2, Guiana Space Centre, French Guiana, France</td>\n",
       "      <td>Ariane 44L | Telecom 2A, Inmarsat 2F3</td>\n",
       "      <td>StatusRetired</td>\n",
       "      <td>Success</td>\n",
       "      <td>Mon Dec 16</td>\n",
       "      <td>France</td>\n",
       "      <td>FRA</td>\n",
       "    </tr>\n",
       "    <tr>\n",
       "      <th>1991</th>\n",
       "      <td>General Dynamics</td>\n",
       "      <td>SLC-36B, Cape Canaveral AFS, Florida, USA</td>\n",
       "      <td>Atlas II | Eutelsat 2F3</td>\n",
       "      <td>StatusRetired</td>\n",
       "      <td>Success</td>\n",
       "      <td>Sat Dec 07</td>\n",
       "      <td>USA</td>\n",
       "      <td>USA</td>\n",
       "    </tr>\n",
       "    <tr>\n",
       "      <th>...</th>\n",
       "      <td>...</td>\n",
       "      <td>...</td>\n",
       "      <td>...</td>\n",
       "      <td>...</td>\n",
       "      <td>...</td>\n",
       "      <td>...</td>\n",
       "      <td>...</td>\n",
       "      <td>...</td>\n",
       "    </tr>\n",
       "    <tr>\n",
       "      <th>1958</th>\n",
       "      <td>US Navy</td>\n",
       "      <td>LC-18A, Cape Canaveral AFS, Florida, USA</td>\n",
       "      <td>Vanguard | Vanguard TV3BU</td>\n",
       "      <td>StatusRetired</td>\n",
       "      <td>Failure</td>\n",
       "      <td>Wed Feb 05</td>\n",
       "      <td>USA</td>\n",
       "      <td>USA</td>\n",
       "    </tr>\n",
       "    <tr>\n",
       "      <th>1958</th>\n",
       "      <td>AMBA</td>\n",
       "      <td>LC-26A, Cape Canaveral AFS, Florida, USA</td>\n",
       "      <td>Juno I | Explorer 1</td>\n",
       "      <td>StatusRetired</td>\n",
       "      <td>Success</td>\n",
       "      <td>Sat Feb 01</td>\n",
       "      <td>USA</td>\n",
       "      <td>USA</td>\n",
       "    </tr>\n",
       "    <tr>\n",
       "      <th>1957</th>\n",
       "      <td>US Navy</td>\n",
       "      <td>LC-18A, Cape Canaveral AFS, Florida, USA</td>\n",
       "      <td>Vanguard | Vanguard TV3</td>\n",
       "      <td>StatusRetired</td>\n",
       "      <td>Failure</td>\n",
       "      <td>Fri Dec 06</td>\n",
       "      <td>USA</td>\n",
       "      <td>USA</td>\n",
       "    </tr>\n",
       "    <tr>\n",
       "      <th>1957</th>\n",
       "      <td>RVSN USSR</td>\n",
       "      <td>Site 1/5, Baikonur Cosmodrome, Kazakhstan</td>\n",
       "      <td>Sputnik 8K71PS | Sputnik-2</td>\n",
       "      <td>StatusRetired</td>\n",
       "      <td>Success</td>\n",
       "      <td>Sun Nov 03</td>\n",
       "      <td>Kazakhstan</td>\n",
       "      <td>KAZ</td>\n",
       "    </tr>\n",
       "    <tr>\n",
       "      <th>1957</th>\n",
       "      <td>RVSN USSR</td>\n",
       "      <td>Site 1/5, Baikonur Cosmodrome, Kazakhstan</td>\n",
       "      <td>Sputnik 8K71PS | Sputnik-1</td>\n",
       "      <td>StatusRetired</td>\n",
       "      <td>Success</td>\n",
       "      <td>Fri Oct 04</td>\n",
       "      <td>Kazakhstan</td>\n",
       "      <td>KAZ</td>\n",
       "    </tr>\n",
       "  </tbody>\n",
       "</table>\n",
       "<p>2607 rows × 8 columns</p>\n",
       "</div>"
      ],
      "text/plain": [
       "               Organisation  \\\n",
       "Year_Only                     \n",
       "1991                   CASC   \n",
       "1991              RVSN USSR   \n",
       "1991               Yuzhmash   \n",
       "1991            Arianespace   \n",
       "1991       General Dynamics   \n",
       "...                     ...   \n",
       "1958                US Navy   \n",
       "1958                   AMBA   \n",
       "1957                US Navy   \n",
       "1957              RVSN USSR   \n",
       "1957              RVSN USSR   \n",
       "\n",
       "                                                    Location  \\\n",
       "Year_Only                                                      \n",
       "1991            LC-3, Xichang Satellite Launch Center, China   \n",
       "1991            Site 175/58, Baikonur Cosmodrome, Kazakhstan   \n",
       "1991                  Site 32/2, Plesetsk Cosmodrome, Russia   \n",
       "1991       ELA-2, Guiana Space Centre, French Guiana, France   \n",
       "1991               SLC-36B, Cape Canaveral AFS, Florida, USA   \n",
       "...                                                      ...   \n",
       "1958                LC-18A, Cape Canaveral AFS, Florida, USA   \n",
       "1958                LC-26A, Cape Canaveral AFS, Florida, USA   \n",
       "1957                LC-18A, Cape Canaveral AFS, Florida, USA   \n",
       "1957               Site 1/5, Baikonur Cosmodrome, Kazakhstan   \n",
       "1957               Site 1/5, Baikonur Cosmodrome, Kazakhstan   \n",
       "\n",
       "                                          Detail  Rocket_Status  \\\n",
       "Year_Only                                                         \n",
       "1991                    Long March 3 | DFH-2A-T5  StatusRetired   \n",
       "1991              Rokot/Briz K | GVM Demo Flight  StatusRetired   \n",
       "1991       Tsyklon-3 | Intercosmos 25 & Magion 3  StatusRetired   \n",
       "1991       Ariane 44L | Telecom 2A, Inmarsat 2F3  StatusRetired   \n",
       "1991                     Atlas II | Eutelsat 2F3  StatusRetired   \n",
       "...                                          ...            ...   \n",
       "1958                   Vanguard | Vanguard TV3BU  StatusRetired   \n",
       "1958                         Juno I | Explorer 1  StatusRetired   \n",
       "1957                     Vanguard | Vanguard TV3  StatusRetired   \n",
       "1957                  Sputnik 8K71PS | Sputnik-2  StatusRetired   \n",
       "1957                  Sputnik 8K71PS | Sputnik-1  StatusRetired   \n",
       "\n",
       "            Mission_Status         Day             Country Alpha_3  \n",
       "Year_Only                                                           \n",
       "1991       Partial Failure  Sat Dec 28               China     CHN  \n",
       "1991               Success  Fri Dec 20          Kazakhstan     KAZ  \n",
       "1991               Success  Wed Dec 18  Russian Federation     RUS  \n",
       "1991               Success  Mon Dec 16              France     FRA  \n",
       "1991               Success  Sat Dec 07                 USA     USA  \n",
       "...                    ...         ...                 ...     ...  \n",
       "1958               Failure  Wed Feb 05                 USA     USA  \n",
       "1958               Success  Sat Feb 01                 USA     USA  \n",
       "1957               Failure  Fri Dec 06                 USA     USA  \n",
       "1957               Success  Sun Nov 03          Kazakhstan     KAZ  \n",
       "1957               Success  Fri Oct 04          Kazakhstan     KAZ  \n",
       "\n",
       "[2607 rows x 8 columns]"
      ]
     },
     "execution_count": 56,
     "metadata": {},
     "output_type": "execute_result"
    }
   ],
   "source": [
    "before_coldwar['Year_Only'] = before_coldwar['Year'].dt.year\n",
    "before_coldwar.drop('Year', axis=1, inplace=True)\n",
    "before_coldwar.set_index('Year_Only', inplace=True)\n",
    "before_coldwar"
   ]
  },
  {
   "cell_type": "code",
   "execution_count": 57,
   "metadata": {},
   "outputs": [
    {
     "data": {
      "text/plain": [
       "Country\n",
       "Russian Federation    1188\n",
       "USA                    662\n",
       "Kazakhstan             582\n",
       "France                  61\n",
       "Japan                   52\n",
       "China                   38\n",
       "Kenya                    9\n",
       "India                    7\n",
       "Australia                6\n",
       "Israel                   2\n",
       "Name: count, dtype: int64"
      ]
     },
     "execution_count": 57,
     "metadata": {},
     "output_type": "execute_result"
    }
   ],
   "source": [
    "total_beforecoldawr = before_coldwar.Country.value_counts()\n",
    "total_beforecoldawr"
   ]
  },
  {
   "cell_type": "code",
   "execution_count": 58,
   "metadata": {},
   "outputs": [],
   "source": [
    "from plotly.subplots import make_subplots\n",
    "import plotly.graph_objects as go"
   ]
  },
  {
   "cell_type": "code",
   "execution_count": 68,
   "metadata": {},
   "outputs": [
    {
     "data": {
      "application/vnd.plotly.v1+json": {
       "config": {
        "plotlyServerURL": "https://plot.ly"
       },
       "data": [
        {
         "name": "During Coldwar",
         "type": "bar",
         "x": [
          "Russian Federation",
          "USA",
          "Kazakhstan",
          "France",
          "Japan",
          "China",
          "Kenya",
          "India",
          "Australia",
          "Israel"
         ],
         "xaxis": "x",
         "y": [
          1188,
          662,
          582,
          61,
          52,
          38,
          9,
          7,
          6,
          2
         ],
         "yaxis": "y"
        },
        {
         "name": "After Coldwar",
         "type": "bar",
         "x": [
          "USA",
          "France",
          "China",
          "Russian Federation",
          "Kazakhstan",
          "Japan",
          "India",
          "Pacific Ocean",
          "Iran",
          "New Zealand",
          "Israel",
          "North Korea",
          "South Korea",
          "Brazil"
         ],
         "xaxis": "x2",
         "y": [
          689,
          242,
          231,
          210,
          119,
          74,
          69,
          36,
          14,
          13,
          9,
          5,
          3,
          3
         ],
         "yaxis": "y2"
        }
       ],
       "layout": {
        "height": 600,
        "template": {
         "data": {
          "bar": [
           {
            "error_x": {
             "color": "#2a3f5f"
            },
            "error_y": {
             "color": "#2a3f5f"
            },
            "marker": {
             "line": {
              "color": "#E5ECF6",
              "width": 0.5
             },
             "pattern": {
              "fillmode": "overlay",
              "size": 10,
              "solidity": 0.2
             }
            },
            "type": "bar"
           }
          ],
          "barpolar": [
           {
            "marker": {
             "line": {
              "color": "#E5ECF6",
              "width": 0.5
             },
             "pattern": {
              "fillmode": "overlay",
              "size": 10,
              "solidity": 0.2
             }
            },
            "type": "barpolar"
           }
          ],
          "carpet": [
           {
            "aaxis": {
             "endlinecolor": "#2a3f5f",
             "gridcolor": "white",
             "linecolor": "white",
             "minorgridcolor": "white",
             "startlinecolor": "#2a3f5f"
            },
            "baxis": {
             "endlinecolor": "#2a3f5f",
             "gridcolor": "white",
             "linecolor": "white",
             "minorgridcolor": "white",
             "startlinecolor": "#2a3f5f"
            },
            "type": "carpet"
           }
          ],
          "choropleth": [
           {
            "colorbar": {
             "outlinewidth": 0,
             "ticks": ""
            },
            "type": "choropleth"
           }
          ],
          "contour": [
           {
            "colorbar": {
             "outlinewidth": 0,
             "ticks": ""
            },
            "colorscale": [
             [
              0,
              "#0d0887"
             ],
             [
              0.1111111111111111,
              "#46039f"
             ],
             [
              0.2222222222222222,
              "#7201a8"
             ],
             [
              0.3333333333333333,
              "#9c179e"
             ],
             [
              0.4444444444444444,
              "#bd3786"
             ],
             [
              0.5555555555555556,
              "#d8576b"
             ],
             [
              0.6666666666666666,
              "#ed7953"
             ],
             [
              0.7777777777777778,
              "#fb9f3a"
             ],
             [
              0.8888888888888888,
              "#fdca26"
             ],
             [
              1,
              "#f0f921"
             ]
            ],
            "type": "contour"
           }
          ],
          "contourcarpet": [
           {
            "colorbar": {
             "outlinewidth": 0,
             "ticks": ""
            },
            "type": "contourcarpet"
           }
          ],
          "heatmap": [
           {
            "colorbar": {
             "outlinewidth": 0,
             "ticks": ""
            },
            "colorscale": [
             [
              0,
              "#0d0887"
             ],
             [
              0.1111111111111111,
              "#46039f"
             ],
             [
              0.2222222222222222,
              "#7201a8"
             ],
             [
              0.3333333333333333,
              "#9c179e"
             ],
             [
              0.4444444444444444,
              "#bd3786"
             ],
             [
              0.5555555555555556,
              "#d8576b"
             ],
             [
              0.6666666666666666,
              "#ed7953"
             ],
             [
              0.7777777777777778,
              "#fb9f3a"
             ],
             [
              0.8888888888888888,
              "#fdca26"
             ],
             [
              1,
              "#f0f921"
             ]
            ],
            "type": "heatmap"
           }
          ],
          "heatmapgl": [
           {
            "colorbar": {
             "outlinewidth": 0,
             "ticks": ""
            },
            "colorscale": [
             [
              0,
              "#0d0887"
             ],
             [
              0.1111111111111111,
              "#46039f"
             ],
             [
              0.2222222222222222,
              "#7201a8"
             ],
             [
              0.3333333333333333,
              "#9c179e"
             ],
             [
              0.4444444444444444,
              "#bd3786"
             ],
             [
              0.5555555555555556,
              "#d8576b"
             ],
             [
              0.6666666666666666,
              "#ed7953"
             ],
             [
              0.7777777777777778,
              "#fb9f3a"
             ],
             [
              0.8888888888888888,
              "#fdca26"
             ],
             [
              1,
              "#f0f921"
             ]
            ],
            "type": "heatmapgl"
           }
          ],
          "histogram": [
           {
            "marker": {
             "pattern": {
              "fillmode": "overlay",
              "size": 10,
              "solidity": 0.2
             }
            },
            "type": "histogram"
           }
          ],
          "histogram2d": [
           {
            "colorbar": {
             "outlinewidth": 0,
             "ticks": ""
            },
            "colorscale": [
             [
              0,
              "#0d0887"
             ],
             [
              0.1111111111111111,
              "#46039f"
             ],
             [
              0.2222222222222222,
              "#7201a8"
             ],
             [
              0.3333333333333333,
              "#9c179e"
             ],
             [
              0.4444444444444444,
              "#bd3786"
             ],
             [
              0.5555555555555556,
              "#d8576b"
             ],
             [
              0.6666666666666666,
              "#ed7953"
             ],
             [
              0.7777777777777778,
              "#fb9f3a"
             ],
             [
              0.8888888888888888,
              "#fdca26"
             ],
             [
              1,
              "#f0f921"
             ]
            ],
            "type": "histogram2d"
           }
          ],
          "histogram2dcontour": [
           {
            "colorbar": {
             "outlinewidth": 0,
             "ticks": ""
            },
            "colorscale": [
             [
              0,
              "#0d0887"
             ],
             [
              0.1111111111111111,
              "#46039f"
             ],
             [
              0.2222222222222222,
              "#7201a8"
             ],
             [
              0.3333333333333333,
              "#9c179e"
             ],
             [
              0.4444444444444444,
              "#bd3786"
             ],
             [
              0.5555555555555556,
              "#d8576b"
             ],
             [
              0.6666666666666666,
              "#ed7953"
             ],
             [
              0.7777777777777778,
              "#fb9f3a"
             ],
             [
              0.8888888888888888,
              "#fdca26"
             ],
             [
              1,
              "#f0f921"
             ]
            ],
            "type": "histogram2dcontour"
           }
          ],
          "mesh3d": [
           {
            "colorbar": {
             "outlinewidth": 0,
             "ticks": ""
            },
            "type": "mesh3d"
           }
          ],
          "parcoords": [
           {
            "line": {
             "colorbar": {
              "outlinewidth": 0,
              "ticks": ""
             }
            },
            "type": "parcoords"
           }
          ],
          "pie": [
           {
            "automargin": true,
            "type": "pie"
           }
          ],
          "scatter": [
           {
            "fillpattern": {
             "fillmode": "overlay",
             "size": 10,
             "solidity": 0.2
            },
            "type": "scatter"
           }
          ],
          "scatter3d": [
           {
            "line": {
             "colorbar": {
              "outlinewidth": 0,
              "ticks": ""
             }
            },
            "marker": {
             "colorbar": {
              "outlinewidth": 0,
              "ticks": ""
             }
            },
            "type": "scatter3d"
           }
          ],
          "scattercarpet": [
           {
            "marker": {
             "colorbar": {
              "outlinewidth": 0,
              "ticks": ""
             }
            },
            "type": "scattercarpet"
           }
          ],
          "scattergeo": [
           {
            "marker": {
             "colorbar": {
              "outlinewidth": 0,
              "ticks": ""
             }
            },
            "type": "scattergeo"
           }
          ],
          "scattergl": [
           {
            "marker": {
             "colorbar": {
              "outlinewidth": 0,
              "ticks": ""
             }
            },
            "type": "scattergl"
           }
          ],
          "scattermapbox": [
           {
            "marker": {
             "colorbar": {
              "outlinewidth": 0,
              "ticks": ""
             }
            },
            "type": "scattermapbox"
           }
          ],
          "scatterpolar": [
           {
            "marker": {
             "colorbar": {
              "outlinewidth": 0,
              "ticks": ""
             }
            },
            "type": "scatterpolar"
           }
          ],
          "scatterpolargl": [
           {
            "marker": {
             "colorbar": {
              "outlinewidth": 0,
              "ticks": ""
             }
            },
            "type": "scatterpolargl"
           }
          ],
          "scatterternary": [
           {
            "marker": {
             "colorbar": {
              "outlinewidth": 0,
              "ticks": ""
             }
            },
            "type": "scatterternary"
           }
          ],
          "surface": [
           {
            "colorbar": {
             "outlinewidth": 0,
             "ticks": ""
            },
            "colorscale": [
             [
              0,
              "#0d0887"
             ],
             [
              0.1111111111111111,
              "#46039f"
             ],
             [
              0.2222222222222222,
              "#7201a8"
             ],
             [
              0.3333333333333333,
              "#9c179e"
             ],
             [
              0.4444444444444444,
              "#bd3786"
             ],
             [
              0.5555555555555556,
              "#d8576b"
             ],
             [
              0.6666666666666666,
              "#ed7953"
             ],
             [
              0.7777777777777778,
              "#fb9f3a"
             ],
             [
              0.8888888888888888,
              "#fdca26"
             ],
             [
              1,
              "#f0f921"
             ]
            ],
            "type": "surface"
           }
          ],
          "table": [
           {
            "cells": {
             "fill": {
              "color": "#EBF0F8"
             },
             "line": {
              "color": "white"
             }
            },
            "header": {
             "fill": {
              "color": "#C8D4E3"
             },
             "line": {
              "color": "white"
             }
            },
            "type": "table"
           }
          ]
         },
         "layout": {
          "annotationdefaults": {
           "arrowcolor": "#2a3f5f",
           "arrowhead": 0,
           "arrowwidth": 1
          },
          "autotypenumbers": "strict",
          "coloraxis": {
           "colorbar": {
            "outlinewidth": 0,
            "ticks": ""
           }
          },
          "colorscale": {
           "diverging": [
            [
             0,
             "#8e0152"
            ],
            [
             0.1,
             "#c51b7d"
            ],
            [
             0.2,
             "#de77ae"
            ],
            [
             0.3,
             "#f1b6da"
            ],
            [
             0.4,
             "#fde0ef"
            ],
            [
             0.5,
             "#f7f7f7"
            ],
            [
             0.6,
             "#e6f5d0"
            ],
            [
             0.7,
             "#b8e186"
            ],
            [
             0.8,
             "#7fbc41"
            ],
            [
             0.9,
             "#4d9221"
            ],
            [
             1,
             "#276419"
            ]
           ],
           "sequential": [
            [
             0,
             "#0d0887"
            ],
            [
             0.1111111111111111,
             "#46039f"
            ],
            [
             0.2222222222222222,
             "#7201a8"
            ],
            [
             0.3333333333333333,
             "#9c179e"
            ],
            [
             0.4444444444444444,
             "#bd3786"
            ],
            [
             0.5555555555555556,
             "#d8576b"
            ],
            [
             0.6666666666666666,
             "#ed7953"
            ],
            [
             0.7777777777777778,
             "#fb9f3a"
            ],
            [
             0.8888888888888888,
             "#fdca26"
            ],
            [
             1,
             "#f0f921"
            ]
           ],
           "sequentialminus": [
            [
             0,
             "#0d0887"
            ],
            [
             0.1111111111111111,
             "#46039f"
            ],
            [
             0.2222222222222222,
             "#7201a8"
            ],
            [
             0.3333333333333333,
             "#9c179e"
            ],
            [
             0.4444444444444444,
             "#bd3786"
            ],
            [
             0.5555555555555556,
             "#d8576b"
            ],
            [
             0.6666666666666666,
             "#ed7953"
            ],
            [
             0.7777777777777778,
             "#fb9f3a"
            ],
            [
             0.8888888888888888,
             "#fdca26"
            ],
            [
             1,
             "#f0f921"
            ]
           ]
          },
          "colorway": [
           "#636efa",
           "#EF553B",
           "#00cc96",
           "#ab63fa",
           "#FFA15A",
           "#19d3f3",
           "#FF6692",
           "#B6E880",
           "#FF97FF",
           "#FECB52"
          ],
          "font": {
           "color": "#2a3f5f"
          },
          "geo": {
           "bgcolor": "white",
           "lakecolor": "white",
           "landcolor": "#E5ECF6",
           "showlakes": true,
           "showland": true,
           "subunitcolor": "white"
          },
          "hoverlabel": {
           "align": "left"
          },
          "hovermode": "closest",
          "mapbox": {
           "style": "light"
          },
          "paper_bgcolor": "white",
          "plot_bgcolor": "#E5ECF6",
          "polar": {
           "angularaxis": {
            "gridcolor": "white",
            "linecolor": "white",
            "ticks": ""
           },
           "bgcolor": "#E5ECF6",
           "radialaxis": {
            "gridcolor": "white",
            "linecolor": "white",
            "ticks": ""
           }
          },
          "scene": {
           "xaxis": {
            "backgroundcolor": "#E5ECF6",
            "gridcolor": "white",
            "gridwidth": 2,
            "linecolor": "white",
            "showbackground": true,
            "ticks": "",
            "zerolinecolor": "white"
           },
           "yaxis": {
            "backgroundcolor": "#E5ECF6",
            "gridcolor": "white",
            "gridwidth": 2,
            "linecolor": "white",
            "showbackground": true,
            "ticks": "",
            "zerolinecolor": "white"
           },
           "zaxis": {
            "backgroundcolor": "#E5ECF6",
            "gridcolor": "white",
            "gridwidth": 2,
            "linecolor": "white",
            "showbackground": true,
            "ticks": "",
            "zerolinecolor": "white"
           }
          },
          "shapedefaults": {
           "line": {
            "color": "#2a3f5f"
           }
          },
          "ternary": {
           "aaxis": {
            "gridcolor": "white",
            "linecolor": "white",
            "ticks": ""
           },
           "baxis": {
            "gridcolor": "white",
            "linecolor": "white",
            "ticks": ""
           },
           "bgcolor": "#E5ECF6",
           "caxis": {
            "gridcolor": "white",
            "linecolor": "white",
            "ticks": ""
           }
          },
          "title": {
           "x": 0.05
          },
          "xaxis": {
           "automargin": true,
           "gridcolor": "white",
           "linecolor": "white",
           "ticks": "",
           "title": {
            "standoff": 15
           },
           "zerolinecolor": "white",
           "zerolinewidth": 2
          },
          "yaxis": {
           "automargin": true,
           "gridcolor": "white",
           "linecolor": "white",
           "ticks": "",
           "title": {
            "standoff": 15
           },
           "zerolinecolor": "white",
           "zerolinewidth": 2
          }
         }
        },
        "width": 900,
        "xaxis": {
         "anchor": "y",
         "domain": [
          0,
          0.45
         ]
        },
        "xaxis2": {
         "anchor": "y2",
         "domain": [
          0.55,
          1
         ]
        },
        "yaxis": {
         "anchor": "x",
         "domain": [
          0,
          1
         ]
        },
        "yaxis2": {
         "anchor": "x2",
         "domain": [
          0,
          1
         ]
        }
       }
      }
     },
     "metadata": {},
     "output_type": "display_data"
    }
   ],
   "source": [
    "fig = make_subplots(rows=1, cols=2)\n",
    "\n",
    "fig.add_trace(go.Bar(name = \"During Coldwar\",x=total_beforecoldawr.index, y=total_beforecoldawr.values), row=1, col=1)\n",
    "\n",
    "fig.add_trace(go.Bar(name = \"After Coldwar\", x=total_aftercoldawr.index, y=total_aftercoldawr.values), row=1, col=2)\n",
    "fig.update_layout(height=600, width = 900)\n",
    "fig.show()"
   ]
  }
 ],
 "metadata": {
  "kernelspec": {
   "display_name": "DataScience",
   "language": "python",
   "name": "python3"
  },
  "language_info": {
   "codemirror_mode": {
    "name": "ipython",
    "version": 3
   },
   "file_extension": ".py",
   "mimetype": "text/x-python",
   "name": "python",
   "nbconvert_exporter": "python",
   "pygments_lexer": "ipython3",
   "version": "3.11.9"
  }
 },
 "nbformat": 4,
 "nbformat_minor": 2
}
