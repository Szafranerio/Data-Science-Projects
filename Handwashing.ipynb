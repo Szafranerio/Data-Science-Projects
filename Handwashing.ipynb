{
 "cells": [
  {
   "cell_type": "code",
   "execution_count": 190,
   "metadata": {},
   "outputs": [],
   "source": [
    "import pandas as pd\n",
    "import numpy as np\n",
    "import plotly.express as px\n",
    "import seaborn as sns\n",
    "import matplotlib.pyplot as plt\n",
    "import matplotlib.dates as mdates"
   ]
  },
  {
   "cell_type": "code",
   "execution_count": 191,
   "metadata": {},
   "outputs": [],
   "source": [
    "data_yearly = pd.read_csv('./data/handwashing/annual_deaths_by_clinic.csv')\n",
    "data_month = pd.read_csv('./data/handwashing/monthly_deaths.csv', \n",
    "                      parse_dates=['date'])"
   ]
  },
  {
   "cell_type": "code",
   "execution_count": 192,
   "metadata": {},
   "outputs": [
    {
     "name": "stdout",
     "output_type": "stream",
     "text": [
      "Shape of yearly data is (12, 4)\n",
      "Shape of monthly data is (98, 3)\n",
      "The earilest year is 1841\n",
      "THe most recent data is from 1846\n",
      "The first entry is from 1841-01-01 00:00:00\n",
      "The last entry is from 1841-05-01 00:00:00\n",
      "Are yearly data have Nan values: False\n",
      "Are monthly data have Nan values: False\n"
     ]
    }
   ],
   "source": [
    "print(f'Shape of yearly data is {data_yearly.shape}')\n",
    "print(f'Shape of monthly data is {data_month.shape}')\n",
    "print(f'The earilest year is {data_yearly.year.min()}')\n",
    "print(f'THe most recent data is from {data_yearly.year.max()}')\n",
    "print(f'The first entry is from {data_month.head().date.min()}')\n",
    "print(f'The last entry is from {data_month.head().date.max()}')\n",
    "print(f'Are yearly data have Nan values: {data_yearly.isnull().sum().any()}')\n",
    "print(f'Are monthly data have Nan values: {data_month.isnull().sum().any()}')"
   ]
  },
  {
   "cell_type": "code",
   "execution_count": 193,
   "metadata": {},
   "outputs": [
    {
     "name": "stdout",
     "output_type": "stream",
     "text": [
      "Giving birth was risky around  7.08 percentage was fatal\n"
     ]
    }
   ],
   "source": [
    "prob = data_yearly.deaths.sum() / data_yearly.births.sum() * 100\n",
    "print(f'Giving birth was risky around {prob: .3} percentage was fatal')"
   ]
  },
  {
   "cell_type": "code",
   "execution_count": 194,
   "metadata": {},
   "outputs": [
    {
     "data": {
      "text/html": [
       "<div>\n",
       "<style scoped>\n",
       "    .dataframe tbody tr th:only-of-type {\n",
       "        vertical-align: middle;\n",
       "    }\n",
       "\n",
       "    .dataframe tbody tr th {\n",
       "        vertical-align: top;\n",
       "    }\n",
       "\n",
       "    .dataframe thead th {\n",
       "        text-align: right;\n",
       "    }\n",
       "</style>\n",
       "<table border=\"1\" class=\"dataframe\">\n",
       "  <thead>\n",
       "    <tr style=\"text-align: right;\">\n",
       "      <th></th>\n",
       "      <th>year</th>\n",
       "      <th>births</th>\n",
       "      <th>deaths</th>\n",
       "      <th>clinic</th>\n",
       "    </tr>\n",
       "  </thead>\n",
       "  <tbody>\n",
       "    <tr>\n",
       "      <th>0</th>\n",
       "      <td>1841</td>\n",
       "      <td>3036</td>\n",
       "      <td>237</td>\n",
       "      <td>clinic 1</td>\n",
       "    </tr>\n",
       "    <tr>\n",
       "      <th>1</th>\n",
       "      <td>1842</td>\n",
       "      <td>3287</td>\n",
       "      <td>518</td>\n",
       "      <td>clinic 1</td>\n",
       "    </tr>\n",
       "    <tr>\n",
       "      <th>2</th>\n",
       "      <td>1843</td>\n",
       "      <td>3060</td>\n",
       "      <td>274</td>\n",
       "      <td>clinic 1</td>\n",
       "    </tr>\n",
       "    <tr>\n",
       "      <th>3</th>\n",
       "      <td>1844</td>\n",
       "      <td>3157</td>\n",
       "      <td>260</td>\n",
       "      <td>clinic 1</td>\n",
       "    </tr>\n",
       "    <tr>\n",
       "      <th>4</th>\n",
       "      <td>1845</td>\n",
       "      <td>3492</td>\n",
       "      <td>241</td>\n",
       "      <td>clinic 1</td>\n",
       "    </tr>\n",
       "    <tr>\n",
       "      <th>5</th>\n",
       "      <td>1846</td>\n",
       "      <td>4010</td>\n",
       "      <td>459</td>\n",
       "      <td>clinic 1</td>\n",
       "    </tr>\n",
       "    <tr>\n",
       "      <th>6</th>\n",
       "      <td>1841</td>\n",
       "      <td>2442</td>\n",
       "      <td>86</td>\n",
       "      <td>clinic 2</td>\n",
       "    </tr>\n",
       "    <tr>\n",
       "      <th>7</th>\n",
       "      <td>1842</td>\n",
       "      <td>2659</td>\n",
       "      <td>202</td>\n",
       "      <td>clinic 2</td>\n",
       "    </tr>\n",
       "    <tr>\n",
       "      <th>8</th>\n",
       "      <td>1843</td>\n",
       "      <td>2739</td>\n",
       "      <td>164</td>\n",
       "      <td>clinic 2</td>\n",
       "    </tr>\n",
       "    <tr>\n",
       "      <th>9</th>\n",
       "      <td>1844</td>\n",
       "      <td>2956</td>\n",
       "      <td>68</td>\n",
       "      <td>clinic 2</td>\n",
       "    </tr>\n",
       "    <tr>\n",
       "      <th>10</th>\n",
       "      <td>1845</td>\n",
       "      <td>3241</td>\n",
       "      <td>66</td>\n",
       "      <td>clinic 2</td>\n",
       "    </tr>\n",
       "    <tr>\n",
       "      <th>11</th>\n",
       "      <td>1846</td>\n",
       "      <td>3754</td>\n",
       "      <td>105</td>\n",
       "      <td>clinic 2</td>\n",
       "    </tr>\n",
       "  </tbody>\n",
       "</table>\n",
       "</div>"
      ],
      "text/plain": [
       "    year  births  deaths    clinic\n",
       "0   1841    3036     237  clinic 1\n",
       "1   1842    3287     518  clinic 1\n",
       "2   1843    3060     274  clinic 1\n",
       "3   1844    3157     260  clinic 1\n",
       "4   1845    3492     241  clinic 1\n",
       "5   1846    4010     459  clinic 1\n",
       "6   1841    2442      86  clinic 2\n",
       "7   1842    2659     202  clinic 2\n",
       "8   1843    2739     164  clinic 2\n",
       "9   1844    2956      68  clinic 2\n",
       "10  1845    3241      66  clinic 2\n",
       "11  1846    3754     105  clinic 2"
      ]
     },
     "execution_count": 194,
     "metadata": {},
     "output_type": "execute_result"
    }
   ],
   "source": [
    "data_yearly"
   ]
  },
  {
   "cell_type": "code",
   "execution_count": 195,
   "metadata": {},
   "outputs": [
    {
     "data": {
      "image/png": "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",
      "text/plain": [
       "<Figure size 1200x1000 with 2 Axes>"
      ]
     },
     "metadata": {},
     "output_type": "display_data"
    }
   ],
   "source": [
    "#Births vs Deaths\n",
    "plt.figure(figsize=(12,10))\n",
    "plt.title('Births vs Deaths in Vienna')\n",
    "\n",
    "ax1 = plt.gca()\n",
    "ax2 = ax1.twinx()\n",
    "\n",
    "ax1.plot(data_month.date, data_month.births, linewidth=3, color='crimson')\n",
    "ax2.plot(data_month.date, data_month.deaths, linewidth = 3, color='skyblue', linestyle='--')\n",
    "plt.show()"
   ]
  },
  {
   "cell_type": "code",
   "execution_count": 196,
   "metadata": {},
   "outputs": [],
   "source": [
    "import plotly.express as px"
   ]
  },
  {
   "cell_type": "code",
   "execution_count": 197,
   "metadata": {},
   "outputs": [
    {
     "data": {
      "text/html": [
       "<div>\n",
       "<style scoped>\n",
       "    .dataframe tbody tr th:only-of-type {\n",
       "        vertical-align: middle;\n",
       "    }\n",
       "\n",
       "    .dataframe tbody tr th {\n",
       "        vertical-align: top;\n",
       "    }\n",
       "\n",
       "    .dataframe thead th {\n",
       "        text-align: right;\n",
       "    }\n",
       "</style>\n",
       "<table border=\"1\" class=\"dataframe\">\n",
       "  <thead>\n",
       "    <tr style=\"text-align: right;\">\n",
       "      <th></th>\n",
       "      <th>date</th>\n",
       "      <th>births</th>\n",
       "      <th>deaths</th>\n",
       "    </tr>\n",
       "  </thead>\n",
       "  <tbody>\n",
       "    <tr>\n",
       "      <th>0</th>\n",
       "      <td>1841-01-01</td>\n",
       "      <td>254</td>\n",
       "      <td>37</td>\n",
       "    </tr>\n",
       "    <tr>\n",
       "      <th>1</th>\n",
       "      <td>1841-02-01</td>\n",
       "      <td>239</td>\n",
       "      <td>18</td>\n",
       "    </tr>\n",
       "    <tr>\n",
       "      <th>2</th>\n",
       "      <td>1841-03-01</td>\n",
       "      <td>277</td>\n",
       "      <td>12</td>\n",
       "    </tr>\n",
       "    <tr>\n",
       "      <th>3</th>\n",
       "      <td>1841-04-01</td>\n",
       "      <td>255</td>\n",
       "      <td>4</td>\n",
       "    </tr>\n",
       "    <tr>\n",
       "      <th>4</th>\n",
       "      <td>1841-05-01</td>\n",
       "      <td>255</td>\n",
       "      <td>2</td>\n",
       "    </tr>\n",
       "    <tr>\n",
       "      <th>...</th>\n",
       "      <td>...</td>\n",
       "      <td>...</td>\n",
       "      <td>...</td>\n",
       "    </tr>\n",
       "    <tr>\n",
       "      <th>93</th>\n",
       "      <td>1848-11-01</td>\n",
       "      <td>310</td>\n",
       "      <td>9</td>\n",
       "    </tr>\n",
       "    <tr>\n",
       "      <th>94</th>\n",
       "      <td>1848-12-01</td>\n",
       "      <td>373</td>\n",
       "      <td>5</td>\n",
       "    </tr>\n",
       "    <tr>\n",
       "      <th>95</th>\n",
       "      <td>1849-01-01</td>\n",
       "      <td>403</td>\n",
       "      <td>9</td>\n",
       "    </tr>\n",
       "    <tr>\n",
       "      <th>96</th>\n",
       "      <td>1849-02-01</td>\n",
       "      <td>389</td>\n",
       "      <td>12</td>\n",
       "    </tr>\n",
       "    <tr>\n",
       "      <th>97</th>\n",
       "      <td>1849-03-01</td>\n",
       "      <td>406</td>\n",
       "      <td>20</td>\n",
       "    </tr>\n",
       "  </tbody>\n",
       "</table>\n",
       "<p>98 rows × 3 columns</p>\n",
       "</div>"
      ],
      "text/plain": [
       "         date  births  deaths\n",
       "0  1841-01-01     254      37\n",
       "1  1841-02-01     239      18\n",
       "2  1841-03-01     277      12\n",
       "3  1841-04-01     255       4\n",
       "4  1841-05-01     255       2\n",
       "..        ...     ...     ...\n",
       "93 1848-11-01     310       9\n",
       "94 1848-12-01     373       5\n",
       "95 1849-01-01     403       9\n",
       "96 1849-02-01     389      12\n",
       "97 1849-03-01     406      20\n",
       "\n",
       "[98 rows x 3 columns]"
      ]
     },
     "execution_count": 197,
     "metadata": {},
     "output_type": "execute_result"
    }
   ],
   "source": [
    "data_month"
   ]
  },
  {
   "cell_type": "code",
   "execution_count": 198,
   "metadata": {},
   "outputs": [
    {
     "data": {
      "application/vnd.plotly.v1+json": {
       "config": {
        "plotlyServerURL": "https://plot.ly"
       },
       "data": [
        {
         "hovertemplate": "clinic=clinic 1<br>year=%{x}<br>births=%{y}<extra></extra>",
         "legendgroup": "clinic 1",
         "line": {
          "color": "#636efa",
          "dash": "solid"
         },
         "marker": {
          "symbol": "circle"
         },
         "mode": "lines",
         "name": "clinic 1",
         "orientation": "v",
         "showlegend": true,
         "type": "scatter",
         "x": [
          1841,
          1842,
          1843,
          1844,
          1845,
          1846
         ],
         "xaxis": "x",
         "y": [
          3036,
          3287,
          3060,
          3157,
          3492,
          4010
         ],
         "yaxis": "y"
        },
        {
         "hovertemplate": "clinic=clinic 2<br>year=%{x}<br>births=%{y}<extra></extra>",
         "legendgroup": "clinic 2",
         "line": {
          "color": "#EF553B",
          "dash": "solid"
         },
         "marker": {
          "symbol": "circle"
         },
         "mode": "lines",
         "name": "clinic 2",
         "orientation": "v",
         "showlegend": true,
         "type": "scatter",
         "x": [
          1841,
          1842,
          1843,
          1844,
          1845,
          1846
         ],
         "xaxis": "x",
         "y": [
          2442,
          2659,
          2739,
          2956,
          3241,
          3754
         ],
         "yaxis": "y"
        }
       ],
       "layout": {
        "legend": {
         "title": {
          "text": "clinic"
         },
         "tracegroupgap": 0
        },
        "template": {
         "data": {
          "bar": [
           {
            "error_x": {
             "color": "#2a3f5f"
            },
            "error_y": {
             "color": "#2a3f5f"
            },
            "marker": {
             "line": {
              "color": "#E5ECF6",
              "width": 0.5
             },
             "pattern": {
              "fillmode": "overlay",
              "size": 10,
              "solidity": 0.2
             }
            },
            "type": "bar"
           }
          ],
          "barpolar": [
           {
            "marker": {
             "line": {
              "color": "#E5ECF6",
              "width": 0.5
             },
             "pattern": {
              "fillmode": "overlay",
              "size": 10,
              "solidity": 0.2
             }
            },
            "type": "barpolar"
           }
          ],
          "carpet": [
           {
            "aaxis": {
             "endlinecolor": "#2a3f5f",
             "gridcolor": "white",
             "linecolor": "white",
             "minorgridcolor": "white",
             "startlinecolor": "#2a3f5f"
            },
            "baxis": {
             "endlinecolor": "#2a3f5f",
             "gridcolor": "white",
             "linecolor": "white",
             "minorgridcolor": "white",
             "startlinecolor": "#2a3f5f"
            },
            "type": "carpet"
           }
          ],
          "choropleth": [
           {
            "colorbar": {
             "outlinewidth": 0,
             "ticks": ""
            },
            "type": "choropleth"
           }
          ],
          "contour": [
           {
            "colorbar": {
             "outlinewidth": 0,
             "ticks": ""
            },
            "colorscale": [
             [
              0,
              "#0d0887"
             ],
             [
              0.1111111111111111,
              "#46039f"
             ],
             [
              0.2222222222222222,
              "#7201a8"
             ],
             [
              0.3333333333333333,
              "#9c179e"
             ],
             [
              0.4444444444444444,
              "#bd3786"
             ],
             [
              0.5555555555555556,
              "#d8576b"
             ],
             [
              0.6666666666666666,
              "#ed7953"
             ],
             [
              0.7777777777777778,
              "#fb9f3a"
             ],
             [
              0.8888888888888888,
              "#fdca26"
             ],
             [
              1,
              "#f0f921"
             ]
            ],
            "type": "contour"
           }
          ],
          "contourcarpet": [
           {
            "colorbar": {
             "outlinewidth": 0,
             "ticks": ""
            },
            "type": "contourcarpet"
           }
          ],
          "heatmap": [
           {
            "colorbar": {
             "outlinewidth": 0,
             "ticks": ""
            },
            "colorscale": [
             [
              0,
              "#0d0887"
             ],
             [
              0.1111111111111111,
              "#46039f"
             ],
             [
              0.2222222222222222,
              "#7201a8"
             ],
             [
              0.3333333333333333,
              "#9c179e"
             ],
             [
              0.4444444444444444,
              "#bd3786"
             ],
             [
              0.5555555555555556,
              "#d8576b"
             ],
             [
              0.6666666666666666,
              "#ed7953"
             ],
             [
              0.7777777777777778,
              "#fb9f3a"
             ],
             [
              0.8888888888888888,
              "#fdca26"
             ],
             [
              1,
              "#f0f921"
             ]
            ],
            "type": "heatmap"
           }
          ],
          "heatmapgl": [
           {
            "colorbar": {
             "outlinewidth": 0,
             "ticks": ""
            },
            "colorscale": [
             [
              0,
              "#0d0887"
             ],
             [
              0.1111111111111111,
              "#46039f"
             ],
             [
              0.2222222222222222,
              "#7201a8"
             ],
             [
              0.3333333333333333,
              "#9c179e"
             ],
             [
              0.4444444444444444,
              "#bd3786"
             ],
             [
              0.5555555555555556,
              "#d8576b"
             ],
             [
              0.6666666666666666,
              "#ed7953"
             ],
             [
              0.7777777777777778,
              "#fb9f3a"
             ],
             [
              0.8888888888888888,
              "#fdca26"
             ],
             [
              1,
              "#f0f921"
             ]
            ],
            "type": "heatmapgl"
           }
          ],
          "histogram": [
           {
            "marker": {
             "pattern": {
              "fillmode": "overlay",
              "size": 10,
              "solidity": 0.2
             }
            },
            "type": "histogram"
           }
          ],
          "histogram2d": [
           {
            "colorbar": {
             "outlinewidth": 0,
             "ticks": ""
            },
            "colorscale": [
             [
              0,
              "#0d0887"
             ],
             [
              0.1111111111111111,
              "#46039f"
             ],
             [
              0.2222222222222222,
              "#7201a8"
             ],
             [
              0.3333333333333333,
              "#9c179e"
             ],
             [
              0.4444444444444444,
              "#bd3786"
             ],
             [
              0.5555555555555556,
              "#d8576b"
             ],
             [
              0.6666666666666666,
              "#ed7953"
             ],
             [
              0.7777777777777778,
              "#fb9f3a"
             ],
             [
              0.8888888888888888,
              "#fdca26"
             ],
             [
              1,
              "#f0f921"
             ]
            ],
            "type": "histogram2d"
           }
          ],
          "histogram2dcontour": [
           {
            "colorbar": {
             "outlinewidth": 0,
             "ticks": ""
            },
            "colorscale": [
             [
              0,
              "#0d0887"
             ],
             [
              0.1111111111111111,
              "#46039f"
             ],
             [
              0.2222222222222222,
              "#7201a8"
             ],
             [
              0.3333333333333333,
              "#9c179e"
             ],
             [
              0.4444444444444444,
              "#bd3786"
             ],
             [
              0.5555555555555556,
              "#d8576b"
             ],
             [
              0.6666666666666666,
              "#ed7953"
             ],
             [
              0.7777777777777778,
              "#fb9f3a"
             ],
             [
              0.8888888888888888,
              "#fdca26"
             ],
             [
              1,
              "#f0f921"
             ]
            ],
            "type": "histogram2dcontour"
           }
          ],
          "mesh3d": [
           {
            "colorbar": {
             "outlinewidth": 0,
             "ticks": ""
            },
            "type": "mesh3d"
           }
          ],
          "parcoords": [
           {
            "line": {
             "colorbar": {
              "outlinewidth": 0,
              "ticks": ""
             }
            },
            "type": "parcoords"
           }
          ],
          "pie": [
           {
            "automargin": true,
            "type": "pie"
           }
          ],
          "scatter": [
           {
            "fillpattern": {
             "fillmode": "overlay",
             "size": 10,
             "solidity": 0.2
            },
            "type": "scatter"
           }
          ],
          "scatter3d": [
           {
            "line": {
             "colorbar": {
              "outlinewidth": 0,
              "ticks": ""
             }
            },
            "marker": {
             "colorbar": {
              "outlinewidth": 0,
              "ticks": ""
             }
            },
            "type": "scatter3d"
           }
          ],
          "scattercarpet": [
           {
            "marker": {
             "colorbar": {
              "outlinewidth": 0,
              "ticks": ""
             }
            },
            "type": "scattercarpet"
           }
          ],
          "scattergeo": [
           {
            "marker": {
             "colorbar": {
              "outlinewidth": 0,
              "ticks": ""
             }
            },
            "type": "scattergeo"
           }
          ],
          "scattergl": [
           {
            "marker": {
             "colorbar": {
              "outlinewidth": 0,
              "ticks": ""
             }
            },
            "type": "scattergl"
           }
          ],
          "scattermapbox": [
           {
            "marker": {
             "colorbar": {
              "outlinewidth": 0,
              "ticks": ""
             }
            },
            "type": "scattermapbox"
           }
          ],
          "scatterpolar": [
           {
            "marker": {
             "colorbar": {
              "outlinewidth": 0,
              "ticks": ""
             }
            },
            "type": "scatterpolar"
           }
          ],
          "scatterpolargl": [
           {
            "marker": {
             "colorbar": {
              "outlinewidth": 0,
              "ticks": ""
             }
            },
            "type": "scatterpolargl"
           }
          ],
          "scatterternary": [
           {
            "marker": {
             "colorbar": {
              "outlinewidth": 0,
              "ticks": ""
             }
            },
            "type": "scatterternary"
           }
          ],
          "surface": [
           {
            "colorbar": {
             "outlinewidth": 0,
             "ticks": ""
            },
            "colorscale": [
             [
              0,
              "#0d0887"
             ],
             [
              0.1111111111111111,
              "#46039f"
             ],
             [
              0.2222222222222222,
              "#7201a8"
             ],
             [
              0.3333333333333333,
              "#9c179e"
             ],
             [
              0.4444444444444444,
              "#bd3786"
             ],
             [
              0.5555555555555556,
              "#d8576b"
             ],
             [
              0.6666666666666666,
              "#ed7953"
             ],
             [
              0.7777777777777778,
              "#fb9f3a"
             ],
             [
              0.8888888888888888,
              "#fdca26"
             ],
             [
              1,
              "#f0f921"
             ]
            ],
            "type": "surface"
           }
          ],
          "table": [
           {
            "cells": {
             "fill": {
              "color": "#EBF0F8"
             },
             "line": {
              "color": "white"
             }
            },
            "header": {
             "fill": {
              "color": "#C8D4E3"
             },
             "line": {
              "color": "white"
             }
            },
            "type": "table"
           }
          ]
         },
         "layout": {
          "annotationdefaults": {
           "arrowcolor": "#2a3f5f",
           "arrowhead": 0,
           "arrowwidth": 1
          },
          "autotypenumbers": "strict",
          "coloraxis": {
           "colorbar": {
            "outlinewidth": 0,
            "ticks": ""
           }
          },
          "colorscale": {
           "diverging": [
            [
             0,
             "#8e0152"
            ],
            [
             0.1,
             "#c51b7d"
            ],
            [
             0.2,
             "#de77ae"
            ],
            [
             0.3,
             "#f1b6da"
            ],
            [
             0.4,
             "#fde0ef"
            ],
            [
             0.5,
             "#f7f7f7"
            ],
            [
             0.6,
             "#e6f5d0"
            ],
            [
             0.7,
             "#b8e186"
            ],
            [
             0.8,
             "#7fbc41"
            ],
            [
             0.9,
             "#4d9221"
            ],
            [
             1,
             "#276419"
            ]
           ],
           "sequential": [
            [
             0,
             "#0d0887"
            ],
            [
             0.1111111111111111,
             "#46039f"
            ],
            [
             0.2222222222222222,
             "#7201a8"
            ],
            [
             0.3333333333333333,
             "#9c179e"
            ],
            [
             0.4444444444444444,
             "#bd3786"
            ],
            [
             0.5555555555555556,
             "#d8576b"
            ],
            [
             0.6666666666666666,
             "#ed7953"
            ],
            [
             0.7777777777777778,
             "#fb9f3a"
            ],
            [
             0.8888888888888888,
             "#fdca26"
            ],
            [
             1,
             "#f0f921"
            ]
           ],
           "sequentialminus": [
            [
             0,
             "#0d0887"
            ],
            [
             0.1111111111111111,
             "#46039f"
            ],
            [
             0.2222222222222222,
             "#7201a8"
            ],
            [
             0.3333333333333333,
             "#9c179e"
            ],
            [
             0.4444444444444444,
             "#bd3786"
            ],
            [
             0.5555555555555556,
             "#d8576b"
            ],
            [
             0.6666666666666666,
             "#ed7953"
            ],
            [
             0.7777777777777778,
             "#fb9f3a"
            ],
            [
             0.8888888888888888,
             "#fdca26"
            ],
            [
             1,
             "#f0f921"
            ]
           ]
          },
          "colorway": [
           "#636efa",
           "#EF553B",
           "#00cc96",
           "#ab63fa",
           "#FFA15A",
           "#19d3f3",
           "#FF6692",
           "#B6E880",
           "#FF97FF",
           "#FECB52"
          ],
          "font": {
           "color": "#2a3f5f"
          },
          "geo": {
           "bgcolor": "white",
           "lakecolor": "white",
           "landcolor": "#E5ECF6",
           "showlakes": true,
           "showland": true,
           "subunitcolor": "white"
          },
          "hoverlabel": {
           "align": "left"
          },
          "hovermode": "closest",
          "mapbox": {
           "style": "light"
          },
          "paper_bgcolor": "white",
          "plot_bgcolor": "#E5ECF6",
          "polar": {
           "angularaxis": {
            "gridcolor": "white",
            "linecolor": "white",
            "ticks": ""
           },
           "bgcolor": "#E5ECF6",
           "radialaxis": {
            "gridcolor": "white",
            "linecolor": "white",
            "ticks": ""
           }
          },
          "scene": {
           "xaxis": {
            "backgroundcolor": "#E5ECF6",
            "gridcolor": "white",
            "gridwidth": 2,
            "linecolor": "white",
            "showbackground": true,
            "ticks": "",
            "zerolinecolor": "white"
           },
           "yaxis": {
            "backgroundcolor": "#E5ECF6",
            "gridcolor": "white",
            "gridwidth": 2,
            "linecolor": "white",
            "showbackground": true,
            "ticks": "",
            "zerolinecolor": "white"
           },
           "zaxis": {
            "backgroundcolor": "#E5ECF6",
            "gridcolor": "white",
            "gridwidth": 2,
            "linecolor": "white",
            "showbackground": true,
            "ticks": "",
            "zerolinecolor": "white"
           }
          },
          "shapedefaults": {
           "line": {
            "color": "#2a3f5f"
           }
          },
          "ternary": {
           "aaxis": {
            "gridcolor": "white",
            "linecolor": "white",
            "ticks": ""
           },
           "baxis": {
            "gridcolor": "white",
            "linecolor": "white",
            "ticks": ""
           },
           "bgcolor": "#E5ECF6",
           "caxis": {
            "gridcolor": "white",
            "linecolor": "white",
            "ticks": ""
           }
          },
          "title": {
           "x": 0.05
          },
          "xaxis": {
           "automargin": true,
           "gridcolor": "white",
           "linecolor": "white",
           "ticks": "",
           "title": {
            "standoff": 15
           },
           "zerolinecolor": "white",
           "zerolinewidth": 2
          },
          "yaxis": {
           "automargin": true,
           "gridcolor": "white",
           "linecolor": "white",
           "ticks": "",
           "title": {
            "standoff": 15
           },
           "zerolinecolor": "white",
           "zerolinewidth": 2
          }
         }
        },
        "title": {
         "text": "Births in Clinics"
        },
        "xaxis": {
         "anchor": "y",
         "domain": [
          0,
          1
         ],
         "title": {
          "text": "year"
         }
        },
        "yaxis": {
         "anchor": "x",
         "domain": [
          0,
          1
         ],
         "title": {
          "text": "births"
         }
        }
       }
      }
     },
     "metadata": {},
     "output_type": "display_data"
    }
   ],
   "source": [
    "fig = px.line(data_yearly, x=data_yearly.year, y=data_yearly.births, color='clinic', title='Births in Clinics')\n",
    "fig.show()"
   ]
  },
  {
   "cell_type": "code",
   "execution_count": 199,
   "metadata": {},
   "outputs": [
    {
     "data": {
      "application/vnd.plotly.v1+json": {
       "config": {
        "plotlyServerURL": "https://plot.ly"
       },
       "data": [
        {
         "hovertemplate": "clinic=clinic 1<br>year=%{x}<br>deaths=%{y}<extra></extra>",
         "legendgroup": "clinic 1",
         "line": {
          "color": "#636efa",
          "dash": "solid"
         },
         "marker": {
          "symbol": "circle"
         },
         "mode": "lines",
         "name": "clinic 1",
         "orientation": "v",
         "showlegend": true,
         "type": "scatter",
         "x": [
          1841,
          1842,
          1843,
          1844,
          1845,
          1846
         ],
         "xaxis": "x",
         "y": [
          237,
          518,
          274,
          260,
          241,
          459
         ],
         "yaxis": "y"
        },
        {
         "hovertemplate": "clinic=clinic 2<br>year=%{x}<br>deaths=%{y}<extra></extra>",
         "legendgroup": "clinic 2",
         "line": {
          "color": "#EF553B",
          "dash": "solid"
         },
         "marker": {
          "symbol": "circle"
         },
         "mode": "lines",
         "name": "clinic 2",
         "orientation": "v",
         "showlegend": true,
         "type": "scatter",
         "x": [
          1841,
          1842,
          1843,
          1844,
          1845,
          1846
         ],
         "xaxis": "x",
         "y": [
          86,
          202,
          164,
          68,
          66,
          105
         ],
         "yaxis": "y"
        }
       ],
       "layout": {
        "legend": {
         "title": {
          "text": "clinic"
         },
         "tracegroupgap": 0
        },
        "template": {
         "data": {
          "bar": [
           {
            "error_x": {
             "color": "#2a3f5f"
            },
            "error_y": {
             "color": "#2a3f5f"
            },
            "marker": {
             "line": {
              "color": "#E5ECF6",
              "width": 0.5
             },
             "pattern": {
              "fillmode": "overlay",
              "size": 10,
              "solidity": 0.2
             }
            },
            "type": "bar"
           }
          ],
          "barpolar": [
           {
            "marker": {
             "line": {
              "color": "#E5ECF6",
              "width": 0.5
             },
             "pattern": {
              "fillmode": "overlay",
              "size": 10,
              "solidity": 0.2
             }
            },
            "type": "barpolar"
           }
          ],
          "carpet": [
           {
            "aaxis": {
             "endlinecolor": "#2a3f5f",
             "gridcolor": "white",
             "linecolor": "white",
             "minorgridcolor": "white",
             "startlinecolor": "#2a3f5f"
            },
            "baxis": {
             "endlinecolor": "#2a3f5f",
             "gridcolor": "white",
             "linecolor": "white",
             "minorgridcolor": "white",
             "startlinecolor": "#2a3f5f"
            },
            "type": "carpet"
           }
          ],
          "choropleth": [
           {
            "colorbar": {
             "outlinewidth": 0,
             "ticks": ""
            },
            "type": "choropleth"
           }
          ],
          "contour": [
           {
            "colorbar": {
             "outlinewidth": 0,
             "ticks": ""
            },
            "colorscale": [
             [
              0,
              "#0d0887"
             ],
             [
              0.1111111111111111,
              "#46039f"
             ],
             [
              0.2222222222222222,
              "#7201a8"
             ],
             [
              0.3333333333333333,
              "#9c179e"
             ],
             [
              0.4444444444444444,
              "#bd3786"
             ],
             [
              0.5555555555555556,
              "#d8576b"
             ],
             [
              0.6666666666666666,
              "#ed7953"
             ],
             [
              0.7777777777777778,
              "#fb9f3a"
             ],
             [
              0.8888888888888888,
              "#fdca26"
             ],
             [
              1,
              "#f0f921"
             ]
            ],
            "type": "contour"
           }
          ],
          "contourcarpet": [
           {
            "colorbar": {
             "outlinewidth": 0,
             "ticks": ""
            },
            "type": "contourcarpet"
           }
          ],
          "heatmap": [
           {
            "colorbar": {
             "outlinewidth": 0,
             "ticks": ""
            },
            "colorscale": [
             [
              0,
              "#0d0887"
             ],
             [
              0.1111111111111111,
              "#46039f"
             ],
             [
              0.2222222222222222,
              "#7201a8"
             ],
             [
              0.3333333333333333,
              "#9c179e"
             ],
             [
              0.4444444444444444,
              "#bd3786"
             ],
             [
              0.5555555555555556,
              "#d8576b"
             ],
             [
              0.6666666666666666,
              "#ed7953"
             ],
             [
              0.7777777777777778,
              "#fb9f3a"
             ],
             [
              0.8888888888888888,
              "#fdca26"
             ],
             [
              1,
              "#f0f921"
             ]
            ],
            "type": "heatmap"
           }
          ],
          "heatmapgl": [
           {
            "colorbar": {
             "outlinewidth": 0,
             "ticks": ""
            },
            "colorscale": [
             [
              0,
              "#0d0887"
             ],
             [
              0.1111111111111111,
              "#46039f"
             ],
             [
              0.2222222222222222,
              "#7201a8"
             ],
             [
              0.3333333333333333,
              "#9c179e"
             ],
             [
              0.4444444444444444,
              "#bd3786"
             ],
             [
              0.5555555555555556,
              "#d8576b"
             ],
             [
              0.6666666666666666,
              "#ed7953"
             ],
             [
              0.7777777777777778,
              "#fb9f3a"
             ],
             [
              0.8888888888888888,
              "#fdca26"
             ],
             [
              1,
              "#f0f921"
             ]
            ],
            "type": "heatmapgl"
           }
          ],
          "histogram": [
           {
            "marker": {
             "pattern": {
              "fillmode": "overlay",
              "size": 10,
              "solidity": 0.2
             }
            },
            "type": "histogram"
           }
          ],
          "histogram2d": [
           {
            "colorbar": {
             "outlinewidth": 0,
             "ticks": ""
            },
            "colorscale": [
             [
              0,
              "#0d0887"
             ],
             [
              0.1111111111111111,
              "#46039f"
             ],
             [
              0.2222222222222222,
              "#7201a8"
             ],
             [
              0.3333333333333333,
              "#9c179e"
             ],
             [
              0.4444444444444444,
              "#bd3786"
             ],
             [
              0.5555555555555556,
              "#d8576b"
             ],
             [
              0.6666666666666666,
              "#ed7953"
             ],
             [
              0.7777777777777778,
              "#fb9f3a"
             ],
             [
              0.8888888888888888,
              "#fdca26"
             ],
             [
              1,
              "#f0f921"
             ]
            ],
            "type": "histogram2d"
           }
          ],
          "histogram2dcontour": [
           {
            "colorbar": {
             "outlinewidth": 0,
             "ticks": ""
            },
            "colorscale": [
             [
              0,
              "#0d0887"
             ],
             [
              0.1111111111111111,
              "#46039f"
             ],
             [
              0.2222222222222222,
              "#7201a8"
             ],
             [
              0.3333333333333333,
              "#9c179e"
             ],
             [
              0.4444444444444444,
              "#bd3786"
             ],
             [
              0.5555555555555556,
              "#d8576b"
             ],
             [
              0.6666666666666666,
              "#ed7953"
             ],
             [
              0.7777777777777778,
              "#fb9f3a"
             ],
             [
              0.8888888888888888,
              "#fdca26"
             ],
             [
              1,
              "#f0f921"
             ]
            ],
            "type": "histogram2dcontour"
           }
          ],
          "mesh3d": [
           {
            "colorbar": {
             "outlinewidth": 0,
             "ticks": ""
            },
            "type": "mesh3d"
           }
          ],
          "parcoords": [
           {
            "line": {
             "colorbar": {
              "outlinewidth": 0,
              "ticks": ""
             }
            },
            "type": "parcoords"
           }
          ],
          "pie": [
           {
            "automargin": true,
            "type": "pie"
           }
          ],
          "scatter": [
           {
            "fillpattern": {
             "fillmode": "overlay",
             "size": 10,
             "solidity": 0.2
            },
            "type": "scatter"
           }
          ],
          "scatter3d": [
           {
            "line": {
             "colorbar": {
              "outlinewidth": 0,
              "ticks": ""
             }
            },
            "marker": {
             "colorbar": {
              "outlinewidth": 0,
              "ticks": ""
             }
            },
            "type": "scatter3d"
           }
          ],
          "scattercarpet": [
           {
            "marker": {
             "colorbar": {
              "outlinewidth": 0,
              "ticks": ""
             }
            },
            "type": "scattercarpet"
           }
          ],
          "scattergeo": [
           {
            "marker": {
             "colorbar": {
              "outlinewidth": 0,
              "ticks": ""
             }
            },
            "type": "scattergeo"
           }
          ],
          "scattergl": [
           {
            "marker": {
             "colorbar": {
              "outlinewidth": 0,
              "ticks": ""
             }
            },
            "type": "scattergl"
           }
          ],
          "scattermapbox": [
           {
            "marker": {
             "colorbar": {
              "outlinewidth": 0,
              "ticks": ""
             }
            },
            "type": "scattermapbox"
           }
          ],
          "scatterpolar": [
           {
            "marker": {
             "colorbar": {
              "outlinewidth": 0,
              "ticks": ""
             }
            },
            "type": "scatterpolar"
           }
          ],
          "scatterpolargl": [
           {
            "marker": {
             "colorbar": {
              "outlinewidth": 0,
              "ticks": ""
             }
            },
            "type": "scatterpolargl"
           }
          ],
          "scatterternary": [
           {
            "marker": {
             "colorbar": {
              "outlinewidth": 0,
              "ticks": ""
             }
            },
            "type": "scatterternary"
           }
          ],
          "surface": [
           {
            "colorbar": {
             "outlinewidth": 0,
             "ticks": ""
            },
            "colorscale": [
             [
              0,
              "#0d0887"
             ],
             [
              0.1111111111111111,
              "#46039f"
             ],
             [
              0.2222222222222222,
              "#7201a8"
             ],
             [
              0.3333333333333333,
              "#9c179e"
             ],
             [
              0.4444444444444444,
              "#bd3786"
             ],
             [
              0.5555555555555556,
              "#d8576b"
             ],
             [
              0.6666666666666666,
              "#ed7953"
             ],
             [
              0.7777777777777778,
              "#fb9f3a"
             ],
             [
              0.8888888888888888,
              "#fdca26"
             ],
             [
              1,
              "#f0f921"
             ]
            ],
            "type": "surface"
           }
          ],
          "table": [
           {
            "cells": {
             "fill": {
              "color": "#EBF0F8"
             },
             "line": {
              "color": "white"
             }
            },
            "header": {
             "fill": {
              "color": "#C8D4E3"
             },
             "line": {
              "color": "white"
             }
            },
            "type": "table"
           }
          ]
         },
         "layout": {
          "annotationdefaults": {
           "arrowcolor": "#2a3f5f",
           "arrowhead": 0,
           "arrowwidth": 1
          },
          "autotypenumbers": "strict",
          "coloraxis": {
           "colorbar": {
            "outlinewidth": 0,
            "ticks": ""
           }
          },
          "colorscale": {
           "diverging": [
            [
             0,
             "#8e0152"
            ],
            [
             0.1,
             "#c51b7d"
            ],
            [
             0.2,
             "#de77ae"
            ],
            [
             0.3,
             "#f1b6da"
            ],
            [
             0.4,
             "#fde0ef"
            ],
            [
             0.5,
             "#f7f7f7"
            ],
            [
             0.6,
             "#e6f5d0"
            ],
            [
             0.7,
             "#b8e186"
            ],
            [
             0.8,
             "#7fbc41"
            ],
            [
             0.9,
             "#4d9221"
            ],
            [
             1,
             "#276419"
            ]
           ],
           "sequential": [
            [
             0,
             "#0d0887"
            ],
            [
             0.1111111111111111,
             "#46039f"
            ],
            [
             0.2222222222222222,
             "#7201a8"
            ],
            [
             0.3333333333333333,
             "#9c179e"
            ],
            [
             0.4444444444444444,
             "#bd3786"
            ],
            [
             0.5555555555555556,
             "#d8576b"
            ],
            [
             0.6666666666666666,
             "#ed7953"
            ],
            [
             0.7777777777777778,
             "#fb9f3a"
            ],
            [
             0.8888888888888888,
             "#fdca26"
            ],
            [
             1,
             "#f0f921"
            ]
           ],
           "sequentialminus": [
            [
             0,
             "#0d0887"
            ],
            [
             0.1111111111111111,
             "#46039f"
            ],
            [
             0.2222222222222222,
             "#7201a8"
            ],
            [
             0.3333333333333333,
             "#9c179e"
            ],
            [
             0.4444444444444444,
             "#bd3786"
            ],
            [
             0.5555555555555556,
             "#d8576b"
            ],
            [
             0.6666666666666666,
             "#ed7953"
            ],
            [
             0.7777777777777778,
             "#fb9f3a"
            ],
            [
             0.8888888888888888,
             "#fdca26"
            ],
            [
             1,
             "#f0f921"
            ]
           ]
          },
          "colorway": [
           "#636efa",
           "#EF553B",
           "#00cc96",
           "#ab63fa",
           "#FFA15A",
           "#19d3f3",
           "#FF6692",
           "#B6E880",
           "#FF97FF",
           "#FECB52"
          ],
          "font": {
           "color": "#2a3f5f"
          },
          "geo": {
           "bgcolor": "white",
           "lakecolor": "white",
           "landcolor": "#E5ECF6",
           "showlakes": true,
           "showland": true,
           "subunitcolor": "white"
          },
          "hoverlabel": {
           "align": "left"
          },
          "hovermode": "closest",
          "mapbox": {
           "style": "light"
          },
          "paper_bgcolor": "white",
          "plot_bgcolor": "#E5ECF6",
          "polar": {
           "angularaxis": {
            "gridcolor": "white",
            "linecolor": "white",
            "ticks": ""
           },
           "bgcolor": "#E5ECF6",
           "radialaxis": {
            "gridcolor": "white",
            "linecolor": "white",
            "ticks": ""
           }
          },
          "scene": {
           "xaxis": {
            "backgroundcolor": "#E5ECF6",
            "gridcolor": "white",
            "gridwidth": 2,
            "linecolor": "white",
            "showbackground": true,
            "ticks": "",
            "zerolinecolor": "white"
           },
           "yaxis": {
            "backgroundcolor": "#E5ECF6",
            "gridcolor": "white",
            "gridwidth": 2,
            "linecolor": "white",
            "showbackground": true,
            "ticks": "",
            "zerolinecolor": "white"
           },
           "zaxis": {
            "backgroundcolor": "#E5ECF6",
            "gridcolor": "white",
            "gridwidth": 2,
            "linecolor": "white",
            "showbackground": true,
            "ticks": "",
            "zerolinecolor": "white"
           }
          },
          "shapedefaults": {
           "line": {
            "color": "#2a3f5f"
           }
          },
          "ternary": {
           "aaxis": {
            "gridcolor": "white",
            "linecolor": "white",
            "ticks": ""
           },
           "baxis": {
            "gridcolor": "white",
            "linecolor": "white",
            "ticks": ""
           },
           "bgcolor": "#E5ECF6",
           "caxis": {
            "gridcolor": "white",
            "linecolor": "white",
            "ticks": ""
           }
          },
          "title": {
           "x": 0.05
          },
          "xaxis": {
           "automargin": true,
           "gridcolor": "white",
           "linecolor": "white",
           "ticks": "",
           "title": {
            "standoff": 15
           },
           "zerolinecolor": "white",
           "zerolinewidth": 2
          },
          "yaxis": {
           "automargin": true,
           "gridcolor": "white",
           "linecolor": "white",
           "ticks": "",
           "title": {
            "standoff": 15
           },
           "zerolinecolor": "white",
           "zerolinewidth": 2
          }
         }
        },
        "title": {
         "text": "Deaths in Clinics"
        },
        "xaxis": {
         "anchor": "y",
         "domain": [
          0,
          1
         ],
         "title": {
          "text": "year"
         }
        },
        "yaxis": {
         "anchor": "x",
         "domain": [
          0,
          1
         ],
         "title": {
          "text": "deaths"
         }
        }
       }
      }
     },
     "metadata": {},
     "output_type": "display_data"
    }
   ],
   "source": [
    "fig = px.line(data_yearly, x=data_yearly.year, y=data_yearly.deaths, color='clinic', title='Deaths in Clinics')\n",
    "fig.show()"
   ]
  },
  {
   "cell_type": "code",
   "execution_count": 200,
   "metadata": {},
   "outputs": [
    {
     "data": {
      "text/html": [
       "<div>\n",
       "<style scoped>\n",
       "    .dataframe tbody tr th:only-of-type {\n",
       "        vertical-align: middle;\n",
       "    }\n",
       "\n",
       "    .dataframe tbody tr th {\n",
       "        vertical-align: top;\n",
       "    }\n",
       "\n",
       "    .dataframe thead th {\n",
       "        text-align: right;\n",
       "    }\n",
       "</style>\n",
       "<table border=\"1\" class=\"dataframe\">\n",
       "  <thead>\n",
       "    <tr style=\"text-align: right;\">\n",
       "      <th></th>\n",
       "      <th>year</th>\n",
       "      <th>births</th>\n",
       "      <th>deaths</th>\n",
       "      <th>clinic</th>\n",
       "      <th>pct_deaths</th>\n",
       "    </tr>\n",
       "  </thead>\n",
       "  <tbody>\n",
       "    <tr>\n",
       "      <th>0</th>\n",
       "      <td>1841</td>\n",
       "      <td>3036</td>\n",
       "      <td>237</td>\n",
       "      <td>clinic 1</td>\n",
       "      <td>7.806324</td>\n",
       "    </tr>\n",
       "    <tr>\n",
       "      <th>1</th>\n",
       "      <td>1842</td>\n",
       "      <td>3287</td>\n",
       "      <td>518</td>\n",
       "      <td>clinic 1</td>\n",
       "      <td>15.759051</td>\n",
       "    </tr>\n",
       "    <tr>\n",
       "      <th>2</th>\n",
       "      <td>1843</td>\n",
       "      <td>3060</td>\n",
       "      <td>274</td>\n",
       "      <td>clinic 1</td>\n",
       "      <td>8.954248</td>\n",
       "    </tr>\n",
       "    <tr>\n",
       "      <th>3</th>\n",
       "      <td>1844</td>\n",
       "      <td>3157</td>\n",
       "      <td>260</td>\n",
       "      <td>clinic 1</td>\n",
       "      <td>8.235667</td>\n",
       "    </tr>\n",
       "    <tr>\n",
       "      <th>4</th>\n",
       "      <td>1845</td>\n",
       "      <td>3492</td>\n",
       "      <td>241</td>\n",
       "      <td>clinic 1</td>\n",
       "      <td>6.901489</td>\n",
       "    </tr>\n",
       "  </tbody>\n",
       "</table>\n",
       "</div>"
      ],
      "text/plain": [
       "   year  births  deaths    clinic  pct_deaths\n",
       "0  1841    3036     237  clinic 1    7.806324\n",
       "1  1842    3287     518  clinic 1   15.759051\n",
       "2  1843    3060     274  clinic 1    8.954248\n",
       "3  1844    3157     260  clinic 1    8.235667\n",
       "4  1845    3492     241  clinic 1    6.901489"
      ]
     },
     "execution_count": 200,
     "metadata": {},
     "output_type": "execute_result"
    }
   ],
   "source": [
    "#Percentage of deaths for each year\n",
    "data_yearly['pct_deaths'] = data_yearly.deaths / data_yearly.births * 100\n",
    "data_yearly.head()"
   ]
  },
  {
   "cell_type": "code",
   "execution_count": 201,
   "metadata": {},
   "outputs": [
    {
     "name": "stdout",
     "output_type": "stream",
     "text": [
      "For clinic one the avg of deaths is 9.924159265542361\n",
      "For clinic two the avg of deaths is 3.8839862852003826\n"
     ]
    }
   ],
   "source": [
    "#Per clinic\n",
    "c1 = data_yearly[data_yearly.clinic == 'clinic 1']\n",
    "avg_c1 = c1.deaths.sum() / c1.births.sum() * 100\n",
    "\n",
    "c2 = data_yearly[data_yearly.clinic == \"clinic 2\"]\n",
    "avg_c2 = c2.deaths.sum() / c2.births.sum() * 100\n",
    "\n",
    "print(f'For clinic one the avg of deaths is {avg_c1}')\n",
    "print(f'For clinic two the avg of deaths is {avg_c2}')"
   ]
  },
  {
   "cell_type": "code",
   "execution_count": 202,
   "metadata": {},
   "outputs": [
    {
     "data": {
      "text/html": [
       "<div>\n",
       "<style scoped>\n",
       "    .dataframe tbody tr th:only-of-type {\n",
       "        vertical-align: middle;\n",
       "    }\n",
       "\n",
       "    .dataframe tbody tr th {\n",
       "        vertical-align: top;\n",
       "    }\n",
       "\n",
       "    .dataframe thead th {\n",
       "        text-align: right;\n",
       "    }\n",
       "</style>\n",
       "<table border=\"1\" class=\"dataframe\">\n",
       "  <thead>\n",
       "    <tr style=\"text-align: right;\">\n",
       "      <th></th>\n",
       "      <th>date</th>\n",
       "      <th>births</th>\n",
       "      <th>deaths</th>\n",
       "      <th>pct_deaths</th>\n",
       "    </tr>\n",
       "  </thead>\n",
       "  <tbody>\n",
       "    <tr>\n",
       "      <th>0</th>\n",
       "      <td>1841-01-01</td>\n",
       "      <td>254</td>\n",
       "      <td>37</td>\n",
       "      <td>0.145669</td>\n",
       "    </tr>\n",
       "    <tr>\n",
       "      <th>1</th>\n",
       "      <td>1841-02-01</td>\n",
       "      <td>239</td>\n",
       "      <td>18</td>\n",
       "      <td>0.075314</td>\n",
       "    </tr>\n",
       "    <tr>\n",
       "      <th>2</th>\n",
       "      <td>1841-03-01</td>\n",
       "      <td>277</td>\n",
       "      <td>12</td>\n",
       "      <td>0.043321</td>\n",
       "    </tr>\n",
       "    <tr>\n",
       "      <th>3</th>\n",
       "      <td>1841-04-01</td>\n",
       "      <td>255</td>\n",
       "      <td>4</td>\n",
       "      <td>0.015686</td>\n",
       "    </tr>\n",
       "    <tr>\n",
       "      <th>4</th>\n",
       "      <td>1841-05-01</td>\n",
       "      <td>255</td>\n",
       "      <td>2</td>\n",
       "      <td>0.007843</td>\n",
       "    </tr>\n",
       "    <tr>\n",
       "      <th>...</th>\n",
       "      <td>...</td>\n",
       "      <td>...</td>\n",
       "      <td>...</td>\n",
       "      <td>...</td>\n",
       "    </tr>\n",
       "    <tr>\n",
       "      <th>93</th>\n",
       "      <td>1848-11-01</td>\n",
       "      <td>310</td>\n",
       "      <td>9</td>\n",
       "      <td>0.029032</td>\n",
       "    </tr>\n",
       "    <tr>\n",
       "      <th>94</th>\n",
       "      <td>1848-12-01</td>\n",
       "      <td>373</td>\n",
       "      <td>5</td>\n",
       "      <td>0.013405</td>\n",
       "    </tr>\n",
       "    <tr>\n",
       "      <th>95</th>\n",
       "      <td>1849-01-01</td>\n",
       "      <td>403</td>\n",
       "      <td>9</td>\n",
       "      <td>0.022333</td>\n",
       "    </tr>\n",
       "    <tr>\n",
       "      <th>96</th>\n",
       "      <td>1849-02-01</td>\n",
       "      <td>389</td>\n",
       "      <td>12</td>\n",
       "      <td>0.030848</td>\n",
       "    </tr>\n",
       "    <tr>\n",
       "      <th>97</th>\n",
       "      <td>1849-03-01</td>\n",
       "      <td>406</td>\n",
       "      <td>20</td>\n",
       "      <td>0.049261</td>\n",
       "    </tr>\n",
       "  </tbody>\n",
       "</table>\n",
       "<p>98 rows × 4 columns</p>\n",
       "</div>"
      ],
      "text/plain": [
       "         date  births  deaths  pct_deaths\n",
       "0  1841-01-01     254      37    0.145669\n",
       "1  1841-02-01     239      18    0.075314\n",
       "2  1841-03-01     277      12    0.043321\n",
       "3  1841-04-01     255       4    0.015686\n",
       "4  1841-05-01     255       2    0.007843\n",
       "..        ...     ...     ...         ...\n",
       "93 1848-11-01     310       9    0.029032\n",
       "94 1848-12-01     373       5    0.013405\n",
       "95 1849-01-01     403       9    0.022333\n",
       "96 1849-02-01     389      12    0.030848\n",
       "97 1849-03-01     406      20    0.049261\n",
       "\n",
       "[98 rows x 4 columns]"
      ]
     },
     "execution_count": 202,
     "metadata": {},
     "output_type": "execute_result"
    }
   ],
   "source": [
    "#The handwashing effect\n",
    "data_month['pct_deaths'] = data_month.deaths / data_month.births\n",
    "\n",
    "data_month"
   ]
  },
  {
   "cell_type": "code",
   "execution_count": 203,
   "metadata": {},
   "outputs": [],
   "source": [
    "handwashing_start = pd.to_datetime('1847-06-01')"
   ]
  },
  {
   "cell_type": "code",
   "execution_count": 204,
   "metadata": {},
   "outputs": [],
   "source": [
    "before_handwash = data_month[data_month.date < handwashing_start]\n",
    "after_handwash = data_month[data_month.date >= handwashing_start]"
   ]
  },
  {
   "cell_type": "code",
   "execution_count": 205,
   "metadata": {},
   "outputs": [
    {
     "name": "stdout",
     "output_type": "stream",
     "text": [
      "Before implemention of obligaotry handwahs, the pct change of deaths was  10.5%\n",
      "After implemention of obligaotry handwahs, the pct change of deaths was  2.15%\n",
      "Reducation of deaths was by  8.37%\n"
     ]
    }
   ],
   "source": [
    "before_handwash_avg_deaths = before_handwash.deaths.sum() / before_handwash.births.sum() * 100\n",
    "after_handwash_avg_deaths = after_handwash.deaths.sum() / after_handwash.births.sum() * 100 \n",
    "print(f'Before implemention of obligaotry handwahs, the pct change of deaths was {before_handwash_avg_deaths: .3}%')\n",
    "print(f'After implemention of obligaotry handwahs, the pct change of deaths was {after_handwash_avg_deaths: .3}%')\n",
    "print(f'Reducation of deaths was by {before_handwash_avg_deaths - after_handwash_avg_deaths: .3}%')"
   ]
  },
  {
   "cell_type": "code",
   "execution_count": 206,
   "metadata": {},
   "outputs": [
    {
     "data": {
      "text/html": [
       "<div>\n",
       "<style scoped>\n",
       "    .dataframe tbody tr th:only-of-type {\n",
       "        vertical-align: middle;\n",
       "    }\n",
       "\n",
       "    .dataframe tbody tr th {\n",
       "        vertical-align: top;\n",
       "    }\n",
       "\n",
       "    .dataframe thead th {\n",
       "        text-align: right;\n",
       "    }\n",
       "</style>\n",
       "<table border=\"1\" class=\"dataframe\">\n",
       "  <thead>\n",
       "    <tr style=\"text-align: right;\">\n",
       "      <th></th>\n",
       "      <th>births</th>\n",
       "      <th>deaths</th>\n",
       "      <th>pct_deaths</th>\n",
       "    </tr>\n",
       "    <tr>\n",
       "      <th>date</th>\n",
       "      <th></th>\n",
       "      <th></th>\n",
       "      <th></th>\n",
       "    </tr>\n",
       "  </thead>\n",
       "  <tbody>\n",
       "    <tr>\n",
       "      <th>1841-01-01</th>\n",
       "      <td>NaN</td>\n",
       "      <td>NaN</td>\n",
       "      <td>NaN</td>\n",
       "    </tr>\n",
       "    <tr>\n",
       "      <th>1841-02-01</th>\n",
       "      <td>NaN</td>\n",
       "      <td>NaN</td>\n",
       "      <td>NaN</td>\n",
       "    </tr>\n",
       "    <tr>\n",
       "      <th>1841-03-01</th>\n",
       "      <td>NaN</td>\n",
       "      <td>NaN</td>\n",
       "      <td>NaN</td>\n",
       "    </tr>\n",
       "    <tr>\n",
       "      <th>1841-04-01</th>\n",
       "      <td>NaN</td>\n",
       "      <td>NaN</td>\n",
       "      <td>NaN</td>\n",
       "    </tr>\n",
       "    <tr>\n",
       "      <th>1841-05-01</th>\n",
       "      <td>NaN</td>\n",
       "      <td>NaN</td>\n",
       "      <td>NaN</td>\n",
       "    </tr>\n",
       "    <tr>\n",
       "      <th>...</th>\n",
       "      <td>...</td>\n",
       "      <td>...</td>\n",
       "      <td>...</td>\n",
       "    </tr>\n",
       "    <tr>\n",
       "      <th>1847-01-01</th>\n",
       "      <td>274.500000</td>\n",
       "      <td>29.000000</td>\n",
       "      <td>0.111277</td>\n",
       "    </tr>\n",
       "    <tr>\n",
       "      <th>1847-02-01</th>\n",
       "      <td>290.500000</td>\n",
       "      <td>23.500000</td>\n",
       "      <td>0.084390</td>\n",
       "    </tr>\n",
       "    <tr>\n",
       "      <th>1847-03-01</th>\n",
       "      <td>296.166667</td>\n",
       "      <td>18.833333</td>\n",
       "      <td>0.066415</td>\n",
       "    </tr>\n",
       "    <tr>\n",
       "      <th>1847-04-01</th>\n",
       "      <td>305.833333</td>\n",
       "      <td>22.000000</td>\n",
       "      <td>0.071930</td>\n",
       "    </tr>\n",
       "    <tr>\n",
       "      <th>1847-05-01</th>\n",
       "      <td>305.333333</td>\n",
       "      <td>22.666667</td>\n",
       "      <td>0.074381</td>\n",
       "    </tr>\n",
       "  </tbody>\n",
       "</table>\n",
       "<p>76 rows × 3 columns</p>\n",
       "</div>"
      ],
      "text/plain": [
       "                births     deaths  pct_deaths\n",
       "date                                         \n",
       "1841-01-01         NaN        NaN         NaN\n",
       "1841-02-01         NaN        NaN         NaN\n",
       "1841-03-01         NaN        NaN         NaN\n",
       "1841-04-01         NaN        NaN         NaN\n",
       "1841-05-01         NaN        NaN         NaN\n",
       "...                ...        ...         ...\n",
       "1847-01-01  274.500000  29.000000    0.111277\n",
       "1847-02-01  290.500000  23.500000    0.084390\n",
       "1847-03-01  296.166667  18.833333    0.066415\n",
       "1847-04-01  305.833333  22.000000    0.071930\n",
       "1847-05-01  305.333333  22.666667    0.074381\n",
       "\n",
       "[76 rows x 3 columns]"
      ]
     },
     "execution_count": 206,
     "metadata": {},
     "output_type": "execute_result"
    }
   ],
   "source": [
    "#Rolling Average of the Deaths\n",
    "roll_df = before_handwash.set_index('date')\n",
    "roll_df = roll_df.rolling(window=6).mean()\n",
    "roll_df"
   ]
  },
  {
   "cell_type": "code",
   "execution_count": 207,
   "metadata": {},
   "outputs": [
    {
     "name": "stderr",
     "output_type": "stream",
     "text": [
      "/var/folders/yk/fs7s5htj44b8ds6qh_c6gb0m0000gn/T/ipykernel_78731/1344183654.py:2: FutureWarning:\n",
      "\n",
      "\n",
      "\n",
      "`shade` is now deprecated in favor of `fill`; setting `fill=True`.\n",
      "This will become an error in seaborn v0.14.0; please update your code.\n",
      "\n",
      "\n",
      "/var/folders/yk/fs7s5htj44b8ds6qh_c6gb0m0000gn/T/ipykernel_78731/1344183654.py:3: FutureWarning:\n",
      "\n",
      "\n",
      "\n",
      "`shade` is now deprecated in favor of `fill`; setting `fill=True`.\n",
      "This will become an error in seaborn v0.14.0; please update your code.\n",
      "\n",
      "\n"
     ]
    },
    {
     "data": {
      "image/png": "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